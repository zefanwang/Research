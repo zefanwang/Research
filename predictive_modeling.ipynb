{
 "cells": [
  {
   "cell_type": "code",
   "execution_count": 900,
   "metadata": {},
   "outputs": [],
   "source": [
    "# import packages\n",
    "import numpy as np\n",
    "import pandas as pd\n",
    "import matplotlib.pyplot as plt\n",
    "import scorecardpy as sc\n",
    "import statsmodels.api as sm\n",
    "import statsmodels.formula.api as smf\n",
    "from mlxtend.feature_selection import SequentialFeatureSelector as SFS\n",
    "from sklearn.preprocessing import StandardScaler\n",
    "from sklearn.preprocessing import OneHotEncoder\n",
    "from sklearn.decomposition import PCA\n",
    "from sklearn.model_selection import KFold\n",
    "from sklearn.model_selection import cross_val_score\n",
    "from sklearn.model_selection import GridSearchCV\n",
    "from sklearn.linear_model import LogisticRegression\n",
    "from sklearn import tree\n",
    "from sklearn.ensemble import GradientBoostingClassifier\n",
    "from sklearn.metrics import f1_score\n",
    "from sklearn import metrics\n",
    "from statsmodels.stats.outliers_influence import variance_inflation_factor"
   ]
  },
  {
   "cell_type": "markdown",
   "metadata": {},
   "source": [
    "#### Data Importing"
   ]
  },
  {
   "cell_type": "code",
   "execution_count": 811,
   "metadata": {},
   "outputs": [],
   "source": [
    "# import the credit data\n",
    "# treat repayment status as continuous as it has many levels and is ordinal\n",
    "data = pd.read_csv(\"data.csv\")\n",
    "\n",
    "data.columns = ['credit_line', 'gender', 'edu', 'marital', 'age',\n",
    "                'repay_9', 'repay_8', 'repay_7', 'repay_6', 'repay_5', 'repay_4',\n",
    "                'bill_9', 'bill_8', 'bill_7', 'bill_6', 'bill_5', 'bill_4',\n",
    "                'pre_9', 'pre_8', 'pre_7', 'pre_6', 'pre_5', 'pre_4',\n",
    "                'default']\n",
    "\n",
    "for i in data.columns.delete(-1):\n",
    "    if data[i].nunique() < 10:\n",
    "        data[i] = data[i].astype('category')\n"
   ]
  },
  {
   "cell_type": "code",
   "execution_count": 812,
   "metadata": {},
   "outputs": [
    {
     "data": {
      "text/html": [
       "<div>\n",
       "<style scoped>\n",
       "    .dataframe tbody tr th:only-of-type {\n",
       "        vertical-align: middle;\n",
       "    }\n",
       "\n",
       "    .dataframe tbody tr th {\n",
       "        vertical-align: top;\n",
       "    }\n",
       "\n",
       "    .dataframe thead th {\n",
       "        text-align: right;\n",
       "    }\n",
       "</style>\n",
       "<table border=\"1\" class=\"dataframe\">\n",
       "  <thead>\n",
       "    <tr style=\"text-align: right;\">\n",
       "      <th></th>\n",
       "      <th>credit_line</th>\n",
       "      <th>gender</th>\n",
       "      <th>edu</th>\n",
       "      <th>marital</th>\n",
       "      <th>age</th>\n",
       "      <th>repay_9</th>\n",
       "      <th>repay_8</th>\n",
       "      <th>repay_7</th>\n",
       "      <th>repay_6</th>\n",
       "      <th>repay_5</th>\n",
       "      <th>...</th>\n",
       "      <th>bill_6</th>\n",
       "      <th>bill_5</th>\n",
       "      <th>bill_4</th>\n",
       "      <th>pre_9</th>\n",
       "      <th>pre_8</th>\n",
       "      <th>pre_7</th>\n",
       "      <th>pre_6</th>\n",
       "      <th>pre_5</th>\n",
       "      <th>pre_4</th>\n",
       "      <th>default</th>\n",
       "    </tr>\n",
       "  </thead>\n",
       "  <tbody>\n",
       "    <tr>\n",
       "      <th>0</th>\n",
       "      <td>20000</td>\n",
       "      <td>2</td>\n",
       "      <td>2</td>\n",
       "      <td>1</td>\n",
       "      <td>24</td>\n",
       "      <td>2</td>\n",
       "      <td>2</td>\n",
       "      <td>-1</td>\n",
       "      <td>-1</td>\n",
       "      <td>-2</td>\n",
       "      <td>...</td>\n",
       "      <td>0</td>\n",
       "      <td>0</td>\n",
       "      <td>0</td>\n",
       "      <td>0</td>\n",
       "      <td>689</td>\n",
       "      <td>0</td>\n",
       "      <td>0</td>\n",
       "      <td>0</td>\n",
       "      <td>0</td>\n",
       "      <td>1</td>\n",
       "    </tr>\n",
       "    <tr>\n",
       "      <th>1</th>\n",
       "      <td>120000</td>\n",
       "      <td>2</td>\n",
       "      <td>2</td>\n",
       "      <td>2</td>\n",
       "      <td>26</td>\n",
       "      <td>-1</td>\n",
       "      <td>2</td>\n",
       "      <td>0</td>\n",
       "      <td>0</td>\n",
       "      <td>0</td>\n",
       "      <td>...</td>\n",
       "      <td>3272</td>\n",
       "      <td>3455</td>\n",
       "      <td>3261</td>\n",
       "      <td>0</td>\n",
       "      <td>1000</td>\n",
       "      <td>1000</td>\n",
       "      <td>1000</td>\n",
       "      <td>0</td>\n",
       "      <td>2000</td>\n",
       "      <td>1</td>\n",
       "    </tr>\n",
       "    <tr>\n",
       "      <th>2</th>\n",
       "      <td>90000</td>\n",
       "      <td>2</td>\n",
       "      <td>2</td>\n",
       "      <td>2</td>\n",
       "      <td>34</td>\n",
       "      <td>0</td>\n",
       "      <td>0</td>\n",
       "      <td>0</td>\n",
       "      <td>0</td>\n",
       "      <td>0</td>\n",
       "      <td>...</td>\n",
       "      <td>14331</td>\n",
       "      <td>14948</td>\n",
       "      <td>15549</td>\n",
       "      <td>1518</td>\n",
       "      <td>1500</td>\n",
       "      <td>1000</td>\n",
       "      <td>1000</td>\n",
       "      <td>1000</td>\n",
       "      <td>5000</td>\n",
       "      <td>0</td>\n",
       "    </tr>\n",
       "    <tr>\n",
       "      <th>3</th>\n",
       "      <td>50000</td>\n",
       "      <td>2</td>\n",
       "      <td>2</td>\n",
       "      <td>1</td>\n",
       "      <td>37</td>\n",
       "      <td>0</td>\n",
       "      <td>0</td>\n",
       "      <td>0</td>\n",
       "      <td>0</td>\n",
       "      <td>0</td>\n",
       "      <td>...</td>\n",
       "      <td>28314</td>\n",
       "      <td>28959</td>\n",
       "      <td>29547</td>\n",
       "      <td>2000</td>\n",
       "      <td>2019</td>\n",
       "      <td>1200</td>\n",
       "      <td>1100</td>\n",
       "      <td>1069</td>\n",
       "      <td>1000</td>\n",
       "      <td>0</td>\n",
       "    </tr>\n",
       "    <tr>\n",
       "      <th>4</th>\n",
       "      <td>50000</td>\n",
       "      <td>1</td>\n",
       "      <td>2</td>\n",
       "      <td>1</td>\n",
       "      <td>57</td>\n",
       "      <td>-1</td>\n",
       "      <td>0</td>\n",
       "      <td>-1</td>\n",
       "      <td>0</td>\n",
       "      <td>0</td>\n",
       "      <td>...</td>\n",
       "      <td>20940</td>\n",
       "      <td>19146</td>\n",
       "      <td>19131</td>\n",
       "      <td>2000</td>\n",
       "      <td>36681</td>\n",
       "      <td>10000</td>\n",
       "      <td>9000</td>\n",
       "      <td>689</td>\n",
       "      <td>679</td>\n",
       "      <td>0</td>\n",
       "    </tr>\n",
       "  </tbody>\n",
       "</table>\n",
       "<p>5 rows × 24 columns</p>\n",
       "</div>"
      ],
      "text/plain": [
       "   credit_line gender edu marital  age  repay_9  repay_8  repay_7  repay_6  \\\n",
       "0        20000      2   2       1   24        2        2       -1       -1   \n",
       "1       120000      2   2       2   26       -1        2        0        0   \n",
       "2        90000      2   2       2   34        0        0        0        0   \n",
       "3        50000      2   2       1   37        0        0        0        0   \n",
       "4        50000      1   2       1   57       -1        0       -1        0   \n",
       "\n",
       "   repay_5  ...  bill_6  bill_5  bill_4  pre_9  pre_8  pre_7  pre_6  pre_5  \\\n",
       "0       -2  ...       0       0       0      0    689      0      0      0   \n",
       "1        0  ...    3272    3455    3261      0   1000   1000   1000      0   \n",
       "2        0  ...   14331   14948   15549   1518   1500   1000   1000   1000   \n",
       "3        0  ...   28314   28959   29547   2000   2019   1200   1100   1069   \n",
       "4        0  ...   20940   19146   19131   2000  36681  10000   9000    689   \n",
       "\n",
       "   pre_4  default  \n",
       "0      0        1  \n",
       "1   2000        1  \n",
       "2   5000        0  \n",
       "3   1000        0  \n",
       "4    679        0  \n",
       "\n",
       "[5 rows x 24 columns]"
      ]
     },
     "execution_count": 812,
     "metadata": {},
     "output_type": "execute_result"
    }
   ],
   "source": [
    "data.head()"
   ]
  },
  {
   "cell_type": "code",
   "execution_count": 813,
   "metadata": {},
   "outputs": [
    {
     "data": {
      "text/plain": [
       "credit_line       int64\n",
       "gender         category\n",
       "edu            category\n",
       "marital        category\n",
       "age               int64\n",
       "repay_9           int64\n",
       "repay_8           int64\n",
       "repay_7           int64\n",
       "repay_6           int64\n",
       "repay_5           int64\n",
       "repay_4           int64\n",
       "bill_9            int64\n",
       "bill_8            int64\n",
       "bill_7            int64\n",
       "bill_6            int64\n",
       "bill_5            int64\n",
       "bill_4            int64\n",
       "pre_9             int64\n",
       "pre_8             int64\n",
       "pre_7             int64\n",
       "pre_6             int64\n",
       "pre_5             int64\n",
       "pre_4             int64\n",
       "default           int64\n",
       "dtype: object"
      ]
     },
     "execution_count": 813,
     "metadata": {},
     "output_type": "execute_result"
    }
   ],
   "source": [
    "data.dtypes"
   ]
  },
  {
   "cell_type": "code",
   "execution_count": 814,
   "metadata": {},
   "outputs": [
    {
     "data": {
      "text/html": [
       "<div>\n",
       "<style scoped>\n",
       "    .dataframe tbody tr th:only-of-type {\n",
       "        vertical-align: middle;\n",
       "    }\n",
       "\n",
       "    .dataframe tbody tr th {\n",
       "        vertical-align: top;\n",
       "    }\n",
       "\n",
       "    .dataframe thead th {\n",
       "        text-align: right;\n",
       "    }\n",
       "</style>\n",
       "<table border=\"1\" class=\"dataframe\">\n",
       "  <thead>\n",
       "    <tr style=\"text-align: right;\">\n",
       "      <th></th>\n",
       "      <th>credit_line</th>\n",
       "      <th>age</th>\n",
       "      <th>repay_9</th>\n",
       "      <th>repay_8</th>\n",
       "      <th>repay_7</th>\n",
       "      <th>repay_6</th>\n",
       "      <th>repay_5</th>\n",
       "      <th>repay_4</th>\n",
       "      <th>bill_9</th>\n",
       "      <th>bill_8</th>\n",
       "      <th>...</th>\n",
       "      <th>bill_6</th>\n",
       "      <th>bill_5</th>\n",
       "      <th>bill_4</th>\n",
       "      <th>pre_9</th>\n",
       "      <th>pre_8</th>\n",
       "      <th>pre_7</th>\n",
       "      <th>pre_6</th>\n",
       "      <th>pre_5</th>\n",
       "      <th>pre_4</th>\n",
       "      <th>default</th>\n",
       "    </tr>\n",
       "  </thead>\n",
       "  <tbody>\n",
       "    <tr>\n",
       "      <th>count</th>\n",
       "      <td>30000.000000</td>\n",
       "      <td>30000.000000</td>\n",
       "      <td>30000.000000</td>\n",
       "      <td>30000.000000</td>\n",
       "      <td>30000.000000</td>\n",
       "      <td>30000.000000</td>\n",
       "      <td>30000.000000</td>\n",
       "      <td>30000.000000</td>\n",
       "      <td>30000.000000</td>\n",
       "      <td>30000.000000</td>\n",
       "      <td>...</td>\n",
       "      <td>30000.000000</td>\n",
       "      <td>30000.000000</td>\n",
       "      <td>30000.000000</td>\n",
       "      <td>30000.000000</td>\n",
       "      <td>3.000000e+04</td>\n",
       "      <td>30000.00000</td>\n",
       "      <td>30000.000000</td>\n",
       "      <td>30000.000000</td>\n",
       "      <td>30000.000000</td>\n",
       "      <td>30000.000000</td>\n",
       "    </tr>\n",
       "    <tr>\n",
       "      <th>mean</th>\n",
       "      <td>167484.322667</td>\n",
       "      <td>35.485500</td>\n",
       "      <td>-0.016700</td>\n",
       "      <td>-0.133767</td>\n",
       "      <td>-0.166200</td>\n",
       "      <td>-0.220667</td>\n",
       "      <td>-0.266200</td>\n",
       "      <td>-0.291100</td>\n",
       "      <td>51223.330900</td>\n",
       "      <td>49179.075167</td>\n",
       "      <td>...</td>\n",
       "      <td>43262.948967</td>\n",
       "      <td>40311.400967</td>\n",
       "      <td>38871.760400</td>\n",
       "      <td>5663.580500</td>\n",
       "      <td>5.921163e+03</td>\n",
       "      <td>5225.68150</td>\n",
       "      <td>4826.076867</td>\n",
       "      <td>4799.387633</td>\n",
       "      <td>5215.502567</td>\n",
       "      <td>0.221200</td>\n",
       "    </tr>\n",
       "    <tr>\n",
       "      <th>std</th>\n",
       "      <td>129747.661567</td>\n",
       "      <td>9.217904</td>\n",
       "      <td>1.123802</td>\n",
       "      <td>1.197186</td>\n",
       "      <td>1.196868</td>\n",
       "      <td>1.169139</td>\n",
       "      <td>1.133187</td>\n",
       "      <td>1.149988</td>\n",
       "      <td>73635.860576</td>\n",
       "      <td>71173.768783</td>\n",
       "      <td>...</td>\n",
       "      <td>64332.856134</td>\n",
       "      <td>60797.155770</td>\n",
       "      <td>59554.107537</td>\n",
       "      <td>16563.280354</td>\n",
       "      <td>2.304087e+04</td>\n",
       "      <td>17606.96147</td>\n",
       "      <td>15666.159744</td>\n",
       "      <td>15278.305679</td>\n",
       "      <td>17777.465775</td>\n",
       "      <td>0.415062</td>\n",
       "    </tr>\n",
       "    <tr>\n",
       "      <th>min</th>\n",
       "      <td>10000.000000</td>\n",
       "      <td>21.000000</td>\n",
       "      <td>-2.000000</td>\n",
       "      <td>-2.000000</td>\n",
       "      <td>-2.000000</td>\n",
       "      <td>-2.000000</td>\n",
       "      <td>-2.000000</td>\n",
       "      <td>-2.000000</td>\n",
       "      <td>-165580.000000</td>\n",
       "      <td>-69777.000000</td>\n",
       "      <td>...</td>\n",
       "      <td>-170000.000000</td>\n",
       "      <td>-81334.000000</td>\n",
       "      <td>-339603.000000</td>\n",
       "      <td>0.000000</td>\n",
       "      <td>0.000000e+00</td>\n",
       "      <td>0.00000</td>\n",
       "      <td>0.000000</td>\n",
       "      <td>0.000000</td>\n",
       "      <td>0.000000</td>\n",
       "      <td>0.000000</td>\n",
       "    </tr>\n",
       "    <tr>\n",
       "      <th>25%</th>\n",
       "      <td>50000.000000</td>\n",
       "      <td>28.000000</td>\n",
       "      <td>-1.000000</td>\n",
       "      <td>-1.000000</td>\n",
       "      <td>-1.000000</td>\n",
       "      <td>-1.000000</td>\n",
       "      <td>-1.000000</td>\n",
       "      <td>-1.000000</td>\n",
       "      <td>3558.750000</td>\n",
       "      <td>2984.750000</td>\n",
       "      <td>...</td>\n",
       "      <td>2326.750000</td>\n",
       "      <td>1763.000000</td>\n",
       "      <td>1256.000000</td>\n",
       "      <td>1000.000000</td>\n",
       "      <td>8.330000e+02</td>\n",
       "      <td>390.00000</td>\n",
       "      <td>296.000000</td>\n",
       "      <td>252.500000</td>\n",
       "      <td>117.750000</td>\n",
       "      <td>0.000000</td>\n",
       "    </tr>\n",
       "    <tr>\n",
       "      <th>50%</th>\n",
       "      <td>140000.000000</td>\n",
       "      <td>34.000000</td>\n",
       "      <td>0.000000</td>\n",
       "      <td>0.000000</td>\n",
       "      <td>0.000000</td>\n",
       "      <td>0.000000</td>\n",
       "      <td>0.000000</td>\n",
       "      <td>0.000000</td>\n",
       "      <td>22381.500000</td>\n",
       "      <td>21200.000000</td>\n",
       "      <td>...</td>\n",
       "      <td>19052.000000</td>\n",
       "      <td>18104.500000</td>\n",
       "      <td>17071.000000</td>\n",
       "      <td>2100.000000</td>\n",
       "      <td>2.009000e+03</td>\n",
       "      <td>1800.00000</td>\n",
       "      <td>1500.000000</td>\n",
       "      <td>1500.000000</td>\n",
       "      <td>1500.000000</td>\n",
       "      <td>0.000000</td>\n",
       "    </tr>\n",
       "    <tr>\n",
       "      <th>75%</th>\n",
       "      <td>240000.000000</td>\n",
       "      <td>41.000000</td>\n",
       "      <td>0.000000</td>\n",
       "      <td>0.000000</td>\n",
       "      <td>0.000000</td>\n",
       "      <td>0.000000</td>\n",
       "      <td>0.000000</td>\n",
       "      <td>0.000000</td>\n",
       "      <td>67091.000000</td>\n",
       "      <td>64006.250000</td>\n",
       "      <td>...</td>\n",
       "      <td>54506.000000</td>\n",
       "      <td>50190.500000</td>\n",
       "      <td>49198.250000</td>\n",
       "      <td>5006.000000</td>\n",
       "      <td>5.000000e+03</td>\n",
       "      <td>4505.00000</td>\n",
       "      <td>4013.250000</td>\n",
       "      <td>4031.500000</td>\n",
       "      <td>4000.000000</td>\n",
       "      <td>0.000000</td>\n",
       "    </tr>\n",
       "    <tr>\n",
       "      <th>max</th>\n",
       "      <td>1000000.000000</td>\n",
       "      <td>79.000000</td>\n",
       "      <td>8.000000</td>\n",
       "      <td>8.000000</td>\n",
       "      <td>8.000000</td>\n",
       "      <td>8.000000</td>\n",
       "      <td>8.000000</td>\n",
       "      <td>8.000000</td>\n",
       "      <td>964511.000000</td>\n",
       "      <td>983931.000000</td>\n",
       "      <td>...</td>\n",
       "      <td>891586.000000</td>\n",
       "      <td>927171.000000</td>\n",
       "      <td>961664.000000</td>\n",
       "      <td>873552.000000</td>\n",
       "      <td>1.684259e+06</td>\n",
       "      <td>896040.00000</td>\n",
       "      <td>621000.000000</td>\n",
       "      <td>426529.000000</td>\n",
       "      <td>528666.000000</td>\n",
       "      <td>1.000000</td>\n",
       "    </tr>\n",
       "  </tbody>\n",
       "</table>\n",
       "<p>8 rows × 21 columns</p>\n",
       "</div>"
      ],
      "text/plain": [
       "          credit_line           age       repay_9       repay_8       repay_7  \\\n",
       "count    30000.000000  30000.000000  30000.000000  30000.000000  30000.000000   \n",
       "mean    167484.322667     35.485500     -0.016700     -0.133767     -0.166200   \n",
       "std     129747.661567      9.217904      1.123802      1.197186      1.196868   \n",
       "min      10000.000000     21.000000     -2.000000     -2.000000     -2.000000   \n",
       "25%      50000.000000     28.000000     -1.000000     -1.000000     -1.000000   \n",
       "50%     140000.000000     34.000000      0.000000      0.000000      0.000000   \n",
       "75%     240000.000000     41.000000      0.000000      0.000000      0.000000   \n",
       "max    1000000.000000     79.000000      8.000000      8.000000      8.000000   \n",
       "\n",
       "            repay_6       repay_5       repay_4         bill_9         bill_8  \\\n",
       "count  30000.000000  30000.000000  30000.000000   30000.000000   30000.000000   \n",
       "mean      -0.220667     -0.266200     -0.291100   51223.330900   49179.075167   \n",
       "std        1.169139      1.133187      1.149988   73635.860576   71173.768783   \n",
       "min       -2.000000     -2.000000     -2.000000 -165580.000000  -69777.000000   \n",
       "25%       -1.000000     -1.000000     -1.000000    3558.750000    2984.750000   \n",
       "50%        0.000000      0.000000      0.000000   22381.500000   21200.000000   \n",
       "75%        0.000000      0.000000      0.000000   67091.000000   64006.250000   \n",
       "max        8.000000      8.000000      8.000000  964511.000000  983931.000000   \n",
       "\n",
       "       ...         bill_6         bill_5         bill_4          pre_9  \\\n",
       "count  ...   30000.000000   30000.000000   30000.000000   30000.000000   \n",
       "mean   ...   43262.948967   40311.400967   38871.760400    5663.580500   \n",
       "std    ...   64332.856134   60797.155770   59554.107537   16563.280354   \n",
       "min    ... -170000.000000  -81334.000000 -339603.000000       0.000000   \n",
       "25%    ...    2326.750000    1763.000000    1256.000000    1000.000000   \n",
       "50%    ...   19052.000000   18104.500000   17071.000000    2100.000000   \n",
       "75%    ...   54506.000000   50190.500000   49198.250000    5006.000000   \n",
       "max    ...  891586.000000  927171.000000  961664.000000  873552.000000   \n",
       "\n",
       "              pre_8         pre_7          pre_6          pre_5  \\\n",
       "count  3.000000e+04   30000.00000   30000.000000   30000.000000   \n",
       "mean   5.921163e+03    5225.68150    4826.076867    4799.387633   \n",
       "std    2.304087e+04   17606.96147   15666.159744   15278.305679   \n",
       "min    0.000000e+00       0.00000       0.000000       0.000000   \n",
       "25%    8.330000e+02     390.00000     296.000000     252.500000   \n",
       "50%    2.009000e+03    1800.00000    1500.000000    1500.000000   \n",
       "75%    5.000000e+03    4505.00000    4013.250000    4031.500000   \n",
       "max    1.684259e+06  896040.00000  621000.000000  426529.000000   \n",
       "\n",
       "               pre_4       default  \n",
       "count   30000.000000  30000.000000  \n",
       "mean     5215.502567      0.221200  \n",
       "std     17777.465775      0.415062  \n",
       "min         0.000000      0.000000  \n",
       "25%       117.750000      0.000000  \n",
       "50%      1500.000000      0.000000  \n",
       "75%      4000.000000      0.000000  \n",
       "max    528666.000000      1.000000  \n",
       "\n",
       "[8 rows x 21 columns]"
      ]
     },
     "execution_count": 814,
     "metadata": {},
     "output_type": "execute_result"
    }
   ],
   "source": [
    "data.describe()"
   ]
  },
  {
   "cell_type": "code",
   "execution_count": 815,
   "metadata": {},
   "outputs": [
    {
     "data": {
      "text/html": [
       "<div>\n",
       "<style scoped>\n",
       "    .dataframe tbody tr th:only-of-type {\n",
       "        vertical-align: middle;\n",
       "    }\n",
       "\n",
       "    .dataframe tbody tr th {\n",
       "        vertical-align: top;\n",
       "    }\n",
       "\n",
       "    .dataframe thead th {\n",
       "        text-align: right;\n",
       "    }\n",
       "</style>\n",
       "<table border=\"1\" class=\"dataframe\">\n",
       "  <thead>\n",
       "    <tr style=\"text-align: right;\">\n",
       "      <th></th>\n",
       "      <th>count</th>\n",
       "      <th>unique</th>\n",
       "      <th>top</th>\n",
       "      <th>freq</th>\n",
       "    </tr>\n",
       "  </thead>\n",
       "  <tbody>\n",
       "    <tr>\n",
       "      <th>gender</th>\n",
       "      <td>30000</td>\n",
       "      <td>2</td>\n",
       "      <td>2</td>\n",
       "      <td>18112</td>\n",
       "    </tr>\n",
       "    <tr>\n",
       "      <th>edu</th>\n",
       "      <td>30000</td>\n",
       "      <td>7</td>\n",
       "      <td>2</td>\n",
       "      <td>14030</td>\n",
       "    </tr>\n",
       "    <tr>\n",
       "      <th>marital</th>\n",
       "      <td>30000</td>\n",
       "      <td>4</td>\n",
       "      <td>2</td>\n",
       "      <td>15964</td>\n",
       "    </tr>\n",
       "  </tbody>\n",
       "</table>\n",
       "</div>"
      ],
      "text/plain": [
       "         count  unique  top   freq\n",
       "gender   30000       2    2  18112\n",
       "edu      30000       7    2  14030\n",
       "marital  30000       4    2  15964"
      ]
     },
     "execution_count": 815,
     "metadata": {},
     "output_type": "execute_result"
    }
   ],
   "source": [
    "# education and marital status have more level than expected\n",
    "data.describe(include = 'category').transpose()"
   ]
  },
  {
   "cell_type": "code",
   "execution_count": 816,
   "metadata": {},
   "outputs": [
    {
     "data": {
      "text/plain": [
       "0    23364\n",
       "1     6636\n",
       "Name: default, dtype: int64"
      ]
     },
     "execution_count": 816,
     "metadata": {},
     "output_type": "execute_result"
    }
   ],
   "source": [
    "# unbalanced data, use f1 score for metrics\n",
    "data.default.value_counts()"
   ]
  },
  {
   "cell_type": "markdown",
   "metadata": {},
   "source": [
    "#### Data Cleaning"
   ]
  },
  {
   "cell_type": "code",
   "execution_count": 817,
   "metadata": {},
   "outputs": [],
   "source": [
    "# Change unknown values for edu and marital status to 'other' while keep others the same, as edu and \n",
    "# marital stutus are categorical and other are either continuous or ordinal.\n",
    "data['edu'] = np.where(~data.edu.isin([1, 2, 3, 4]), 4,data.edu)\n",
    "data['marital'] = np.where(~data.marital.isin([1, 2, 3]), 3, data.marital)\n",
    "\n",
    "data['edu'] = data.edu.astype('category')\n",
    "data['marital'] = data.marital.astype('category')"
   ]
  },
  {
   "cell_type": "code",
   "execution_count": 818,
   "metadata": {},
   "outputs": [
    {
     "data": {
      "text/html": [
       "<div>\n",
       "<style scoped>\n",
       "    .dataframe tbody tr th:only-of-type {\n",
       "        vertical-align: middle;\n",
       "    }\n",
       "\n",
       "    .dataframe tbody tr th {\n",
       "        vertical-align: top;\n",
       "    }\n",
       "\n",
       "    .dataframe thead th {\n",
       "        text-align: right;\n",
       "    }\n",
       "</style>\n",
       "<table border=\"1\" class=\"dataframe\">\n",
       "  <thead>\n",
       "    <tr style=\"text-align: right;\">\n",
       "      <th></th>\n",
       "      <th>count</th>\n",
       "      <th>unique</th>\n",
       "      <th>top</th>\n",
       "      <th>freq</th>\n",
       "    </tr>\n",
       "  </thead>\n",
       "  <tbody>\n",
       "    <tr>\n",
       "      <th>gender</th>\n",
       "      <td>30000</td>\n",
       "      <td>2</td>\n",
       "      <td>2</td>\n",
       "      <td>18112</td>\n",
       "    </tr>\n",
       "    <tr>\n",
       "      <th>edu</th>\n",
       "      <td>30000</td>\n",
       "      <td>4</td>\n",
       "      <td>2</td>\n",
       "      <td>14030</td>\n",
       "    </tr>\n",
       "    <tr>\n",
       "      <th>marital</th>\n",
       "      <td>30000</td>\n",
       "      <td>3</td>\n",
       "      <td>2</td>\n",
       "      <td>15964</td>\n",
       "    </tr>\n",
       "  </tbody>\n",
       "</table>\n",
       "</div>"
      ],
      "text/plain": [
       "         count  unique  top   freq\n",
       "gender   30000       2    2  18112\n",
       "edu      30000       4    2  14030\n",
       "marital  30000       3    2  15964"
      ]
     },
     "execution_count": 818,
     "metadata": {},
     "output_type": "execute_result"
    }
   ],
   "source": [
    "data.describe(include = 'category').transpose()"
   ]
  },
  {
   "cell_type": "markdown",
   "metadata": {},
   "source": [
    "#### Exploratory Analysis"
   ]
  },
  {
   "cell_type": "code",
   "execution_count": 660,
   "metadata": {},
   "outputs": [
    {
     "data": {
      "text/html": [
       "<div>\n",
       "<style scoped>\n",
       "    .dataframe tbody tr th:only-of-type {\n",
       "        vertical-align: middle;\n",
       "    }\n",
       "\n",
       "    .dataframe tbody tr th {\n",
       "        vertical-align: top;\n",
       "    }\n",
       "\n",
       "    .dataframe thead th {\n",
       "        text-align: right;\n",
       "    }\n",
       "</style>\n",
       "<table border=\"1\" class=\"dataframe\">\n",
       "  <thead>\n",
       "    <tr style=\"text-align: right;\">\n",
       "      <th></th>\n",
       "      <th>variable</th>\n",
       "      <th>info_value</th>\n",
       "    </tr>\n",
       "  </thead>\n",
       "  <tbody>\n",
       "    <tr>\n",
       "      <th>21</th>\n",
       "      <td>repay_9</td>\n",
       "      <td>0.877161</td>\n",
       "    </tr>\n",
       "    <tr>\n",
       "      <th>15</th>\n",
       "      <td>repay_8</td>\n",
       "      <td>0.548882</td>\n",
       "    </tr>\n",
       "    <tr>\n",
       "      <th>1</th>\n",
       "      <td>repay_7</td>\n",
       "      <td>0.416046</td>\n",
       "    </tr>\n",
       "    <tr>\n",
       "      <th>18</th>\n",
       "      <td>repay_6</td>\n",
       "      <td>0.367266</td>\n",
       "    </tr>\n",
       "    <tr>\n",
       "      <th>8</th>\n",
       "      <td>pre_9</td>\n",
       "      <td>0.354998</td>\n",
       "    </tr>\n",
       "    <tr>\n",
       "      <th>0</th>\n",
       "      <td>pre_4</td>\n",
       "      <td>0.340639</td>\n",
       "    </tr>\n",
       "    <tr>\n",
       "      <th>10</th>\n",
       "      <td>repay_5</td>\n",
       "      <td>0.340341</td>\n",
       "    </tr>\n",
       "    <tr>\n",
       "      <th>16</th>\n",
       "      <td>pre_7</td>\n",
       "      <td>0.340153</td>\n",
       "    </tr>\n",
       "    <tr>\n",
       "      <th>12</th>\n",
       "      <td>pre_6</td>\n",
       "      <td>0.339778</td>\n",
       "    </tr>\n",
       "    <tr>\n",
       "      <th>3</th>\n",
       "      <td>pre_5</td>\n",
       "      <td>0.339478</td>\n",
       "    </tr>\n",
       "    <tr>\n",
       "      <th>22</th>\n",
       "      <td>pre_8</td>\n",
       "      <td>0.330309</td>\n",
       "    </tr>\n",
       "    <tr>\n",
       "      <th>19</th>\n",
       "      <td>repay_4</td>\n",
       "      <td>0.293846</td>\n",
       "    </tr>\n",
       "    <tr>\n",
       "      <th>7</th>\n",
       "      <td>bill_4</td>\n",
       "      <td>0.204642</td>\n",
       "    </tr>\n",
       "    <tr>\n",
       "      <th>17</th>\n",
       "      <td>bill_5</td>\n",
       "      <td>0.195339</td>\n",
       "    </tr>\n",
       "    <tr>\n",
       "      <th>14</th>\n",
       "      <td>credit_line</td>\n",
       "      <td>0.192544</td>\n",
       "    </tr>\n",
       "    <tr>\n",
       "      <th>2</th>\n",
       "      <td>bill_6</td>\n",
       "      <td>0.184890</td>\n",
       "    </tr>\n",
       "    <tr>\n",
       "      <th>4</th>\n",
       "      <td>bill_7</td>\n",
       "      <td>0.172999</td>\n",
       "    </tr>\n",
       "    <tr>\n",
       "      <th>13</th>\n",
       "      <td>bill_8</td>\n",
       "      <td>0.164650</td>\n",
       "    </tr>\n",
       "    <tr>\n",
       "      <th>20</th>\n",
       "      <td>bill_9</td>\n",
       "      <td>0.151770</td>\n",
       "    </tr>\n",
       "    <tr>\n",
       "      <th>6</th>\n",
       "      <td>edu</td>\n",
       "      <td>0.037299</td>\n",
       "    </tr>\n",
       "    <tr>\n",
       "      <th>11</th>\n",
       "      <td>age</td>\n",
       "      <td>0.029208</td>\n",
       "    </tr>\n",
       "    <tr>\n",
       "      <th>9</th>\n",
       "      <td>gender</td>\n",
       "      <td>0.009180</td>\n",
       "    </tr>\n",
       "    <tr>\n",
       "      <th>5</th>\n",
       "      <td>marital</td>\n",
       "      <td>0.005433</td>\n",
       "    </tr>\n",
       "  </tbody>\n",
       "</table>\n",
       "</div>"
      ],
      "text/plain": [
       "       variable  info_value\n",
       "21      repay_9    0.877161\n",
       "15      repay_8    0.548882\n",
       "1       repay_7    0.416046\n",
       "18      repay_6    0.367266\n",
       "8         pre_9    0.354998\n",
       "0         pre_4    0.340639\n",
       "10      repay_5    0.340341\n",
       "16        pre_7    0.340153\n",
       "12        pre_6    0.339778\n",
       "3         pre_5    0.339478\n",
       "22        pre_8    0.330309\n",
       "19      repay_4    0.293846\n",
       "7        bill_4    0.204642\n",
       "17       bill_5    0.195339\n",
       "14  credit_line    0.192544\n",
       "2        bill_6    0.184890\n",
       "4        bill_7    0.172999\n",
       "13       bill_8    0.164650\n",
       "20       bill_9    0.151770\n",
       "6           edu    0.037299\n",
       "11          age    0.029208\n",
       "9        gender    0.009180\n",
       "5       marital    0.005433"
      ]
     },
     "execution_count": 660,
     "metadata": {},
     "output_type": "execute_result"
    }
   ],
   "source": [
    "# information value to see predictive power\n",
    "sc.iv(data, 'default')"
   ]
  },
  {
   "cell_type": "code",
   "execution_count": 819,
   "metadata": {},
   "outputs": [
    {
     "name": "stdout",
     "output_type": "stream",
     "text": [
      "[INFO] creating woe binning ...\n"
     ]
    },
    {
     "data": {
      "text/plain": [
       "{'repay_9': <Figure size 432x288 with 2 Axes>,\n",
       " 'pre_9': <Figure size 432x288 with 2 Axes>,\n",
       " 'bill_4': <Figure size 432x288 with 2 Axes>,\n",
       " 'edu': <Figure size 432x288 with 2 Axes>,\n",
       " 'gender': <Figure size 432x288 with 2 Axes>}"
      ]
     },
     "execution_count": 819,
     "metadata": {},
     "output_type": "execute_result"
    },
    {
     "data": {
      "image/png": "[encoded data removed]",
      "text/plain": [
       "<Figure size 432x288 with 2 Axes>"
      ]
     },
     "metadata": {
      "needs_background": "light"
     },
     "output_type": "display_data"
    },
    {
     "data": {
      "image/png": "[encoded data removed]",
      "text/plain": [
       "<Figure size 432x288 with 2 Axes>"
      ]
     },
     "metadata": {
      "needs_background": "light"
     },
     "output_type": "display_data"
    },
    {
     "data": {
      "image/png": "[encoded data removed]",
      "text/plain": [
       "<Figure size 432x288 with 2 Axes>"
      ]
     },
     "metadata": {
      "needs_background": "light"
     },
     "output_type": "display_data"
    },
    {
     "data": {
      "image/png": "[encoded data removed]",
      "text/plain": [
       "<Figure size 432x288 with 2 Axes>"
      ]
     },
     "metadata": {
      "needs_background": "light"
     },
     "output_type": "display_data"
    },
    {
     "data": {
      "image/png": "[encoded data removed]",
      "text/plain": [
       "<Figure size 432x288 with 2 Axes>"
      ]
     },
     "metadata": {
      "needs_background": "light"
     },
     "output_type": "display_data"
    }
   ],
   "source": [
    "# The higher the repayment status, the higher the PD, especially for status >= 2\n",
    "# The higher the previous payment, the lower the PD.\n",
    "data_str = data.copy()\n",
    "data_str['edu'] = data.edu.astype('string')\n",
    "data_str['gender'] = data.gender.astype('string')\n",
    "\n",
    "bins = sc.woebin(data_str, 'default', ['repay_9', 'pre_9', 'bill_4', 'edu', 'gender'])\n",
    "\n",
    "sc.woebin_plot(bins)"
   ]
  },
  {
   "cell_type": "code",
   "execution_count": 820,
   "metadata": {},
   "outputs": [
    {
     "data": {
      "text/html": [
       "<div>\n",
       "<style scoped>\n",
       "    .dataframe tbody tr th:only-of-type {\n",
       "        vertical-align: middle;\n",
       "    }\n",
       "\n",
       "    .dataframe tbody tr th {\n",
       "        vertical-align: top;\n",
       "    }\n",
       "\n",
       "    .dataframe thead th {\n",
       "        text-align: right;\n",
       "    }\n",
       "</style>\n",
       "<table border=\"1\" class=\"dataframe\">\n",
       "  <thead>\n",
       "    <tr style=\"text-align: right;\">\n",
       "      <th></th>\n",
       "      <th>feature</th>\n",
       "      <th>VIF</th>\n",
       "    </tr>\n",
       "  </thead>\n",
       "  <tbody>\n",
       "    <tr>\n",
       "      <th>0</th>\n",
       "      <td>credit_line</td>\n",
       "      <td>4.045042</td>\n",
       "    </tr>\n",
       "    <tr>\n",
       "      <th>1</th>\n",
       "      <td>gender</td>\n",
       "      <td>9.138316</td>\n",
       "    </tr>\n",
       "    <tr>\n",
       "      <th>2</th>\n",
       "      <td>edu</td>\n",
       "      <td>7.404015</td>\n",
       "    </tr>\n",
       "    <tr>\n",
       "      <th>3</th>\n",
       "      <td>marital</td>\n",
       "      <td>6.353580</td>\n",
       "    </tr>\n",
       "    <tr>\n",
       "      <th>4</th>\n",
       "      <td>age</td>\n",
       "      <td>11.155951</td>\n",
       "    </tr>\n",
       "    <tr>\n",
       "      <th>5</th>\n",
       "      <td>repay_9</td>\n",
       "      <td>1.918283</td>\n",
       "    </tr>\n",
       "    <tr>\n",
       "      <th>6</th>\n",
       "      <td>repay_8</td>\n",
       "      <td>3.211462</td>\n",
       "    </tr>\n",
       "    <tr>\n",
       "      <th>7</th>\n",
       "      <td>repay_7</td>\n",
       "      <td>3.727665</td>\n",
       "    </tr>\n",
       "    <tr>\n",
       "      <th>8</th>\n",
       "      <td>repay_6</td>\n",
       "      <td>4.440211</td>\n",
       "    </tr>\n",
       "    <tr>\n",
       "      <th>9</th>\n",
       "      <td>repay_5</td>\n",
       "      <td>4.985794</td>\n",
       "    </tr>\n",
       "    <tr>\n",
       "      <th>10</th>\n",
       "      <td>repay_4</td>\n",
       "      <td>3.463773</td>\n",
       "    </tr>\n",
       "    <tr>\n",
       "      <th>11</th>\n",
       "      <td>bill_9</td>\n",
       "      <td>20.822611</td>\n",
       "    </tr>\n",
       "    <tr>\n",
       "      <th>12</th>\n",
       "      <td>bill_8</td>\n",
       "      <td>38.215095</td>\n",
       "    </tr>\n",
       "    <tr>\n",
       "      <th>13</th>\n",
       "      <td>bill_7</td>\n",
       "      <td>31.782841</td>\n",
       "    </tr>\n",
       "    <tr>\n",
       "      <th>14</th>\n",
       "      <td>bill_6</td>\n",
       "      <td>29.548014</td>\n",
       "    </tr>\n",
       "    <tr>\n",
       "      <th>15</th>\n",
       "      <td>bill_5</td>\n",
       "      <td>35.988395</td>\n",
       "    </tr>\n",
       "    <tr>\n",
       "      <th>16</th>\n",
       "      <td>bill_4</td>\n",
       "      <td>21.425905</td>\n",
       "    </tr>\n",
       "    <tr>\n",
       "      <th>17</th>\n",
       "      <td>pre_9</td>\n",
       "      <td>1.907550</td>\n",
       "    </tr>\n",
       "    <tr>\n",
       "      <th>18</th>\n",
       "      <td>pre_8</td>\n",
       "      <td>2.384864</td>\n",
       "    </tr>\n",
       "    <tr>\n",
       "      <th>19</th>\n",
       "      <td>pre_7</td>\n",
       "      <td>1.911650</td>\n",
       "    </tr>\n",
       "    <tr>\n",
       "      <th>20</th>\n",
       "      <td>pre_6</td>\n",
       "      <td>1.805061</td>\n",
       "    </tr>\n",
       "    <tr>\n",
       "      <th>21</th>\n",
       "      <td>pre_5</td>\n",
       "      <td>1.854268</td>\n",
       "    </tr>\n",
       "    <tr>\n",
       "      <th>22</th>\n",
       "      <td>pre_4</td>\n",
       "      <td>1.270652</td>\n",
       "    </tr>\n",
       "  </tbody>\n",
       "</table>\n",
       "</div>"
      ],
      "text/plain": [
       "        feature        VIF\n",
       "0   credit_line   4.045042\n",
       "1        gender   9.138316\n",
       "2           edu   7.404015\n",
       "3       marital   6.353580\n",
       "4           age  11.155951\n",
       "5       repay_9   1.918283\n",
       "6       repay_8   3.211462\n",
       "7       repay_7   3.727665\n",
       "8       repay_6   4.440211\n",
       "9       repay_5   4.985794\n",
       "10      repay_4   3.463773\n",
       "11       bill_9  20.822611\n",
       "12       bill_8  38.215095\n",
       "13       bill_7  31.782841\n",
       "14       bill_6  29.548014\n",
       "15       bill_5  35.988395\n",
       "16       bill_4  21.425905\n",
       "17        pre_9   1.907550\n",
       "18        pre_8   2.384864\n",
       "19        pre_7   1.911650\n",
       "20        pre_6   1.805061\n",
       "21        pre_5   1.854268\n",
       "22        pre_4   1.270652"
      ]
     },
     "execution_count": 820,
     "metadata": {},
     "output_type": "execute_result"
    }
   ],
   "source": [
    "# VIF test, high VIF for some attributes\n",
    "x_0 = data.iloc[:, :-1]\n",
    "vif = pd.DataFrame()\n",
    "vif['feature'] = x_0.columns\n",
    "vif['VIF'] = [variance_inflation_factor(x_0.values, i) for i in range(len(x_0.columns))]\n",
    "vif"
   ]
  },
  {
   "cell_type": "markdown",
   "metadata": {},
   "source": [
    "#### Preprocessing"
   ]
  },
  {
   "cell_type": "code",
   "execution_count": 821,
   "metadata": {},
   "outputs": [],
   "source": [
    "# Convert to categorical variable\n",
    "encoder = OneHotEncoder(drop = 'first')\n",
    "encoder.fit_transform(data[['gender', 'edu', 'marital']])\n",
    "data[encoder.get_feature_names(['gender', 'edu', 'marital'])] = OneHotEncoder(drop = 'first').fit_transform(data[['gender', 'edu', 'marital']]).toarray()"
   ]
  },
  {
   "cell_type": "code",
   "execution_count": 822,
   "metadata": {},
   "outputs": [],
   "source": [
    "# save the original copy of the data for tree-based models\n",
    "data_tree = data.copy()"
   ]
  },
  {
   "cell_type": "code",
   "execution_count": 823,
   "metadata": {},
   "outputs": [],
   "source": [
    "# Standardization for logistic regression\n",
    "num_features = data.columns.drop(['default', 'gender', 'marital', 'edu', \n",
    "                                  'gender_2', 'edu_2', 'edu_3', 'edu_4', 'marital_2', 'marital_3'])\n",
    "data[num_features] = StandardScaler().fit_transform(data[num_features])"
   ]
  },
  {
   "cell_type": "markdown",
   "metadata": {},
   "source": [
    "#### Feature Engineering"
   ]
  },
  {
   "cell_type": "code",
   "execution_count": 824,
   "metadata": {},
   "outputs": [],
   "source": [
    "# Use PCA to reduce repayment status, bill amount and previous payment amount\n",
    "pca = PCA(n_components = 1)"
   ]
  },
  {
   "cell_type": "code",
   "execution_count": 825,
   "metadata": {},
   "outputs": [],
   "source": [
    "features_1 = ['repay_9', 'repay_8', 'repay_7', 'repay_6', 'repay_5', 'repay_4']\n",
    "features_2 = ['bill_9', 'bill_8', 'bill_7', 'bill_6', 'bill_5', 'bill_4']\n",
    "features_3 = ['pre_9', 'pre_8', 'pre_7', 'pre_6', 'pre_5', 'pre_4']"
   ]
  },
  {
   "cell_type": "code",
   "execution_count": 826,
   "metadata": {},
   "outputs": [
    {
     "name": "stdout",
     "output_type": "stream",
     "text": [
      "[[0.35122879 0.40757891 0.42375919 0.43245618 0.42655565 0.40246472]]\n",
      "[[0.40087622 0.41055536 0.41203506 0.41476148 0.41029126 0.40075388]]\n",
      "[[0.45359053 0.44583748 0.44028862 0.39172153 0.34754647 0.35692604]]\n"
     ]
    }
   ],
   "source": [
    "data[['pca_repay']] = pca.fit_transform(data[features_1])\n",
    "print(pca.components_)\n",
    "\n",
    "data[['pca_bill']] = pca.fit_transform(data[features_2])\n",
    "print(pca.components_)\n",
    "\n",
    "data[['pca_pre']] = pca.fit_transform(data[features_3])\n",
    "print(pca.components_)"
   ]
  },
  {
   "cell_type": "code",
   "execution_count": 827,
   "metadata": {},
   "outputs": [
    {
     "data": {
      "text/html": [
       "<div>\n",
       "<style scoped>\n",
       "    .dataframe tbody tr th:only-of-type {\n",
       "        vertical-align: middle;\n",
       "    }\n",
       "\n",
       "    .dataframe tbody tr th {\n",
       "        vertical-align: top;\n",
       "    }\n",
       "\n",
       "    .dataframe thead th {\n",
       "        text-align: right;\n",
       "    }\n",
       "</style>\n",
       "<table border=\"1\" class=\"dataframe\">\n",
       "  <thead>\n",
       "    <tr style=\"text-align: right;\">\n",
       "      <th></th>\n",
       "      <th>credit_line</th>\n",
       "      <th>gender</th>\n",
       "      <th>edu</th>\n",
       "      <th>marital</th>\n",
       "      <th>age</th>\n",
       "      <th>repay_9</th>\n",
       "      <th>repay_8</th>\n",
       "      <th>repay_7</th>\n",
       "      <th>repay_6</th>\n",
       "      <th>repay_5</th>\n",
       "      <th>...</th>\n",
       "      <th>default</th>\n",
       "      <th>gender_2</th>\n",
       "      <th>edu_2</th>\n",
       "      <th>edu_3</th>\n",
       "      <th>edu_4</th>\n",
       "      <th>marital_2</th>\n",
       "      <th>marital_3</th>\n",
       "      <th>pca_repay</th>\n",
       "      <th>pca_bill</th>\n",
       "      <th>pca_pre</th>\n",
       "    </tr>\n",
       "  </thead>\n",
       "  <tbody>\n",
       "    <tr>\n",
       "      <th>0</th>\n",
       "      <td>-1.136720</td>\n",
       "      <td>2</td>\n",
       "      <td>2</td>\n",
       "      <td>1</td>\n",
       "      <td>-1.246020</td>\n",
       "      <td>1.794564</td>\n",
       "      <td>1.782348</td>\n",
       "      <td>-0.696663</td>\n",
       "      <td>-0.666599</td>\n",
       "      <td>-1.530046</td>\n",
       "      <td>...</td>\n",
       "      <td>1</td>\n",
       "      <td>1.0</td>\n",
       "      <td>1.0</td>\n",
       "      <td>0.0</td>\n",
       "      <td>0.0</td>\n",
       "      <td>0.0</td>\n",
       "      <td>0.0</td>\n",
       "      <td>-0.477471</td>\n",
       "      <td>-1.611148</td>\n",
       "      <td>-0.721590</td>\n",
       "    </tr>\n",
       "    <tr>\n",
       "      <th>1</th>\n",
       "      <td>-0.365981</td>\n",
       "      <td>2</td>\n",
       "      <td>2</td>\n",
       "      <td>2</td>\n",
       "      <td>-1.029047</td>\n",
       "      <td>-0.874991</td>\n",
       "      <td>1.782348</td>\n",
       "      <td>0.138865</td>\n",
       "      <td>0.188746</td>\n",
       "      <td>0.234917</td>\n",
       "      <td>...</td>\n",
       "      <td>1</td>\n",
       "      <td>1.0</td>\n",
       "      <td>1.0</td>\n",
       "      <td>0.0</td>\n",
       "      <td>0.0</td>\n",
       "      <td>1.0</td>\n",
       "      <td>0.0</td>\n",
       "      <td>1.461637</td>\n",
       "      <td>-1.547595</td>\n",
       "      <td>-0.625405</td>\n",
       "    </tr>\n",
       "    <tr>\n",
       "      <th>2</th>\n",
       "      <td>-0.597202</td>\n",
       "      <td>2</td>\n",
       "      <td>2</td>\n",
       "      <td>2</td>\n",
       "      <td>-0.161156</td>\n",
       "      <td>0.014861</td>\n",
       "      <td>0.111736</td>\n",
       "      <td>0.138865</td>\n",
       "      <td>0.188746</td>\n",
       "      <td>0.234917</td>\n",
       "      <td>...</td>\n",
       "      <td>0</td>\n",
       "      <td>1.0</td>\n",
       "      <td>1.0</td>\n",
       "      <td>0.0</td>\n",
       "      <td>0.0</td>\n",
       "      <td>1.0</td>\n",
       "      <td>0.0</td>\n",
       "      <td>0.393314</td>\n",
       "      <td>-1.035874</td>\n",
       "      <td>-0.491177</td>\n",
       "    </tr>\n",
       "    <tr>\n",
       "      <th>3</th>\n",
       "      <td>-0.905498</td>\n",
       "      <td>2</td>\n",
       "      <td>2</td>\n",
       "      <td>1</td>\n",
       "      <td>0.164303</td>\n",
       "      <td>0.014861</td>\n",
       "      <td>0.111736</td>\n",
       "      <td>0.138865</td>\n",
       "      <td>0.188746</td>\n",
       "      <td>0.234917</td>\n",
       "      <td>...</td>\n",
       "      <td>0</td>\n",
       "      <td>1.0</td>\n",
       "      <td>1.0</td>\n",
       "      <td>0.0</td>\n",
       "      <td>0.0</td>\n",
       "      <td>0.0</td>\n",
       "      <td>0.0</td>\n",
       "      <td>0.393314</td>\n",
       "      <td>-0.250712</td>\n",
       "      <td>-0.539174</td>\n",
       "    </tr>\n",
       "    <tr>\n",
       "      <th>4</th>\n",
       "      <td>-0.905498</td>\n",
       "      <td>1</td>\n",
       "      <td>2</td>\n",
       "      <td>1</td>\n",
       "      <td>2.334029</td>\n",
       "      <td>-0.874991</td>\n",
       "      <td>0.111736</td>\n",
       "      <td>-0.696663</td>\n",
       "      <td>0.188746</td>\n",
       "      <td>0.234917</td>\n",
       "      <td>...</td>\n",
       "      <td>0</td>\n",
       "      <td>0.0</td>\n",
       "      <td>1.0</td>\n",
       "      <td>0.0</td>\n",
       "      <td>0.0</td>\n",
       "      <td>0.0</td>\n",
       "      <td>0.0</td>\n",
       "      <td>-0.273290</td>\n",
       "      <td>-0.968951</td>\n",
       "      <td>0.534051</td>\n",
       "    </tr>\n",
       "  </tbody>\n",
       "</table>\n",
       "<p>5 rows × 33 columns</p>\n",
       "</div>"
      ],
      "text/plain": [
       "   credit_line gender edu marital       age   repay_9   repay_8   repay_7  \\\n",
       "0    -1.136720      2   2       1 -1.246020  1.794564  1.782348 -0.696663   \n",
       "1    -0.365981      2   2       2 -1.029047 -0.874991  1.782348  0.138865   \n",
       "2    -0.597202      2   2       2 -0.161156  0.014861  0.111736  0.138865   \n",
       "3    -0.905498      2   2       1  0.164303  0.014861  0.111736  0.138865   \n",
       "4    -0.905498      1   2       1  2.334029 -0.874991  0.111736 -0.696663   \n",
       "\n",
       "    repay_6   repay_5  ...  default  gender_2  edu_2  edu_3  edu_4  marital_2  \\\n",
       "0 -0.666599 -1.530046  ...        1       1.0    1.0    0.0    0.0        0.0   \n",
       "1  0.188746  0.234917  ...        1       1.0    1.0    0.0    0.0        1.0   \n",
       "2  0.188746  0.234917  ...        0       1.0    1.0    0.0    0.0        1.0   \n",
       "3  0.188746  0.234917  ...        0       1.0    1.0    0.0    0.0        0.0   \n",
       "4  0.188746  0.234917  ...        0       0.0    1.0    0.0    0.0        0.0   \n",
       "\n",
       "   marital_3  pca_repay  pca_bill   pca_pre  \n",
       "0        0.0  -0.477471 -1.611148 -0.721590  \n",
       "1        0.0   1.461637 -1.547595 -0.625405  \n",
       "2        0.0   0.393314 -1.035874 -0.491177  \n",
       "3        0.0   0.393314 -0.250712 -0.539174  \n",
       "4        0.0  -0.273290 -0.968951  0.534051  \n",
       "\n",
       "[5 rows x 33 columns]"
      ]
     },
     "execution_count": 827,
     "metadata": {},
     "output_type": "execute_result"
    }
   ],
   "source": [
    "data.head()"
   ]
  },
  {
   "cell_type": "code",
   "execution_count": 570,
   "metadata": {},
   "outputs": [
    {
     "data": {
      "text/html": [
       "<div>\n",
       "<style scoped>\n",
       "    .dataframe tbody tr th:only-of-type {\n",
       "        vertical-align: middle;\n",
       "    }\n",
       "\n",
       "    .dataframe tbody tr th {\n",
       "        vertical-align: top;\n",
       "    }\n",
       "\n",
       "    .dataframe thead th {\n",
       "        text-align: right;\n",
       "    }\n",
       "</style>\n",
       "<table border=\"1\" class=\"dataframe\">\n",
       "  <thead>\n",
       "    <tr style=\"text-align: right;\">\n",
       "      <th></th>\n",
       "      <th>variable</th>\n",
       "      <th>info_value</th>\n",
       "    </tr>\n",
       "  </thead>\n",
       "  <tbody>\n",
       "    <tr>\n",
       "      <th>2</th>\n",
       "      <td>pca_repay</td>\n",
       "      <td>1.140897</td>\n",
       "    </tr>\n",
       "    <tr>\n",
       "      <th>19</th>\n",
       "      <td>repay_9</td>\n",
       "      <td>0.877161</td>\n",
       "    </tr>\n",
       "    <tr>\n",
       "      <th>11</th>\n",
       "      <td>repay_8</td>\n",
       "      <td>0.548882</td>\n",
       "    </tr>\n",
       "    <tr>\n",
       "      <th>22</th>\n",
       "      <td>repay_7</td>\n",
       "      <td>0.416046</td>\n",
       "    </tr>\n",
       "    <tr>\n",
       "      <th>15</th>\n",
       "      <td>repay_6</td>\n",
       "      <td>0.367266</td>\n",
       "    </tr>\n",
       "    <tr>\n",
       "      <th>6</th>\n",
       "      <td>pre_9</td>\n",
       "      <td>0.354998</td>\n",
       "    </tr>\n",
       "    <tr>\n",
       "      <th>20</th>\n",
       "      <td>pre_4</td>\n",
       "      <td>0.340639</td>\n",
       "    </tr>\n",
       "    <tr>\n",
       "      <th>8</th>\n",
       "      <td>repay_5</td>\n",
       "      <td>0.340341</td>\n",
       "    </tr>\n",
       "    <tr>\n",
       "      <th>12</th>\n",
       "      <td>pre_7</td>\n",
       "      <td>0.340153</td>\n",
       "    </tr>\n",
       "    <tr>\n",
       "      <th>28</th>\n",
       "      <td>pre_6</td>\n",
       "      <td>0.339778</td>\n",
       "    </tr>\n",
       "    <tr>\n",
       "      <th>23</th>\n",
       "      <td>pre_5</td>\n",
       "      <td>0.339478</td>\n",
       "    </tr>\n",
       "    <tr>\n",
       "      <th>31</th>\n",
       "      <td>pre_8</td>\n",
       "      <td>0.330309</td>\n",
       "    </tr>\n",
       "    <tr>\n",
       "      <th>16</th>\n",
       "      <td>repay_4</td>\n",
       "      <td>0.293846</td>\n",
       "    </tr>\n",
       "    <tr>\n",
       "      <th>25</th>\n",
       "      <td>bill_4</td>\n",
       "      <td>0.204642</td>\n",
       "    </tr>\n",
       "    <tr>\n",
       "      <th>14</th>\n",
       "      <td>bill_5</td>\n",
       "      <td>0.195339</td>\n",
       "    </tr>\n",
       "    <tr>\n",
       "      <th>10</th>\n",
       "      <td>credit_line</td>\n",
       "      <td>0.192544</td>\n",
       "    </tr>\n",
       "    <tr>\n",
       "      <th>0</th>\n",
       "      <td>bill_6</td>\n",
       "      <td>0.184890</td>\n",
       "    </tr>\n",
       "    <tr>\n",
       "      <th>30</th>\n",
       "      <td>bill_7</td>\n",
       "      <td>0.172999</td>\n",
       "    </tr>\n",
       "    <tr>\n",
       "      <th>9</th>\n",
       "      <td>bill_8</td>\n",
       "      <td>0.164650</td>\n",
       "    </tr>\n",
       "    <tr>\n",
       "      <th>17</th>\n",
       "      <td>bill_9</td>\n",
       "      <td>0.151770</td>\n",
       "    </tr>\n",
       "    <tr>\n",
       "      <th>4</th>\n",
       "      <td>edu</td>\n",
       "      <td>0.037299</td>\n",
       "    </tr>\n",
       "    <tr>\n",
       "      <th>27</th>\n",
       "      <td>age</td>\n",
       "      <td>0.029208</td>\n",
       "    </tr>\n",
       "    <tr>\n",
       "      <th>1</th>\n",
       "      <td>pca_pre</td>\n",
       "      <td>0.027428</td>\n",
       "    </tr>\n",
       "    <tr>\n",
       "      <th>29</th>\n",
       "      <td>pca_bill</td>\n",
       "      <td>0.023345</td>\n",
       "    </tr>\n",
       "    <tr>\n",
       "      <th>3</th>\n",
       "      <td>edu_4</td>\n",
       "      <td>0.018203</td>\n",
       "    </tr>\n",
       "    <tr>\n",
       "      <th>18</th>\n",
       "      <td>gender_2</td>\n",
       "      <td>0.009180</td>\n",
       "    </tr>\n",
       "    <tr>\n",
       "      <th>26</th>\n",
       "      <td>gender</td>\n",
       "      <td>0.009180</td>\n",
       "    </tr>\n",
       "    <tr>\n",
       "      <th>5</th>\n",
       "      <td>edu_2</td>\n",
       "      <td>0.007705</td>\n",
       "    </tr>\n",
       "    <tr>\n",
       "      <th>13</th>\n",
       "      <td>edu_3</td>\n",
       "      <td>0.005877</td>\n",
       "    </tr>\n",
       "    <tr>\n",
       "      <th>24</th>\n",
       "      <td>marital</td>\n",
       "      <td>0.005433</td>\n",
       "    </tr>\n",
       "    <tr>\n",
       "      <th>21</th>\n",
       "      <td>marital_2</td>\n",
       "      <td>0.005433</td>\n",
       "    </tr>\n",
       "    <tr>\n",
       "      <th>7</th>\n",
       "      <td>marital_3</td>\n",
       "      <td>0.000093</td>\n",
       "    </tr>\n",
       "  </tbody>\n",
       "</table>\n",
       "</div>"
      ],
      "text/plain": [
       "       variable  info_value\n",
       "2     pca_repay    1.140897\n",
       "19      repay_9    0.877161\n",
       "11      repay_8    0.548882\n",
       "22      repay_7    0.416046\n",
       "15      repay_6    0.367266\n",
       "6         pre_9    0.354998\n",
       "20        pre_4    0.340639\n",
       "8       repay_5    0.340341\n",
       "12        pre_7    0.340153\n",
       "28        pre_6    0.339778\n",
       "23        pre_5    0.339478\n",
       "31        pre_8    0.330309\n",
       "16      repay_4    0.293846\n",
       "25       bill_4    0.204642\n",
       "14       bill_5    0.195339\n",
       "10  credit_line    0.192544\n",
       "0        bill_6    0.184890\n",
       "30       bill_7    0.172999\n",
       "9        bill_8    0.164650\n",
       "17       bill_9    0.151770\n",
       "4           edu    0.037299\n",
       "27          age    0.029208\n",
       "1       pca_pre    0.027428\n",
       "29     pca_bill    0.023345\n",
       "3         edu_4    0.018203\n",
       "18     gender_2    0.009180\n",
       "26       gender    0.009180\n",
       "5         edu_2    0.007705\n",
       "13        edu_3    0.005877\n",
       "24      marital    0.005433\n",
       "21    marital_2    0.005433\n",
       "7     marital_3    0.000093"
      ]
     },
     "execution_count": 570,
     "metadata": {},
     "output_type": "execute_result"
    }
   ],
   "source": [
    "# information value to see predictive power\n",
    "sc.iv(data, 'default')"
   ]
  },
  {
   "cell_type": "markdown",
   "metadata": {},
   "source": [
    "#### Feature Selection"
   ]
  },
  {
   "cell_type": "code",
   "execution_count": 828,
   "metadata": {},
   "outputs": [],
   "source": [
    "x = data.drop(['gender', 'edu', 'marital', 'default', 'pca_repay', 'pca_bill', 'pca_pre'], axis = 1)\n",
    "y = data.loc[:, 'default']"
   ]
  },
  {
   "cell_type": "code",
   "execution_count": 829,
   "metadata": {},
   "outputs": [
    {
     "name": "stdout",
     "output_type": "stream",
     "text": [
      "('credit_line', 'age', 'repay_9', 'bill_9', 'edu_4')\n",
      "0.44244322638988826\n"
     ]
    }
   ],
   "source": [
    "# forward selection, parsimonious.\n",
    "ffs = SFS(LogisticRegression(C = 1e9, fit_intercept = False), \n",
    "          k_features = 'parsimonious',\n",
    "          forward = True,\n",
    "          scoring = 'f1',\n",
    "          cv = 5).fit(sm.add_constant(x), y)\n",
    "\n",
    "print(ffs.k_feature_names_)\n",
    "print(ffs.k_score_)"
   ]
  },
  {
   "cell_type": "code",
   "execution_count": 783,
   "metadata": {},
   "outputs": [
    {
     "name": "stdout",
     "output_type": "stream",
     "text": [
      "('credit_line', 'age', 'repay_9', 'bill_9')\n",
      "0.4405404794859443\n"
     ]
    }
   ],
   "source": [
    "# backward selection, parsimonious.\n",
    "sbs = SFS(LogisticRegression(C = 1e9, fit_intercept = False), \n",
    "          k_features = 'parsimonious',\n",
    "          forward = False,\n",
    "          scoring = 'f1',\n",
    "          cv = 5).fit(sm.add_constant(x), y)\n",
    "\n",
    "print(sbs.k_feature_names_)\n",
    "print(sbs.k_score_)"
   ]
  },
  {
   "cell_type": "code",
   "execution_count": 784,
   "metadata": {},
   "outputs": [
    {
     "name": "stdout",
     "output_type": "stream",
     "text": [
      "('credit_line', 'age', 'repay_9', 'bill_9', 'edu_4')\n",
      "0.44244322638988826\n"
     ]
    }
   ],
   "source": [
    "# stepwise feature selection, parsimounious.\n",
    "sffs = SFS(LogisticRegression(C = 1e9, fit_intercept = False), \n",
    "          k_features = 'parsimonious',\n",
    "          forward = True,\n",
    "          floating = True,\n",
    "          scoring = 'f1',\n",
    "          cv = 5).fit(sm.add_constant(x), y)\n",
    "\n",
    "print(sffs.k_feature_names_)\n",
    "print(sffs.k_score_)"
   ]
  },
  {
   "cell_type": "code",
   "execution_count": null,
   "metadata": {},
   "outputs": [],
   "source": []
  },
  {
   "cell_type": "code",
   "execution_count": 786,
   "metadata": {},
   "outputs": [],
   "source": [
    "# Use PCA variables for feature selection\n",
    "x = data.drop(['gender', 'edu', 'marital', 'default'] + features_1 + features_2 + features_3, axis = 1)\n",
    "y = data.loc[:, 'default']"
   ]
  },
  {
   "cell_type": "code",
   "execution_count": 788,
   "metadata": {},
   "outputs": [
    {
     "name": "stdout",
     "output_type": "stream",
     "text": [
      "('credit_line', 'age', 'pca_repay', 'pca_bill')\n",
      "0.41389816231290555\n"
     ]
    }
   ],
   "source": [
    "# forward selection, parsimonious.\n",
    "ffs = SFS(LogisticRegression(C = 1e9, fit_intercept = False), \n",
    "          k_features = 'parsimonious',\n",
    "          forward = True,\n",
    "          scoring = 'f1',\n",
    "          cv = 5).fit(sm.add_constant(x), y)\n",
    "\n",
    "print(ffs.k_feature_names_)\n",
    "print(ffs.k_score_)"
   ]
  },
  {
   "cell_type": "code",
   "execution_count": 789,
   "metadata": {},
   "outputs": [
    {
     "name": "stdout",
     "output_type": "stream",
     "text": [
      "('credit_line', 'age', 'pca_repay', 'pca_bill')\n",
      "0.41389816231290555\n"
     ]
    }
   ],
   "source": [
    "# backward selection, parsimonious.\n",
    "sbs = SFS(LogisticRegression(C = 1e9, fit_intercept = False), \n",
    "          k_features = 'parsimonious',\n",
    "          forward = False,\n",
    "          scoring = 'f1',\n",
    "          cv = 5).fit(sm.add_constant(x), y)\n",
    "\n",
    "print(sbs.k_feature_names_)\n",
    "print(sbs.k_score_)"
   ]
  },
  {
   "cell_type": "code",
   "execution_count": 790,
   "metadata": {},
   "outputs": [
    {
     "name": "stdout",
     "output_type": "stream",
     "text": [
      "('credit_line', 'age', 'pca_repay', 'pca_bill')\n",
      "0.41389816231290555\n"
     ]
    }
   ],
   "source": [
    "# stepwise feature selection, parsimonious.\n",
    "sffs = SFS(LogisticRegression(C = 1e9, fit_intercept = False), \n",
    "          k_features = 'parsimonious',\n",
    "          forward = True,\n",
    "          floating = True,\n",
    "          scoring = 'f1',\n",
    "          cv = 5).fit(sm.add_constant(x), y)\n",
    "\n",
    "print(sffs.k_feature_names_)\n",
    "print(sffs.k_score_)"
   ]
  },
  {
   "cell_type": "code",
   "execution_count": 792,
   "metadata": {},
   "outputs": [
    {
     "name": "stdout",
     "output_type": "stream",
     "text": [
      "('credit_line', 'age', 'edu_4', 'pca_repay', 'pca_bill')\n",
      "0.4157456088544258\n"
     ]
    }
   ],
   "source": [
    "# forward selection, best.\n",
    "ffs = SFS(LogisticRegression(C = 1e9, fit_intercept = False), \n",
    "          k_features = 'best',\n",
    "          forward = True,\n",
    "          scoring = 'f1',\n",
    "          cv = 5).fit(sm.add_constant(x), y)\n",
    "\n",
    "print(ffs.k_feature_names_)\n",
    "print(ffs.k_score_)"
   ]
  },
  {
   "cell_type": "code",
   "execution_count": null,
   "metadata": {},
   "outputs": [],
   "source": []
  },
  {
   "cell_type": "markdown",
   "metadata": {},
   "source": [
    "#### Logistic Regression Modeling"
   ]
  },
  {
   "cell_type": "code",
   "execution_count": 830,
   "metadata": {},
   "outputs": [],
   "source": [
    "folds = KFold(n_splits = 5, shuffle = True, random_state = 1)"
   ]
  },
  {
   "cell_type": "code",
   "execution_count": 831,
   "metadata": {},
   "outputs": [
    {
     "name": "stdout",
     "output_type": "stream",
     "text": [
      "Optimization terminated successfully.\n",
      "         Current function value: 0.469854\n",
      "         Iterations 7\n"
     ]
    }
   ],
   "source": [
    "model_1 = smf.logit(formula = 'default ~ credit_line + age + repay_9 + bill_9 + edu_4', data = data).fit()"
   ]
  },
  {
   "cell_type": "code",
   "execution_count": 832,
   "metadata": {},
   "outputs": [
    {
     "name": "stdout",
     "output_type": "stream",
     "text": [
      "                           Logit Regression Results                           \n",
      "==============================================================================\n",
      "Dep. Variable:                default   No. Observations:                30000\n",
      "Model:                          Logit   Df Residuals:                    29994\n",
      "Method:                           MLE   Df Model:                            5\n",
      "Date:                Sat, 10 Jul 2021   Pseudo R-squ.:                  0.1108\n",
      "Time:                        21:50:12   Log-Likelihood:                -14096.\n",
      "converged:                       True   LL-Null:                       -15853.\n",
      "Covariance Type:            nonrobust   LLR p-value:                     0.000\n",
      "===============================================================================\n",
      "                  coef    std err          z      P>|z|      [0.025      0.975]\n",
      "-------------------------------------------------------------------------------\n",
      "Intercept      -1.4185      0.016    -88.806      0.000      -1.450      -1.387\n",
      "credit_line    -0.1993      0.018    -11.061      0.000      -0.235      -0.164\n",
      "age             0.0897      0.015      6.182      0.000       0.061       0.118\n",
      "repay_9         0.7967      0.017     47.904      0.000       0.764       0.829\n",
      "bill_9         -0.1134      0.018     -6.400      0.000      -0.148      -0.079\n",
      "edu_4          -1.2123      0.187     -6.477      0.000      -1.579      -0.845\n",
      "===============================================================================\n"
     ]
    }
   ],
   "source": [
    "print(model_1.summary())"
   ]
  },
  {
   "cell_type": "code",
   "execution_count": 847,
   "metadata": {},
   "outputs": [
    {
     "data": {
      "text/plain": [
       "array([0.35062007, 0.38043478, 0.36670294, 0.36600567, 0.39618406])"
      ]
     },
     "execution_count": 847,
     "metadata": {},
     "output_type": "execute_result"
    }
   ],
   "source": [
    "x = data[['credit_line', 'age', 'repay_9', 'bill_9', 'edu_4']]\n",
    "y = data.loc[:, 'default']\n",
    "\n",
    "model_1_cv = LogisticRegression(C = 1e9, fit_intercept = False)\n",
    "\n",
    "scores_1 = cross_val_score(model_1_cv, sm.add_constant(x), y, scoring = 'f1', cv = folds)\n",
    "\n",
    "scores_1"
   ]
  },
  {
   "cell_type": "code",
   "execution_count": 849,
   "metadata": {},
   "outputs": [
    {
     "data": {
      "text/html": [
       "<div>\n",
       "<style scoped>\n",
       "    .dataframe tbody tr th:only-of-type {\n",
       "        vertical-align: middle;\n",
       "    }\n",
       "\n",
       "    .dataframe tbody tr th {\n",
       "        vertical-align: top;\n",
       "    }\n",
       "\n",
       "    .dataframe thead th {\n",
       "        text-align: right;\n",
       "    }\n",
       "</style>\n",
       "<table border=\"1\" class=\"dataframe\">\n",
       "  <thead>\n",
       "    <tr style=\"text-align: right;\">\n",
       "      <th></th>\n",
       "      <th>feature</th>\n",
       "      <th>VIF</th>\n",
       "    </tr>\n",
       "  </thead>\n",
       "  <tbody>\n",
       "    <tr>\n",
       "      <th>0</th>\n",
       "      <td>credit_line</td>\n",
       "      <td>1.255198</td>\n",
       "    </tr>\n",
       "    <tr>\n",
       "      <th>1</th>\n",
       "      <td>age</td>\n",
       "      <td>1.021709</td>\n",
       "    </tr>\n",
       "    <tr>\n",
       "      <th>2</th>\n",
       "      <td>repay_9</td>\n",
       "      <td>1.177381</td>\n",
       "    </tr>\n",
       "    <tr>\n",
       "      <th>3</th>\n",
       "      <td>bill_9</td>\n",
       "      <td>1.188586</td>\n",
       "    </tr>\n",
       "    <tr>\n",
       "      <th>4</th>\n",
       "      <td>edu_4</td>\n",
       "      <td>1.002447</td>\n",
       "    </tr>\n",
       "  </tbody>\n",
       "</table>\n",
       "</div>"
      ],
      "text/plain": [
       "       feature       VIF\n",
       "0  credit_line  1.255198\n",
       "1          age  1.021709\n",
       "2      repay_9  1.177381\n",
       "3       bill_9  1.188586\n",
       "4        edu_4  1.002447"
      ]
     },
     "execution_count": 849,
     "metadata": {},
     "output_type": "execute_result"
    }
   ],
   "source": [
    "# VIF test, low VIF\n",
    "x_1 = data[['credit_line', 'age', 'repay_9', 'bill_9', 'edu_4']]\n",
    "vif = pd.DataFrame()\n",
    "vif['feature'] = x_1.columns\n",
    "vif['VIF'] = [variance_inflation_factor(x_1.values, i) for i in range(len(x_1.columns))]\n",
    "vif"
   ]
  },
  {
   "cell_type": "code",
   "execution_count": null,
   "metadata": {},
   "outputs": [],
   "source": []
  },
  {
   "cell_type": "markdown",
   "metadata": {},
   "source": [
    "#### Logistic Regression Modeling using PCA variables"
   ]
  },
  {
   "cell_type": "code",
   "execution_count": 850,
   "metadata": {},
   "outputs": [
    {
     "name": "stdout",
     "output_type": "stream",
     "text": [
      "Optimization terminated successfully.\n",
      "         Current function value: 0.483991\n",
      "         Iterations 7\n"
     ]
    }
   ],
   "source": [
    "model_2 = smf.logit(formula = 'default ~ credit_line + age + edu_4 + pca_repay + pca_bill', data = data).fit()"
   ]
  },
  {
   "cell_type": "code",
   "execution_count": 851,
   "metadata": {},
   "outputs": [
    {
     "name": "stdout",
     "output_type": "stream",
     "text": [
      "                           Logit Regression Results                           \n",
      "==============================================================================\n",
      "Dep. Variable:                default   No. Observations:                30000\n",
      "Model:                          Logit   Df Residuals:                    29994\n",
      "Method:                           MLE   Df Model:                            5\n",
      "Date:                Sat, 10 Jul 2021   Pseudo R-squ.:                 0.08408\n",
      "Time:                        22:01:03   Log-Likelihood:                -14520.\n",
      "converged:                       True   LL-Null:                       -15853.\n",
      "Covariance Type:            nonrobust   LLR p-value:                     0.000\n",
      "===============================================================================\n",
      "                  coef    std err          z      P>|z|      [0.025      0.975]\n",
      "-------------------------------------------------------------------------------\n",
      "Intercept      -1.3711      0.015    -89.032      0.000      -1.401      -1.341\n",
      "credit_line    -0.1507      0.019     -8.061      0.000      -0.187      -0.114\n",
      "age             0.0962      0.014      6.740      0.000       0.068       0.124\n",
      "edu_4          -1.0777      0.183     -5.887      0.000      -1.437      -0.719\n",
      "pca_repay       0.3308      0.008     39.019      0.000       0.314       0.347\n",
      "pca_bill       -0.0732      0.008     -9.029      0.000      -0.089      -0.057\n",
      "===============================================================================\n"
     ]
    }
   ],
   "source": [
    "print(model_2.summary())"
   ]
  },
  {
   "cell_type": "code",
   "execution_count": 852,
   "metadata": {},
   "outputs": [
    {
     "data": {
      "text/plain": [
       "array([0.24768946, 0.23579719, 0.21150278, 0.26033313, 0.26841448])"
      ]
     },
     "execution_count": 852,
     "metadata": {},
     "output_type": "execute_result"
    }
   ],
   "source": [
    "x = data[['credit_line', 'age', 'edu_4', 'pca_repay', 'pca_bill']]\n",
    "y = data.loc[:, 'default']\n",
    "\n",
    "model_2_cv = LogisticRegression(C = 1e9, fit_intercept = False)\n",
    "\n",
    "scores_2 = cross_val_score(model_2_cv, sm.add_constant(x), y, scoring = 'f1', cv = folds)\n",
    "\n",
    "scores_2"
   ]
  },
  {
   "cell_type": "code",
   "execution_count": 857,
   "metadata": {},
   "outputs": [
    {
     "data": {
      "text/html": [
       "<div>\n",
       "<style scoped>\n",
       "    .dataframe tbody tr th:only-of-type {\n",
       "        vertical-align: middle;\n",
       "    }\n",
       "\n",
       "    .dataframe tbody tr th {\n",
       "        vertical-align: top;\n",
       "    }\n",
       "\n",
       "    .dataframe thead th {\n",
       "        text-align: right;\n",
       "    }\n",
       "</style>\n",
       "<table border=\"1\" class=\"dataframe\">\n",
       "  <thead>\n",
       "    <tr style=\"text-align: right;\">\n",
       "      <th></th>\n",
       "      <th>feature</th>\n",
       "      <th>VIF</th>\n",
       "    </tr>\n",
       "  </thead>\n",
       "  <tbody>\n",
       "    <tr>\n",
       "      <th>0</th>\n",
       "      <td>credit_line</td>\n",
       "      <td>1.381206</td>\n",
       "    </tr>\n",
       "    <tr>\n",
       "      <th>1</th>\n",
       "      <td>age</td>\n",
       "      <td>1.021981</td>\n",
       "    </tr>\n",
       "    <tr>\n",
       "      <th>2</th>\n",
       "      <td>edu_4</td>\n",
       "      <td>1.002829</td>\n",
       "    </tr>\n",
       "    <tr>\n",
       "      <th>3</th>\n",
       "      <td>pca_repay</td>\n",
       "      <td>1.350600</td>\n",
       "    </tr>\n",
       "    <tr>\n",
       "      <th>4</th>\n",
       "      <td>pca_bill</td>\n",
       "      <td>1.337548</td>\n",
       "    </tr>\n",
       "  </tbody>\n",
       "</table>\n",
       "</div>"
      ],
      "text/plain": [
       "       feature       VIF\n",
       "0  credit_line  1.381206\n",
       "1          age  1.021981\n",
       "2        edu_4  1.002829\n",
       "3    pca_repay  1.350600\n",
       "4     pca_bill  1.337548"
      ]
     },
     "execution_count": 857,
     "metadata": {},
     "output_type": "execute_result"
    }
   ],
   "source": [
    "# VIF test, low VIF\n",
    "x_2 = data[['credit_line', 'age', 'edu_4', 'pca_repay', 'pca_bill']]\n",
    "vif = pd.DataFrame()\n",
    "vif['feature'] = x_2.columns\n",
    "vif['VIF'] = [variance_inflation_factor(x_2.values, i) for i in range(len(x_2.columns))]\n",
    "vif"
   ]
  },
  {
   "cell_type": "code",
   "execution_count": null,
   "metadata": {},
   "outputs": [],
   "source": []
  },
  {
   "cell_type": "markdown",
   "metadata": {},
   "source": [
    "#### Logistic Regression Modeling tuning Hyperparameters"
   ]
  },
  {
   "cell_type": "code",
   "execution_count": 865,
   "metadata": {},
   "outputs": [
    {
     "name": "stdout",
     "output_type": "stream",
     "text": [
      "Best: 0.372069 using {'C': 1.0, 'penalty': 'l2', 'solver': 'newton-cg'}\n",
      "0.372029 (0.015288) with: {'C': 100, 'penalty': 'l2', 'solver': 'newton-cg'}\n",
      "0.371990 (0.015343) with: {'C': 100, 'penalty': 'l2', 'solver': 'lbfgs'}\n",
      "0.372029 (0.015288) with: {'C': 100, 'penalty': 'l2', 'solver': 'liblinear'}\n",
      "0.372029 (0.015288) with: {'C': 10, 'penalty': 'l2', 'solver': 'newton-cg'}\n",
      "0.371990 (0.015343) with: {'C': 10, 'penalty': 'l2', 'solver': 'lbfgs'}\n",
      "0.372029 (0.015288) with: {'C': 10, 'penalty': 'l2', 'solver': 'liblinear'}\n",
      "0.372069 (0.015275) with: {'C': 1.0, 'penalty': 'l2', 'solver': 'newton-cg'}\n",
      "0.372069 (0.015275) with: {'C': 1.0, 'penalty': 'l2', 'solver': 'lbfgs'}\n",
      "0.372069 (0.015275) with: {'C': 1.0, 'penalty': 'l2', 'solver': 'liblinear'}\n",
      "0.370748 (0.015068) with: {'C': 0.1, 'penalty': 'l2', 'solver': 'newton-cg'}\n",
      "0.370748 (0.015068) with: {'C': 0.1, 'penalty': 'l2', 'solver': 'lbfgs'}\n",
      "0.370988 (0.014700) with: {'C': 0.1, 'penalty': 'l2', 'solver': 'liblinear'}\n",
      "0.356985 (0.015291) with: {'C': 0.01, 'penalty': 'l2', 'solver': 'newton-cg'}\n",
      "0.356985 (0.015291) with: {'C': 0.01, 'penalty': 'l2', 'solver': 'lbfgs'}\n",
      "0.364447 (0.014528) with: {'C': 0.01, 'penalty': 'l2', 'solver': 'liblinear'}\n"
     ]
    }
   ],
   "source": [
    "x = data[['credit_line', 'age', 'repay_9', 'bill_9', 'edu_4']]\n",
    "y = data.loc[:, 'default']\n",
    "\n",
    "# define models and parameters\n",
    "model = LogisticRegression()\n",
    "solvers = ['newton-cg', 'lbfgs', 'liblinear']\n",
    "penalty = ['l2']\n",
    "c_values = [100, 10, 1.0, 0.1, 0.01]\n",
    "\n",
    "# define grid search\n",
    "grid = dict(solver = solvers, penalty = penalty, C = c_values)\n",
    "grid_search = GridSearchCV(estimator = model, param_grid = grid, n_jobs = -1, cv = folds, scoring='f1', error_score=0)\n",
    "grid_result = grid_search.fit(x, y)\n",
    "\n",
    "# summarize results\n",
    "print(\"Best: %f using %s\" % (grid_result.best_score_, grid_result.best_params_))\n",
    "means = grid_result.cv_results_['mean_test_score']\n",
    "stds = grid_result.cv_results_['std_test_score']\n",
    "params = grid_result.cv_results_['params']\n",
    "for mean, stdev, param in zip(means, stds, params):\n",
    "    print(\"%f (%f) with: %r\" % (mean, stdev, param))"
   ]
  },
  {
   "cell_type": "code",
   "execution_count": 866,
   "metadata": {},
   "outputs": [
    {
     "data": {
      "text/plain": [
       "array([0.35081782, 0.38043478, 0.36690256, 0.36600567, 0.39618406])"
      ]
     },
     "execution_count": 866,
     "metadata": {},
     "output_type": "execute_result"
    }
   ],
   "source": [
    "model_3 = LogisticRegression(solver = 'newton-cg', penalty = 'l2', C = 1).fit(x, y)\n",
    "\n",
    "scores_3 = cross_val_score(model_3, x, y, scoring = 'f1', cv = folds)\n",
    "\n",
    "scores_3"
   ]
  },
  {
   "cell_type": "code",
   "execution_count": null,
   "metadata": {},
   "outputs": [],
   "source": []
  },
  {
   "cell_type": "markdown",
   "metadata": {},
   "source": [
    "#### Decision Tree Modeling"
   ]
  },
  {
   "cell_type": "code",
   "execution_count": 876,
   "metadata": {},
   "outputs": [
    {
     "data": {
      "text/html": [
       "<div>\n",
       "<style scoped>\n",
       "    .dataframe tbody tr th:only-of-type {\n",
       "        vertical-align: middle;\n",
       "    }\n",
       "\n",
       "    .dataframe tbody tr th {\n",
       "        vertical-align: top;\n",
       "    }\n",
       "\n",
       "    .dataframe thead th {\n",
       "        text-align: right;\n",
       "    }\n",
       "</style>\n",
       "<table border=\"1\" class=\"dataframe\">\n",
       "  <thead>\n",
       "    <tr style=\"text-align: right;\">\n",
       "      <th></th>\n",
       "      <th>credit_line</th>\n",
       "      <th>gender</th>\n",
       "      <th>edu</th>\n",
       "      <th>marital</th>\n",
       "      <th>age</th>\n",
       "      <th>repay_9</th>\n",
       "      <th>repay_8</th>\n",
       "      <th>repay_7</th>\n",
       "      <th>repay_6</th>\n",
       "      <th>repay_5</th>\n",
       "      <th>...</th>\n",
       "      <th>pre_6</th>\n",
       "      <th>pre_5</th>\n",
       "      <th>pre_4</th>\n",
       "      <th>default</th>\n",
       "      <th>gender_2</th>\n",
       "      <th>edu_2</th>\n",
       "      <th>edu_3</th>\n",
       "      <th>edu_4</th>\n",
       "      <th>marital_2</th>\n",
       "      <th>marital_3</th>\n",
       "    </tr>\n",
       "  </thead>\n",
       "  <tbody>\n",
       "    <tr>\n",
       "      <th>0</th>\n",
       "      <td>20000</td>\n",
       "      <td>2</td>\n",
       "      <td>2</td>\n",
       "      <td>1</td>\n",
       "      <td>24</td>\n",
       "      <td>2</td>\n",
       "      <td>2</td>\n",
       "      <td>-1</td>\n",
       "      <td>-1</td>\n",
       "      <td>-2</td>\n",
       "      <td>...</td>\n",
       "      <td>0</td>\n",
       "      <td>0</td>\n",
       "      <td>0</td>\n",
       "      <td>1</td>\n",
       "      <td>1.0</td>\n",
       "      <td>1.0</td>\n",
       "      <td>0.0</td>\n",
       "      <td>0.0</td>\n",
       "      <td>0.0</td>\n",
       "      <td>0.0</td>\n",
       "    </tr>\n",
       "    <tr>\n",
       "      <th>1</th>\n",
       "      <td>120000</td>\n",
       "      <td>2</td>\n",
       "      <td>2</td>\n",
       "      <td>2</td>\n",
       "      <td>26</td>\n",
       "      <td>-1</td>\n",
       "      <td>2</td>\n",
       "      <td>0</td>\n",
       "      <td>0</td>\n",
       "      <td>0</td>\n",
       "      <td>...</td>\n",
       "      <td>1000</td>\n",
       "      <td>0</td>\n",
       "      <td>2000</td>\n",
       "      <td>1</td>\n",
       "      <td>1.0</td>\n",
       "      <td>1.0</td>\n",
       "      <td>0.0</td>\n",
       "      <td>0.0</td>\n",
       "      <td>1.0</td>\n",
       "      <td>0.0</td>\n",
       "    </tr>\n",
       "    <tr>\n",
       "      <th>2</th>\n",
       "      <td>90000</td>\n",
       "      <td>2</td>\n",
       "      <td>2</td>\n",
       "      <td>2</td>\n",
       "      <td>34</td>\n",
       "      <td>0</td>\n",
       "      <td>0</td>\n",
       "      <td>0</td>\n",
       "      <td>0</td>\n",
       "      <td>0</td>\n",
       "      <td>...</td>\n",
       "      <td>1000</td>\n",
       "      <td>1000</td>\n",
       "      <td>5000</td>\n",
       "      <td>0</td>\n",
       "      <td>1.0</td>\n",
       "      <td>1.0</td>\n",
       "      <td>0.0</td>\n",
       "      <td>0.0</td>\n",
       "      <td>1.0</td>\n",
       "      <td>0.0</td>\n",
       "    </tr>\n",
       "    <tr>\n",
       "      <th>3</th>\n",
       "      <td>50000</td>\n",
       "      <td>2</td>\n",
       "      <td>2</td>\n",
       "      <td>1</td>\n",
       "      <td>37</td>\n",
       "      <td>0</td>\n",
       "      <td>0</td>\n",
       "      <td>0</td>\n",
       "      <td>0</td>\n",
       "      <td>0</td>\n",
       "      <td>...</td>\n",
       "      <td>1100</td>\n",
       "      <td>1069</td>\n",
       "      <td>1000</td>\n",
       "      <td>0</td>\n",
       "      <td>1.0</td>\n",
       "      <td>1.0</td>\n",
       "      <td>0.0</td>\n",
       "      <td>0.0</td>\n",
       "      <td>0.0</td>\n",
       "      <td>0.0</td>\n",
       "    </tr>\n",
       "    <tr>\n",
       "      <th>4</th>\n",
       "      <td>50000</td>\n",
       "      <td>1</td>\n",
       "      <td>2</td>\n",
       "      <td>1</td>\n",
       "      <td>57</td>\n",
       "      <td>-1</td>\n",
       "      <td>0</td>\n",
       "      <td>-1</td>\n",
       "      <td>0</td>\n",
       "      <td>0</td>\n",
       "      <td>...</td>\n",
       "      <td>9000</td>\n",
       "      <td>689</td>\n",
       "      <td>679</td>\n",
       "      <td>0</td>\n",
       "      <td>0.0</td>\n",
       "      <td>1.0</td>\n",
       "      <td>0.0</td>\n",
       "      <td>0.0</td>\n",
       "      <td>0.0</td>\n",
       "      <td>0.0</td>\n",
       "    </tr>\n",
       "  </tbody>\n",
       "</table>\n",
       "<p>5 rows × 30 columns</p>\n",
       "</div>"
      ],
      "text/plain": [
       "   credit_line gender edu marital  age  repay_9  repay_8  repay_7  repay_6  \\\n",
       "0        20000      2   2       1   24        2        2       -1       -1   \n",
       "1       120000      2   2       2   26       -1        2        0        0   \n",
       "2        90000      2   2       2   34        0        0        0        0   \n",
       "3        50000      2   2       1   37        0        0        0        0   \n",
       "4        50000      1   2       1   57       -1        0       -1        0   \n",
       "\n",
       "   repay_5  ...  pre_6  pre_5  pre_4  default  gender_2  edu_2  edu_3  edu_4  \\\n",
       "0       -2  ...      0      0      0        1       1.0    1.0    0.0    0.0   \n",
       "1        0  ...   1000      0   2000        1       1.0    1.0    0.0    0.0   \n",
       "2        0  ...   1000   1000   5000        0       1.0    1.0    0.0    0.0   \n",
       "3        0  ...   1100   1069   1000        0       1.0    1.0    0.0    0.0   \n",
       "4        0  ...   9000    689    679        0       0.0    1.0    0.0    0.0   \n",
       "\n",
       "   marital_2  marital_3  \n",
       "0        0.0        0.0  \n",
       "1        1.0        0.0  \n",
       "2        1.0        0.0  \n",
       "3        0.0        0.0  \n",
       "4        0.0        0.0  \n",
       "\n",
       "[5 rows x 30 columns]"
      ]
     },
     "execution_count": 876,
     "metadata": {},
     "output_type": "execute_result"
    }
   ],
   "source": [
    "data_tree.head()"
   ]
  },
  {
   "cell_type": "code",
   "execution_count": 877,
   "metadata": {},
   "outputs": [
    {
     "name": "stdout",
     "output_type": "stream",
     "text": [
      "Best: 0.477733 using {'criterion': 'gini', 'max_depth': 8}\n",
      "0.440296 (0.011809) with: {'criterion': 'gini', 'max_depth': 2}\n",
      "0.463408 (0.024346) with: {'criterion': 'gini', 'max_depth': 4}\n",
      "0.468294 (0.021337) with: {'criterion': 'gini', 'max_depth': 6}\n",
      "0.477733 (0.018349) with: {'criterion': 'gini', 'max_depth': 8}\n",
      "0.465974 (0.018134) with: {'criterion': 'gini', 'max_depth': 10}\n",
      "0.462116 (0.017709) with: {'criterion': 'gini', 'max_depth': 12}\n",
      "0.442468 (0.014847) with: {'criterion': 'entropy', 'max_depth': 2}\n",
      "0.462871 (0.026370) with: {'criterion': 'entropy', 'max_depth': 4}\n",
      "0.465776 (0.017842) with: {'criterion': 'entropy', 'max_depth': 6}\n",
      "0.475308 (0.014976) with: {'criterion': 'entropy', 'max_depth': 8}\n",
      "0.469878 (0.016656) with: {'criterion': 'entropy', 'max_depth': 10}\n",
      "0.460290 (0.017504) with: {'criterion': 'entropy', 'max_depth': 12}\n"
     ]
    }
   ],
   "source": [
    "x_tree = data_tree.drop(['gender', 'edu', 'marital', 'default'], axis = 1)\n",
    "y_tree = data_tree.loc[:, 'default']\n",
    "\n",
    "# define models and parameters\n",
    "model = tree.DecisionTreeClassifier()\n",
    "criterion = ['gini', 'entropy']\n",
    "max_depth = [2,4,6,8,10,12]\n",
    "\n",
    "# define grid search\n",
    "grid = dict(criterion = criterion, max_depth = max_depth)\n",
    "grid_search = GridSearchCV(estimator = model, param_grid = grid, n_jobs = -1, cv = folds, scoring='f1', error_score=0)\n",
    "grid_result = grid_search.fit(x_tree, y_tree)\n",
    "\n",
    "# summarize results\n",
    "print(\"Best: %f using %s\" % (grid_result.best_score_, grid_result.best_params_))\n",
    "means = grid_result.cv_results_['mean_test_score']\n",
    "stds = grid_result.cv_results_['std_test_score']\n",
    "params = grid_result.cv_results_['params']\n",
    "for mean, stdev, param in zip(means, stds, params):\n",
    "    print(\"%f (%f) with: %r\" % (mean, stdev, param))"
   ]
  },
  {
   "cell_type": "code",
   "execution_count": 878,
   "metadata": {},
   "outputs": [
    {
     "data": {
      "text/plain": [
       "array([0.47103514, 0.46901811, 0.45064998, 0.49449541, 0.50258824])"
      ]
     },
     "execution_count": 878,
     "metadata": {},
     "output_type": "execute_result"
    }
   ],
   "source": [
    "model_4 = tree.DecisionTreeClassifier(criterion = 'gini', max_depth = 8).fit(x_tree, y_tree)\n",
    "\n",
    "scores_4 = cross_val_score(model_4, x_tree, y_tree, scoring = 'f1', cv = folds)\n",
    "\n",
    "scores_4"
   ]
  },
  {
   "cell_type": "code",
   "execution_count": 880,
   "metadata": {},
   "outputs": [
    {
     "data": {
      "image/png": "[encoded data removed]",
      "text/plain": [
       "<Figure size 864x864 with 1 Axes>"
      ]
     },
     "metadata": {
      "needs_background": "light"
     },
     "output_type": "display_data"
    }
   ],
   "source": [
    "plt.figure(figsize = (12, 12))\n",
    "tree.plot_tree(model_4, fontsize = 10)\n",
    "plt.show()"
   ]
  },
  {
   "cell_type": "code",
   "execution_count": 882,
   "metadata": {},
   "outputs": [
    {
     "data": {
      "text/plain": [
       "'|--- feature_2 <= 1.50\\n|   |--- feature_3 <= 1.50\\n|   |   |--- feature_16 <= 678.50\\n|   |   |   |--- feature_8 <= 530.00\\n|   |   |   |   |--- feature_17 <= 3.50\\n|   |   |   |   |   |--- feature_1 <= 55.50\\n|   |   |   |   |   |   |--- feature_0 <= 25000.00\\n|   |   |   |   |   |   |   |--- feature_21 <= 0.50\\n|   |   |   |   |   |   |   |   |--- class: 0\\n|   |   |   |   |   |   |   |--- feature_21 >  0.50\\n|   |   |   |   |   |   |   |   |--- class: 1\\n|   |   |   |   |   |   |--- feature_0 >  25000.00\\n|   |   |   |   |   |   |   |--- feature_0 <= 315000.00\\n|   |   |   |   |   |   |   |   |--- class: 0\\n|   |   |   |   |   |   |   |--- feature_0 >  315000.00\\n|   |   |   |   |   |   |   |   |--- class: 0\\n|   |   |   |   |   |--- feature_1 >  55.50\\n|   |   |   |   |   |   |--- feature_15 <= 189.00\\n|   |   |   |   |   |   |   |--- feature_21 <= 0.50\\n|   |   |   |   |   |   |   |   |--- class: 1\\n|   |   |   |   |   |   |   |--- feature_21 >  0.50\\n|   |   |   |   |   |   |   |   |--- class: 0\\n|   |   |   |   |   |   |--- feature_15 >  189.00\\n|   |   |   |   |   |   |   |--- feature_13 <= 678.00\\n|   |   |   |   |   |   |   |   |--- class: 0\\n|   |   |   |   |   |   |   |--- feature_13 >  678.00\\n|   |   |   |   |   |   |   |   |--- class: 1\\n|   |   |   |   |--- feature_17 >  3.50\\n|   |   |   |   |   |--- feature_4 <= -1.50\\n|   |   |   |   |   |   |--- feature_15 <= 642.00\\n|   |   |   |   |   |   |   |--- feature_17 <= 379.00\\n|   |   |   |   |   |   |   |   |--- class: 0\\n|   |   |   |   |   |   |   |--- feature_17 >  379.00\\n|   |   |   |   |   |   |   |   |--- class: 0\\n|   |   |   |   |   |   |--- feature_15 >  642.00\\n|   |   |   |   |   |   |   |--- feature_16 <= 184.50\\n|   |   |   |   |   |   |   |   |--- class: 0\\n|   |   |   |   |   |   |   |--- feature_16 >  184.50\\n|   |   |   |   |   |   |   |   |--- class: 1\\n|   |   |   |   |   |--- feature_4 >  -1.50\\n|   |   |   |   |   |   |--- feature_0 <= 115000.00\\n|   |   |   |   |   |   |   |--- feature_16 <= 395.00\\n|   |   |   |   |   |   |   |   |--- class: 0\\n|   |   |   |   |   |   |   |--- feature_16 >  395.00\\n|   |   |   |   |   |   |   |   |--- class: 0\\n|   |   |   |   |   |   |--- feature_0 >  115000.00\\n|   |   |   |   |   |   |   |--- feature_7 <= -0.50\\n|   |   |   |   |   |   |   |   |--- class: 0\\n|   |   |   |   |   |   |   |--- feature_7 >  -0.50\\n|   |   |   |   |   |   |   |   |--- class: 0\\n|   |   |   |--- feature_8 >  530.00\\n|   |   |   |   |--- feature_5 <= 1.00\\n|   |   |   |   |   |--- feature_0 <= 65000.00\\n|   |   |   |   |   |   |--- feature_4 <= 1.00\\n|   |   |   |   |   |   |   |--- feature_12 <= -1730.00\\n|   |   |   |   |   |   |   |   |--- class: 1\\n|   |   |   |   |   |   |   |--- feature_12 >  -1730.00\\n|   |   |   |   |   |   |   |   |--- class: 0\\n|   |   |   |   |   |   |--- feature_4 >  1.00\\n|   |   |   |   |   |   |   |--- feature_12 <= 403.00\\n|   |   |   |   |   |   |   |   |--- class: 1\\n|   |   |   |   |   |   |   |--- feature_12 >  403.00\\n|   |   |   |   |   |   |   |   |--- class: 0\\n|   |   |   |   |   |--- feature_0 >  65000.00\\n|   |   |   |   |   |   |--- feature_8 <= 9936.50\\n|   |   |   |   |   |   |   |--- feature_6 <= -1.50\\n|   |   |   |   |   |   |   |   |--- class: 0\\n|   |   |   |   |   |   |   |--- feature_6 >  -1.50\\n|   |   |   |   |   |   |   |   |--- class: 0\\n|   |   |   |   |   |   |--- feature_8 >  9936.50\\n|   |   |   |   |   |   |   |--- feature_10 <= -72.50\\n|   |   |   |   |   |   |   |   |--- class: 0\\n|   |   |   |   |   |   |   |--- feature_10 >  -72.50\\n|   |   |   |   |   |   |   |   |--- class: 0\\n|   |   |   |   |--- feature_5 >  1.00\\n|   |   |   |   |   |--- feature_0 <= 255000.00\\n|   |   |   |   |   |   |--- feature_18 <= 845.00\\n|   |   |   |   |   |   |   |--- feature_14 <= 5282.50\\n|   |   |   |   |   |   |   |   |--- class: 0\\n|   |   |   |   |   |   |   |--- feature_14 >  5282.50\\n|   |   |   |   |   |   |   |   |--- class: 0\\n|   |   |   |   |   |   |--- feature_18 >  845.00\\n|   |   |   |   |   |   |   |--- feature_19 <= 6.00\\n|   |   |   |   |   |   |   |   |--- class: 0\\n|   |   |   |   |   |   |   |--- feature_19 >  6.00\\n|   |   |   |   |   |   |   |   |--- class: 0\\n|   |   |   |   |   |--- feature_0 >  255000.00\\n|   |   |   |   |   |   |--- feature_8 <= 678.50\\n|   |   |   |   |   |   |   |--- class: 1\\n|   |   |   |   |   |   |--- feature_8 >  678.50\\n|   |   |   |   |   |   |   |--- feature_8 <= 288663.50\\n|   |   |   |   |   |   |   |   |--- class: 0\\n|   |   |   |   |   |   |   |--- feature_8 >  288663.50\\n|   |   |   |   |   |   |   |   |--- class: 0\\n|   |   |--- feature_16 >  678.50\\n|   |   |   |--- feature_6 <= 1.00\\n|   |   |   |   |--- feature_0 <= 75000.00\\n|   |   |   |   |   |--- feature_4 <= 1.00\\n|   |   |   |   |   |   |--- feature_15 <= 4973.50\\n|   |   |   |   |   |   |   |--- feature_0 <= 45000.00\\n|   |   |   |   |   |   |   |   |--- class: 0\\n|   |   |   |   |   |   |   |--- feature_0 >  45000.00\\n|   |   |   |   |   |   |   |   |--- class: 0\\n|   |   |   |   |   |   |--- feature_15 >  4973.50\\n|   |   |   |   |   |   |   |--- feature_17 <= 70278.50\\n|   |   |   |   |   |   |   |   |--- class: 0\\n|   |   |   |   |   |   |   |--- feature_17 >  70278.50\\n|   |   |   |   |   |   |   |   |--- class: 1\\n|   |   |   |   |   |--- feature_4 >  1.00\\n|   |   |   |   |   |   |--- feature_1 <= 52.50\\n|   |   |   |   |   |   |   |--- feature_0 <= 25000.00\\n|   |   |   |   |   |   |   |   |--- class: 0\\n|   |   |   |   |   |   |   |--- feature_0 >  25000.00\\n|   |   |   |   |   |   |   |   |--- class: 0\\n|   |   |   |   |   |   |--- feature_1 >  52.50\\n|   |   |   |   |   |   |   |--- feature_18 <= 1050.00\\n|   |   |   |   |   |   |   |   |--- class: 0\\n|   |   |   |   |   |   |   |--- feature_18 >  1050.00\\n|   |   |   |   |   |   |   |   |--- class: 1\\n|   |   |   |   |--- feature_0 >  75000.00\\n|   |   |   |   |   |--- feature_8 <= 2036.50\\n|   |   |   |   |   |   |--- feature_14 <= 4146.00\\n|   |   |   |   |   |   |   |--- feature_13 <= -30125.50\\n|   |   |   |   |   |   |   |   |--- class: 1\\n|   |   |   |   |   |   |   |--- feature_13 >  -30125.50\\n|   |   |   |   |   |   |   |   |--- class: 0\\n|   |   |   |   |   |   |--- feature_14 >  4146.00\\n|   |   |   |   |   |   |   |--- feature_17 <= 553.00\\n|   |   |   |   |   |   |   |   |--- class: 0\\n|   |   |   |   |   |   |   |--- feature_17 >  553.00\\n|   |   |   |   |   |   |   |   |--- class: 0\\n|   |   |   |   |   |--- feature_8 >  2036.50\\n|   |   |   |   |   |   |--- feature_8 <= 76945.50\\n|   |   |   |   |   |   |   |--- feature_15 <= 21.50\\n|   |   |   |   |   |   |   |   |--- class: 0\\n|   |   |   |   |   |   |   |--- feature_15 >  21.50\\n|   |   |   |   |   |   |   |   |--- class: 0\\n|   |   |   |   |   |   |--- feature_8 >  76945.50\\n|   |   |   |   |   |   |   |--- feature_9 <= 299663.00\\n|   |   |   |   |   |   |   |   |--- class: 0\\n|   |   |   |   |   |   |   |--- feature_9 >  299663.00\\n|   |   |   |   |   |   |   |   |--- class: 0\\n|   |   |   |--- feature_6 >  1.00\\n|   |   |   |   |--- feature_4 <= 0.50\\n|   |   |   |   |   |--- feature_8 <= 38287.00\\n|   |   |   |   |   |   |--- feature_18 <= 51.50\\n|   |   |   |   |   |   |   |--- feature_0 <= 25000.00\\n|   |   |   |   |   |   |   |   |--- class: 1\\n|   |   |   |   |   |   |   |--- feature_0 >  25000.00\\n|   |   |   |   |   |   |   |   |--- class: 0\\n|   |   |   |   |   |   |--- feature_18 >  51.50\\n|   |   |   |   |   |   |   |--- feature_1 <= 24.50\\n|   |   |   |   |   |   |   |   |--- class: 0\\n|   |   |   |   |   |   |   |--- feature_1 >  24.50\\n|   |   |   |   |   |   |   |   |--- class: 0\\n|   |   |   |   |   |--- feature_8 >  38287.00\\n|   |   |   |   |   |   |--- feature_3 <= -1.50\\n|   |   |   |   |   |   |   |--- class: 1\\n|   |   |   |   |   |   |--- feature_3 >  -1.50\\n|   |   |   |   |   |   |   |--- feature_9 <= 253638.50\\n|   |   |   |   |   |   |   |   |--- class: 0\\n|   |   |   |   |   |   |   |--- feature_9 >  253638.50\\n|   |   |   |   |   |   |   |   |--- class: 1\\n|   |   |   |   |--- feature_4 >  0.50\\n|   |   |   |   |   |--- feature_18 <= 8971.00\\n|   |   |   |   |   |   |--- feature_11 <= 179076.00\\n|   |   |   |   |   |   |   |--- feature_17 <= 1.00\\n|   |   |   |   |   |   |   |   |--- class: 1\\n|   |   |   |   |   |   |   |--- feature_17 >  1.00\\n|   |   |   |   |   |   |   |   |--- class: 0\\n|   |   |   |   |   |   |--- feature_11 >  179076.00\\n|   |   |   |   |   |   |   |--- class: 1\\n|   |   |   |   |   |--- feature_18 >  8971.00\\n|   |   |   |   |   |   |--- feature_16 <= 23750.00\\n|   |   |   |   |   |   |   |--- class: 0\\n|   |   |   |   |   |   |--- feature_16 >  23750.00\\n|   |   |   |   |   |   |   |--- feature_18 <= 18560.00\\n|   |   |   |   |   |   |   |   |--- class: 1\\n|   |   |   |   |   |   |   |--- feature_18 >  18560.00\\n|   |   |   |   |   |   |   |   |--- class: 0\\n|   |--- feature_3 >  1.50\\n|   |   |--- feature_7 <= 1.00\\n|   |   |   |--- feature_0 <= 165000.00\\n|   |   |   |   |--- feature_16 <= 905.50\\n|   |   |   |   |   |--- feature_15 <= 3633.50\\n|   |   |   |   |   |   |--- feature_6 <= 1.00\\n|   |   |   |   |   |   |   |--- feature_19 <= 2207.50\\n|   |   |   |   |   |   |   |   |--- class: 0\\n|   |   |   |   |   |   |   |--- feature_19 >  2207.50\\n|   |   |   |   |   |   |   |   |--- class: 0\\n|   |   |   |   |   |   |--- feature_6 >  1.00\\n|   |   |   |   |   |   |   |--- feature_15 <= 2334.50\\n|   |   |   |   |   |   |   |   |--- class: 1\\n|   |   |   |   |   |   |   |--- feature_15 >  2334.50\\n|   |   |   |   |   |   |   |   |--- class: 0\\n|   |   |   |   |   |--- feature_15 >  3633.50\\n|   |   |   |   |   |   |--- feature_11 <= 77379.50\\n|   |   |   |   |   |   |   |--- feature_14 <= 1155.00\\n|   |   |   |   |   |   |   |   |--- class: 0\\n|   |   |   |   |   |   |   |--- feature_14 >  1155.00\\n|   |   |   |   |   |   |   |   |--- class: 1\\n|   |   |   |   |   |   |--- feature_11 >  77379.50\\n|   |   |   |   |   |   |   |--- feature_17 <= 3506.00\\n|   |   |   |   |   |   |   |   |--- class: 1\\n|   |   |   |   |   |   |   |--- feature_17 >  3506.00\\n|   |   |   |   |   |   |   |   |--- class: 0\\n|   |   |   |   |--- feature_16 >  905.50\\n|   |   |   |   |   |--- feature_10 <= -79.00\\n|   |   |   |   |   |   |--- feature_11 <= 53831.50\\n|   |   |   |   |   |   |   |--- class: 1\\n|   |   |   |   |   |   |--- feature_11 >  53831.50\\n|   |   |   |   |   |   |   |--- class: 0\\n|   |   |   |   |   |--- feature_10 >  -79.00\\n|   |   |   |   |   |   |--- feature_3 <= 2.50\\n|   |   |   |   |   |   |   |--- feature_16 <= 3101.50\\n|   |   |   |   |   |   |   |   |--- class: 0\\n|   |   |   |   |   |   |   |--- feature_16 >  3101.50\\n|   |   |   |   |   |   |   |   |--- class: 0\\n|   |   |   |   |   |   |--- feature_3 >  2.50\\n|   |   |   |   |   |   |   |--- feature_19 <= 33.00\\n|   |   |   |   |   |   |   |   |--- class: 1\\n|   |   |   |   |   |   |   |--- feature_19 >  33.00\\n|   |   |   |   |   |   |   |   |--- class: 0\\n|   |   |   |--- feature_0 >  165000.00\\n|   |   |   |   |--- feature_11 <= 272297.50\\n|   |   |   |   |   |--- feature_19 <= 6085.50\\n|   |   |   |   |   |   |--- feature_14 <= 6106.50\\n|   |   |   |   |   |   |   |--- feature_1 <= 42.50\\n|   |   |   |   |   |   |   |   |--- class: 0\\n|   |   |   |   |   |   |   |--- feature_1 >  42.50\\n|   |   |   |   |   |   |   |   |--- class: 0\\n|   |   |   |   |   |   |--- feature_14 >  6106.50\\n|   |   |   |   |   |   |   |--- feature_8 <= 215258.50\\n|   |   |   |   |   |   |   |   |--- class: 1\\n|   |   |   |   |   |   |   |--- feature_8 >  215258.50\\n|   |   |   |   |   |   |   |   |--- class: 0\\n|   |   |   |   |   |--- feature_19 >  6085.50\\n|   |   |   |   |   |   |--- feature_9 <= 130.50\\n|   |   |   |   |   |   |   |--- class: 1\\n|   |   |   |   |   |   |--- feature_9 >  130.50\\n|   |   |   |   |   |   |   |--- feature_0 <= 175000.00\\n|   |   |   |   |   |   |   |   |--- class: 1\\n|   |   |   |   |   |   |   |--- feature_0 >  175000.00\\n|   |   |   |   |   |   |   |   |--- class: 0\\n|   |   |   |   |--- feature_11 >  272297.50\\n|   |   |   |   |   |--- feature_11 <= 354605.50\\n|   |   |   |   |   |   |--- feature_12 <= 255681.00\\n|   |   |   |   |   |   |   |--- feature_14 <= 20.50\\n|   |   |   |   |   |   |   |   |--- class: 0\\n|   |   |   |   |   |   |   |--- feature_14 >  20.50\\n|   |   |   |   |   |   |   |   |--- class: 1\\n|   |   |   |   |   |   |--- feature_12 >  255681.00\\n|   |   |   |   |   |   |   |--- class: 1\\n|   |   |   |   |   |--- feature_11 >  354605.50\\n|   |   |   |   |   |   |--- feature_18 <= 16945.00\\n|   |   |   |   |   |   |   |--- class: 0\\n|   |   |   |   |   |   |--- feature_18 >  16945.00\\n|   |   |   |   |   |   |   |--- class: 1\\n|   |   |--- feature_7 >  1.00\\n|   |   |   |--- feature_15 <= 16050.50\\n|   |   |   |   |--- feature_6 <= 1.00\\n|   |   |   |   |   |--- feature_7 <= 2.50\\n|   |   |   |   |   |   |--- feature_0 <= 155000.00\\n|   |   |   |   |   |   |   |--- feature_13 <= 10853.50\\n|   |   |   |   |   |   |   |   |--- class: 0\\n|   |   |   |   |   |   |   |--- feature_13 >  10853.50\\n|   |   |   |   |   |   |   |   |--- class: 1\\n|   |   |   |   |   |   |--- feature_0 >  155000.00\\n|   |   |   |   |   |   |   |--- feature_5 <= -1.50\\n|   |   |   |   |   |   |   |   |--- class: 1\\n|   |   |   |   |   |   |   |--- feature_5 >  -1.50\\n|   |   |   |   |   |   |   |   |--- class: 0\\n|   |   |   |   |   |--- feature_7 >  2.50\\n|   |   |   |   |   |   |--- feature_9 <= 3853.00\\n|   |   |   |   |   |   |   |--- feature_4 <= -0.50\\n|   |   |   |   |   |   |   |   |--- class: 1\\n|   |   |   |   |   |   |   |--- feature_4 >  -0.50\\n|   |   |   |   |   |   |   |   |--- class: 0\\n|   |   |   |   |   |   |--- feature_9 >  3853.00\\n|   |   |   |   |   |   |   |--- feature_1 <= 22.50\\n|   |   |   |   |   |   |   |   |--- class: 0\\n|   |   |   |   |   |   |   |--- feature_1 >  22.50\\n|   |   |   |   |   |   |   |   |--- class: 1\\n|   |   |   |   |--- feature_6 >  1.00\\n|   |   |   |   |   |--- feature_17 <= 9500.00\\n|   |   |   |   |   |   |--- feature_15 <= 5818.50\\n|   |   |   |   |   |   |   |--- feature_16 <= 1511.00\\n|   |   |   |   |   |   |   |   |--- class: 1\\n|   |   |   |   |   |   |   |--- feature_16 >  1511.00\\n|   |   |   |   |   |   |   |   |--- class: 1\\n|   |   |   |   |   |   |--- feature_15 >  5818.50\\n|   |   |   |   |   |   |   |--- feature_16 <= 10500.00\\n|   |   |   |   |   |   |   |   |--- class: 0\\n|   |   |   |   |   |   |   |--- feature_16 >  10500.00\\n|   |   |   |   |   |   |   |   |--- class: 1\\n|   |   |   |   |   |--- feature_17 >  9500.00\\n|   |   |   |   |   |   |--- feature_0 <= 90000.00\\n|   |   |   |   |   |   |   |--- feature_12 <= 49674.50\\n|   |   |   |   |   |   |   |   |--- class: 1\\n|   |   |   |   |   |   |   |--- feature_12 >  49674.50\\n|   |   |   |   |   |   |   |   |--- class: 0\\n|   |   |   |   |   |   |--- feature_0 >  90000.00\\n|   |   |   |   |   |   |   |--- class: 1\\n|   |   |   |--- feature_15 >  16050.50\\n|   |   |   |   |--- feature_2 <= 0.00\\n|   |   |   |   |   |--- class: 1\\n|   |   |   |   |--- feature_2 >  0.00\\n|   |   |   |   |   |--- class: 0\\n|--- feature_2 >  1.50\\n|   |--- feature_4 <= -0.50\\n|   |   |--- feature_8 <= 649.00\\n|   |   |   |--- feature_10 <= 1451.00\\n|   |   |   |   |--- feature_8 <= 270.00\\n|   |   |   |   |   |--- feature_7 <= -1.50\\n|   |   |   |   |   |   |--- class: 0\\n|   |   |   |   |   |--- feature_7 >  -1.50\\n|   |   |   |   |   |   |--- class: 1\\n|   |   |   |   |--- feature_8 >  270.00\\n|   |   |   |   |   |--- feature_16 <= 325.50\\n|   |   |   |   |   |   |--- class: 0\\n|   |   |   |   |   |--- feature_16 >  325.50\\n|   |   |   |   |   |   |--- feature_16 <= 672.50\\n|   |   |   |   |   |   |   |--- feature_12 <= 1420.00\\n|   |   |   |   |   |   |   |   |--- class: 1\\n|   |   |   |   |   |   |   |--- feature_12 >  1420.00\\n|   |   |   |   |   |   |   |   |--- class: 0\\n|   |   |   |   |   |   |--- feature_16 >  672.50\\n|   |   |   |   |   |   |   |--- feature_12 <= 5110.00\\n|   |   |   |   |   |   |   |   |--- class: 0\\n|   |   |   |   |   |   |   |--- feature_12 >  5110.00\\n|   |   |   |   |   |   |   |   |--- class: 1\\n|   |   |   |--- feature_10 >  1451.00\\n|   |   |   |   |--- class: 0\\n|   |   |--- feature_8 >  649.00\\n|   |   |   |--- feature_17 <= 1059.50\\n|   |   |   |   |--- feature_9 <= 683.50\\n|   |   |   |   |   |--- feature_0 <= 355000.00\\n|   |   |   |   |   |   |--- feature_8 <= 5472.00\\n|   |   |   |   |   |   |   |--- feature_19 <= 17151.00\\n|   |   |   |   |   |   |   |   |--- class: 1\\n|   |   |   |   |   |   |   |--- feature_19 >  17151.00\\n|   |   |   |   |   |   |   |   |--- class: 0\\n|   |   |   |   |   |   |--- feature_8 >  5472.00\\n|   |   |   |   |   |   |   |--- feature_1 <= 33.00\\n|   |   |   |   |   |   |   |   |--- class: 0\\n|   |   |   |   |   |   |   |--- feature_1 >  33.00\\n|   |   |   |   |   |   |   |   |--- class: 1\\n|   |   |   |   |   |--- feature_0 >  355000.00\\n|   |   |   |   |   |   |--- feature_1 <= 46.00\\n|   |   |   |   |   |   |   |--- feature_0 <= 475000.00\\n|   |   |   |   |   |   |   |   |--- class: 0\\n|   |   |   |   |   |   |   |--- feature_0 >  475000.00\\n|   |   |   |   |   |   |   |   |--- class: 1\\n|   |   |   |   |   |   |--- feature_1 >  46.00\\n|   |   |   |   |   |   |   |--- class: 1\\n|   |   |   |   |--- feature_9 >  683.50\\n|   |   |   |   |   |--- feature_14 <= 1973.00\\n|   |   |   |   |   |   |--- feature_21 <= 0.50\\n|   |   |   |   |   |   |   |--- feature_1 <= 24.00\\n|   |   |   |   |   |   |   |   |--- class: 1\\n|   |   |   |   |   |   |   |--- feature_1 >  24.00\\n|   |   |   |   |   |   |   |   |--- class: 0\\n|   |   |   |   |   |   |--- feature_21 >  0.50\\n|   |   |   |   |   |   |   |--- feature_24 <= 0.50\\n|   |   |   |   |   |   |   |   |--- class: 1\\n|   |   |   |   |   |   |   |--- feature_24 >  0.50\\n|   |   |   |   |   |   |   |   |--- class: 0\\n|   |   |   |   |   |--- feature_14 >  1973.00\\n|   |   |   |   |   |   |--- feature_15 <= 17479.00\\n|   |   |   |   |   |   |   |--- class: 1\\n|   |   |   |   |   |   |--- feature_15 >  17479.00\\n|   |   |   |   |   |   |   |--- class: 0\\n|   |   |   |--- feature_17 >  1059.50\\n|   |   |   |   |--- feature_12 <= 72127.50\\n|   |   |   |   |   |--- feature_0 <= 425000.00\\n|   |   |   |   |   |   |--- feature_12 <= 4256.50\\n|   |   |   |   |   |   |   |--- class: 0\\n|   |   |   |   |   |   |--- feature_12 >  4256.50\\n|   |   |   |   |   |   |   |--- feature_0 <= 55000.00\\n|   |   |   |   |   |   |   |   |--- class: 1\\n|   |   |   |   |   |   |   |--- feature_0 >  55000.00\\n|   |   |   |   |   |   |   |   |--- class: 0\\n|   |   |   |   |   |--- feature_0 >  425000.00\\n|   |   |   |   |   |   |--- class: 1\\n|   |   |   |   |--- feature_12 >  72127.50\\n|   |   |   |   |   |--- class: 1\\n|   |--- feature_4 >  -0.50\\n|   |   |--- feature_7 <= 1.00\\n|   |   |   |--- feature_23 <= 0.50\\n|   |   |   |   |--- feature_1 <= 50.50\\n|   |   |   |   |   |--- feature_18 <= 10100.50\\n|   |   |   |   |   |   |--- feature_14 <= 990.00\\n|   |   |   |   |   |   |   |--- feature_0 <= 335000.00\\n|   |   |   |   |   |   |   |   |--- class: 1\\n|   |   |   |   |   |   |   |--- feature_0 >  335000.00\\n|   |   |   |   |   |   |   |   |--- class: 1\\n|   |   |   |   |   |   |--- feature_14 >  990.00\\n|   |   |   |   |   |   |   |--- feature_0 <= 15000.00\\n|   |   |   |   |   |   |   |   |--- class: 0\\n|   |   |   |   |   |   |   |--- feature_0 >  15000.00\\n|   |   |   |   |   |   |   |   |--- class: 1\\n|   |   |   |   |   |--- feature_18 >  10100.50\\n|   |   |   |   |   |   |--- feature_13 <= 25574.50\\n|   |   |   |   |   |   |   |--- feature_1 <= 28.50\\n|   |   |   |   |   |   |   |   |--- class: 1\\n|   |   |   |   |   |   |   |--- feature_1 >  28.50\\n|   |   |   |   |   |   |   |   |--- class: 0\\n|   |   |   |   |   |   |--- feature_13 >  25574.50\\n|   |   |   |   |   |   |   |--- feature_15 <= 3004.50\\n|   |   |   |   |   |   |   |   |--- class: 1\\n|   |   |   |   |   |   |   |--- feature_15 >  3004.50\\n|   |   |   |   |   |   |   |   |--- class: 0\\n|   |   |   |   |--- feature_1 >  50.50\\n|   |   |   |   |   |--- feature_18 <= 1866.00\\n|   |   |   |   |   |   |--- feature_5 <= 1.00\\n|   |   |   |   |   |   |   |--- feature_22 <= 0.50\\n|   |   |   |   |   |   |   |   |--- class: 1\\n|   |   |   |   |   |   |   |--- feature_22 >  0.50\\n|   |   |   |   |   |   |   |   |--- class: 0\\n|   |   |   |   |   |   |--- feature_5 >  1.00\\n|   |   |   |   |   |   |   |--- feature_24 <= 0.50\\n|   |   |   |   |   |   |   |   |--- class: 1\\n|   |   |   |   |   |   |   |--- feature_24 >  0.50\\n|   |   |   |   |   |   |   |   |--- class: 0\\n|   |   |   |   |   |--- feature_18 >  1866.00\\n|   |   |   |   |   |   |--- feature_16 <= 1092.50\\n|   |   |   |   |   |   |   |--- feature_19 <= 4650.00\\n|   |   |   |   |   |   |   |   |--- class: 1\\n|   |   |   |   |   |   |   |--- feature_19 >  4650.00\\n|   |   |   |   |   |   |   |   |--- class: 0\\n|   |   |   |   |   |   |--- feature_16 >  1092.50\\n|   |   |   |   |   |   |   |--- feature_1 <= 58.50\\n|   |   |   |   |   |   |   |   |--- class: 1\\n|   |   |   |   |   |   |   |--- feature_1 >  58.50\\n|   |   |   |   |   |   |   |   |--- class: 1\\n|   |   |   |--- feature_23 >  0.50\\n|   |   |   |   |--- feature_4 <= 1.00\\n|   |   |   |   |   |--- feature_11 <= 57773.50\\n|   |   |   |   |   |   |--- feature_9 <= 66615.00\\n|   |   |   |   |   |   |   |--- feature_17 <= 1050.00\\n|   |   |   |   |   |   |   |   |--- class: 0\\n|   |   |   |   |   |   |   |--- feature_17 >  1050.00\\n|   |   |   |   |   |   |   |   |--- class: 0\\n|   |   |   |   |   |   |--- feature_9 >  66615.00\\n|   |   |   |   |   |   |   |--- class: 1\\n|   |   |   |   |   |--- feature_11 >  57773.50\\n|   |   |   |   |   |   |--- class: 0\\n|   |   |   |   |--- feature_4 >  1.00\\n|   |   |   |   |   |--- feature_13 <= 89959.00\\n|   |   |   |   |   |   |--- class: 0\\n|   |   |   |   |   |--- feature_13 >  89959.00\\n|   |   |   |   |   |   |--- class: 1\\n|   |   |--- feature_7 >  1.00\\n|   |   |   |--- feature_16 <= 12150.00\\n|   |   |   |   |--- feature_3 <= 3.50\\n|   |   |   |   |   |--- feature_9 <= 177.50\\n|   |   |   |   |   |   |--- feature_1 <= 47.00\\n|   |   |   |   |   |   |   |--- feature_0 <= 15000.00\\n|   |   |   |   |   |   |   |   |--- class: 1\\n|   |   |   |   |   |   |   |--- feature_0 >  15000.00\\n|   |   |   |   |   |   |   |   |--- class: 0\\n|   |   |   |   |   |   |--- feature_1 >  47.00\\n|   |   |   |   |   |   |   |--- class: 1\\n|   |   |   |   |   |--- feature_9 >  177.50\\n|   |   |   |   |   |   |--- feature_14 <= 27750.00\\n|   |   |   |   |   |   |   |--- feature_16 <= 917.00\\n|   |   |   |   |   |   |   |   |--- class: 1\\n|   |   |   |   |   |   |   |--- feature_16 >  917.00\\n|   |   |   |   |   |   |   |   |--- class: 1\\n|   |   |   |   |   |   |--- feature_14 >  27750.00\\n|   |   |   |   |   |   |   |--- class: 0\\n|   |   |   |   |--- feature_3 >  3.50\\n|   |   |   |   |   |--- feature_13 <= 84287.50\\n|   |   |   |   |   |   |--- feature_10 <= 17671.50\\n|   |   |   |   |   |   |   |--- feature_8 <= 5170.50\\n|   |   |   |   |   |   |   |   |--- class: 0\\n|   |   |   |   |   |   |   |--- feature_8 >  5170.50\\n|   |   |   |   |   |   |   |   |--- class: 1\\n|   |   |   |   |   |   |--- feature_10 >  17671.50\\n|   |   |   |   |   |   |   |--- feature_1 <= 52.00\\n|   |   |   |   |   |   |   |   |--- class: 0\\n|   |   |   |   |   |   |   |--- feature_1 >  52.00\\n|   |   |   |   |   |   |   |   |--- class: 0\\n|   |   |   |   |   |--- feature_13 >  84287.50\\n|   |   |   |   |   |   |--- feature_15 <= 6679.50\\n|   |   |   |   |   |   |   |--- feature_13 <= 100648.50\\n|   |   |   |   |   |   |   |   |--- class: 1\\n|   |   |   |   |   |   |   |--- feature_13 >  100648.50\\n|   |   |   |   |   |   |   |   |--- class: 1\\n|   |   |   |   |   |   |--- feature_15 >  6679.50\\n|   |   |   |   |   |   |   |--- class: 0\\n|   |   |   |--- feature_16 >  12150.00\\n|   |   |   |   |--- feature_4 <= 1.00\\n|   |   |   |   |   |--- feature_16 <= 19500.00\\n|   |   |   |   |   |   |--- feature_1 <= 48.00\\n|   |   |   |   |   |   |   |--- class: 1\\n|   |   |   |   |   |   |--- feature_1 >  48.00\\n|   |   |   |   |   |   |   |--- class: 0\\n|   |   |   |   |   |--- feature_16 >  19500.00\\n|   |   |   |   |   |   |--- class: 0\\n|   |   |   |   |--- feature_4 >  1.00\\n|   |   |   |   |   |--- feature_1 <= 43.00\\n|   |   |   |   |   |   |--- feature_14 <= 14000.00\\n|   |   |   |   |   |   |   |--- class: 0\\n|   |   |   |   |   |   |--- feature_14 >  14000.00\\n|   |   |   |   |   |   |   |--- feature_13 <= 272619.50\\n|   |   |   |   |   |   |   |   |--- class: 1\\n|   |   |   |   |   |   |   |--- feature_13 >  272619.50\\n|   |   |   |   |   |   |   |   |--- class: 0\\n|   |   |   |   |   |--- feature_1 >  43.00\\n|   |   |   |   |   |   |--- feature_4 <= 2.50\\n|   |   |   |   |   |   |   |--- feature_1 <= 56.00\\n|   |   |   |   |   |   |   |   |--- class: 1\\n|   |   |   |   |   |   |   |--- feature_1 >  56.00\\n|   |   |   |   |   |   |   |   |--- class: 0\\n|   |   |   |   |   |   |--- feature_4 >  2.50\\n|   |   |   |   |   |   |   |--- class: 0\\n'"
      ]
     },
     "execution_count": 882,
     "metadata": {},
     "output_type": "execute_result"
    }
   ],
   "source": [
    "tree.export_text(model_4)"
   ]
  },
  {
   "cell_type": "code",
   "execution_count": 894,
   "metadata": {},
   "outputs": [
    {
     "data": {
      "text/plain": [
       "Text(0, 0.5, 'Feature Importance Score')"
      ]
     },
     "execution_count": 894,
     "metadata": {},
     "output_type": "execute_result"
    },
    {
     "data": {
      "image/png": "[encoded data removed]",
      "text/plain": [
       "<Figure size 864x360 with 1 Axes>"
      ]
     },
     "metadata": {
      "needs_background": "light"
     },
     "output_type": "display_data"
    }
   ],
   "source": [
    "plt.figure(figsize = (12, 5))\n",
    "feat_imp = pd.Series(model_4.feature_importances_, x_tree.columns).sort_values(ascending=False)\n",
    "feat_imp.plot(kind='bar', title = 'Feature Importances')\n",
    "plt.ylabel('Feature Importance Score')"
   ]
  },
  {
   "cell_type": "code",
   "execution_count": null,
   "metadata": {},
   "outputs": [],
   "source": []
  },
  {
   "cell_type": "markdown",
   "metadata": {},
   "source": [
    "#### Gradient Boosting"
   ]
  },
  {
   "cell_type": "code",
   "execution_count": 633,
   "metadata": {},
   "outputs": [
    {
     "name": "stdout",
     "output_type": "stream",
     "text": [
      "Best: 0.478298 using {'learning_rate': 0.1, 'max_depth': 3, 'n_estimators': 100, 'subsample': 0.5}\n",
      "0.000000 (0.000000) with: {'learning_rate': 0.001, 'max_depth': 3, 'n_estimators': 10, 'subsample': 0.5}\n",
      "0.000000 (0.000000) with: {'learning_rate': 0.001, 'max_depth': 3, 'n_estimators': 10, 'subsample': 0.7}\n",
      "0.000000 (0.000000) with: {'learning_rate': 0.001, 'max_depth': 3, 'n_estimators': 10, 'subsample': 1.0}\n",
      "0.000000 (0.000000) with: {'learning_rate': 0.001, 'max_depth': 3, 'n_estimators': 100, 'subsample': 0.5}\n",
      "0.000000 (0.000000) with: {'learning_rate': 0.001, 'max_depth': 3, 'n_estimators': 100, 'subsample': 0.7}\n",
      "0.000000 (0.000000) with: {'learning_rate': 0.001, 'max_depth': 3, 'n_estimators': 100, 'subsample': 1.0}\n",
      "0.000000 (0.000000) with: {'learning_rate': 0.001, 'max_depth': 3, 'n_estimators': 250, 'subsample': 0.5}\n",
      "0.000000 (0.000000) with: {'learning_rate': 0.001, 'max_depth': 3, 'n_estimators': 250, 'subsample': 0.7}\n",
      "0.000000 (0.000000) with: {'learning_rate': 0.001, 'max_depth': 3, 'n_estimators': 250, 'subsample': 1.0}\n",
      "0.000000 (0.000000) with: {'learning_rate': 0.001, 'max_depth': 7, 'n_estimators': 10, 'subsample': 0.5}\n",
      "0.000000 (0.000000) with: {'learning_rate': 0.001, 'max_depth': 7, 'n_estimators': 10, 'subsample': 0.7}\n",
      "0.000000 (0.000000) with: {'learning_rate': 0.001, 'max_depth': 7, 'n_estimators': 10, 'subsample': 1.0}\n",
      "0.000000 (0.000000) with: {'learning_rate': 0.001, 'max_depth': 7, 'n_estimators': 100, 'subsample': 0.5}\n",
      "0.000000 (0.000000) with: {'learning_rate': 0.001, 'max_depth': 7, 'n_estimators': 100, 'subsample': 0.7}\n",
      "0.000000 (0.000000) with: {'learning_rate': 0.001, 'max_depth': 7, 'n_estimators': 100, 'subsample': 1.0}\n",
      "0.000000 (0.000000) with: {'learning_rate': 0.001, 'max_depth': 7, 'n_estimators': 250, 'subsample': 0.5}\n",
      "0.000000 (0.000000) with: {'learning_rate': 0.001, 'max_depth': 7, 'n_estimators': 250, 'subsample': 0.7}\n",
      "0.000000 (0.000000) with: {'learning_rate': 0.001, 'max_depth': 7, 'n_estimators': 250, 'subsample': 1.0}\n",
      "0.000000 (0.000000) with: {'learning_rate': 0.001, 'max_depth': 9, 'n_estimators': 10, 'subsample': 0.5}\n",
      "0.000000 (0.000000) with: {'learning_rate': 0.001, 'max_depth': 9, 'n_estimators': 10, 'subsample': 0.7}\n",
      "0.000000 (0.000000) with: {'learning_rate': 0.001, 'max_depth': 9, 'n_estimators': 10, 'subsample': 1.0}\n",
      "0.000000 (0.000000) with: {'learning_rate': 0.001, 'max_depth': 9, 'n_estimators': 100, 'subsample': 0.5}\n",
      "0.000000 (0.000000) with: {'learning_rate': 0.001, 'max_depth': 9, 'n_estimators': 100, 'subsample': 0.7}\n",
      "0.000000 (0.000000) with: {'learning_rate': 0.001, 'max_depth': 9, 'n_estimators': 100, 'subsample': 1.0}\n",
      "0.000000 (0.000000) with: {'learning_rate': 0.001, 'max_depth': 9, 'n_estimators': 250, 'subsample': 0.5}\n",
      "0.000000 (0.000000) with: {'learning_rate': 0.001, 'max_depth': 9, 'n_estimators': 250, 'subsample': 0.7}\n",
      "0.000000 (0.000000) with: {'learning_rate': 0.001, 'max_depth': 9, 'n_estimators': 250, 'subsample': 1.0}\n",
      "0.000000 (0.000000) with: {'learning_rate': 0.01, 'max_depth': 3, 'n_estimators': 10, 'subsample': 0.5}\n",
      "0.000000 (0.000000) with: {'learning_rate': 0.01, 'max_depth': 3, 'n_estimators': 10, 'subsample': 0.7}\n",
      "0.000000 (0.000000) with: {'learning_rate': 0.01, 'max_depth': 3, 'n_estimators': 10, 'subsample': 1.0}\n",
      "0.423609 (0.015400) with: {'learning_rate': 0.01, 'max_depth': 3, 'n_estimators': 100, 'subsample': 0.5}\n",
      "0.426152 (0.017290) with: {'learning_rate': 0.01, 'max_depth': 3, 'n_estimators': 100, 'subsample': 0.7}\n",
      "0.430717 (0.015513) with: {'learning_rate': 0.01, 'max_depth': 3, 'n_estimators': 100, 'subsample': 1.0}\n",
      "0.466463 (0.016382) with: {'learning_rate': 0.01, 'max_depth': 3, 'n_estimators': 250, 'subsample': 0.5}\n",
      "0.465246 (0.016818) with: {'learning_rate': 0.01, 'max_depth': 3, 'n_estimators': 250, 'subsample': 0.7}\n",
      "0.463070 (0.016412) with: {'learning_rate': 0.01, 'max_depth': 3, 'n_estimators': 250, 'subsample': 1.0}\n",
      "0.000000 (0.000000) with: {'learning_rate': 0.01, 'max_depth': 7, 'n_estimators': 10, 'subsample': 0.5}\n",
      "0.000000 (0.000000) with: {'learning_rate': 0.01, 'max_depth': 7, 'n_estimators': 10, 'subsample': 0.7}\n",
      "0.000000 (0.000000) with: {'learning_rate': 0.01, 'max_depth': 7, 'n_estimators': 10, 'subsample': 1.0}\n",
      "0.378544 (0.022764) with: {'learning_rate': 0.01, 'max_depth': 7, 'n_estimators': 100, 'subsample': 0.5}\n",
      "0.379385 (0.024560) with: {'learning_rate': 0.01, 'max_depth': 7, 'n_estimators': 100, 'subsample': 0.7}\n",
      "0.389965 (0.013745) with: {'learning_rate': 0.01, 'max_depth': 7, 'n_estimators': 100, 'subsample': 1.0}\n",
      "0.462101 (0.016817) with: {'learning_rate': 0.01, 'max_depth': 7, 'n_estimators': 250, 'subsample': 0.5}\n",
      "0.461194 (0.020416) with: {'learning_rate': 0.01, 'max_depth': 7, 'n_estimators': 250, 'subsample': 0.7}\n",
      "0.458645 (0.021465) with: {'learning_rate': 0.01, 'max_depth': 7, 'n_estimators': 250, 'subsample': 1.0}\n",
      "0.000000 (0.000000) with: {'learning_rate': 0.01, 'max_depth': 9, 'n_estimators': 10, 'subsample': 0.5}\n",
      "0.000000 (0.000000) with: {'learning_rate': 0.01, 'max_depth': 9, 'n_estimators': 10, 'subsample': 0.7}\n",
      "0.000000 (0.000000) with: {'learning_rate': 0.01, 'max_depth': 9, 'n_estimators': 10, 'subsample': 1.0}\n",
      "0.365243 (0.025168) with: {'learning_rate': 0.01, 'max_depth': 9, 'n_estimators': 100, 'subsample': 0.5}\n",
      "0.374970 (0.026694) with: {'learning_rate': 0.01, 'max_depth': 9, 'n_estimators': 100, 'subsample': 0.7}\n",
      "0.388271 (0.019750) with: {'learning_rate': 0.01, 'max_depth': 9, 'n_estimators': 100, 'subsample': 1.0}\n",
      "0.458644 (0.018688) with: {'learning_rate': 0.01, 'max_depth': 9, 'n_estimators': 250, 'subsample': 0.5}\n",
      "0.459238 (0.018205) with: {'learning_rate': 0.01, 'max_depth': 9, 'n_estimators': 250, 'subsample': 0.7}\n",
      "0.456565 (0.021174) with: {'learning_rate': 0.01, 'max_depth': 9, 'n_estimators': 250, 'subsample': 1.0}\n",
      "0.427329 (0.016821) with: {'learning_rate': 0.1, 'max_depth': 3, 'n_estimators': 10, 'subsample': 0.5}\n",
      "0.428743 (0.016555) with: {'learning_rate': 0.1, 'max_depth': 3, 'n_estimators': 10, 'subsample': 0.7}\n",
      "0.431602 (0.015776) with: {'learning_rate': 0.1, 'max_depth': 3, 'n_estimators': 10, 'subsample': 1.0}\n",
      "0.478298 (0.015367) with: {'learning_rate': 0.1, 'max_depth': 3, 'n_estimators': 100, 'subsample': 0.5}\n",
      "0.476778 (0.015219) with: {'learning_rate': 0.1, 'max_depth': 3, 'n_estimators': 100, 'subsample': 0.7}\n",
      "0.474106 (0.016201) with: {'learning_rate': 0.1, 'max_depth': 3, 'n_estimators': 100, 'subsample': 1.0}\n",
      "0.474925 (0.011539) with: {'learning_rate': 0.1, 'max_depth': 3, 'n_estimators': 250, 'subsample': 0.5}\n",
      "0.476823 (0.012176) with: {'learning_rate': 0.1, 'max_depth': 3, 'n_estimators': 250, 'subsample': 0.7}\n",
      "0.476312 (0.014031) with: {'learning_rate': 0.1, 'max_depth': 3, 'n_estimators': 250, 'subsample': 1.0}\n",
      "0.393319 (0.025739) with: {'learning_rate': 0.1, 'max_depth': 7, 'n_estimators': 10, 'subsample': 0.5}\n",
      "0.393085 (0.019592) with: {'learning_rate': 0.1, 'max_depth': 7, 'n_estimators': 10, 'subsample': 0.7}\n",
      "0.402989 (0.015612) with: {'learning_rate': 0.1, 'max_depth': 7, 'n_estimators': 10, 'subsample': 1.0}\n",
      "0.470113 (0.016791) with: {'learning_rate': 0.1, 'max_depth': 7, 'n_estimators': 100, 'subsample': 0.5}\n",
      "0.473078 (0.010828) with: {'learning_rate': 0.1, 'max_depth': 7, 'n_estimators': 100, 'subsample': 0.7}\n",
      "0.471650 (0.016867) with: {'learning_rate': 0.1, 'max_depth': 7, 'n_estimators': 100, 'subsample': 1.0}\n",
      "0.469525 (0.013143) with: {'learning_rate': 0.1, 'max_depth': 7, 'n_estimators': 250, 'subsample': 0.5}\n",
      "0.473044 (0.017322) with: {'learning_rate': 0.1, 'max_depth': 7, 'n_estimators': 250, 'subsample': 0.7}\n",
      "0.470295 (0.013258) with: {'learning_rate': 0.1, 'max_depth': 7, 'n_estimators': 250, 'subsample': 1.0}\n",
      "0.377157 (0.024330) with: {'learning_rate': 0.1, 'max_depth': 9, 'n_estimators': 10, 'subsample': 0.5}\n",
      "0.384349 (0.022691) with: {'learning_rate': 0.1, 'max_depth': 9, 'n_estimators': 10, 'subsample': 0.7}\n",
      "0.397554 (0.019696) with: {'learning_rate': 0.1, 'max_depth': 9, 'n_estimators': 10, 'subsample': 1.0}\n",
      "0.468778 (0.015223) with: {'learning_rate': 0.1, 'max_depth': 9, 'n_estimators': 100, 'subsample': 0.5}\n",
      "0.471574 (0.017029) with: {'learning_rate': 0.1, 'max_depth': 9, 'n_estimators': 100, 'subsample': 0.7}\n",
      "0.469342 (0.018771) with: {'learning_rate': 0.1, 'max_depth': 9, 'n_estimators': 100, 'subsample': 1.0}\n",
      "0.468144 (0.017189) with: {'learning_rate': 0.1, 'max_depth': 9, 'n_estimators': 250, 'subsample': 0.5}\n",
      "0.468354 (0.017033) with: {'learning_rate': 0.1, 'max_depth': 9, 'n_estimators': 250, 'subsample': 0.7}\n",
      "0.472635 (0.015868) with: {'learning_rate': 0.1, 'max_depth': 9, 'n_estimators': 250, 'subsample': 1.0}\n"
     ]
    }
   ],
   "source": [
    "# define models and parameters\n",
    "model = GradientBoostingClassifier()\n",
    "n_estimators = [10, 100, 250]\n",
    "learning_rate = [0.001, 0.01, 0.1]\n",
    "subsample = [0.5, 0.7, 1.0]\n",
    "max_depth = [3, 7, 9]\n",
    "\n",
    "# define grid search\n",
    "grid = dict(learning_rate = learning_rate, n_estimators = n_estimators, subsample = subsample, max_depth = max_depth)\n",
    "\n",
    "grid_search = GridSearchCV(estimator = model, param_grid = grid, n_jobs = -1, cv = folds, scoring = 'f1', error_score = 0)\n",
    "grid_result = grid_search.fit(x_tree, y_tree)\n",
    "\n",
    "# summarize results\n",
    "print(\"Best: %f using %s\" % (grid_result.best_score_, grid_result.best_params_))\n",
    "means = grid_result.cv_results_['mean_test_score']\n",
    "stds = grid_result.cv_results_['std_test_score']\n",
    "params = grid_result.cv_results_['params']\n",
    "for mean, stdev, param in zip(means, stds, params):\n",
    "    print(\"%f (%f) with: %r\" % (mean, stdev, param))"
   ]
  },
  {
   "cell_type": "code",
   "execution_count": 890,
   "metadata": {},
   "outputs": [
    {
     "data": {
      "text/plain": [
       "array([0.4702439 , 0.48144624, 0.45819236, 0.48399612, 0.49653808])"
      ]
     },
     "execution_count": 890,
     "metadata": {},
     "output_type": "execute_result"
    }
   ],
   "source": [
    "model_5 = GradientBoostingClassifier(learning_rate = 0.1, n_estimators = 100, \n",
    "                                     subsample = 0.5, max_depth = 3).fit(x_tree, y_tree)\n",
    "\n",
    "scores_5 = cross_val_score(model_5, x_tree, y_tree, scoring = 'f1', cv = folds)\n",
    "\n",
    "scores_5"
   ]
  },
  {
   "cell_type": "code",
   "execution_count": 895,
   "metadata": {},
   "outputs": [
    {
     "data": {
      "text/plain": [
       "Text(0, 0.5, 'Feature Importance Score')"
      ]
     },
     "execution_count": 895,
     "metadata": {},
     "output_type": "execute_result"
    },
    {
     "data": {
      "image/png": "[encoded data removed]",
      "text/plain": [
       "<Figure size 864x360 with 1 Axes>"
      ]
     },
     "metadata": {
      "needs_background": "light"
     },
     "output_type": "display_data"
    }
   ],
   "source": [
    "plt.figure(figsize = (12, 5))\n",
    "feat_imp = pd.Series(model_5.feature_importances_, x_tree.columns).sort_values(ascending=False)\n",
    "feat_imp.plot(kind='bar', title='Feature Importances')\n",
    "plt.ylabel('Feature Importance Score')"
   ]
  },
  {
   "cell_type": "code",
   "execution_count": null,
   "metadata": {},
   "outputs": [],
   "source": []
  },
  {
   "cell_type": "markdown",
   "metadata": {},
   "source": [
    "#### Metrics"
   ]
  },
  {
   "cell_type": "code",
   "execution_count": 925,
   "metadata": {},
   "outputs": [
    {
     "data": {
      "text/plain": [
       "array([0.54952974, 0.11301557, 0.21954917, ..., 0.84920653, 0.39453501,\n",
       "       0.24622912])"
      ]
     },
     "execution_count": 925,
     "metadata": {},
     "output_type": "execute_result"
    }
   ],
   "source": [
    "model_1.predict()"
   ]
  },
  {
   "cell_type": "code",
   "execution_count": 923,
   "metadata": {},
   "outputs": [
    {
     "data": {
      "text/plain": [
       "array([0.20427444, 0.30613236, 0.25148006, ..., 0.47135407, 0.23037046,\n",
       "       0.27371209])"
      ]
     },
     "execution_count": 923,
     "metadata": {},
     "output_type": "execute_result"
    }
   ],
   "source": [
    "model_2.predict()"
   ]
  },
  {
   "cell_type": "code",
   "execution_count": 912,
   "metadata": {},
   "outputs": [
    {
     "data": {
      "text/plain": [
       "array([[0.45058913, 0.54941087],\n",
       "       [0.88697761, 0.11302239],\n",
       "       [0.78048172, 0.21951828],\n",
       "       ...,\n",
       "       [0.15091174, 0.84908826],\n",
       "       [0.60555784, 0.39444216],\n",
       "       [0.75382002, 0.24617998]])"
      ]
     },
     "execution_count": 912,
     "metadata": {},
     "output_type": "execute_result"
    }
   ],
   "source": [
    "model_3.predict_proba(x)"
   ]
  },
  {
   "cell_type": "code",
   "execution_count": 1004,
   "metadata": {},
   "outputs": [
    {
     "data": {
      "image/png": "[encoded data removed]",
      "text/plain": [
       "<Figure size 432x288 with 1 Axes>"
      ]
     },
     "metadata": {
      "needs_background": "light"
     },
     "output_type": "display_data"
    }
   ],
   "source": [
    "y_pred_proba_1 = model_1.predict()\n",
    "fpr_1, tpr_1, _ = metrics.roc_curve(y, y_pred_proba_1)\n",
    "auc_1 = round(metrics.roc_auc_score(y, y_pred_proba_1), 2)\n",
    "\n",
    "y_pred_proba_2 = model_2.predict()\n",
    "fpr_2, tpr_2, _ = metrics.roc_curve(y, y_pred_proba_2)\n",
    "auc_2 = round(metrics.roc_auc_score(y, y_pred_proba_2), 2)\n",
    "\n",
    "y_pred_proba_3 = model_3.predict_proba(x)[::, 1]\n",
    "fpr_3, tpr_3, _ = metrics.roc_curve(y, y_pred_proba_3)\n",
    "auc_3 = round(metrics.roc_auc_score(y, y_pred_proba_3), 2)\n",
    "\n",
    "y_pred_proba_4 = model_4.predict_proba(x_tree)[::, 1]\n",
    "fpr_4, tpr_4, _ = metrics.roc_curve(y_tree, y_pred_proba_4)\n",
    "auc_4 = round(metrics.roc_auc_score(y_tree, y_pred_proba_4), 2)\n",
    "\n",
    "y_pred_proba_5 = model_5.predict_proba(x_tree)[::, 1]\n",
    "fpr_5, tpr_5, _ = metrics.roc_curve(y_tree, y_pred_proba_5)\n",
    "auc_5 = round(metrics.roc_auc_score(y_tree, y_pred_proba_5), 2)\n",
    "\n",
    "plt.plot(fpr_1, tpr_1, label = \"Model_1, auc=\"+str(auc_1))\n",
    "plt.plot(fpr_2, tpr_2, label = \"Model_2, auc=\"+str(auc_2))\n",
    "plt.plot(fpr_3, tpr_3, label = \"Model_3, auc=\"+str(auc_3))\n",
    "plt.plot(fpr_4, tpr_4, label = \"Model_4, auc=\"+str(auc_4))\n",
    "plt.plot(fpr_5, tpr_5, label = \"Model_5, auc=\"+str(auc_5))\n",
    "\n",
    "plt.title('Receiver Operating Characteristic')\n",
    "plt.ylabel('True Positive Rate')\n",
    "plt.xlabel('False Positive Rate')\n",
    "plt.legend(loc = 4)\n",
    "plt.show()"
   ]
  },
  {
   "cell_type": "code",
   "execution_count": 956,
   "metadata": {},
   "outputs": [],
   "source": [
    "model_metrics = pd.DataFrame()\n",
    "col = ['models', 'Cross Validation F1', 'Accuracy', 'AUC']"
   ]
  },
  {
   "cell_type": "code",
   "execution_count": 1011,
   "metadata": {},
   "outputs": [
    {
     "data": {
      "text/html": [
       "<div>\n",
       "<style scoped>\n",
       "    .dataframe tbody tr th:only-of-type {\n",
       "        vertical-align: middle;\n",
       "    }\n",
       "\n",
       "    .dataframe tbody tr th {\n",
       "        vertical-align: top;\n",
       "    }\n",
       "\n",
       "    .dataframe thead th {\n",
       "        text-align: right;\n",
       "    }\n",
       "</style>\n",
       "<table border=\"1\" class=\"dataframe\">\n",
       "  <thead>\n",
       "    <tr style=\"text-align: right;\">\n",
       "      <th></th>\n",
       "      <th>models</th>\n",
       "      <th>cross validation f1 score</th>\n",
       "      <th>accuracy</th>\n",
       "      <th>auc</th>\n",
       "    </tr>\n",
       "  </thead>\n",
       "  <tbody>\n",
       "    <tr>\n",
       "      <th>0</th>\n",
       "      <td>model_1</td>\n",
       "      <td>0.37</td>\n",
       "      <td>0.81</td>\n",
       "      <td>0.71</td>\n",
       "    </tr>\n",
       "    <tr>\n",
       "      <th>1</th>\n",
       "      <td>model_2</td>\n",
       "      <td>0.24</td>\n",
       "      <td>0.80</td>\n",
       "      <td>0.69</td>\n",
       "    </tr>\n",
       "    <tr>\n",
       "      <th>2</th>\n",
       "      <td>model_3</td>\n",
       "      <td>0.37</td>\n",
       "      <td>0.81</td>\n",
       "      <td>0.71</td>\n",
       "    </tr>\n",
       "    <tr>\n",
       "      <th>3</th>\n",
       "      <td>model_4</td>\n",
       "      <td>0.48</td>\n",
       "      <td>0.83</td>\n",
       "      <td>0.80</td>\n",
       "    </tr>\n",
       "    <tr>\n",
       "      <th>4</th>\n",
       "      <td>model_5</td>\n",
       "      <td>0.48</td>\n",
       "      <td>0.83</td>\n",
       "      <td>0.80</td>\n",
       "    </tr>\n",
       "  </tbody>\n",
       "</table>\n",
       "</div>"
      ],
      "text/plain": [
       "    models  cross validation f1 score  accuracy   auc\n",
       "0  model_1                       0.37      0.81  0.71\n",
       "1  model_2                       0.24      0.80  0.69\n",
       "2  model_3                       0.37      0.81  0.71\n",
       "3  model_4                       0.48      0.83  0.80\n",
       "4  model_5                       0.48      0.83  0.80"
      ]
     },
     "execution_count": 1011,
     "metadata": {},
     "output_type": "execute_result"
    }
   ],
   "source": [
    "models = ['model_1', 'model_2', 'model_3', 'model_4', 'model_5']\n",
    "cvf1 = [round(scores_1.mean(), 2), round(scores_2.mean(), 2), \n",
    "        round(scores_3.mean(), 2), round(scores_4.mean(), 2), round(scores_5.mean(), 2)]\n",
    "accuracy = [round(metrics.accuracy_score(y, list(map(round, model_1.predict()))), 2), \n",
    "            round(metrics.accuracy_score(y, list(map(round, model_2.predict()))), 2), \n",
    "            round(model_3.score(x, y), 2), \n",
    "            round(model_4.score(x_tree, y_tree), 2), \n",
    "            round(model_5.score(x_tree, y_tree), 2)]\n",
    "auc = [auc_1, auc_2, auc_3, auc_4, auc_5]\n",
    "\n",
    "dict_metrics = {'models' : models, 'cross validation f1 score' : cvf1, \n",
    "                'accuracy' : accuracy, 'auc' : auc}\n",
    "\n",
    "pd.DataFrame(dict_metrics)"
   ]
  },
  {
   "cell_type": "code",
   "execution_count": null,
   "metadata": {},
   "outputs": [],
   "source": []
  }
 ],
 "metadata": {
  "kernelspec": {
   "display_name": "Python 3",
   "language": "python",
   "name": "python3"
  },
  "language_info": {
   "codemirror_mode": {
    "name": "ipython",
    "version": 3
   },
   "file_extension": ".py",
   "mimetype": "text/x-python",
   "name": "python",
   "nbconvert_exporter": "python",
   "pygments_lexer": "ipython3",
   "version": "3.7.7"
  }
 },
 "nbformat": 4,
 "nbformat_minor": 4
}
