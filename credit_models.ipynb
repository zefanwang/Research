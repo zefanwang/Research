{
 "cells": [
  {
   "cell_type": "code",
   "execution_count": 1,
   "metadata": {},
   "outputs": [],
   "source": [
    "# import packages\n",
    "import numpy as np\n",
    "import pandas as pd\n",
    "import matplotlib.pyplot as plt\n",
    "import scorecardpy as sc\n",
    "import statsmodels.api as sm\n",
    "import statsmodels.formula.api as smf\n",
    "from mlxtend.feature_selection import SequentialFeatureSelector as SFS\n",
    "from sklearn.preprocessing import StandardScaler\n",
    "from sklearn.preprocessing import OneHotEncoder\n",
    "from sklearn.decomposition import PCA\n",
    "from sklearn.model_selection import KFold\n",
    "from sklearn.model_selection import cross_val_score\n",
    "from sklearn.model_selection import GridSearchCV\n",
    "from sklearn.model_selection import train_test_split\n",
    "from sklearn.linear_model import LogisticRegression\n",
    "from sklearn import tree\n",
    "from sklearn.ensemble import GradientBoostingClassifier\n",
    "from sklearn.metrics import f1_score\n",
    "from sklearn import metrics\n",
    "from statsmodels.stats.outliers_influence import variance_inflation_factor"
   ]
  },
  {
   "cell_type": "markdown",
   "metadata": {},
   "source": [
    "#### Data Importing"
   ]
  },
  {
   "cell_type": "code",
   "execution_count": 2,
   "metadata": {},
   "outputs": [],
   "source": [
    "# import the Loan_Defaults, Loan_Attributes and Client_Risk_Quality data\n",
    "loan_defaults = pd.read_csv(\"Loan_Defaults.csv\")\n",
    "loan_attributes = pd.read_csv(\"Loan_Attributes.csv\")\n",
    "client_risk_quality = pd.read_csv(\"Client_Risk_Quality.csv\")"
   ]
  },
  {
   "cell_type": "code",
   "execution_count": 3,
   "metadata": {},
   "outputs": [
    {
     "name": "stdout",
     "output_type": "stream",
     "text": [
      "(20000, 4)\n"
     ]
    },
    {
     "data": {
      "text/html": [
       "<div>\n",
       "<style scoped>\n",
       "    .dataframe tbody tr th:only-of-type {\n",
       "        vertical-align: middle;\n",
       "    }\n",
       "\n",
       "    .dataframe tbody tr th {\n",
       "        vertical-align: top;\n",
       "    }\n",
       "\n",
       "    .dataframe thead th {\n",
       "        text-align: right;\n",
       "    }\n",
       "</style>\n",
       "<table border=\"1\" class=\"dataframe\">\n",
       "  <thead>\n",
       "    <tr style=\"text-align: right;\">\n",
       "      <th></th>\n",
       "      <th>UID</th>\n",
       "      <th>RECORDNUMBER</th>\n",
       "      <th>DVAL</th>\n",
       "      <th>DMON</th>\n",
       "    </tr>\n",
       "  </thead>\n",
       "  <tbody>\n",
       "    <tr>\n",
       "      <th>0</th>\n",
       "      <td>2a08b1c1-504b-4178-8c3f-942aa09c7732</td>\n",
       "      <td>8</td>\n",
       "      <td>70.0</td>\n",
       "      <td>6.0</td>\n",
       "    </tr>\n",
       "    <tr>\n",
       "      <th>1</th>\n",
       "      <td>039b68a8-0953-484f-a14a-0e1e78ef7794</td>\n",
       "      <td>7</td>\n",
       "      <td>999.0</td>\n",
       "      <td>5.0</td>\n",
       "    </tr>\n",
       "    <tr>\n",
       "      <th>2</th>\n",
       "      <td>225b6f92-6c66-45c1-bb82-7ed89aad9619</td>\n",
       "      <td>8</td>\n",
       "      <td>7859.0</td>\n",
       "      <td>27.0</td>\n",
       "    </tr>\n",
       "    <tr>\n",
       "      <th>3</th>\n",
       "      <td>d10af710-591d-458e-b81f-85fb99d9c5a8</td>\n",
       "      <td>9</td>\n",
       "      <td>2739.0</td>\n",
       "      <td>9.0</td>\n",
       "    </tr>\n",
       "    <tr>\n",
       "      <th>4</th>\n",
       "      <td>6457c750-e7c0-4309-9ca3-8dd2ddbabbc0</td>\n",
       "      <td>8</td>\n",
       "      <td>NaN</td>\n",
       "      <td>NaN</td>\n",
       "    </tr>\n",
       "  </tbody>\n",
       "</table>\n",
       "</div>"
      ],
      "text/plain": [
       "                                    UID  RECORDNUMBER    DVAL  DMON\n",
       "0  2a08b1c1-504b-4178-8c3f-942aa09c7732             8    70.0   6.0\n",
       "1  039b68a8-0953-484f-a14a-0e1e78ef7794             7   999.0   5.0\n",
       "2  225b6f92-6c66-45c1-bb82-7ed89aad9619             8  7859.0  27.0\n",
       "3  d10af710-591d-458e-b81f-85fb99d9c5a8             9  2739.0   9.0\n",
       "4  6457c750-e7c0-4309-9ca3-8dd2ddbabbc0             8     NaN   NaN"
      ]
     },
     "execution_count": 3,
     "metadata": {},
     "output_type": "execute_result"
    }
   ],
   "source": [
    "print(loan_defaults.shape)\n",
    "loan_defaults.head()"
   ]
  },
  {
   "cell_type": "code",
   "execution_count": 4,
   "metadata": {},
   "outputs": [
    {
     "name": "stdout",
     "output_type": "stream",
     "text": [
      "(58687, 8)\n"
     ]
    },
    {
     "data": {
      "text/html": [
       "<div>\n",
       "<style scoped>\n",
       "    .dataframe tbody tr th:only-of-type {\n",
       "        vertical-align: middle;\n",
       "    }\n",
       "\n",
       "    .dataframe tbody tr th {\n",
       "        vertical-align: top;\n",
       "    }\n",
       "\n",
       "    .dataframe thead th {\n",
       "        text-align: right;\n",
       "    }\n",
       "</style>\n",
       "<table border=\"1\" class=\"dataframe\">\n",
       "  <thead>\n",
       "    <tr style=\"text-align: right;\">\n",
       "      <th></th>\n",
       "      <th>UID</th>\n",
       "      <th>RECORDNUMBER</th>\n",
       "      <th>OPENBALANCE</th>\n",
       "      <th>ACCSTARTDATE</th>\n",
       "      <th>FIRST_MONTH</th>\n",
       "      <th>LAST_MONTH</th>\n",
       "      <th>REPAYPERIOD</th>\n",
       "      <th>SEARCHDATE</th>\n",
       "    </tr>\n",
       "  </thead>\n",
       "  <tbody>\n",
       "    <tr>\n",
       "      <th>0</th>\n",
       "      <td>784c964e-d3e1-4dd3-af6c-4288c4b37d27</td>\n",
       "      <td>1</td>\n",
       "      <td>600.0</td>\n",
       "      <td>2014-09-29</td>\n",
       "      <td>2014-10-01</td>\n",
       "      <td>2016-07-01</td>\n",
       "      <td>24.0</td>\n",
       "      <td>20181011</td>\n",
       "    </tr>\n",
       "    <tr>\n",
       "      <th>1</th>\n",
       "      <td>fc30d99d-106a-44bf-bc33-9a95f0d2d258</td>\n",
       "      <td>6</td>\n",
       "      <td>500.0</td>\n",
       "      <td>2014-01-24</td>\n",
       "      <td>2014-02-01</td>\n",
       "      <td>2014-07-01</td>\n",
       "      <td>6.0</td>\n",
       "      <td>20180524</td>\n",
       "    </tr>\n",
       "    <tr>\n",
       "      <th>2</th>\n",
       "      <td>fc30d99d-106a-44bf-bc33-9a95f0d2d258</td>\n",
       "      <td>9</td>\n",
       "      <td>1149.0</td>\n",
       "      <td>2013-10-18</td>\n",
       "      <td>2013-11-01</td>\n",
       "      <td>2018-05-01</td>\n",
       "      <td>NaN</td>\n",
       "      <td>20180524</td>\n",
       "    </tr>\n",
       "    <tr>\n",
       "      <th>3</th>\n",
       "      <td>fc30d99d-106a-44bf-bc33-9a95f0d2d258</td>\n",
       "      <td>14</td>\n",
       "      <td>446.0</td>\n",
       "      <td>2015-07-01</td>\n",
       "      <td>2015-08-01</td>\n",
       "      <td>2015-12-01</td>\n",
       "      <td>5.0</td>\n",
       "      <td>20180524</td>\n",
       "    </tr>\n",
       "    <tr>\n",
       "      <th>4</th>\n",
       "      <td>89761744-b42f-43cd-bd3c-5c363c44671a</td>\n",
       "      <td>1</td>\n",
       "      <td>1492.0</td>\n",
       "      <td>2014-10-06</td>\n",
       "      <td>2014-11-01</td>\n",
       "      <td>2015-11-01</td>\n",
       "      <td>13.0</td>\n",
       "      <td>20190924</td>\n",
       "    </tr>\n",
       "  </tbody>\n",
       "</table>\n",
       "</div>"
      ],
      "text/plain": [
       "                                    UID  RECORDNUMBER  OPENBALANCE  \\\n",
       "0  784c964e-d3e1-4dd3-af6c-4288c4b37d27             1        600.0   \n",
       "1  fc30d99d-106a-44bf-bc33-9a95f0d2d258             6        500.0   \n",
       "2  fc30d99d-106a-44bf-bc33-9a95f0d2d258             9       1149.0   \n",
       "3  fc30d99d-106a-44bf-bc33-9a95f0d2d258            14        446.0   \n",
       "4  89761744-b42f-43cd-bd3c-5c363c44671a             1       1492.0   \n",
       "\n",
       "  ACCSTARTDATE FIRST_MONTH  LAST_MONTH  REPAYPERIOD  SEARCHDATE  \n",
       "0   2014-09-29  2014-10-01  2016-07-01         24.0    20181011  \n",
       "1   2014-01-24  2014-02-01  2014-07-01          6.0    20180524  \n",
       "2   2013-10-18  2013-11-01  2018-05-01          NaN    20180524  \n",
       "3   2015-07-01  2015-08-01  2015-12-01          5.0    20180524  \n",
       "4   2014-10-06  2014-11-01  2015-11-01         13.0    20190924  "
      ]
     },
     "execution_count": 4,
     "metadata": {},
     "output_type": "execute_result"
    }
   ],
   "source": [
    "print(loan_attributes.shape)\n",
    "loan_attributes.head()"
   ]
  },
  {
   "cell_type": "code",
   "execution_count": 5,
   "metadata": {},
   "outputs": [
    {
     "name": "stdout",
     "output_type": "stream",
     "text": [
      "(16347, 3)\n"
     ]
    },
    {
     "data": {
      "text/html": [
       "<div>\n",
       "<style scoped>\n",
       "    .dataframe tbody tr th:only-of-type {\n",
       "        vertical-align: middle;\n",
       "    }\n",
       "\n",
       "    .dataframe tbody tr th {\n",
       "        vertical-align: top;\n",
       "    }\n",
       "\n",
       "    .dataframe thead th {\n",
       "        text-align: right;\n",
       "    }\n",
       "</style>\n",
       "<table border=\"1\" class=\"dataframe\">\n",
       "  <thead>\n",
       "    <tr style=\"text-align: right;\">\n",
       "      <th></th>\n",
       "      <th>UID</th>\n",
       "      <th>SCORE</th>\n",
       "      <th>CLASS</th>\n",
       "    </tr>\n",
       "  </thead>\n",
       "  <tbody>\n",
       "    <tr>\n",
       "      <th>0</th>\n",
       "      <td>440ba427-f46a-41d7-bf6d-5b5b1eb3cc26</td>\n",
       "      <td>524.0</td>\n",
       "      <td>STANDARD</td>\n",
       "    </tr>\n",
       "    <tr>\n",
       "      <th>1</th>\n",
       "      <td>8d5f1532-453d-4cce-9ae6-23a06affa479</td>\n",
       "      <td>601.0</td>\n",
       "      <td>STANDARD</td>\n",
       "    </tr>\n",
       "    <tr>\n",
       "      <th>2</th>\n",
       "      <td>59ade0ad-460f-49d6-9b3d-359610bee8dd</td>\n",
       "      <td>507.0</td>\n",
       "      <td>STANDARD</td>\n",
       "    </tr>\n",
       "    <tr>\n",
       "      <th>3</th>\n",
       "      <td>73252b25-3564-4b73-a27e-a08c2a5e882b</td>\n",
       "      <td>519.0</td>\n",
       "      <td>PREMIUM</td>\n",
       "    </tr>\n",
       "    <tr>\n",
       "      <th>4</th>\n",
       "      <td>c85f7e49-61da-42d1-bcf9-ae68c3af7ac8</td>\n",
       "      <td>567.0</td>\n",
       "      <td>PREMIUM</td>\n",
       "    </tr>\n",
       "  </tbody>\n",
       "</table>\n",
       "</div>"
      ],
      "text/plain": [
       "                                    UID  SCORE     CLASS\n",
       "0  440ba427-f46a-41d7-bf6d-5b5b1eb3cc26  524.0  STANDARD\n",
       "1  8d5f1532-453d-4cce-9ae6-23a06affa479  601.0  STANDARD\n",
       "2  59ade0ad-460f-49d6-9b3d-359610bee8dd  507.0  STANDARD\n",
       "3  73252b25-3564-4b73-a27e-a08c2a5e882b  519.0   PREMIUM\n",
       "4  c85f7e49-61da-42d1-bcf9-ae68c3af7ac8  567.0   PREMIUM"
      ]
     },
     "execution_count": 5,
     "metadata": {},
     "output_type": "execute_result"
    }
   ],
   "source": [
    "print(client_risk_quality.shape)\n",
    "client_risk_quality.head()"
   ]
  },
  {
   "cell_type": "code",
   "execution_count": null,
   "metadata": {},
   "outputs": [],
   "source": []
  },
  {
   "cell_type": "markdown",
   "metadata": {},
   "source": [
    "#### Data Preprocessing and Cleaning"
   ]
  },
  {
   "cell_type": "code",
   "execution_count": 6,
   "metadata": {},
   "outputs": [],
   "source": [
    "# Merge the Loan_Attributes and Client_Risk_Quality using UID\n",
    "data = pd.merge(loan_attributes, client_risk_quality, on = 'UID', how = 'left')\n",
    "\n",
    "# As under-sampling is used to balance the data, merge the Loan_Defaults data back to the original Loan_Attributes data for profile exploration\n",
    "data = pd.merge(data, loan_defaults, on = ['UID', 'RECORDNUMBER'], how = 'left')\n",
    "\n",
    "# filter out the out-of-scope original loan term samples, keep loans with original term between 1 and 5 years\n",
    "data = data.loc[(data.REPAYPERIOD >= 12) & (data.REPAYPERIOD <= 60), :]"
   ]
  },
  {
   "cell_type": "code",
   "execution_count": null,
   "metadata": {},
   "outputs": [],
   "source": []
  },
  {
   "cell_type": "markdown",
   "metadata": {},
   "source": [
    "#### Feature Engineering"
   ]
  },
  {
   "cell_type": "code",
   "execution_count": 7,
   "metadata": {},
   "outputs": [],
   "source": [
    "# Create default indicator\n",
    "data['dflag'] = np.where(data.DVAL.notnull() | data.DMON.notnull(), 1, 0)\n",
    "\n",
    "# Create number of accounts per user\n",
    "data['num_accounts'] = data.groupby('UID')['RECORDNUMBER'].transform('count')\n",
    "\n",
    "# Create time span between the last login month and supposed login month based on loan term\n",
    "data['LAST_MONTH'] = pd.to_datetime(data.LAST_MONTH)\n",
    "data['ACCSTARTDATE'] = pd.to_datetime(data.ACCSTARTDATE)\n",
    "data['month_span'] = data['REPAYPERIOD'] - ((data.LAST_MONTH - data.ACCSTARTDATE)/np.timedelta64(1, 'M'))\n",
    "\n",
    "# Think openbalance, repayperiod, score, class, number of accounts and month_span might be predictive for default behavior"
   ]
  },
  {
   "cell_type": "code",
   "execution_count": 8,
   "metadata": {},
   "outputs": [
    {
     "data": {
      "text/html": [
       "<div>\n",
       "<style scoped>\n",
       "    .dataframe tbody tr th:only-of-type {\n",
       "        vertical-align: middle;\n",
       "    }\n",
       "\n",
       "    .dataframe tbody tr th {\n",
       "        vertical-align: top;\n",
       "    }\n",
       "\n",
       "    .dataframe thead th {\n",
       "        text-align: right;\n",
       "    }\n",
       "</style>\n",
       "<table border=\"1\" class=\"dataframe\">\n",
       "  <thead>\n",
       "    <tr style=\"text-align: right;\">\n",
       "      <th></th>\n",
       "      <th>UID</th>\n",
       "      <th>RECORDNUMBER</th>\n",
       "      <th>OPENBALANCE</th>\n",
       "      <th>ACCSTARTDATE</th>\n",
       "      <th>FIRST_MONTH</th>\n",
       "      <th>LAST_MONTH</th>\n",
       "      <th>REPAYPERIOD</th>\n",
       "      <th>SEARCHDATE</th>\n",
       "      <th>SCORE</th>\n",
       "      <th>CLASS</th>\n",
       "      <th>DVAL</th>\n",
       "      <th>DMON</th>\n",
       "      <th>dflag</th>\n",
       "      <th>num_accounts</th>\n",
       "      <th>month_span</th>\n",
       "    </tr>\n",
       "  </thead>\n",
       "  <tbody>\n",
       "    <tr>\n",
       "      <th>0</th>\n",
       "      <td>784c964e-d3e1-4dd3-af6c-4288c4b37d27</td>\n",
       "      <td>1</td>\n",
       "      <td>600.0</td>\n",
       "      <td>2014-09-29</td>\n",
       "      <td>2014-10-01</td>\n",
       "      <td>2016-07-01</td>\n",
       "      <td>24.0</td>\n",
       "      <td>20181011</td>\n",
       "      <td>519.0</td>\n",
       "      <td>PREMIUM</td>\n",
       "      <td>NaN</td>\n",
       "      <td>NaN</td>\n",
       "      <td>0</td>\n",
       "      <td>3</td>\n",
       "      <td>2.940019</td>\n",
       "    </tr>\n",
       "    <tr>\n",
       "      <th>4</th>\n",
       "      <td>89761744-b42f-43cd-bd3c-5c363c44671a</td>\n",
       "      <td>1</td>\n",
       "      <td>1492.0</td>\n",
       "      <td>2014-10-06</td>\n",
       "      <td>2014-11-01</td>\n",
       "      <td>2015-11-01</td>\n",
       "      <td>13.0</td>\n",
       "      <td>20190924</td>\n",
       "      <td>516.0</td>\n",
       "      <td>PREMIUM</td>\n",
       "      <td>NaN</td>\n",
       "      <td>NaN</td>\n",
       "      <td>0</td>\n",
       "      <td>2</td>\n",
       "      <td>0.153740</td>\n",
       "    </tr>\n",
       "    <tr>\n",
       "      <th>5</th>\n",
       "      <td>89761744-b42f-43cd-bd3c-5c363c44671a</td>\n",
       "      <td>12</td>\n",
       "      <td>59.0</td>\n",
       "      <td>2017-12-01</td>\n",
       "      <td>2018-01-01</td>\n",
       "      <td>2019-09-01</td>\n",
       "      <td>12.0</td>\n",
       "      <td>20190924</td>\n",
       "      <td>516.0</td>\n",
       "      <td>PREMIUM</td>\n",
       "      <td>47.0</td>\n",
       "      <td>13.0</td>\n",
       "      <td>1</td>\n",
       "      <td>2</td>\n",
       "      <td>-8.994271</td>\n",
       "    </tr>\n",
       "    <tr>\n",
       "      <th>7</th>\n",
       "      <td>131da6e2-9d4a-4d06-9c81-08875219f7c6</td>\n",
       "      <td>5</td>\n",
       "      <td>2000.0</td>\n",
       "      <td>2016-03-12</td>\n",
       "      <td>2016-04-01</td>\n",
       "      <td>2018-04-01</td>\n",
       "      <td>24.0</td>\n",
       "      <td>20190113</td>\n",
       "      <td>578.0</td>\n",
       "      <td>STANDARD</td>\n",
       "      <td>NaN</td>\n",
       "      <td>NaN</td>\n",
       "      <td>0</td>\n",
       "      <td>2</td>\n",
       "      <td>-0.641163</td>\n",
       "    </tr>\n",
       "    <tr>\n",
       "      <th>8</th>\n",
       "      <td>131da6e2-9d4a-4d06-9c81-08875219f7c6</td>\n",
       "      <td>10</td>\n",
       "      <td>166.0</td>\n",
       "      <td>2018-03-14</td>\n",
       "      <td>2018-10-01</td>\n",
       "      <td>2019-01-01</td>\n",
       "      <td>24.0</td>\n",
       "      <td>20190113</td>\n",
       "      <td>578.0</td>\n",
       "      <td>STANDARD</td>\n",
       "      <td>NaN</td>\n",
       "      <td>NaN</td>\n",
       "      <td>0</td>\n",
       "      <td>2</td>\n",
       "      <td>14.373519</td>\n",
       "    </tr>\n",
       "  </tbody>\n",
       "</table>\n",
       "</div>"
      ],
      "text/plain": [
       "                                    UID  RECORDNUMBER  OPENBALANCE  \\\n",
       "0  784c964e-d3e1-4dd3-af6c-4288c4b37d27             1        600.0   \n",
       "4  89761744-b42f-43cd-bd3c-5c363c44671a             1       1492.0   \n",
       "5  89761744-b42f-43cd-bd3c-5c363c44671a            12         59.0   \n",
       "7  131da6e2-9d4a-4d06-9c81-08875219f7c6             5       2000.0   \n",
       "8  131da6e2-9d4a-4d06-9c81-08875219f7c6            10        166.0   \n",
       "\n",
       "  ACCSTARTDATE FIRST_MONTH LAST_MONTH  REPAYPERIOD  SEARCHDATE  SCORE  \\\n",
       "0   2014-09-29  2014-10-01 2016-07-01         24.0    20181011  519.0   \n",
       "4   2014-10-06  2014-11-01 2015-11-01         13.0    20190924  516.0   \n",
       "5   2017-12-01  2018-01-01 2019-09-01         12.0    20190924  516.0   \n",
       "7   2016-03-12  2016-04-01 2018-04-01         24.0    20190113  578.0   \n",
       "8   2018-03-14  2018-10-01 2019-01-01         24.0    20190113  578.0   \n",
       "\n",
       "      CLASS  DVAL  DMON  dflag  num_accounts  month_span  \n",
       "0   PREMIUM   NaN   NaN      0             3    2.940019  \n",
       "4   PREMIUM   NaN   NaN      0             2    0.153740  \n",
       "5   PREMIUM  47.0  13.0      1             2   -8.994271  \n",
       "7  STANDARD   NaN   NaN      0             2   -0.641163  \n",
       "8  STANDARD   NaN   NaN      0             2   14.373519  "
      ]
     },
     "execution_count": 8,
     "metadata": {},
     "output_type": "execute_result"
    }
   ],
   "source": [
    "data.head()"
   ]
  },
  {
   "cell_type": "code",
   "execution_count": 9,
   "metadata": {},
   "outputs": [
    {
     "data": {
      "text/plain": [
       "UID                     object\n",
       "RECORDNUMBER             int64\n",
       "OPENBALANCE            float64\n",
       "ACCSTARTDATE    datetime64[ns]\n",
       "FIRST_MONTH             object\n",
       "LAST_MONTH      datetime64[ns]\n",
       "REPAYPERIOD            float64\n",
       "SEARCHDATE               int64\n",
       "SCORE                  float64\n",
       "CLASS                   object\n",
       "DVAL                   float64\n",
       "DMON                   float64\n",
       "dflag                    int32\n",
       "num_accounts             int64\n",
       "month_span             float64\n",
       "dtype: object"
      ]
     },
     "execution_count": 9,
     "metadata": {},
     "output_type": "execute_result"
    }
   ],
   "source": [
    "data.dtypes"
   ]
  },
  {
   "cell_type": "code",
   "execution_count": 10,
   "metadata": {},
   "outputs": [
    {
     "data": {
      "text/html": [
       "<div>\n",
       "<style scoped>\n",
       "    .dataframe tbody tr th:only-of-type {\n",
       "        vertical-align: middle;\n",
       "    }\n",
       "\n",
       "    .dataframe tbody tr th {\n",
       "        vertical-align: top;\n",
       "    }\n",
       "\n",
       "    .dataframe thead th {\n",
       "        text-align: right;\n",
       "    }\n",
       "</style>\n",
       "<table border=\"1\" class=\"dataframe\">\n",
       "  <thead>\n",
       "    <tr style=\"text-align: right;\">\n",
       "      <th></th>\n",
       "      <th>RECORDNUMBER</th>\n",
       "      <th>OPENBALANCE</th>\n",
       "      <th>REPAYPERIOD</th>\n",
       "      <th>SEARCHDATE</th>\n",
       "      <th>SCORE</th>\n",
       "      <th>DVAL</th>\n",
       "      <th>DMON</th>\n",
       "      <th>dflag</th>\n",
       "      <th>num_accounts</th>\n",
       "      <th>month_span</th>\n",
       "    </tr>\n",
       "  </thead>\n",
       "  <tbody>\n",
       "    <tr>\n",
       "      <th>count</th>\n",
       "      <td>35419.000000</td>\n",
       "      <td>34159.000000</td>\n",
       "      <td>35419.000000</td>\n",
       "      <td>3.541900e+04</td>\n",
       "      <td>35419.000000</td>\n",
       "      <td>4221.000000</td>\n",
       "      <td>4221.000000</td>\n",
       "      <td>35419.000000</td>\n",
       "      <td>35419.000000</td>\n",
       "      <td>35412.000000</td>\n",
       "    </tr>\n",
       "    <tr>\n",
       "      <th>mean</th>\n",
       "      <td>6.838448</td>\n",
       "      <td>4177.881495</td>\n",
       "      <td>30.316356</td>\n",
       "      <td>2.018563e+07</td>\n",
       "      <td>599.516079</td>\n",
       "      <td>3093.546553</td>\n",
       "      <td>15.623549</td>\n",
       "      <td>0.119173</td>\n",
       "      <td>3.678336</td>\n",
       "      <td>11.345736</td>\n",
       "    </tr>\n",
       "    <tr>\n",
       "      <th>std</th>\n",
       "      <td>3.796810</td>\n",
       "      <td>5930.254793</td>\n",
       "      <td>15.682969</td>\n",
       "      <td>6.476318e+03</td>\n",
       "      <td>57.429744</td>\n",
       "      <td>4420.003486</td>\n",
       "      <td>10.352379</td>\n",
       "      <td>0.323997</td>\n",
       "      <td>2.012260</td>\n",
       "      <td>19.399880</td>\n",
       "    </tr>\n",
       "    <tr>\n",
       "      <th>min</th>\n",
       "      <td>1.000000</td>\n",
       "      <td>0.000000</td>\n",
       "      <td>12.000000</td>\n",
       "      <td>2.017010e+07</td>\n",
       "      <td>462.000000</td>\n",
       "      <td>3.000000</td>\n",
       "      <td>2.000000</td>\n",
       "      <td>0.000000</td>\n",
       "      <td>1.000000</td>\n",
       "      <td>-244.466211</td>\n",
       "    </tr>\n",
       "    <tr>\n",
       "      <th>25%</th>\n",
       "      <td>4.000000</td>\n",
       "      <td>564.000000</td>\n",
       "      <td>20.000000</td>\n",
       "      <td>2.018072e+07</td>\n",
       "      <td>551.000000</td>\n",
       "      <td>412.000000</td>\n",
       "      <td>8.000000</td>\n",
       "      <td>0.000000</td>\n",
       "      <td>2.000000</td>\n",
       "      <td>0.213064</td>\n",
       "    </tr>\n",
       "    <tr>\n",
       "      <th>50%</th>\n",
       "      <td>7.000000</td>\n",
       "      <td>1200.000000</td>\n",
       "      <td>24.000000</td>\n",
       "      <td>2.019030e+07</td>\n",
       "      <td>595.000000</td>\n",
       "      <td>1180.000000</td>\n",
       "      <td>13.000000</td>\n",
       "      <td>0.000000</td>\n",
       "      <td>3.000000</td>\n",
       "      <td>8.599355</td>\n",
       "    </tr>\n",
       "    <tr>\n",
       "      <th>75%</th>\n",
       "      <td>10.000000</td>\n",
       "      <td>5873.500000</td>\n",
       "      <td>36.000000</td>\n",
       "      <td>2.019071e+07</td>\n",
       "      <td>648.000000</td>\n",
       "      <td>3901.000000</td>\n",
       "      <td>20.000000</td>\n",
       "      <td>0.000000</td>\n",
       "      <td>5.000000</td>\n",
       "      <td>21.373601</td>\n",
       "    </tr>\n",
       "    <tr>\n",
       "      <th>max</th>\n",
       "      <td>14.000000</td>\n",
       "      <td>96870.000000</td>\n",
       "      <td>60.000000</td>\n",
       "      <td>2.019093e+07</td>\n",
       "      <td>731.000000</td>\n",
       "      <td>45190.000000</td>\n",
       "      <td>70.000000</td>\n",
       "      <td>1.000000</td>\n",
       "      <td>13.000000</td>\n",
       "      <td>60.755662</td>\n",
       "    </tr>\n",
       "  </tbody>\n",
       "</table>\n",
       "</div>"
      ],
      "text/plain": [
       "       RECORDNUMBER   OPENBALANCE   REPAYPERIOD    SEARCHDATE         SCORE  \\\n",
       "count  35419.000000  34159.000000  35419.000000  3.541900e+04  35419.000000   \n",
       "mean       6.838448   4177.881495     30.316356  2.018563e+07    599.516079   \n",
       "std        3.796810   5930.254793     15.682969  6.476318e+03     57.429744   \n",
       "min        1.000000      0.000000     12.000000  2.017010e+07    462.000000   \n",
       "25%        4.000000    564.000000     20.000000  2.018072e+07    551.000000   \n",
       "50%        7.000000   1200.000000     24.000000  2.019030e+07    595.000000   \n",
       "75%       10.000000   5873.500000     36.000000  2.019071e+07    648.000000   \n",
       "max       14.000000  96870.000000     60.000000  2.019093e+07    731.000000   \n",
       "\n",
       "               DVAL         DMON         dflag  num_accounts    month_span  \n",
       "count   4221.000000  4221.000000  35419.000000  35419.000000  35412.000000  \n",
       "mean    3093.546553    15.623549      0.119173      3.678336     11.345736  \n",
       "std     4420.003486    10.352379      0.323997      2.012260     19.399880  \n",
       "min        3.000000     2.000000      0.000000      1.000000   -244.466211  \n",
       "25%      412.000000     8.000000      0.000000      2.000000      0.213064  \n",
       "50%     1180.000000    13.000000      0.000000      3.000000      8.599355  \n",
       "75%     3901.000000    20.000000      0.000000      5.000000     21.373601  \n",
       "max    45190.000000    70.000000      1.000000     13.000000     60.755662  "
      ]
     },
     "execution_count": 10,
     "metadata": {},
     "output_type": "execute_result"
    }
   ],
   "source": [
    "data.describe()"
   ]
  },
  {
   "cell_type": "code",
   "execution_count": 11,
   "metadata": {},
   "outputs": [
    {
     "data": {
      "text/html": [
       "<div>\n",
       "<style scoped>\n",
       "    .dataframe tbody tr th:only-of-type {\n",
       "        vertical-align: middle;\n",
       "    }\n",
       "\n",
       "    .dataframe tbody tr th {\n",
       "        vertical-align: top;\n",
       "    }\n",
       "\n",
       "    .dataframe thead th {\n",
       "        text-align: right;\n",
       "    }\n",
       "</style>\n",
       "<table border=\"1\" class=\"dataframe\">\n",
       "  <thead>\n",
       "    <tr style=\"text-align: right;\">\n",
       "      <th></th>\n",
       "      <th>count</th>\n",
       "      <th>unique</th>\n",
       "      <th>top</th>\n",
       "      <th>freq</th>\n",
       "    </tr>\n",
       "  </thead>\n",
       "  <tbody>\n",
       "    <tr>\n",
       "      <th>UID</th>\n",
       "      <td>35419</td>\n",
       "      <td>13767</td>\n",
       "      <td>5c7ec56d-fd9f-4f4f-ab3d-cd8aa7e1cb44</td>\n",
       "      <td>13</td>\n",
       "    </tr>\n",
       "    <tr>\n",
       "      <th>FIRST_MONTH</th>\n",
       "      <td>35419</td>\n",
       "      <td>105</td>\n",
       "      <td>2018-10-01</td>\n",
       "      <td>733</td>\n",
       "    </tr>\n",
       "    <tr>\n",
       "      <th>CLASS</th>\n",
       "      <td>35419</td>\n",
       "      <td>2</td>\n",
       "      <td>STANDARD</td>\n",
       "      <td>23311</td>\n",
       "    </tr>\n",
       "  </tbody>\n",
       "</table>\n",
       "</div>"
      ],
      "text/plain": [
       "             count unique                                   top   freq\n",
       "UID          35419  13767  5c7ec56d-fd9f-4f4f-ab3d-cd8aa7e1cb44     13\n",
       "FIRST_MONTH  35419    105                            2018-10-01    733\n",
       "CLASS        35419      2                              STANDARD  23311"
      ]
     },
     "execution_count": 11,
     "metadata": {},
     "output_type": "execute_result"
    }
   ],
   "source": [
    "data.describe(include = 'object').transpose()"
   ]
  },
  {
   "cell_type": "code",
   "execution_count": null,
   "metadata": {},
   "outputs": [],
   "source": []
  },
  {
   "cell_type": "markdown",
   "metadata": {},
   "source": [
    "#### Loss Curve"
   ]
  },
  {
   "cell_type": "code",
   "execution_count": 127,
   "metadata": {},
   "outputs": [],
   "source": [
    "loan_loss = data.groupby('DMON').agg({'DVAL' : 'sum'}).reset_index()\n",
    "loan_loss['cum_DVAL'] = loan_loss.DVAL.cumsum()\n",
    "loan_loss['balance'] = data.OPENBALANCE.sum()\n",
    "loan_loss['cum_loss'] = loan_loss.cum_DVAL/loan_loss.balance"
   ]
  },
  {
   "cell_type": "code",
   "execution_count": 133,
   "metadata": {},
   "outputs": [
    {
     "data": {
      "image/png": "[encoded data removed]",
      "text/plain": [
       "<Figure size 432x288 with 1 Axes>"
      ]
     },
     "metadata": {
      "needs_background": "light"
     },
     "output_type": "display_data"
    }
   ],
   "source": [
    "plt.plot(loan_loss.DMON, loan_loss.cum_loss)\n",
    "plt.ylabel('Loss Rate')\n",
    "plt.xlabel('Window')\n",
    "plt.title('Loan Life Cumulative Loss Rate')\n",
    "plt.show()"
   ]
  },
  {
   "cell_type": "code",
   "execution_count": null,
   "metadata": {},
   "outputs": [],
   "source": []
  },
  {
   "cell_type": "markdown",
   "metadata": {},
   "source": [
    "#### Balance Paydown Curve"
   ]
  },
  {
   "cell_type": "code",
   "execution_count": 223,
   "metadata": {},
   "outputs": [
    {
     "data": {
      "text/html": [
       "<div>\n",
       "<style scoped>\n",
       "    .dataframe tbody tr th:only-of-type {\n",
       "        vertical-align: middle;\n",
       "    }\n",
       "\n",
       "    .dataframe tbody tr th {\n",
       "        vertical-align: top;\n",
       "    }\n",
       "\n",
       "    .dataframe thead th {\n",
       "        text-align: right;\n",
       "    }\n",
       "</style>\n",
       "<table border=\"1\" class=\"dataframe\">\n",
       "  <thead>\n",
       "    <tr style=\"text-align: right;\">\n",
       "      <th></th>\n",
       "      <th>window</th>\n",
       "      <th>payment</th>\n",
       "      <th>cum_payment</th>\n",
       "      <th>balance_pct</th>\n",
       "    </tr>\n",
       "  </thead>\n",
       "  <tbody>\n",
       "    <tr>\n",
       "      <th>0</th>\n",
       "      <td>0.0</td>\n",
       "      <td>3.718838e+06</td>\n",
       "      <td>3.718838e+06</td>\n",
       "      <td>0.973942</td>\n",
       "    </tr>\n",
       "    <tr>\n",
       "      <th>1</th>\n",
       "      <td>1.0</td>\n",
       "      <td>3.718838e+06</td>\n",
       "      <td>7.437676e+06</td>\n",
       "      <td>0.947883</td>\n",
       "    </tr>\n",
       "    <tr>\n",
       "      <th>2</th>\n",
       "      <td>2.0</td>\n",
       "      <td>3.718838e+06</td>\n",
       "      <td>1.115651e+07</td>\n",
       "      <td>0.921825</td>\n",
       "    </tr>\n",
       "    <tr>\n",
       "      <th>3</th>\n",
       "      <td>3.0</td>\n",
       "      <td>3.691771e+06</td>\n",
       "      <td>1.484828e+07</td>\n",
       "      <td>0.895956</td>\n",
       "    </tr>\n",
       "    <tr>\n",
       "      <th>4</th>\n",
       "      <td>4.0</td>\n",
       "      <td>3.663496e+06</td>\n",
       "      <td>1.851178e+07</td>\n",
       "      <td>0.870286</td>\n",
       "    </tr>\n",
       "  </tbody>\n",
       "</table>\n",
       "</div>"
      ],
      "text/plain": [
       "   window       payment   cum_payment  balance_pct\n",
       "0     0.0  3.718838e+06  3.718838e+06     0.973942\n",
       "1     1.0  3.718838e+06  7.437676e+06     0.947883\n",
       "2     2.0  3.718838e+06  1.115651e+07     0.921825\n",
       "3     3.0  3.691771e+06  1.484828e+07     0.895956\n",
       "4     4.0  3.663496e+06  1.851178e+07     0.870286"
      ]
     },
     "execution_count": 223,
     "metadata": {},
     "output_type": "execute_result"
    }
   ],
   "source": [
    "balance_paydown = data.copy()\n",
    "\n",
    "balance_paydown['payment'] = np.where(balance_paydown.dflag == 1, \n",
    "                                      (balance_paydown.OPENBALANCE - balance_paydown.DVAL)/balance_paydown.DMON,\n",
    "                                       balance_paydown.OPENBALANCE/balance_paydown.REPAYPERIOD)\n",
    "\n",
    "payment_data = pd.DataFrame(columns=['window', 'payment'])\n",
    "\n",
    "for i in range(0, 81):\n",
    "    balance_data = balance_paydown.loc[(balance_paydown.REPAYPERIOD >= i) & ((balance_paydown.DMON >= i) | (balance_paydown.DMON.isnull())), :]\n",
    "    payment = balance_data.payment.sum()\n",
    "    \n",
    "    payment_data.loc[i] = [i, payment]\n",
    "    \n",
    "payment_data['cum_payment'] = payment_data.payment.cumsum()\n",
    "payment_data['balance_pct'] = (data.OPENBALANCE.sum() - payment_data.cum_payment)/data.OPENBALANCE.sum()\n",
    "\n",
    "payment_data.head()"
   ]
  },
  {
   "cell_type": "code",
   "execution_count": 224,
   "metadata": {},
   "outputs": [
    {
     "data": {
      "image/png": "[encoded data removed]",
      "text/plain": [
       "<Figure size 432x288 with 1 Axes>"
      ]
     },
     "metadata": {
      "needs_background": "light"
     },
     "output_type": "display_data"
    }
   ],
   "source": [
    "plt.plot(payment_data.window, payment_data.balance_pct)\n",
    "plt.ylabel('Balance Percentage')\n",
    "plt.xlabel('Window')\n",
    "plt.title('Balance Paydown Curve')\n",
    "plt.show()"
   ]
  },
  {
   "cell_type": "code",
   "execution_count": null,
   "metadata": {},
   "outputs": [],
   "source": []
  },
  {
   "cell_type": "code",
   "execution_count": null,
   "metadata": {},
   "outputs": [],
   "source": []
  },
  {
   "cell_type": "code",
   "execution_count": 225,
   "metadata": {},
   "outputs": [
    {
     "data": {
      "text/plain": [
       "\"\\nperformance = pd.DataFrame()\\n\\nfor i, j in data.iterrows():\\n    loan_data = pd.DataFrame()\\n    loan_data = loan_data.append(j)\\n    loan_data = loan_data.loc[loan_data.index.repeat(j.REPAYPERIOD)]\\n    loan_data['payment'] = loan_data['OPENBALANCE']/loan_data['REPAYPERIOD']\\n    loan_data['balance'] = loan_data.OPENBALANCE - loan_data.payment.cumsum()\\n    loan_data['month'] = np.arange(loan_data.shape[0])\\n    loan_data['date'] = loan_data.apply(lambda x: x.ACCSTARTDATE + pd.DateOffset(months = x.month), axis = 1)\\n    loan_data = loan_data[['UID', 'RECORDNUMBER', 'ACCSTARTDATE', 'DMON', 'DVAL', 'OPENBALANCE', 'dflag', 'date', 'payment', 'balance']]\\n    \\n    performance = performance.append(loan_data) \\n\\nperformance.to_csv('performance.csv')\\n\""
      ]
     },
     "execution_count": 225,
     "metadata": {},
     "output_type": "execute_result"
    }
   ],
   "source": [
    "# One can also reconstruct the performance data for each loan over dates for detailed over dates analysis, \n",
    "# but it takes some time to run.\n",
    "\"\"\"\n",
    "performance = pd.DataFrame()\n",
    "\n",
    "for i, j in data.iterrows():\n",
    "    loan_data = pd.DataFrame()\n",
    "    loan_data = loan_data.append(j)\n",
    "    loan_data = loan_data.loc[loan_data.index.repeat(j.REPAYPERIOD)]\n",
    "    loan_data['payment'] = loan_data['OPENBALANCE']/loan_data['REPAYPERIOD']\n",
    "    loan_data['balance'] = loan_data.OPENBALANCE - loan_data.payment.cumsum()\n",
    "    loan_data['month'] = np.arange(loan_data.shape[0])\n",
    "    loan_data['date'] = loan_data.apply(lambda x: x.ACCSTARTDATE + pd.DateOffset(months = x.month), axis = 1)\n",
    "    loan_data = loan_data[['UID', 'RECORDNUMBER', 'ACCSTARTDATE', 'DMON', 'DVAL', 'OPENBALANCE', 'dflag', 'date', 'payment', 'balance']]\n",
    "    \n",
    "    performance = performance.append(loan_data) \n",
    "\n",
    "performance.to_csv('performance.csv')\n",
    "\"\"\""
   ]
  },
  {
   "cell_type": "code",
   "execution_count": 226,
   "metadata": {
    "scrolled": false
   },
   "outputs": [
    {
     "name": "stdout",
     "output_type": "stream",
     "text": [
      "(1073775, 10)\n"
     ]
    },
    {
     "data": {
      "text/html": [
       "<div>\n",
       "<style scoped>\n",
       "    .dataframe tbody tr th:only-of-type {\n",
       "        vertical-align: middle;\n",
       "    }\n",
       "\n",
       "    .dataframe tbody tr th {\n",
       "        vertical-align: top;\n",
       "    }\n",
       "\n",
       "    .dataframe thead th {\n",
       "        text-align: right;\n",
       "    }\n",
       "</style>\n",
       "<table border=\"1\" class=\"dataframe\">\n",
       "  <thead>\n",
       "    <tr style=\"text-align: right;\">\n",
       "      <th></th>\n",
       "      <th>UID</th>\n",
       "      <th>RECORDNUMBER</th>\n",
       "      <th>ACCSTARTDATE</th>\n",
       "      <th>DMON</th>\n",
       "      <th>DVAL</th>\n",
       "      <th>OPENBALANCE</th>\n",
       "      <th>dflag</th>\n",
       "      <th>date</th>\n",
       "      <th>payment</th>\n",
       "      <th>balance</th>\n",
       "    </tr>\n",
       "  </thead>\n",
       "  <tbody>\n",
       "    <tr>\n",
       "      <th>0</th>\n",
       "      <td>784c964e-d3e1-4dd3-af6c-4288c4b37d27</td>\n",
       "      <td>1.0</td>\n",
       "      <td>2014-09-29</td>\n",
       "      <td>NaN</td>\n",
       "      <td>NaN</td>\n",
       "      <td>600.0</td>\n",
       "      <td>0.0</td>\n",
       "      <td>2014-09-29</td>\n",
       "      <td>25.0</td>\n",
       "      <td>575.0</td>\n",
       "    </tr>\n",
       "    <tr>\n",
       "      <th>0</th>\n",
       "      <td>784c964e-d3e1-4dd3-af6c-4288c4b37d27</td>\n",
       "      <td>1.0</td>\n",
       "      <td>2014-09-29</td>\n",
       "      <td>NaN</td>\n",
       "      <td>NaN</td>\n",
       "      <td>600.0</td>\n",
       "      <td>0.0</td>\n",
       "      <td>2014-10-29</td>\n",
       "      <td>25.0</td>\n",
       "      <td>550.0</td>\n",
       "    </tr>\n",
       "    <tr>\n",
       "      <th>0</th>\n",
       "      <td>784c964e-d3e1-4dd3-af6c-4288c4b37d27</td>\n",
       "      <td>1.0</td>\n",
       "      <td>2014-09-29</td>\n",
       "      <td>NaN</td>\n",
       "      <td>NaN</td>\n",
       "      <td>600.0</td>\n",
       "      <td>0.0</td>\n",
       "      <td>2014-11-29</td>\n",
       "      <td>25.0</td>\n",
       "      <td>525.0</td>\n",
       "    </tr>\n",
       "    <tr>\n",
       "      <th>0</th>\n",
       "      <td>784c964e-d3e1-4dd3-af6c-4288c4b37d27</td>\n",
       "      <td>1.0</td>\n",
       "      <td>2014-09-29</td>\n",
       "      <td>NaN</td>\n",
       "      <td>NaN</td>\n",
       "      <td>600.0</td>\n",
       "      <td>0.0</td>\n",
       "      <td>2014-12-29</td>\n",
       "      <td>25.0</td>\n",
       "      <td>500.0</td>\n",
       "    </tr>\n",
       "    <tr>\n",
       "      <th>0</th>\n",
       "      <td>784c964e-d3e1-4dd3-af6c-4288c4b37d27</td>\n",
       "      <td>1.0</td>\n",
       "      <td>2014-09-29</td>\n",
       "      <td>NaN</td>\n",
       "      <td>NaN</td>\n",
       "      <td>600.0</td>\n",
       "      <td>0.0</td>\n",
       "      <td>2015-01-29</td>\n",
       "      <td>25.0</td>\n",
       "      <td>475.0</td>\n",
       "    </tr>\n",
       "    <tr>\n",
       "      <th>0</th>\n",
       "      <td>784c964e-d3e1-4dd3-af6c-4288c4b37d27</td>\n",
       "      <td>1.0</td>\n",
       "      <td>2014-09-29</td>\n",
       "      <td>NaN</td>\n",
       "      <td>NaN</td>\n",
       "      <td>600.0</td>\n",
       "      <td>0.0</td>\n",
       "      <td>2015-02-28</td>\n",
       "      <td>25.0</td>\n",
       "      <td>450.0</td>\n",
       "    </tr>\n",
       "    <tr>\n",
       "      <th>0</th>\n",
       "      <td>784c964e-d3e1-4dd3-af6c-4288c4b37d27</td>\n",
       "      <td>1.0</td>\n",
       "      <td>2014-09-29</td>\n",
       "      <td>NaN</td>\n",
       "      <td>NaN</td>\n",
       "      <td>600.0</td>\n",
       "      <td>0.0</td>\n",
       "      <td>2015-03-29</td>\n",
       "      <td>25.0</td>\n",
       "      <td>425.0</td>\n",
       "    </tr>\n",
       "    <tr>\n",
       "      <th>0</th>\n",
       "      <td>784c964e-d3e1-4dd3-af6c-4288c4b37d27</td>\n",
       "      <td>1.0</td>\n",
       "      <td>2014-09-29</td>\n",
       "      <td>NaN</td>\n",
       "      <td>NaN</td>\n",
       "      <td>600.0</td>\n",
       "      <td>0.0</td>\n",
       "      <td>2015-04-29</td>\n",
       "      <td>25.0</td>\n",
       "      <td>400.0</td>\n",
       "    </tr>\n",
       "    <tr>\n",
       "      <th>0</th>\n",
       "      <td>784c964e-d3e1-4dd3-af6c-4288c4b37d27</td>\n",
       "      <td>1.0</td>\n",
       "      <td>2014-09-29</td>\n",
       "      <td>NaN</td>\n",
       "      <td>NaN</td>\n",
       "      <td>600.0</td>\n",
       "      <td>0.0</td>\n",
       "      <td>2015-05-29</td>\n",
       "      <td>25.0</td>\n",
       "      <td>375.0</td>\n",
       "    </tr>\n",
       "    <tr>\n",
       "      <th>0</th>\n",
       "      <td>784c964e-d3e1-4dd3-af6c-4288c4b37d27</td>\n",
       "      <td>1.0</td>\n",
       "      <td>2014-09-29</td>\n",
       "      <td>NaN</td>\n",
       "      <td>NaN</td>\n",
       "      <td>600.0</td>\n",
       "      <td>0.0</td>\n",
       "      <td>2015-06-29</td>\n",
       "      <td>25.0</td>\n",
       "      <td>350.0</td>\n",
       "    </tr>\n",
       "  </tbody>\n",
       "</table>\n",
       "</div>"
      ],
      "text/plain": [
       "                                    UID  RECORDNUMBER ACCSTARTDATE  DMON  \\\n",
       "0  784c964e-d3e1-4dd3-af6c-4288c4b37d27           1.0   2014-09-29   NaN   \n",
       "0  784c964e-d3e1-4dd3-af6c-4288c4b37d27           1.0   2014-09-29   NaN   \n",
       "0  784c964e-d3e1-4dd3-af6c-4288c4b37d27           1.0   2014-09-29   NaN   \n",
       "0  784c964e-d3e1-4dd3-af6c-4288c4b37d27           1.0   2014-09-29   NaN   \n",
       "0  784c964e-d3e1-4dd3-af6c-4288c4b37d27           1.0   2014-09-29   NaN   \n",
       "0  784c964e-d3e1-4dd3-af6c-4288c4b37d27           1.0   2014-09-29   NaN   \n",
       "0  784c964e-d3e1-4dd3-af6c-4288c4b37d27           1.0   2014-09-29   NaN   \n",
       "0  784c964e-d3e1-4dd3-af6c-4288c4b37d27           1.0   2014-09-29   NaN   \n",
       "0  784c964e-d3e1-4dd3-af6c-4288c4b37d27           1.0   2014-09-29   NaN   \n",
       "0  784c964e-d3e1-4dd3-af6c-4288c4b37d27           1.0   2014-09-29   NaN   \n",
       "\n",
       "   DVAL  OPENBALANCE  dflag       date  payment  balance  \n",
       "0   NaN        600.0    0.0 2014-09-29     25.0    575.0  \n",
       "0   NaN        600.0    0.0 2014-10-29     25.0    550.0  \n",
       "0   NaN        600.0    0.0 2014-11-29     25.0    525.0  \n",
       "0   NaN        600.0    0.0 2014-12-29     25.0    500.0  \n",
       "0   NaN        600.0    0.0 2015-01-29     25.0    475.0  \n",
       "0   NaN        600.0    0.0 2015-02-28     25.0    450.0  \n",
       "0   NaN        600.0    0.0 2015-03-29     25.0    425.0  \n",
       "0   NaN        600.0    0.0 2015-04-29     25.0    400.0  \n",
       "0   NaN        600.0    0.0 2015-05-29     25.0    375.0  \n",
       "0   NaN        600.0    0.0 2015-06-29     25.0    350.0  "
      ]
     },
     "execution_count": 226,
     "metadata": {},
     "output_type": "execute_result"
    }
   ],
   "source": [
    "print(performance.shape)\n",
    "performance.head(10)"
   ]
  },
  {
   "cell_type": "code",
   "execution_count": null,
   "metadata": {},
   "outputs": [],
   "source": []
  },
  {
   "cell_type": "markdown",
   "metadata": {},
   "source": [
    "#### Customer Risk Profile"
   ]
  },
  {
   "cell_type": "code",
   "execution_count": 232,
   "metadata": {},
   "outputs": [],
   "source": [
    "customer_data = data.groupby('UID').agg({'RECORDNUMBER' : 'count', \n",
    "                                         'OPENBALANCE' : 'sum', \n",
    "                                         'ACCSTARTDATE' : 'first', \n",
    "                                         'LAST_MONTH' : 'last', \n",
    "                                         'REPAYPERIOD' : 'mean', \n",
    "                                         'SCORE' : 'mean', \n",
    "                                         'CLASS' : 'first'}).reset_index()"
   ]
  },
  {
   "cell_type": "code",
   "execution_count": 234,
   "metadata": {},
   "outputs": [
    {
     "data": {
      "text/html": [
       "<div>\n",
       "<style scoped>\n",
       "    .dataframe tbody tr th:only-of-type {\n",
       "        vertical-align: middle;\n",
       "    }\n",
       "\n",
       "    .dataframe tbody tr th {\n",
       "        vertical-align: top;\n",
       "    }\n",
       "\n",
       "    .dataframe thead th {\n",
       "        text-align: right;\n",
       "    }\n",
       "</style>\n",
       "<table border=\"1\" class=\"dataframe\">\n",
       "  <thead>\n",
       "    <tr style=\"text-align: right;\">\n",
       "      <th></th>\n",
       "      <th>RECORDNUMBER</th>\n",
       "      <th>OPENBALANCE</th>\n",
       "      <th>REPAYPERIOD</th>\n",
       "      <th>SCORE</th>\n",
       "    </tr>\n",
       "  </thead>\n",
       "  <tbody>\n",
       "    <tr>\n",
       "      <th>count</th>\n",
       "      <td>13767.000000</td>\n",
       "      <td>13767.000000</td>\n",
       "      <td>13767.000000</td>\n",
       "      <td>13767.000000</td>\n",
       "    </tr>\n",
       "    <tr>\n",
       "      <th>mean</th>\n",
       "      <td>2.572746</td>\n",
       "      <td>10366.256556</td>\n",
       "      <td>30.204021</td>\n",
       "      <td>594.822111</td>\n",
       "    </tr>\n",
       "    <tr>\n",
       "      <th>std</th>\n",
       "      <td>1.686597</td>\n",
       "      <td>14401.025861</td>\n",
       "      <td>13.635143</td>\n",
       "      <td>58.513170</td>\n",
       "    </tr>\n",
       "    <tr>\n",
       "      <th>min</th>\n",
       "      <td>1.000000</td>\n",
       "      <td>0.000000</td>\n",
       "      <td>12.000000</td>\n",
       "      <td>462.000000</td>\n",
       "    </tr>\n",
       "    <tr>\n",
       "      <th>25%</th>\n",
       "      <td>1.000000</td>\n",
       "      <td>1200.000000</td>\n",
       "      <td>21.000000</td>\n",
       "      <td>545.000000</td>\n",
       "    </tr>\n",
       "    <tr>\n",
       "      <th>50%</th>\n",
       "      <td>2.000000</td>\n",
       "      <td>4788.000000</td>\n",
       "      <td>25.200000</td>\n",
       "      <td>586.000000</td>\n",
       "    </tr>\n",
       "    <tr>\n",
       "      <th>75%</th>\n",
       "      <td>3.000000</td>\n",
       "      <td>14217.000000</td>\n",
       "      <td>37.450000</td>\n",
       "      <td>645.000000</td>\n",
       "    </tr>\n",
       "    <tr>\n",
       "      <th>max</th>\n",
       "      <td>13.000000</td>\n",
       "      <td>192497.000000</td>\n",
       "      <td>60.000000</td>\n",
       "      <td>731.000000</td>\n",
       "    </tr>\n",
       "  </tbody>\n",
       "</table>\n",
       "</div>"
      ],
      "text/plain": [
       "       RECORDNUMBER    OPENBALANCE   REPAYPERIOD         SCORE\n",
       "count  13767.000000   13767.000000  13767.000000  13767.000000\n",
       "mean       2.572746   10366.256556     30.204021    594.822111\n",
       "std        1.686597   14401.025861     13.635143     58.513170\n",
       "min        1.000000       0.000000     12.000000    462.000000\n",
       "25%        1.000000    1200.000000     21.000000    545.000000\n",
       "50%        2.000000    4788.000000     25.200000    586.000000\n",
       "75%        3.000000   14217.000000     37.450000    645.000000\n",
       "max       13.000000  192497.000000     60.000000    731.000000"
      ]
     },
     "execution_count": 234,
     "metadata": {},
     "output_type": "execute_result"
    }
   ],
   "source": [
    "customer_data.describe()"
   ]
  },
  {
   "cell_type": "code",
   "execution_count": 237,
   "metadata": {},
   "outputs": [
    {
     "data": {
      "text/html": [
       "<div>\n",
       "<style scoped>\n",
       "    .dataframe tbody tr th:only-of-type {\n",
       "        vertical-align: middle;\n",
       "    }\n",
       "\n",
       "    .dataframe tbody tr th {\n",
       "        vertical-align: top;\n",
       "    }\n",
       "\n",
       "    .dataframe thead th {\n",
       "        text-align: right;\n",
       "    }\n",
       "</style>\n",
       "<table border=\"1\" class=\"dataframe\">\n",
       "  <thead>\n",
       "    <tr style=\"text-align: right;\">\n",
       "      <th></th>\n",
       "      <th>count</th>\n",
       "      <th>unique</th>\n",
       "      <th>top</th>\n",
       "      <th>freq</th>\n",
       "    </tr>\n",
       "  </thead>\n",
       "  <tbody>\n",
       "    <tr>\n",
       "      <th>UID</th>\n",
       "      <td>13767</td>\n",
       "      <td>13767</td>\n",
       "      <td>272865d2-7869-445e-a772-91f5e76d0e99</td>\n",
       "      <td>1</td>\n",
       "    </tr>\n",
       "    <tr>\n",
       "      <th>CLASS</th>\n",
       "      <td>13767</td>\n",
       "      <td>2</td>\n",
       "      <td>STANDARD</td>\n",
       "      <td>9151</td>\n",
       "    </tr>\n",
       "  </tbody>\n",
       "</table>\n",
       "</div>"
      ],
      "text/plain": [
       "       count unique                                   top  freq\n",
       "UID    13767  13767  272865d2-7869-445e-a772-91f5e76d0e99     1\n",
       "CLASS  13767      2                              STANDARD  9151"
      ]
     },
     "execution_count": 237,
     "metadata": {},
     "output_type": "execute_result"
    }
   ],
   "source": [
    "customer_data.describe(include = 'object').transpose()"
   ]
  },
  {
   "cell_type": "code",
   "execution_count": null,
   "metadata": {},
   "outputs": [],
   "source": []
  },
  {
   "cell_type": "markdown",
   "metadata": {},
   "source": [
    "#### Exploratory Analysis"
   ]
  },
  {
   "cell_type": "code",
   "execution_count": 243,
   "metadata": {},
   "outputs": [
    {
     "data": {
      "text/html": [
       "<div>\n",
       "<style scoped>\n",
       "    .dataframe tbody tr th:only-of-type {\n",
       "        vertical-align: middle;\n",
       "    }\n",
       "\n",
       "    .dataframe tbody tr th {\n",
       "        vertical-align: top;\n",
       "    }\n",
       "\n",
       "    .dataframe thead th {\n",
       "        text-align: right;\n",
       "    }\n",
       "</style>\n",
       "<table border=\"1\" class=\"dataframe\">\n",
       "  <thead>\n",
       "    <tr style=\"text-align: right;\">\n",
       "      <th></th>\n",
       "      <th>variable</th>\n",
       "      <th>info_value</th>\n",
       "    </tr>\n",
       "  </thead>\n",
       "  <tbody>\n",
       "    <tr>\n",
       "      <th>7</th>\n",
       "      <td>DMON</td>\n",
       "      <td>15.380886</td>\n",
       "    </tr>\n",
       "    <tr>\n",
       "      <th>8</th>\n",
       "      <td>DVAL</td>\n",
       "      <td>10.579244</td>\n",
       "    </tr>\n",
       "    <tr>\n",
       "      <th>13</th>\n",
       "      <td>SCORE</td>\n",
       "      <td>1.813817</td>\n",
       "    </tr>\n",
       "    <tr>\n",
       "      <th>3</th>\n",
       "      <td>month_span</td>\n",
       "      <td>1.238260</td>\n",
       "    </tr>\n",
       "    <tr>\n",
       "      <th>9</th>\n",
       "      <td>OPENBALANCE</td>\n",
       "      <td>1.154598</td>\n",
       "    </tr>\n",
       "    <tr>\n",
       "      <th>12</th>\n",
       "      <td>LAST_MONTH</td>\n",
       "      <td>0.837700</td>\n",
       "    </tr>\n",
       "    <tr>\n",
       "      <th>11</th>\n",
       "      <td>num_accounts</td>\n",
       "      <td>0.652928</td>\n",
       "    </tr>\n",
       "    <tr>\n",
       "      <th>1</th>\n",
       "      <td>ACCSTARTDATE</td>\n",
       "      <td>0.639950</td>\n",
       "    </tr>\n",
       "    <tr>\n",
       "      <th>10</th>\n",
       "      <td>UID</td>\n",
       "      <td>0.521418</td>\n",
       "    </tr>\n",
       "    <tr>\n",
       "      <th>2</th>\n",
       "      <td>SEARCHDATE</td>\n",
       "      <td>0.328711</td>\n",
       "    </tr>\n",
       "    <tr>\n",
       "      <th>4</th>\n",
       "      <td>REPAYPERIOD</td>\n",
       "      <td>0.222087</td>\n",
       "    </tr>\n",
       "    <tr>\n",
       "      <th>5</th>\n",
       "      <td>FIRST_MONTH</td>\n",
       "      <td>0.175452</td>\n",
       "    </tr>\n",
       "    <tr>\n",
       "      <th>0</th>\n",
       "      <td>RECORDNUMBER</td>\n",
       "      <td>0.010851</td>\n",
       "    </tr>\n",
       "    <tr>\n",
       "      <th>6</th>\n",
       "      <td>CLASS</td>\n",
       "      <td>0.002989</td>\n",
       "    </tr>\n",
       "  </tbody>\n",
       "</table>\n",
       "</div>"
      ],
      "text/plain": [
       "        variable  info_value\n",
       "7           DMON   15.380886\n",
       "8           DVAL   10.579244\n",
       "13         SCORE    1.813817\n",
       "3     month_span    1.238260\n",
       "9    OPENBALANCE    1.154598\n",
       "12    LAST_MONTH    0.837700\n",
       "11  num_accounts    0.652928\n",
       "1   ACCSTARTDATE    0.639950\n",
       "10           UID    0.521418\n",
       "2     SEARCHDATE    0.328711\n",
       "4    REPAYPERIOD    0.222087\n",
       "5    FIRST_MONTH    0.175452\n",
       "0   RECORDNUMBER    0.010851\n",
       "6          CLASS    0.002989"
      ]
     },
     "execution_count": 243,
     "metadata": {},
     "output_type": "execute_result"
    }
   ],
   "source": [
    "# information value to see predictive power\n",
    "# as shown below, score, month_span, openbalance, num_accounts, repayperiod are quite predictive\n",
    "sc.iv(data, 'dflag')"
   ]
  },
  {
   "cell_type": "code",
   "execution_count": 244,
   "metadata": {},
   "outputs": [
    {
     "data": {
      "text/html": [
       "<div>\n",
       "<style scoped>\n",
       "    .dataframe tbody tr th:only-of-type {\n",
       "        vertical-align: middle;\n",
       "    }\n",
       "\n",
       "    .dataframe tbody tr th {\n",
       "        vertical-align: top;\n",
       "    }\n",
       "\n",
       "    .dataframe thead th {\n",
       "        text-align: right;\n",
       "    }\n",
       "</style>\n",
       "<table border=\"1\" class=\"dataframe\">\n",
       "  <thead>\n",
       "    <tr style=\"text-align: right;\">\n",
       "      <th></th>\n",
       "      <th>variable</th>\n",
       "      <th>info_value</th>\n",
       "    </tr>\n",
       "  </thead>\n",
       "  <tbody>\n",
       "    <tr>\n",
       "      <th>5</th>\n",
       "      <td>SCORE</td>\n",
       "      <td>1.813817</td>\n",
       "    </tr>\n",
       "    <tr>\n",
       "      <th>0</th>\n",
       "      <td>month_span</td>\n",
       "      <td>1.238260</td>\n",
       "    </tr>\n",
       "    <tr>\n",
       "      <th>3</th>\n",
       "      <td>OPENBALANCE</td>\n",
       "      <td>1.154598</td>\n",
       "    </tr>\n",
       "    <tr>\n",
       "      <th>4</th>\n",
       "      <td>num_accounts</td>\n",
       "      <td>0.652928</td>\n",
       "    </tr>\n",
       "    <tr>\n",
       "      <th>1</th>\n",
       "      <td>REPAYPERIOD</td>\n",
       "      <td>0.222087</td>\n",
       "    </tr>\n",
       "    <tr>\n",
       "      <th>2</th>\n",
       "      <td>CLASS</td>\n",
       "      <td>0.002989</td>\n",
       "    </tr>\n",
       "  </tbody>\n",
       "</table>\n",
       "</div>"
      ],
      "text/plain": [
       "       variable  info_value\n",
       "5         SCORE    1.813817\n",
       "0    month_span    1.238260\n",
       "3   OPENBALANCE    1.154598\n",
       "4  num_accounts    0.652928\n",
       "1   REPAYPERIOD    0.222087\n",
       "2         CLASS    0.002989"
      ]
     },
     "execution_count": 244,
     "metadata": {},
     "output_type": "execute_result"
    }
   ],
   "source": [
    "sc.iv(data[['SCORE', 'month_span', 'OPENBALANCE', 'num_accounts', 'REPAYPERIOD', 'CLASS', 'dflag']], 'dflag')"
   ]
  },
  {
   "cell_type": "code",
   "execution_count": 246,
   "metadata": {},
   "outputs": [
    {
     "name": "stdout",
     "output_type": "stream",
     "text": [
      "[INFO] creating woe binning ...\n"
     ]
    },
    {
     "data": {
      "text/plain": [
       "{'SCORE': <Figure size 432x288 with 2 Axes>,\n",
       " 'month_span': <Figure size 432x288 with 2 Axes>,\n",
       " 'OPENBALANCE': <Figure size 432x288 with 2 Axes>,\n",
       " 'num_accounts': <Figure size 432x288 with 2 Axes>,\n",
       " 'REPAYPERIOD': <Figure size 432x288 with 2 Axes>,\n",
       " 'CLASS': <Figure size 432x288 with 2 Axes>}"
      ]
     },
     "execution_count": 246,
     "metadata": {},
     "output_type": "execute_result"
    },
    {
     "data": {
      "image/png": "[encoded data removed]",
      "text/plain": [
       "<Figure size 432x288 with 2 Axes>"
      ]
     },
     "metadata": {
      "needs_background": "light"
     },
     "output_type": "display_data"
    },
    {
     "data": {
      "image/png": "[encoded data removed]",
      "text/plain": [
       "<Figure size 432x288 with 2 Axes>"
      ]
     },
     "metadata": {
      "needs_background": "light"
     },
     "output_type": "display_data"
    },
    {
     "data": {
      "image/png": "[encoded data removed]",
      "text/plain": [
       "<Figure size 432x288 with 2 Axes>"
      ]
     },
     "metadata": {
      "needs_background": "light"
     },
     "output_type": "display_data"
    },
    {
     "data": {
      "image/png": "[encoded data removed]",
      "text/plain": [
       "<Figure size 432x288 with 2 Axes>"
      ]
     },
     "metadata": {
      "needs_background": "light"
     },
     "output_type": "display_data"
    },
    {
     "data": {
      "image/png": "[encoded data removed]",
      "text/plain": [
       "<Figure size 432x288 with 2 Axes>"
      ]
     },
     "metadata": {
      "needs_background": "light"
     },
     "output_type": "display_data"
    },
    {
     "data": {
      "image/png": "[encoded data removed]",
      "text/plain": [
       "<Figure size 432x288 with 2 Axes>"
      ]
     },
     "metadata": {
      "needs_background": "light"
     },
     "output_type": "display_data"
    }
   ],
   "source": [
    "# The higher the score, the lower the PD\n",
    "# The higher the previous payment, the lower the PD.\n",
    "# The higher number of accounts, the lower the PD.\n",
    "# The relationship of month_span is nonlinear.\n",
    "bins = sc.woebin(data, 'dflag', ['SCORE', 'month_span', 'OPENBALANCE', 'num_accounts', 'REPAYPERIOD', 'CLASS'])\n",
    "\n",
    "sc.woebin_plot(bins)"
   ]
  },
  {
   "cell_type": "code",
   "execution_count": null,
   "metadata": {},
   "outputs": [],
   "source": []
  },
  {
   "cell_type": "code",
   "execution_count": null,
   "metadata": {},
   "outputs": [],
   "source": []
  },
  {
   "cell_type": "code",
   "execution_count": 437,
   "metadata": {},
   "outputs": [
    {
     "data": {
      "text/html": [
       "<div>\n",
       "<style scoped>\n",
       "    .dataframe tbody tr th:only-of-type {\n",
       "        vertical-align: middle;\n",
       "    }\n",
       "\n",
       "    .dataframe tbody tr th {\n",
       "        vertical-align: top;\n",
       "    }\n",
       "\n",
       "    .dataframe thead th {\n",
       "        text-align: right;\n",
       "    }\n",
       "</style>\n",
       "<table border=\"1\" class=\"dataframe\">\n",
       "  <thead>\n",
       "    <tr style=\"text-align: right;\">\n",
       "      <th></th>\n",
       "      <th>feature</th>\n",
       "      <th>VIF</th>\n",
       "    </tr>\n",
       "  </thead>\n",
       "  <tbody>\n",
       "    <tr>\n",
       "      <th>0</th>\n",
       "      <td>SCORE</td>\n",
       "      <td>9.802786</td>\n",
       "    </tr>\n",
       "    <tr>\n",
       "      <th>1</th>\n",
       "      <td>month_span</td>\n",
       "      <td>2.095765</td>\n",
       "    </tr>\n",
       "    <tr>\n",
       "      <th>2</th>\n",
       "      <td>OPENBALANCE</td>\n",
       "      <td>2.499710</td>\n",
       "    </tr>\n",
       "    <tr>\n",
       "      <th>3</th>\n",
       "      <td>num_accounts</td>\n",
       "      <td>4.485332</td>\n",
       "    </tr>\n",
       "    <tr>\n",
       "      <th>4</th>\n",
       "      <td>REPAYPERIOD</td>\n",
       "      <td>10.373762</td>\n",
       "    </tr>\n",
       "  </tbody>\n",
       "</table>\n",
       "</div>"
      ],
      "text/plain": [
       "        feature        VIF\n",
       "0         SCORE   9.802786\n",
       "1    month_span   2.095765\n",
       "2   OPENBALANCE   2.499710\n",
       "3  num_accounts   4.485332\n",
       "4   REPAYPERIOD  10.373762"
      ]
     },
     "execution_count": 437,
     "metadata": {},
     "output_type": "execute_result"
    }
   ],
   "source": [
    "# VIF test, high VIF for some attributes\n",
    "vif_data = data[['SCORE', 'month_span', 'OPENBALANCE', 'num_accounts', 'REPAYPERIOD', 'dflag']].copy()\n",
    "vif_data = vif_data.dropna()\n",
    "\n",
    "x_0 = model_data.iloc[:, :-1]\n",
    "vif = pd.DataFrame()\n",
    "vif['feature'] = x_0.columns\n",
    "vif['VIF'] = [variance_inflation_factor(x_0.values, i) for i in range(len(x_0.columns))]\n",
    "vif"
   ]
  },
  {
   "cell_type": "code",
   "execution_count": null,
   "metadata": {},
   "outputs": [],
   "source": []
  },
  {
   "cell_type": "markdown",
   "metadata": {},
   "source": [
    "#### A common method for score card is to bucket/binning the variables, but for this practice, continuous variable will be used."
   ]
  },
  {
   "cell_type": "markdown",
   "metadata": {},
   "source": [
    "#### Preprocessing"
   ]
  },
  {
   "cell_type": "code",
   "execution_count": 12,
   "metadata": {},
   "outputs": [],
   "source": [
    "model_data = data[['SCORE', 'month_span', 'OPENBALANCE', 'num_accounts', 'REPAYPERIOD', 'CLASS', 'dflag']].dropna()\n",
    "\n",
    "x = model_data[['SCORE', 'month_span', 'OPENBALANCE', 'num_accounts', 'REPAYPERIOD', 'CLASS']]\n",
    "\n",
    "y = model_data['dflag']\n",
    "\n",
    "x_train, x_test, y_train, y_test = train_test_split(x, y, test_size=0.10, random_state=1)"
   ]
  },
  {
   "cell_type": "code",
   "execution_count": 13,
   "metadata": {},
   "outputs": [],
   "source": [
    "# Convert to categorical variable\n",
    "x_train = x_train.copy()\n",
    "x_test = x_test.copy()\n",
    "\n",
    "encoder = OneHotEncoder(drop = 'first')\n",
    "encoder.fit_transform(x_train[['CLASS']])\n",
    "\n",
    "x_train[encoder.get_feature_names(['CLASS'])] = OneHotEncoder(drop = 'first').fit_transform(x_train[['CLASS']]).toarray()\n",
    "x_test[encoder.get_feature_names(['CLASS'])] = encoder.transform(x_test[['CLASS']]).toarray()\n"
   ]
  },
  {
   "cell_type": "code",
   "execution_count": 14,
   "metadata": {},
   "outputs": [],
   "source": [
    "# save the original copy of the data for tree-based models or non-normalized models\n",
    "x_ori_train = x_train.copy()\n",
    "x_ori_test = x_test.copy()"
   ]
  },
  {
   "cell_type": "code",
   "execution_count": 15,
   "metadata": {},
   "outputs": [],
   "source": [
    "# Standardization for logistic regression\n",
    "num_features = x_train.columns.drop(['CLASS', 'CLASS_STANDARD'])\n",
    "\n",
    "normalizer = StandardScaler()\n",
    "x_train[num_features] = normalizer.fit_transform(x_train[num_features])\n",
    "x_test[num_features] = normalizer.transform(x_test[num_features])\n"
   ]
  },
  {
   "cell_type": "code",
   "execution_count": 16,
   "metadata": {},
   "outputs": [
    {
     "data": {
      "text/html": [
       "<div>\n",
       "<style scoped>\n",
       "    .dataframe tbody tr th:only-of-type {\n",
       "        vertical-align: middle;\n",
       "    }\n",
       "\n",
       "    .dataframe tbody tr th {\n",
       "        vertical-align: top;\n",
       "    }\n",
       "\n",
       "    .dataframe thead th {\n",
       "        text-align: right;\n",
       "    }\n",
       "</style>\n",
       "<table border=\"1\" class=\"dataframe\">\n",
       "  <thead>\n",
       "    <tr style=\"text-align: right;\">\n",
       "      <th></th>\n",
       "      <th>SCORE</th>\n",
       "      <th>month_span</th>\n",
       "      <th>OPENBALANCE</th>\n",
       "      <th>num_accounts</th>\n",
       "      <th>REPAYPERIOD</th>\n",
       "      <th>CLASS</th>\n",
       "      <th>CLASS_STANDARD</th>\n",
       "    </tr>\n",
       "  </thead>\n",
       "  <tbody>\n",
       "    <tr>\n",
       "      <th>37645</th>\n",
       "      <td>-0.162183</td>\n",
       "      <td>-0.751252</td>\n",
       "      <td>0.283248</td>\n",
       "      <td>0.152978</td>\n",
       "      <td>-0.438520</td>\n",
       "      <td>PREMIUM</td>\n",
       "      <td>0.0</td>\n",
       "    </tr>\n",
       "    <tr>\n",
       "      <th>19916</th>\n",
       "      <td>-0.197173</td>\n",
       "      <td>-0.655381</td>\n",
       "      <td>-0.584232</td>\n",
       "      <td>0.152978</td>\n",
       "      <td>-0.438520</td>\n",
       "      <td>STANDARD</td>\n",
       "      <td>1.0</td>\n",
       "    </tr>\n",
       "    <tr>\n",
       "      <th>22322</th>\n",
       "      <td>-0.284647</td>\n",
       "      <td>1.387072</td>\n",
       "      <td>0.981001</td>\n",
       "      <td>0.649164</td>\n",
       "      <td>1.864677</td>\n",
       "      <td>STANDARD</td>\n",
       "      <td>1.0</td>\n",
       "    </tr>\n",
       "    <tr>\n",
       "      <th>53567</th>\n",
       "      <td>0.642583</td>\n",
       "      <td>2.058170</td>\n",
       "      <td>1.571769</td>\n",
       "      <td>1.145349</td>\n",
       "      <td>1.864677</td>\n",
       "      <td>STANDARD</td>\n",
       "      <td>1.0</td>\n",
       "    </tr>\n",
       "    <tr>\n",
       "      <th>16141</th>\n",
       "      <td>-0.861980</td>\n",
       "      <td>-0.503730</td>\n",
       "      <td>0.412269</td>\n",
       "      <td>-0.343208</td>\n",
       "      <td>-0.438520</td>\n",
       "      <td>PREMIUM</td>\n",
       "      <td>0.0</td>\n",
       "    </tr>\n",
       "    <tr>\n",
       "      <th>...</th>\n",
       "      <td>...</td>\n",
       "      <td>...</td>\n",
       "      <td>...</td>\n",
       "      <td>...</td>\n",
       "      <td>...</td>\n",
       "      <td>...</td>\n",
       "      <td>...</td>\n",
       "    </tr>\n",
       "    <tr>\n",
       "      <th>13705</th>\n",
       "      <td>1.149936</td>\n",
       "      <td>-0.217860</td>\n",
       "      <td>-0.251168</td>\n",
       "      <td>-0.343208</td>\n",
       "      <td>-0.438520</td>\n",
       "      <td>STANDARD</td>\n",
       "      <td>1.0</td>\n",
       "    </tr>\n",
       "    <tr>\n",
       "      <th>55794</th>\n",
       "      <td>-0.319637</td>\n",
       "      <td>0.420120</td>\n",
       "      <td>-0.535787</td>\n",
       "      <td>-0.343208</td>\n",
       "      <td>-0.438520</td>\n",
       "      <td>STANDARD</td>\n",
       "      <td>1.0</td>\n",
       "    </tr>\n",
       "    <tr>\n",
       "      <th>9066</th>\n",
       "      <td>0.607594</td>\n",
       "      <td>-0.253144</td>\n",
       "      <td>-0.551430</td>\n",
       "      <td>2.137721</td>\n",
       "      <td>-1.206253</td>\n",
       "      <td>STANDARD</td>\n",
       "      <td>1.0</td>\n",
       "    </tr>\n",
       "    <tr>\n",
       "      <th>21188</th>\n",
       "      <td>-1.176888</td>\n",
       "      <td>-0.338134</td>\n",
       "      <td>-0.464295</td>\n",
       "      <td>-0.839393</td>\n",
       "      <td>-0.438520</td>\n",
       "      <td>PREMIUM</td>\n",
       "      <td>0.0</td>\n",
       "    </tr>\n",
       "    <tr>\n",
       "      <th>56626</th>\n",
       "      <td>-1.001939</td>\n",
       "      <td>1.081182</td>\n",
       "      <td>-0.326864</td>\n",
       "      <td>1.145349</td>\n",
       "      <td>0.329212</td>\n",
       "      <td>STANDARD</td>\n",
       "      <td>1.0</td>\n",
       "    </tr>\n",
       "  </tbody>\n",
       "</table>\n",
       "<p>30742 rows × 7 columns</p>\n",
       "</div>"
      ],
      "text/plain": [
       "          SCORE  month_span  OPENBALANCE  num_accounts  REPAYPERIOD     CLASS  \\\n",
       "37645 -0.162183   -0.751252     0.283248      0.152978    -0.438520   PREMIUM   \n",
       "19916 -0.197173   -0.655381    -0.584232      0.152978    -0.438520  STANDARD   \n",
       "22322 -0.284647    1.387072     0.981001      0.649164     1.864677  STANDARD   \n",
       "53567  0.642583    2.058170     1.571769      1.145349     1.864677  STANDARD   \n",
       "16141 -0.861980   -0.503730     0.412269     -0.343208    -0.438520   PREMIUM   \n",
       "...         ...         ...          ...           ...          ...       ...   \n",
       "13705  1.149936   -0.217860    -0.251168     -0.343208    -0.438520  STANDARD   \n",
       "55794 -0.319637    0.420120    -0.535787     -0.343208    -0.438520  STANDARD   \n",
       "9066   0.607594   -0.253144    -0.551430      2.137721    -1.206253  STANDARD   \n",
       "21188 -1.176888   -0.338134    -0.464295     -0.839393    -0.438520   PREMIUM   \n",
       "56626 -1.001939    1.081182    -0.326864      1.145349     0.329212  STANDARD   \n",
       "\n",
       "       CLASS_STANDARD  \n",
       "37645             0.0  \n",
       "19916             1.0  \n",
       "22322             1.0  \n",
       "53567             1.0  \n",
       "16141             0.0  \n",
       "...               ...  \n",
       "13705             1.0  \n",
       "55794             1.0  \n",
       "9066              1.0  \n",
       "21188             0.0  \n",
       "56626             1.0  \n",
       "\n",
       "[30742 rows x 7 columns]"
      ]
     },
     "execution_count": 16,
     "metadata": {},
     "output_type": "execute_result"
    }
   ],
   "source": [
    "x_train"
   ]
  },
  {
   "cell_type": "code",
   "execution_count": 17,
   "metadata": {},
   "outputs": [
    {
     "data": {
      "text/html": [
       "<div>\n",
       "<style scoped>\n",
       "    .dataframe tbody tr th:only-of-type {\n",
       "        vertical-align: middle;\n",
       "    }\n",
       "\n",
       "    .dataframe tbody tr th {\n",
       "        vertical-align: top;\n",
       "    }\n",
       "\n",
       "    .dataframe thead th {\n",
       "        text-align: right;\n",
       "    }\n",
       "</style>\n",
       "<table border=\"1\" class=\"dataframe\">\n",
       "  <thead>\n",
       "    <tr style=\"text-align: right;\">\n",
       "      <th></th>\n",
       "      <th>SCORE</th>\n",
       "      <th>month_span</th>\n",
       "      <th>OPENBALANCE</th>\n",
       "      <th>num_accounts</th>\n",
       "      <th>REPAYPERIOD</th>\n",
       "      <th>CLASS</th>\n",
       "      <th>CLASS_STANDARD</th>\n",
       "    </tr>\n",
       "  </thead>\n",
       "  <tbody>\n",
       "    <tr>\n",
       "      <th>19492</th>\n",
       "      <td>-1.229373</td>\n",
       "      <td>-0.636206</td>\n",
       "      <td>-0.584232</td>\n",
       "      <td>3.130092</td>\n",
       "      <td>-0.438520</td>\n",
       "      <td>PREMIUM</td>\n",
       "      <td>0.0</td>\n",
       "    </tr>\n",
       "    <tr>\n",
       "      <th>39075</th>\n",
       "      <td>-1.421817</td>\n",
       "      <td>1.025402</td>\n",
       "      <td>-0.158650</td>\n",
       "      <td>1.145349</td>\n",
       "      <td>0.329212</td>\n",
       "      <td>PREMIUM</td>\n",
       "      <td>0.0</td>\n",
       "    </tr>\n",
       "    <tr>\n",
       "      <th>44397</th>\n",
       "      <td>-1.439312</td>\n",
       "      <td>-0.794830</td>\n",
       "      <td>0.135725</td>\n",
       "      <td>0.649164</td>\n",
       "      <td>-0.438520</td>\n",
       "      <td>PREMIUM</td>\n",
       "      <td>0.0</td>\n",
       "    </tr>\n",
       "    <tr>\n",
       "      <th>32194</th>\n",
       "      <td>0.625089</td>\n",
       "      <td>-0.274062</td>\n",
       "      <td>-0.579186</td>\n",
       "      <td>0.649164</td>\n",
       "      <td>-1.206253</td>\n",
       "      <td>STANDARD</td>\n",
       "      <td>1.0</td>\n",
       "    </tr>\n",
       "    <tr>\n",
       "      <th>23130</th>\n",
       "      <td>1.482340</td>\n",
       "      <td>-0.772169</td>\n",
       "      <td>-0.495247</td>\n",
       "      <td>0.152978</td>\n",
       "      <td>-0.438520</td>\n",
       "      <td>STANDARD</td>\n",
       "      <td>1.0</td>\n",
       "    </tr>\n",
       "    <tr>\n",
       "      <th>...</th>\n",
       "      <td>...</td>\n",
       "      <td>...</td>\n",
       "      <td>...</td>\n",
       "      <td>...</td>\n",
       "      <td>...</td>\n",
       "      <td>...</td>\n",
       "      <td>...</td>\n",
       "    </tr>\n",
       "    <tr>\n",
       "      <th>44147</th>\n",
       "      <td>-0.022223</td>\n",
       "      <td>0.413587</td>\n",
       "      <td>-0.515433</td>\n",
       "      <td>0.152978</td>\n",
       "      <td>-0.694431</td>\n",
       "      <td>STANDARD</td>\n",
       "      <td>1.0</td>\n",
       "    </tr>\n",
       "    <tr>\n",
       "      <th>4241</th>\n",
       "      <td>1.552319</td>\n",
       "      <td>2.333582</td>\n",
       "      <td>-0.200704</td>\n",
       "      <td>0.649164</td>\n",
       "      <td>1.864677</td>\n",
       "      <td>STANDARD</td>\n",
       "      <td>1.0</td>\n",
       "    </tr>\n",
       "    <tr>\n",
       "      <th>51431</th>\n",
       "      <td>0.205210</td>\n",
       "      <td>0.282414</td>\n",
       "      <td>0.645077</td>\n",
       "      <td>2.633906</td>\n",
       "      <td>-0.438520</td>\n",
       "      <td>PREMIUM</td>\n",
       "      <td>0.0</td>\n",
       "    </tr>\n",
       "    <tr>\n",
       "      <th>33197</th>\n",
       "      <td>-0.442102</td>\n",
       "      <td>-0.165566</td>\n",
       "      <td>-0.624604</td>\n",
       "      <td>1.145349</td>\n",
       "      <td>-0.438520</td>\n",
       "      <td>PREMIUM</td>\n",
       "      <td>0.0</td>\n",
       "    </tr>\n",
       "    <tr>\n",
       "      <th>56715</th>\n",
       "      <td>-0.914464</td>\n",
       "      <td>2.427710</td>\n",
       "      <td>-0.032490</td>\n",
       "      <td>-0.343208</td>\n",
       "      <td>1.864677</td>\n",
       "      <td>STANDARD</td>\n",
       "      <td>1.0</td>\n",
       "    </tr>\n",
       "  </tbody>\n",
       "</table>\n",
       "<p>3416 rows × 7 columns</p>\n",
       "</div>"
      ],
      "text/plain": [
       "          SCORE  month_span  OPENBALANCE  num_accounts  REPAYPERIOD     CLASS  \\\n",
       "19492 -1.229373   -0.636206    -0.584232      3.130092    -0.438520   PREMIUM   \n",
       "39075 -1.421817    1.025402    -0.158650      1.145349     0.329212   PREMIUM   \n",
       "44397 -1.439312   -0.794830     0.135725      0.649164    -0.438520   PREMIUM   \n",
       "32194  0.625089   -0.274062    -0.579186      0.649164    -1.206253  STANDARD   \n",
       "23130  1.482340   -0.772169    -0.495247      0.152978    -0.438520  STANDARD   \n",
       "...         ...         ...          ...           ...          ...       ...   \n",
       "44147 -0.022223    0.413587    -0.515433      0.152978    -0.694431  STANDARD   \n",
       "4241   1.552319    2.333582    -0.200704      0.649164     1.864677  STANDARD   \n",
       "51431  0.205210    0.282414     0.645077      2.633906    -0.438520   PREMIUM   \n",
       "33197 -0.442102   -0.165566    -0.624604      1.145349    -0.438520   PREMIUM   \n",
       "56715 -0.914464    2.427710    -0.032490     -0.343208     1.864677  STANDARD   \n",
       "\n",
       "       CLASS_STANDARD  \n",
       "19492             0.0  \n",
       "39075             0.0  \n",
       "44397             0.0  \n",
       "32194             1.0  \n",
       "23130             1.0  \n",
       "...               ...  \n",
       "44147             1.0  \n",
       "4241              1.0  \n",
       "51431             0.0  \n",
       "33197             0.0  \n",
       "56715             1.0  \n",
       "\n",
       "[3416 rows x 7 columns]"
      ]
     },
     "execution_count": 17,
     "metadata": {},
     "output_type": "execute_result"
    }
   ],
   "source": [
    "x_test"
   ]
  },
  {
   "cell_type": "code",
   "execution_count": null,
   "metadata": {},
   "outputs": [],
   "source": []
  },
  {
   "cell_type": "markdown",
   "metadata": {},
   "source": [
    "#### As the data is unbalanced, the following models will focus on F1 score metrics, model will also be trained on the balanced dataset provided before using undersampling method."
   ]
  },
  {
   "cell_type": "markdown",
   "metadata": {},
   "source": [
    "#### Feature Selection"
   ]
  },
  {
   "cell_type": "code",
   "execution_count": 18,
   "metadata": {},
   "outputs": [],
   "source": [
    "x_fs = x_train.drop(['CLASS'], axis = 1)\n",
    "y_fs = y_train"
   ]
  },
  {
   "cell_type": "code",
   "execution_count": 19,
   "metadata": {},
   "outputs": [
    {
     "name": "stdout",
     "output_type": "stream",
     "text": [
      "('const', 'SCORE', 'month_span', 'OPENBALANCE', 'num_accounts', 'REPAYPERIOD', 'CLASS_STANDARD')\n",
      "0.5400692897178095\n"
     ]
    }
   ],
   "source": [
    "# forward selection, parsimonious.\n",
    "ffs = SFS(LogisticRegression(C = 1e9, fit_intercept = False), \n",
    "          k_features = 'parsimonious',\n",
    "          forward = True,\n",
    "          scoring = 'f1',\n",
    "          cv = 5).fit(sm.add_constant(x_fs), y_fs)\n",
    "\n",
    "print(ffs.k_feature_names_)\n",
    "print(ffs.k_score_)"
   ]
  },
  {
   "cell_type": "code",
   "execution_count": 20,
   "metadata": {},
   "outputs": [
    {
     "name": "stdout",
     "output_type": "stream",
     "text": [
      "('const', 'SCORE', 'month_span', 'OPENBALANCE', 'num_accounts', 'REPAYPERIOD', 'CLASS_STANDARD')\n",
      "0.5400692897178095\n"
     ]
    }
   ],
   "source": [
    "# backward selection, parsimonious.\n",
    "sbs = SFS(LogisticRegression(C = 1e9, fit_intercept = False), \n",
    "          k_features = 'parsimonious',\n",
    "          forward = False,\n",
    "          scoring = 'f1',\n",
    "          cv = 5).fit(sm.add_constant(x_fs), y_fs)\n",
    "\n",
    "print(sbs.k_feature_names_)\n",
    "print(sbs.k_score_)"
   ]
  },
  {
   "cell_type": "code",
   "execution_count": 21,
   "metadata": {},
   "outputs": [
    {
     "name": "stdout",
     "output_type": "stream",
     "text": [
      "('const', 'SCORE', 'month_span', 'OPENBALANCE', 'num_accounts', 'REPAYPERIOD', 'CLASS_STANDARD')\n",
      "0.5400692897178095\n"
     ]
    }
   ],
   "source": [
    "# stepwise feature selection, parsimounious.\n",
    "sffs = SFS(LogisticRegression(C = 1e9, fit_intercept = False), \n",
    "          k_features = 'parsimonious',\n",
    "          forward = True,\n",
    "          floating = True,\n",
    "          scoring = 'f1',\n",
    "          cv = 5).fit(sm.add_constant(x_fs), y_fs)\n",
    "\n",
    "print(sffs.k_feature_names_)\n",
    "print(sffs.k_score_)"
   ]
  },
  {
   "cell_type": "code",
   "execution_count": null,
   "metadata": {},
   "outputs": [],
   "source": []
  },
  {
   "cell_type": "code",
   "execution_count": null,
   "metadata": {},
   "outputs": [],
   "source": []
  },
  {
   "cell_type": "markdown",
   "metadata": {},
   "source": [
    "#### As the data is unbalanced, the following models will focus on F1 score metrics, model will also be trained on the balanced dataset provided before using undersampling method.  KFold cross validation is used for validation."
   ]
  },
  {
   "cell_type": "markdown",
   "metadata": {},
   "source": [
    "#### Logistic Regression Modeling"
   ]
  },
  {
   "cell_type": "code",
   "execution_count": 22,
   "metadata": {},
   "outputs": [],
   "source": [
    "folds = KFold(n_splits = 5, shuffle = True, random_state = 1)"
   ]
  },
  {
   "cell_type": "code",
   "execution_count": 23,
   "metadata": {},
   "outputs": [
    {
     "name": "stdout",
     "output_type": "stream",
     "text": [
      "Optimization terminated successfully.\n",
      "         Current function value: 0.210920\n",
      "         Iterations 8\n"
     ]
    }
   ],
   "source": [
    "model_1 = smf.logit(formula = 'dflag ~ SCORE + month_span + OPENBALANCE + num_accounts + REPAYPERIOD + CLASS', data = pd.concat([x_train, y_train], axis = 1)).fit()"
   ]
  },
  {
   "cell_type": "code",
   "execution_count": 24,
   "metadata": {},
   "outputs": [
    {
     "name": "stdout",
     "output_type": "stream",
     "text": [
      "                           Logit Regression Results                           \n",
      "==============================================================================\n",
      "Dep. Variable:                  dflag   No. Observations:                30742\n",
      "Model:                          Logit   Df Residuals:                    30735\n",
      "Method:                           MLE   Df Model:                            6\n",
      "Date:                Fri, 30 Jul 2021   Pseudo R-squ.:                  0.4226\n",
      "Time:                        15:28:00   Log-Likelihood:                -6484.1\n",
      "converged:                       True   LL-Null:                       -11230.\n",
      "Covariance Type:            nonrobust   LLR p-value:                     0.000\n",
      "=====================================================================================\n",
      "                        coef    std err          z      P>|z|      [0.025      0.975]\n",
      "-------------------------------------------------------------------------------------\n",
      "Intercept            -3.4923      0.054    -64.399      0.000      -3.599      -3.386\n",
      "CLASS[T.STANDARD]    -0.1061      0.048     -2.233      0.026      -0.199      -0.013\n",
      "SCORE                -1.9502      0.041    -48.133      0.000      -2.030      -1.871\n",
      "month_span           -1.4624      0.030    -48.332      0.000      -1.522      -1.403\n",
      "OPENBALANCE           0.4406      0.031     14.413      0.000       0.381       0.500\n",
      "num_accounts         -0.6213      0.028    -21.935      0.000      -0.677      -0.566\n",
      "REPAYPERIOD           0.7906      0.032     24.724      0.000       0.728       0.853\n",
      "=====================================================================================\n"
     ]
    }
   ],
   "source": [
    "print(model_1.summary())"
   ]
  },
  {
   "cell_type": "code",
   "execution_count": 25,
   "metadata": {},
   "outputs": [
    {
     "data": {
      "text/plain": [
       "array([0.51928021, 0.51802179, 0.5508982 , 0.55849701, 0.55390009])"
      ]
     },
     "execution_count": 25,
     "metadata": {},
     "output_type": "execute_result"
    }
   ],
   "source": [
    "x_cv = x_train.drop(['CLASS'], axis = 1)\n",
    "y_cv = y_train\n",
    "\n",
    "model_1_cv = LogisticRegression(C = 1e9, fit_intercept = False)\n",
    "\n",
    "scores_1 = cross_val_score(model_1_cv, sm.add_constant(x_cv), y_cv, scoring = 'f1', cv = folds)\n",
    "\n",
    "scores_1"
   ]
  },
  {
   "cell_type": "code",
   "execution_count": 26,
   "metadata": {},
   "outputs": [
    {
     "data": {
      "text/html": [
       "<div>\n",
       "<style scoped>\n",
       "    .dataframe tbody tr th:only-of-type {\n",
       "        vertical-align: middle;\n",
       "    }\n",
       "\n",
       "    .dataframe tbody tr th {\n",
       "        vertical-align: top;\n",
       "    }\n",
       "\n",
       "    .dataframe thead th {\n",
       "        text-align: right;\n",
       "    }\n",
       "</style>\n",
       "<table border=\"1\" class=\"dataframe\">\n",
       "  <thead>\n",
       "    <tr style=\"text-align: right;\">\n",
       "      <th></th>\n",
       "      <th>feature</th>\n",
       "      <th>VIF</th>\n",
       "    </tr>\n",
       "  </thead>\n",
       "  <tbody>\n",
       "    <tr>\n",
       "      <th>0</th>\n",
       "      <td>SCORE</td>\n",
       "      <td>1.073914</td>\n",
       "    </tr>\n",
       "    <tr>\n",
       "      <th>1</th>\n",
       "      <td>month_span</td>\n",
       "      <td>1.507875</td>\n",
       "    </tr>\n",
       "    <tr>\n",
       "      <th>2</th>\n",
       "      <td>OPENBALANCE</td>\n",
       "      <td>1.736282</td>\n",
       "    </tr>\n",
       "    <tr>\n",
       "      <th>3</th>\n",
       "      <td>num_accounts</td>\n",
       "      <td>1.039636</td>\n",
       "    </tr>\n",
       "    <tr>\n",
       "      <th>4</th>\n",
       "      <td>REPAYPERIOD</td>\n",
       "      <td>2.154854</td>\n",
       "    </tr>\n",
       "    <tr>\n",
       "      <th>5</th>\n",
       "      <td>CLASS_STANDARD</td>\n",
       "      <td>1.002403</td>\n",
       "    </tr>\n",
       "  </tbody>\n",
       "</table>\n",
       "</div>"
      ],
      "text/plain": [
       "          feature       VIF\n",
       "0           SCORE  1.073914\n",
       "1      month_span  1.507875\n",
       "2     OPENBALANCE  1.736282\n",
       "3    num_accounts  1.039636\n",
       "4     REPAYPERIOD  2.154854\n",
       "5  CLASS_STANDARD  1.002403"
      ]
     },
     "execution_count": 26,
     "metadata": {},
     "output_type": "execute_result"
    }
   ],
   "source": [
    "# VIF test, low VIF\n",
    "x_1 = x_train.drop(['CLASS'], axis = 1)\n",
    "vif = pd.DataFrame()\n",
    "vif['feature'] = x_1.columns\n",
    "vif['VIF'] = [variance_inflation_factor(x_1.values, i) for i in range(len(x_1.columns))]\n",
    "vif"
   ]
  },
  {
   "cell_type": "code",
   "execution_count": null,
   "metadata": {},
   "outputs": [],
   "source": []
  },
  {
   "cell_type": "markdown",
   "metadata": {},
   "source": [
    "#### Logistic Regression Modeling using variables without normalization for easier interpretation"
   ]
  },
  {
   "cell_type": "code",
   "execution_count": 27,
   "metadata": {},
   "outputs": [
    {
     "name": "stdout",
     "output_type": "stream",
     "text": [
      "Optimization terminated successfully.\n",
      "         Current function value: 0.210920\n",
      "         Iterations 9\n"
     ]
    }
   ],
   "source": [
    "model_2 = smf.logit(formula = 'dflag ~ SCORE + month_span + OPENBALANCE + num_accounts + REPAYPERIOD + CLASS', data = pd.concat([x_ori_train, y_train], axis = 1)).fit()"
   ]
  },
  {
   "cell_type": "code",
   "execution_count": 28,
   "metadata": {},
   "outputs": [
    {
     "name": "stdout",
     "output_type": "stream",
     "text": [
      "                           Logit Regression Results                           \n",
      "==============================================================================\n",
      "Dep. Variable:                  dflag   No. Observations:                30742\n",
      "Model:                          Logit   Df Residuals:                    30735\n",
      "Method:                           MLE   Df Model:                            6\n",
      "Date:                Fri, 30 Jul 2021   Pseudo R-squ.:                  0.4226\n",
      "Time:                        15:28:05   Log-Likelihood:                -6484.1\n",
      "converged:                       True   LL-Null:                       -11230.\n",
      "Covariance Type:            nonrobust   LLR p-value:                     0.000\n",
      "=====================================================================================\n",
      "                        coef    std err          z      P>|z|      [0.025      0.975]\n",
      "-------------------------------------------------------------------------------------\n",
      "Intercept            17.1477      0.379     45.237      0.000      16.405      17.891\n",
      "CLASS[T.STANDARD]    -0.1061      0.048     -2.233      0.026      -0.199      -0.013\n",
      "SCORE                -0.0341      0.001    -48.133      0.000      -0.036      -0.033\n",
      "month_span           -0.0776      0.002    -48.332      0.000      -0.081      -0.074\n",
      "OPENBALANCE        7.411e-05   5.14e-06     14.413      0.000     6.4e-05    8.42e-05\n",
      "num_accounts         -0.3083      0.014    -21.935      0.000      -0.336      -0.281\n",
      "REPAYPERIOD           0.0506      0.002     24.724      0.000       0.047       0.055\n",
      "=====================================================================================\n"
     ]
    }
   ],
   "source": [
    "print(model_2.summary())"
   ]
  },
  {
   "cell_type": "code",
   "execution_count": 99,
   "metadata": {},
   "outputs": [
    {
     "data": {
      "text/plain": [
       "array([0.51928021, 0.51802179, 0.38445808, 0.55849701, 0.37579618])"
      ]
     },
     "execution_count": 99,
     "metadata": {},
     "output_type": "execute_result"
    }
   ],
   "source": [
    "x_cv = x_ori_train.drop(['CLASS'], axis = 1)\n",
    "y_cv = y_train\n",
    "\n",
    "model_2_cv = LogisticRegression(C = 1e9, fit_intercept = False, max_iter = 500)\n",
    "\n",
    "scores_2 = cross_val_score(model_2_cv, sm.add_constant(x_cv), y_cv, scoring = 'f1', cv = folds)\n",
    "\n",
    "scores_2"
   ]
  },
  {
   "cell_type": "code",
   "execution_count": 30,
   "metadata": {},
   "outputs": [
    {
     "data": {
      "text/html": [
       "<div>\n",
       "<style scoped>\n",
       "    .dataframe tbody tr th:only-of-type {\n",
       "        vertical-align: middle;\n",
       "    }\n",
       "\n",
       "    .dataframe tbody tr th {\n",
       "        vertical-align: top;\n",
       "    }\n",
       "\n",
       "    .dataframe thead th {\n",
       "        text-align: right;\n",
       "    }\n",
       "</style>\n",
       "<table border=\"1\" class=\"dataframe\">\n",
       "  <thead>\n",
       "    <tr style=\"text-align: right;\">\n",
       "      <th></th>\n",
       "      <th>feature</th>\n",
       "      <th>VIF</th>\n",
       "    </tr>\n",
       "  </thead>\n",
       "  <tbody>\n",
       "    <tr>\n",
       "      <th>0</th>\n",
       "      <td>SCORE</td>\n",
       "      <td>11.722188</td>\n",
       "    </tr>\n",
       "    <tr>\n",
       "      <th>1</th>\n",
       "      <td>month_span</td>\n",
       "      <td>2.095310</td>\n",
       "    </tr>\n",
       "    <tr>\n",
       "      <th>2</th>\n",
       "      <td>OPENBALANCE</td>\n",
       "      <td>2.517950</td>\n",
       "    </tr>\n",
       "    <tr>\n",
       "      <th>3</th>\n",
       "      <td>num_accounts</td>\n",
       "      <td>4.486043</td>\n",
       "    </tr>\n",
       "    <tr>\n",
       "      <th>4</th>\n",
       "      <td>REPAYPERIOD</td>\n",
       "      <td>10.354730</td>\n",
       "    </tr>\n",
       "    <tr>\n",
       "      <th>5</th>\n",
       "      <td>CLASS_STANDARD</td>\n",
       "      <td>2.920971</td>\n",
       "    </tr>\n",
       "  </tbody>\n",
       "</table>\n",
       "</div>"
      ],
      "text/plain": [
       "          feature        VIF\n",
       "0           SCORE  11.722188\n",
       "1      month_span   2.095310\n",
       "2     OPENBALANCE   2.517950\n",
       "3    num_accounts   4.486043\n",
       "4     REPAYPERIOD  10.354730\n",
       "5  CLASS_STANDARD   2.920971"
      ]
     },
     "execution_count": 30,
     "metadata": {},
     "output_type": "execute_result"
    }
   ],
   "source": [
    "# VIF test, some high VIF, might need to drop some variables\n",
    "x_2 = x_ori_train.drop(['CLASS'], axis = 1)\n",
    "vif = pd.DataFrame()\n",
    "vif['feature'] = x_2.columns\n",
    "vif['VIF'] = [variance_inflation_factor(x_2.values, i) for i in range(len(x_2.columns))]\n",
    "vif"
   ]
  },
  {
   "cell_type": "code",
   "execution_count": null,
   "metadata": {},
   "outputs": [],
   "source": []
  },
  {
   "cell_type": "markdown",
   "metadata": {},
   "source": [
    "#### Logistic Regression Modeling tuning Hyperparameters"
   ]
  },
  {
   "cell_type": "code",
   "execution_count": 31,
   "metadata": {},
   "outputs": [
    {
     "name": "stdout",
     "output_type": "stream",
     "text": [
      "Best: 0.540311 using {'C': 1.0, 'penalty': 'l2', 'solver': 'newton-cg'}\n",
      "0.540119 (0.017700) with: {'C': 100, 'penalty': 'l2', 'solver': 'newton-cg'}\n",
      "0.540119 (0.017700) with: {'C': 100, 'penalty': 'l2', 'solver': 'lbfgs'}\n",
      "0.540119 (0.017700) with: {'C': 100, 'penalty': 'l2', 'solver': 'liblinear'}\n",
      "0.540215 (0.017800) with: {'C': 10, 'penalty': 'l2', 'solver': 'newton-cg'}\n",
      "0.540215 (0.017800) with: {'C': 10, 'penalty': 'l2', 'solver': 'lbfgs'}\n",
      "0.540215 (0.017800) with: {'C': 10, 'penalty': 'l2', 'solver': 'liblinear'}\n",
      "0.540311 (0.017901) with: {'C': 1.0, 'penalty': 'l2', 'solver': 'newton-cg'}\n",
      "0.540311 (0.017901) with: {'C': 1.0, 'penalty': 'l2', 'solver': 'lbfgs'}\n",
      "0.540215 (0.017800) with: {'C': 1.0, 'penalty': 'l2', 'solver': 'liblinear'}\n",
      "0.536126 (0.017864) with: {'C': 0.1, 'penalty': 'l2', 'solver': 'newton-cg'}\n",
      "0.536126 (0.017864) with: {'C': 0.1, 'penalty': 'l2', 'solver': 'lbfgs'}\n",
      "0.537174 (0.018599) with: {'C': 0.1, 'penalty': 'l2', 'solver': 'liblinear'}\n",
      "0.513399 (0.021458) with: {'C': 0.01, 'penalty': 'l2', 'solver': 'newton-cg'}\n",
      "0.513399 (0.021458) with: {'C': 0.01, 'penalty': 'l2', 'solver': 'lbfgs'}\n",
      "0.516882 (0.016686) with: {'C': 0.01, 'penalty': 'l2', 'solver': 'liblinear'}\n"
     ]
    }
   ],
   "source": [
    "x_ht = x_train.drop(['CLASS'], axis = 1)\n",
    "y_ht = y_train\n",
    "\n",
    "# define models and parameters\n",
    "model = LogisticRegression()\n",
    "solvers = ['newton-cg', 'lbfgs', 'liblinear']\n",
    "penalty = ['l2']\n",
    "c_values = [100, 10, 1.0, 0.1, 0.01]\n",
    "\n",
    "# define grid search\n",
    "grid = dict(solver = solvers, penalty = penalty, C = c_values)\n",
    "grid_search = GridSearchCV(estimator = model, param_grid = grid, n_jobs = -1, cv = folds, scoring='f1', error_score=0)\n",
    "grid_result = grid_search.fit(x_ht, y_ht)\n",
    "\n",
    "# summarize results\n",
    "print(\"Best: %f using %s\" % (grid_result.best_score_, grid_result.best_params_))\n",
    "means = grid_result.cv_results_['mean_test_score']\n",
    "stds = grid_result.cv_results_['std_test_score']\n",
    "params = grid_result.cv_results_['params']\n",
    "for mean, stdev, param in zip(means, stds, params):\n",
    "    print(\"%f (%f) with: %r\" % (mean, stdev, param))"
   ]
  },
  {
   "cell_type": "code",
   "execution_count": 32,
   "metadata": {},
   "outputs": [
    {
     "data": {
      "text/plain": [
       "array([0.51928021, 0.51802179, 0.5508982 , 0.55945252, 0.55390009])"
      ]
     },
     "execution_count": 32,
     "metadata": {},
     "output_type": "execute_result"
    }
   ],
   "source": [
    "model_3 = LogisticRegression(solver = 'newton-cg', penalty = 'l2', C = 1).fit(x_ht, y_ht)\n",
    "\n",
    "scores_3 = cross_val_score(model_3, x_ht, y_ht, scoring = 'f1', cv = folds)\n",
    "\n",
    "scores_3"
   ]
  },
  {
   "cell_type": "code",
   "execution_count": null,
   "metadata": {},
   "outputs": [],
   "source": []
  },
  {
   "cell_type": "markdown",
   "metadata": {},
   "source": [
    "#### Decision Tree Modeling"
   ]
  },
  {
   "cell_type": "code",
   "execution_count": 33,
   "metadata": {},
   "outputs": [
    {
     "name": "stdout",
     "output_type": "stream",
     "text": [
      "Best: 0.635803 using {'criterion': 'gini', 'max_depth': 8}\n",
      "0.588777 (0.008400) with: {'criterion': 'gini', 'max_depth': 2}\n",
      "0.599455 (0.034314) with: {'criterion': 'gini', 'max_depth': 4}\n",
      "0.634102 (0.019711) with: {'criterion': 'gini', 'max_depth': 6}\n",
      "0.635803 (0.013635) with: {'criterion': 'gini', 'max_depth': 8}\n",
      "0.625689 (0.011276) with: {'criterion': 'gini', 'max_depth': 10}\n",
      "0.619293 (0.013010) with: {'criterion': 'gini', 'max_depth': 12}\n",
      "0.588061 (0.007772) with: {'criterion': 'entropy', 'max_depth': 2}\n",
      "0.581464 (0.024221) with: {'criterion': 'entropy', 'max_depth': 4}\n",
      "0.616489 (0.008530) with: {'criterion': 'entropy', 'max_depth': 6}\n",
      "0.635079 (0.007180) with: {'criterion': 'entropy', 'max_depth': 8}\n",
      "0.627681 (0.016502) with: {'criterion': 'entropy', 'max_depth': 10}\n",
      "0.623683 (0.010754) with: {'criterion': 'entropy', 'max_depth': 12}\n"
     ]
    }
   ],
   "source": [
    "x_tree = x_ori_train.drop(['CLASS'], axis = 1)\n",
    "y_tree = y_train\n",
    "\n",
    "# define models and parameters\n",
    "model = tree.DecisionTreeClassifier()\n",
    "criterion = ['gini', 'entropy']\n",
    "max_depth = [2,4,6,8,10,12]\n",
    "\n",
    "# define grid search\n",
    "grid = dict(criterion = criterion, max_depth = max_depth)\n",
    "grid_search = GridSearchCV(estimator = model, param_grid = grid, n_jobs = -1, cv = folds, scoring='f1', error_score=0)\n",
    "grid_result = grid_search.fit(x_tree, y_tree)\n",
    "\n",
    "# summarize results\n",
    "print(\"Best: %f using %s\" % (grid_result.best_score_, grid_result.best_params_))\n",
    "means = grid_result.cv_results_['mean_test_score']\n",
    "stds = grid_result.cv_results_['std_test_score']\n",
    "params = grid_result.cv_results_['params']\n",
    "for mean, stdev, param in zip(means, stds, params):\n",
    "    print(\"%f (%f) with: %r\" % (mean, stdev, param))"
   ]
  },
  {
   "cell_type": "code",
   "execution_count": 34,
   "metadata": {},
   "outputs": [
    {
     "data": {
      "text/plain": [
       "array([0.61838006, 0.62202381, 0.65625   , 0.63609023, 0.64551943])"
      ]
     },
     "execution_count": 34,
     "metadata": {},
     "output_type": "execute_result"
    }
   ],
   "source": [
    "model_4 = tree.DecisionTreeClassifier(criterion = 'gini', max_depth = 8).fit(x_tree, y_tree)\n",
    "\n",
    "scores_4 = cross_val_score(model_4, x_tree, y_tree, scoring = 'f1', cv = folds)\n",
    "\n",
    "scores_4"
   ]
  },
  {
   "cell_type": "code",
   "execution_count": 35,
   "metadata": {},
   "outputs": [
    {
     "data": {
      "image/png": "[encoded data removed]",
      "text/plain": [
       "<Figure size 864x864 with 1 Axes>"
      ]
     },
     "metadata": {
      "needs_background": "light"
     },
     "output_type": "display_data"
    }
   ],
   "source": [
    "plt.figure(figsize = (12, 12))\n",
    "tree.plot_tree(model_4, fontsize = 10)\n",
    "plt.show()"
   ]
  },
  {
   "cell_type": "code",
   "execution_count": 36,
   "metadata": {},
   "outputs": [
    {
     "data": {
      "text/plain": [
       "'|--- feature_1 <= -2.96\\n|   |--- feature_0 <= 612.50\\n|   |   |--- feature_1 <= -8.75\\n|   |   |   |--- feature_2 <= 14.50\\n|   |   |   |   |--- class: 0\\n|   |   |   |--- feature_2 >  14.50\\n|   |   |   |   |--- feature_2 <= 80.00\\n|   |   |   |   |   |--- feature_1 <= -9.01\\n|   |   |   |   |   |   |--- feature_4 <= 20.00\\n|   |   |   |   |   |   |   |--- feature_3 <= 3.50\\n|   |   |   |   |   |   |   |   |--- class: 1\\n|   |   |   |   |   |   |   |--- feature_3 >  3.50\\n|   |   |   |   |   |   |   |   |--- class: 1\\n|   |   |   |   |   |   |--- feature_4 >  20.00\\n|   |   |   |   |   |   |   |--- feature_1 <= -30.70\\n|   |   |   |   |   |   |   |   |--- class: 0\\n|   |   |   |   |   |   |   |--- feature_1 >  -30.70\\n|   |   |   |   |   |   |   |   |--- class: 1\\n|   |   |   |   |   |--- feature_1 >  -9.01\\n|   |   |   |   |   |   |--- feature_2 <= 56.50\\n|   |   |   |   |   |   |   |--- class: 0\\n|   |   |   |   |   |   |--- feature_2 >  56.50\\n|   |   |   |   |   |   |   |--- feature_0 <= 507.50\\n|   |   |   |   |   |   |   |   |--- class: 0\\n|   |   |   |   |   |   |   |--- feature_0 >  507.50\\n|   |   |   |   |   |   |   |   |--- class: 1\\n|   |   |   |   |--- feature_2 >  80.00\\n|   |   |   |   |   |--- feature_1 <= -76.74\\n|   |   |   |   |   |   |--- feature_2 <= 1975.00\\n|   |   |   |   |   |   |   |--- class: 1\\n|   |   |   |   |   |   |--- feature_2 >  1975.00\\n|   |   |   |   |   |   |   |--- feature_0 <= 611.50\\n|   |   |   |   |   |   |   |   |--- class: 0\\n|   |   |   |   |   |   |   |--- feature_0 >  611.50\\n|   |   |   |   |   |   |   |   |--- class: 1\\n|   |   |   |   |   |--- feature_1 >  -76.74\\n|   |   |   |   |   |   |--- feature_1 <= -24.54\\n|   |   |   |   |   |   |   |--- feature_2 <= 436.50\\n|   |   |   |   |   |   |   |   |--- class: 1\\n|   |   |   |   |   |   |   |--- feature_2 >  436.50\\n|   |   |   |   |   |   |   |   |--- class: 1\\n|   |   |   |   |   |   |--- feature_1 >  -24.54\\n|   |   |   |   |   |   |   |--- feature_2 <= 6112.50\\n|   |   |   |   |   |   |   |   |--- class: 1\\n|   |   |   |   |   |   |   |--- feature_2 >  6112.50\\n|   |   |   |   |   |   |   |   |--- class: 1\\n|   |   |--- feature_1 >  -8.75\\n|   |   |   |--- feature_3 <= 1.50\\n|   |   |   |   |--- feature_2 <= 849.50\\n|   |   |   |   |   |--- feature_0 <= 599.50\\n|   |   |   |   |   |   |--- feature_1 <= -8.63\\n|   |   |   |   |   |   |   |--- class: 0\\n|   |   |   |   |   |   |--- feature_1 >  -8.63\\n|   |   |   |   |   |   |   |--- feature_2 <= 29.50\\n|   |   |   |   |   |   |   |   |--- class: 0\\n|   |   |   |   |   |   |   |--- feature_2 >  29.50\\n|   |   |   |   |   |   |   |   |--- class: 1\\n|   |   |   |   |   |--- feature_0 >  599.50\\n|   |   |   |   |   |   |--- class: 0\\n|   |   |   |   |--- feature_2 >  849.50\\n|   |   |   |   |   |--- feature_2 <= 7990.00\\n|   |   |   |   |   |   |--- feature_0 <= 533.50\\n|   |   |   |   |   |   |   |--- feature_0 <= 526.50\\n|   |   |   |   |   |   |   |   |--- class: 1\\n|   |   |   |   |   |   |   |--- feature_0 >  526.50\\n|   |   |   |   |   |   |   |   |--- class: 1\\n|   |   |   |   |   |   |--- feature_0 >  533.50\\n|   |   |   |   |   |   |   |--- feature_1 <= -8.09\\n|   |   |   |   |   |   |   |   |--- class: 0\\n|   |   |   |   |   |   |   |--- feature_1 >  -8.09\\n|   |   |   |   |   |   |   |   |--- class: 1\\n|   |   |   |   |   |--- feature_2 >  7990.00\\n|   |   |   |   |   |   |--- feature_0 <= 603.50\\n|   |   |   |   |   |   |   |--- class: 1\\n|   |   |   |   |   |   |--- feature_0 >  603.50\\n|   |   |   |   |   |   |   |--- feature_0 <= 608.00\\n|   |   |   |   |   |   |   |   |--- class: 0\\n|   |   |   |   |   |   |   |--- feature_0 >  608.00\\n|   |   |   |   |   |   |   |   |--- class: 1\\n|   |   |   |--- feature_3 >  1.50\\n|   |   |   |   |--- feature_0 <= 560.50\\n|   |   |   |   |   |--- feature_2 <= 62.00\\n|   |   |   |   |   |   |--- feature_0 <= 518.50\\n|   |   |   |   |   |   |   |--- feature_5 <= 0.50\\n|   |   |   |   |   |   |   |   |--- class: 0\\n|   |   |   |   |   |   |   |--- feature_5 >  0.50\\n|   |   |   |   |   |   |   |   |--- class: 1\\n|   |   |   |   |   |   |--- feature_0 >  518.50\\n|   |   |   |   |   |   |   |--- class: 0\\n|   |   |   |   |   |--- feature_2 >  62.00\\n|   |   |   |   |   |   |--- feature_4 <= 28.50\\n|   |   |   |   |   |   |   |--- feature_4 <= 12.50\\n|   |   |   |   |   |   |   |   |--- class: 1\\n|   |   |   |   |   |   |   |--- feature_4 >  12.50\\n|   |   |   |   |   |   |   |   |--- class: 1\\n|   |   |   |   |   |   |--- feature_4 >  28.50\\n|   |   |   |   |   |   |   |--- feature_4 <= 58.00\\n|   |   |   |   |   |   |   |   |--- class: 0\\n|   |   |   |   |   |   |   |--- feature_4 >  58.00\\n|   |   |   |   |   |   |   |   |--- class: 1\\n|   |   |   |   |--- feature_0 >  560.50\\n|   |   |   |   |   |--- feature_3 <= 2.50\\n|   |   |   |   |   |   |--- feature_5 <= 0.50\\n|   |   |   |   |   |   |   |--- feature_1 <= -4.71\\n|   |   |   |   |   |   |   |   |--- class: 1\\n|   |   |   |   |   |   |   |--- feature_1 >  -4.71\\n|   |   |   |   |   |   |   |   |--- class: 0\\n|   |   |   |   |   |   |--- feature_5 >  0.50\\n|   |   |   |   |   |   |   |--- feature_2 <= 1142.50\\n|   |   |   |   |   |   |   |   |--- class: 0\\n|   |   |   |   |   |   |   |--- feature_2 >  1142.50\\n|   |   |   |   |   |   |   |   |--- class: 1\\n|   |   |   |   |   |--- feature_3 >  2.50\\n|   |   |   |   |   |   |--- feature_1 <= -5.82\\n|   |   |   |   |   |   |   |--- feature_1 <= -8.45\\n|   |   |   |   |   |   |   |   |--- class: 1\\n|   |   |   |   |   |   |   |--- feature_1 >  -8.45\\n|   |   |   |   |   |   |   |   |--- class: 0\\n|   |   |   |   |   |   |--- feature_1 >  -5.82\\n|   |   |   |   |   |   |   |--- feature_1 <= -4.92\\n|   |   |   |   |   |   |   |   |--- class: 1\\n|   |   |   |   |   |   |   |--- feature_1 >  -4.92\\n|   |   |   |   |   |   |   |   |--- class: 0\\n|   |--- feature_0 >  612.50\\n|   |   |--- feature_2 <= 4781.50\\n|   |   |   |--- feature_1 <= -56.85\\n|   |   |   |   |--- feature_4 <= 18.00\\n|   |   |   |   |   |--- class: 1\\n|   |   |   |   |--- feature_4 >  18.00\\n|   |   |   |   |   |--- class: 0\\n|   |   |   |--- feature_1 >  -56.85\\n|   |   |   |   |--- feature_0 <= 629.00\\n|   |   |   |   |   |--- feature_3 <= 2.50\\n|   |   |   |   |   |   |--- feature_0 <= 619.00\\n|   |   |   |   |   |   |   |--- class: 0\\n|   |   |   |   |   |   |--- feature_0 >  619.00\\n|   |   |   |   |   |   |   |--- feature_2 <= 2579.50\\n|   |   |   |   |   |   |   |   |--- class: 0\\n|   |   |   |   |   |   |   |--- feature_2 >  2579.50\\n|   |   |   |   |   |   |   |   |--- class: 1\\n|   |   |   |   |   |--- feature_3 >  2.50\\n|   |   |   |   |   |   |--- class: 0\\n|   |   |   |   |--- feature_0 >  629.00\\n|   |   |   |   |   |--- class: 0\\n|   |   |--- feature_2 >  4781.50\\n|   |   |   |--- feature_1 <= -7.78\\n|   |   |   |   |--- feature_0 <= 652.50\\n|   |   |   |   |   |--- feature_1 <= -96.67\\n|   |   |   |   |   |   |--- class: 0\\n|   |   |   |   |   |--- feature_1 >  -96.67\\n|   |   |   |   |   |   |--- feature_3 <= 2.50\\n|   |   |   |   |   |   |   |--- feature_2 <= 10055.50\\n|   |   |   |   |   |   |   |   |--- class: 1\\n|   |   |   |   |   |   |   |--- feature_2 >  10055.50\\n|   |   |   |   |   |   |   |   |--- class: 1\\n|   |   |   |   |   |   |--- feature_3 >  2.50\\n|   |   |   |   |   |   |   |--- feature_2 <= 10502.00\\n|   |   |   |   |   |   |   |   |--- class: 1\\n|   |   |   |   |   |   |   |--- feature_2 >  10502.00\\n|   |   |   |   |   |   |   |   |--- class: 0\\n|   |   |   |   |--- feature_0 >  652.50\\n|   |   |   |   |   |--- feature_2 <= 12110.50\\n|   |   |   |   |   |   |--- class: 0\\n|   |   |   |   |   |--- feature_2 >  12110.50\\n|   |   |   |   |   |   |--- class: 1\\n|   |   |   |--- feature_1 >  -7.78\\n|   |   |   |   |--- feature_2 <= 20778.50\\n|   |   |   |   |   |--- feature_3 <= 1.50\\n|   |   |   |   |   |   |--- feature_0 <= 627.00\\n|   |   |   |   |   |   |   |--- class: 1\\n|   |   |   |   |   |   |--- feature_0 >  627.00\\n|   |   |   |   |   |   |   |--- class: 0\\n|   |   |   |   |   |--- feature_3 >  1.50\\n|   |   |   |   |   |   |--- class: 0\\n|   |   |   |   |--- feature_2 >  20778.50\\n|   |   |   |   |   |--- feature_0 <= 626.00\\n|   |   |   |   |   |   |--- class: 0\\n|   |   |   |   |   |--- feature_0 >  626.00\\n|   |   |   |   |   |   |--- class: 1\\n|--- feature_1 >  -2.96\\n|   |--- feature_0 <= 577.50\\n|   |   |--- feature_4 <= 36.50\\n|   |   |   |--- feature_3 <= 2.50\\n|   |   |   |   |--- feature_1 <= 8.61\\n|   |   |   |   |   |--- feature_0 <= 547.50\\n|   |   |   |   |   |   |--- feature_1 <= -1.52\\n|   |   |   |   |   |   |   |--- feature_0 <= 539.00\\n|   |   |   |   |   |   |   |   |--- class: 1\\n|   |   |   |   |   |   |   |--- feature_0 >  539.00\\n|   |   |   |   |   |   |   |   |--- class: 0\\n|   |   |   |   |   |   |--- feature_1 >  -1.52\\n|   |   |   |   |   |   |   |--- feature_2 <= 68.00\\n|   |   |   |   |   |   |   |   |--- class: 0\\n|   |   |   |   |   |   |   |--- feature_2 >  68.00\\n|   |   |   |   |   |   |   |   |--- class: 0\\n|   |   |   |   |   |--- feature_0 >  547.50\\n|   |   |   |   |   |   |--- feature_1 <= -2.04\\n|   |   |   |   |   |   |   |--- feature_2 <= 4335.50\\n|   |   |   |   |   |   |   |   |--- class: 1\\n|   |   |   |   |   |   |   |--- feature_2 >  4335.50\\n|   |   |   |   |   |   |   |   |--- class: 0\\n|   |   |   |   |   |   |--- feature_1 >  -2.04\\n|   |   |   |   |   |   |   |--- feature_2 <= 9265.00\\n|   |   |   |   |   |   |   |   |--- class: 0\\n|   |   |   |   |   |   |   |--- feature_2 >  9265.00\\n|   |   |   |   |   |   |   |   |--- class: 1\\n|   |   |   |   |--- feature_1 >  8.61\\n|   |   |   |   |   |--- feature_4 <= 19.50\\n|   |   |   |   |   |   |--- feature_2 <= 10725.00\\n|   |   |   |   |   |   |   |--- feature_4 <= 16.50\\n|   |   |   |   |   |   |   |   |--- class: 0\\n|   |   |   |   |   |   |   |--- feature_4 >  16.50\\n|   |   |   |   |   |   |   |   |--- class: 0\\n|   |   |   |   |   |   |--- feature_2 >  10725.00\\n|   |   |   |   |   |   |   |--- class: 1\\n|   |   |   |   |   |--- feature_4 >  19.50\\n|   |   |   |   |   |   |--- feature_1 <= 17.77\\n|   |   |   |   |   |   |   |--- feature_0 <= 541.50\\n|   |   |   |   |   |   |   |   |--- class: 0\\n|   |   |   |   |   |   |   |--- feature_0 >  541.50\\n|   |   |   |   |   |   |   |   |--- class: 0\\n|   |   |   |   |   |   |--- feature_1 >  17.77\\n|   |   |   |   |   |   |   |--- feature_4 <= 25.50\\n|   |   |   |   |   |   |   |   |--- class: 0\\n|   |   |   |   |   |   |   |--- feature_4 >  25.50\\n|   |   |   |   |   |   |   |   |--- class: 0\\n|   |   |   |--- feature_3 >  2.50\\n|   |   |   |   |--- feature_1 <= -1.95\\n|   |   |   |   |   |--- feature_0 <= 568.50\\n|   |   |   |   |   |   |--- feature_2 <= 884.00\\n|   |   |   |   |   |   |   |--- feature_2 <= 56.50\\n|   |   |   |   |   |   |   |   |--- class: 0\\n|   |   |   |   |   |   |   |--- feature_2 >  56.50\\n|   |   |   |   |   |   |   |   |--- class: 1\\n|   |   |   |   |   |   |--- feature_2 >  884.00\\n|   |   |   |   |   |   |   |--- feature_0 <= 532.50\\n|   |   |   |   |   |   |   |   |--- class: 0\\n|   |   |   |   |   |   |   |--- feature_0 >  532.50\\n|   |   |   |   |   |   |   |   |--- class: 0\\n|   |   |   |   |   |--- feature_0 >  568.50\\n|   |   |   |   |   |   |--- class: 0\\n|   |   |   |   |--- feature_1 >  -1.95\\n|   |   |   |   |   |--- feature_1 <= 6.61\\n|   |   |   |   |   |   |--- feature_2 <= 722.50\\n|   |   |   |   |   |   |   |--- feature_4 <= 25.00\\n|   |   |   |   |   |   |   |   |--- class: 0\\n|   |   |   |   |   |   |   |--- feature_4 >  25.00\\n|   |   |   |   |   |   |   |   |--- class: 0\\n|   |   |   |   |   |   |--- feature_2 >  722.50\\n|   |   |   |   |   |   |   |--- feature_0 <= 562.50\\n|   |   |   |   |   |   |   |   |--- class: 0\\n|   |   |   |   |   |   |   |--- feature_0 >  562.50\\n|   |   |   |   |   |   |   |   |--- class: 0\\n|   |   |   |   |   |--- feature_1 >  6.61\\n|   |   |   |   |   |   |--- feature_4 <= 24.50\\n|   |   |   |   |   |   |   |--- feature_0 <= 524.50\\n|   |   |   |   |   |   |   |   |--- class: 0\\n|   |   |   |   |   |   |   |--- feature_0 >  524.50\\n|   |   |   |   |   |   |   |   |--- class: 0\\n|   |   |   |   |   |   |--- feature_4 >  24.50\\n|   |   |   |   |   |   |   |--- feature_1 <= 17.36\\n|   |   |   |   |   |   |   |   |--- class: 0\\n|   |   |   |   |   |   |   |--- feature_1 >  17.36\\n|   |   |   |   |   |   |   |   |--- class: 0\\n|   |   |--- feature_4 >  36.50\\n|   |   |   |--- feature_1 <= 34.78\\n|   |   |   |   |--- feature_2 <= 10037.50\\n|   |   |   |   |   |--- feature_3 <= 1.50\\n|   |   |   |   |   |   |--- feature_1 <= 18.52\\n|   |   |   |   |   |   |   |--- feature_1 <= 2.42\\n|   |   |   |   |   |   |   |   |--- class: 0\\n|   |   |   |   |   |   |   |--- feature_1 >  2.42\\n|   |   |   |   |   |   |   |   |--- class: 1\\n|   |   |   |   |   |   |--- feature_1 >  18.52\\n|   |   |   |   |   |   |   |--- feature_0 <= 548.50\\n|   |   |   |   |   |   |   |   |--- class: 1\\n|   |   |   |   |   |   |   |--- feature_0 >  548.50\\n|   |   |   |   |   |   |   |   |--- class: 0\\n|   |   |   |   |   |--- feature_3 >  1.50\\n|   |   |   |   |   |   |--- feature_0 <= 562.50\\n|   |   |   |   |   |   |   |--- feature_1 <= 27.32\\n|   |   |   |   |   |   |   |   |--- class: 0\\n|   |   |   |   |   |   |   |--- feature_1 >  27.32\\n|   |   |   |   |   |   |   |   |--- class: 0\\n|   |   |   |   |   |   |--- feature_0 >  562.50\\n|   |   |   |   |   |   |   |--- feature_0 <= 573.50\\n|   |   |   |   |   |   |   |   |--- class: 0\\n|   |   |   |   |   |   |   |--- feature_0 >  573.50\\n|   |   |   |   |   |   |   |   |--- class: 0\\n|   |   |   |   |--- feature_2 >  10037.50\\n|   |   |   |   |   |--- feature_3 <= 3.50\\n|   |   |   |   |   |   |--- feature_4 <= 39.50\\n|   |   |   |   |   |   |   |--- feature_5 <= 0.50\\n|   |   |   |   |   |   |   |   |--- class: 0\\n|   |   |   |   |   |   |   |--- feature_5 >  0.50\\n|   |   |   |   |   |   |   |   |--- class: 1\\n|   |   |   |   |   |   |--- feature_4 >  39.50\\n|   |   |   |   |   |   |   |--- feature_0 <= 559.50\\n|   |   |   |   |   |   |   |   |--- class: 1\\n|   |   |   |   |   |   |   |--- feature_0 >  559.50\\n|   |   |   |   |   |   |   |   |--- class: 1\\n|   |   |   |   |   |--- feature_3 >  3.50\\n|   |   |   |   |   |   |--- feature_0 <= 552.50\\n|   |   |   |   |   |   |   |--- feature_2 <= 11365.00\\n|   |   |   |   |   |   |   |   |--- class: 1\\n|   |   |   |   |   |   |   |--- feature_2 >  11365.00\\n|   |   |   |   |   |   |   |   |--- class: 1\\n|   |   |   |   |   |   |--- feature_0 >  552.50\\n|   |   |   |   |   |   |   |--- feature_2 <= 21450.50\\n|   |   |   |   |   |   |   |   |--- class: 0\\n|   |   |   |   |   |   |   |--- feature_2 >  21450.50\\n|   |   |   |   |   |   |   |   |--- class: 1\\n|   |   |   |--- feature_1 >  34.78\\n|   |   |   |   |--- feature_2 <= 12071.00\\n|   |   |   |   |   |--- feature_1 <= 42.24\\n|   |   |   |   |   |   |--- feature_4 <= 53.50\\n|   |   |   |   |   |   |   |--- feature_0 <= 516.50\\n|   |   |   |   |   |   |   |   |--- class: 0\\n|   |   |   |   |   |   |   |--- feature_0 >  516.50\\n|   |   |   |   |   |   |   |   |--- class: 0\\n|   |   |   |   |   |   |--- feature_4 >  53.50\\n|   |   |   |   |   |   |   |--- feature_0 <= 560.50\\n|   |   |   |   |   |   |   |   |--- class: 0\\n|   |   |   |   |   |   |   |--- feature_0 >  560.50\\n|   |   |   |   |   |   |   |   |--- class: 0\\n|   |   |   |   |   |--- feature_1 >  42.24\\n|   |   |   |   |   |   |--- feature_1 <= 51.87\\n|   |   |   |   |   |   |   |--- feature_1 <= 51.79\\n|   |   |   |   |   |   |   |   |--- class: 0\\n|   |   |   |   |   |   |   |--- feature_1 >  51.79\\n|   |   |   |   |   |   |   |   |--- class: 1\\n|   |   |   |   |   |   |--- feature_1 >  51.87\\n|   |   |   |   |   |   |   |--- class: 0\\n|   |   |   |   |--- feature_2 >  12071.00\\n|   |   |   |   |   |--- feature_1 <= 45.43\\n|   |   |   |   |   |   |--- feature_4 <= 55.00\\n|   |   |   |   |   |   |   |--- feature_1 <= 35.56\\n|   |   |   |   |   |   |   |   |--- class: 1\\n|   |   |   |   |   |   |   |--- feature_1 >  35.56\\n|   |   |   |   |   |   |   |   |--- class: 0\\n|   |   |   |   |   |   |--- feature_4 >  55.00\\n|   |   |   |   |   |   |   |--- feature_0 <= 572.50\\n|   |   |   |   |   |   |   |   |--- class: 1\\n|   |   |   |   |   |   |   |--- feature_0 >  572.50\\n|   |   |   |   |   |   |   |   |--- class: 0\\n|   |   |   |   |   |--- feature_1 >  45.43\\n|   |   |   |   |   |   |--- feature_2 <= 24788.00\\n|   |   |   |   |   |   |   |--- feature_2 <= 12161.50\\n|   |   |   |   |   |   |   |   |--- class: 1\\n|   |   |   |   |   |   |   |--- feature_2 >  12161.50\\n|   |   |   |   |   |   |   |   |--- class: 0\\n|   |   |   |   |   |   |--- feature_2 >  24788.00\\n|   |   |   |   |   |   |   |--- feature_1 <= 54.48\\n|   |   |   |   |   |   |   |   |--- class: 1\\n|   |   |   |   |   |   |   |--- feature_1 >  54.48\\n|   |   |   |   |   |   |   |   |--- class: 0\\n|   |--- feature_0 >  577.50\\n|   |   |--- feature_0 <= 602.50\\n|   |   |   |--- feature_4 <= 48.50\\n|   |   |   |   |--- feature_2 <= 4807.00\\n|   |   |   |   |   |--- feature_3 <= 1.50\\n|   |   |   |   |   |   |--- feature_1 <= 2.72\\n|   |   |   |   |   |   |   |--- feature_1 <= 2.45\\n|   |   |   |   |   |   |   |   |--- class: 0\\n|   |   |   |   |   |   |   |--- feature_1 >  2.45\\n|   |   |   |   |   |   |   |   |--- class: 1\\n|   |   |   |   |   |   |--- feature_1 >  2.72\\n|   |   |   |   |   |   |   |--- feature_2 <= 145.00\\n|   |   |   |   |   |   |   |   |--- class: 1\\n|   |   |   |   |   |   |   |--- feature_2 >  145.00\\n|   |   |   |   |   |   |   |   |--- class: 0\\n|   |   |   |   |   |--- feature_3 >  1.50\\n|   |   |   |   |   |   |--- feature_4 <= 35.00\\n|   |   |   |   |   |   |   |--- feature_3 <= 3.50\\n|   |   |   |   |   |   |   |   |--- class: 0\\n|   |   |   |   |   |   |   |--- feature_3 >  3.50\\n|   |   |   |   |   |   |   |   |--- class: 0\\n|   |   |   |   |   |   |--- feature_4 >  35.00\\n|   |   |   |   |   |   |   |--- feature_1 <= 12.65\\n|   |   |   |   |   |   |   |   |--- class: 0\\n|   |   |   |   |   |   |   |--- feature_1 >  12.65\\n|   |   |   |   |   |   |   |   |--- class: 0\\n|   |   |   |   |--- feature_2 >  4807.00\\n|   |   |   |   |   |--- feature_1 <= 21.03\\n|   |   |   |   |   |   |--- feature_4 <= 24.50\\n|   |   |   |   |   |   |   |--- feature_2 <= 4821.00\\n|   |   |   |   |   |   |   |   |--- class: 1\\n|   |   |   |   |   |   |   |--- feature_2 >  4821.00\\n|   |   |   |   |   |   |   |   |--- class: 0\\n|   |   |   |   |   |   |--- feature_4 >  24.50\\n|   |   |   |   |   |   |   |--- feature_1 <= 0.33\\n|   |   |   |   |   |   |   |   |--- class: 0\\n|   |   |   |   |   |   |   |--- feature_1 >  0.33\\n|   |   |   |   |   |   |   |   |--- class: 0\\n|   |   |   |   |   |--- feature_1 >  21.03\\n|   |   |   |   |   |   |--- feature_0 <= 578.50\\n|   |   |   |   |   |   |   |--- feature_2 <= 8612.50\\n|   |   |   |   |   |   |   |   |--- class: 0\\n|   |   |   |   |   |   |   |--- feature_2 >  8612.50\\n|   |   |   |   |   |   |   |   |--- class: 1\\n|   |   |   |   |   |   |--- feature_0 >  578.50\\n|   |   |   |   |   |   |   |--- feature_1 <= 22.75\\n|   |   |   |   |   |   |   |   |--- class: 0\\n|   |   |   |   |   |   |   |--- feature_1 >  22.75\\n|   |   |   |   |   |   |   |   |--- class: 0\\n|   |   |   |--- feature_4 >  48.50\\n|   |   |   |   |--- feature_1 <= 32.48\\n|   |   |   |   |   |--- feature_3 <= 1.50\\n|   |   |   |   |   |   |--- feature_1 <= 1.30\\n|   |   |   |   |   |   |   |--- feature_1 <= -2.41\\n|   |   |   |   |   |   |   |   |--- class: 1\\n|   |   |   |   |   |   |   |--- feature_1 >  -2.41\\n|   |   |   |   |   |   |   |   |--- class: 0\\n|   |   |   |   |   |   |--- feature_1 >  1.30\\n|   |   |   |   |   |   |   |--- feature_1 <= 22.69\\n|   |   |   |   |   |   |   |   |--- class: 1\\n|   |   |   |   |   |   |   |--- feature_1 >  22.69\\n|   |   |   |   |   |   |   |   |--- class: 0\\n|   |   |   |   |   |--- feature_3 >  1.50\\n|   |   |   |   |   |   |--- feature_1 <= 8.83\\n|   |   |   |   |   |   |   |--- feature_1 <= -0.92\\n|   |   |   |   |   |   |   |   |--- class: 1\\n|   |   |   |   |   |   |   |--- feature_1 >  -0.92\\n|   |   |   |   |   |   |   |   |--- class: 0\\n|   |   |   |   |   |   |--- feature_1 >  8.83\\n|   |   |   |   |   |   |   |--- feature_0 <= 597.50\\n|   |   |   |   |   |   |   |   |--- class: 0\\n|   |   |   |   |   |   |   |--- feature_0 >  597.50\\n|   |   |   |   |   |   |   |   |--- class: 0\\n|   |   |   |   |--- feature_1 >  32.48\\n|   |   |   |   |   |--- feature_1 <= 41.12\\n|   |   |   |   |   |   |--- feature_1 <= 41.08\\n|   |   |   |   |   |   |   |--- feature_2 <= 19144.50\\n|   |   |   |   |   |   |   |   |--- class: 0\\n|   |   |   |   |   |   |   |--- feature_2 >  19144.50\\n|   |   |   |   |   |   |   |   |--- class: 0\\n|   |   |   |   |   |   |--- feature_1 >  41.08\\n|   |   |   |   |   |   |   |--- class: 1\\n|   |   |   |   |   |--- feature_1 >  41.12\\n|   |   |   |   |   |   |--- feature_0 <= 579.50\\n|   |   |   |   |   |   |   |--- feature_3 <= 2.50\\n|   |   |   |   |   |   |   |   |--- class: 0\\n|   |   |   |   |   |   |   |--- feature_3 >  2.50\\n|   |   |   |   |   |   |   |   |--- class: 0\\n|   |   |   |   |   |   |--- feature_0 >  579.50\\n|   |   |   |   |   |   |   |--- feature_4 <= 57.50\\n|   |   |   |   |   |   |   |   |--- class: 0\\n|   |   |   |   |   |   |   |--- feature_4 >  57.50\\n|   |   |   |   |   |   |   |   |--- class: 0\\n|   |   |--- feature_0 >  602.50\\n|   |   |   |--- feature_0 <= 625.50\\n|   |   |   |   |--- feature_2 <= 31912.50\\n|   |   |   |   |   |--- feature_4 <= 37.50\\n|   |   |   |   |   |   |--- feature_3 <= 2.50\\n|   |   |   |   |   |   |   |--- feature_2 <= 80.50\\n|   |   |   |   |   |   |   |   |--- class: 0\\n|   |   |   |   |   |   |   |--- feature_2 >  80.50\\n|   |   |   |   |   |   |   |   |--- class: 0\\n|   |   |   |   |   |   |--- feature_3 >  2.50\\n|   |   |   |   |   |   |   |--- feature_1 <= 0.14\\n|   |   |   |   |   |   |   |   |--- class: 0\\n|   |   |   |   |   |   |   |--- feature_1 >  0.14\\n|   |   |   |   |   |   |   |   |--- class: 0\\n|   |   |   |   |   |--- feature_4 >  37.50\\n|   |   |   |   |   |   |--- feature_1 <= 22.79\\n|   |   |   |   |   |   |   |--- feature_3 <= 1.50\\n|   |   |   |   |   |   |   |   |--- class: 0\\n|   |   |   |   |   |   |   |--- feature_3 >  1.50\\n|   |   |   |   |   |   |   |   |--- class: 0\\n|   |   |   |   |   |   |--- feature_1 >  22.79\\n|   |   |   |   |   |   |   |--- feature_1 <= 30.69\\n|   |   |   |   |   |   |   |   |--- class: 0\\n|   |   |   |   |   |   |   |--- feature_1 >  30.69\\n|   |   |   |   |   |   |   |   |--- class: 0\\n|   |   |   |   |--- feature_2 >  31912.50\\n|   |   |   |   |   |--- feature_1 <= 21.20\\n|   |   |   |   |   |   |--- feature_2 <= 35277.50\\n|   |   |   |   |   |   |   |--- class: 1\\n|   |   |   |   |   |   |--- feature_2 >  35277.50\\n|   |   |   |   |   |   |   |--- class: 0\\n|   |   |   |   |   |--- feature_1 >  21.20\\n|   |   |   |   |   |   |--- class: 0\\n|   |   |   |--- feature_0 >  625.50\\n|   |   |   |   |--- feature_1 <= -1.79\\n|   |   |   |   |   |--- feature_1 <= -1.81\\n|   |   |   |   |   |   |--- class: 0\\n|   |   |   |   |   |--- feature_1 >  -1.81\\n|   |   |   |   |   |   |--- feature_3 <= 1.50\\n|   |   |   |   |   |   |   |--- class: 1\\n|   |   |   |   |   |   |--- feature_3 >  1.50\\n|   |   |   |   |   |   |   |--- class: 0\\n|   |   |   |   |--- feature_1 >  -1.79\\n|   |   |   |   |   |--- feature_0 <= 627.50\\n|   |   |   |   |   |   |--- feature_4 <= 55.00\\n|   |   |   |   |   |   |   |--- class: 0\\n|   |   |   |   |   |   |--- feature_4 >  55.00\\n|   |   |   |   |   |   |   |--- feature_2 <= 3716.00\\n|   |   |   |   |   |   |   |   |--- class: 0\\n|   |   |   |   |   |   |   |--- feature_2 >  3716.00\\n|   |   |   |   |   |   |   |   |--- class: 0\\n|   |   |   |   |   |--- feature_0 >  627.50\\n|   |   |   |   |   |   |--- class: 0\\n'"
      ]
     },
     "execution_count": 36,
     "metadata": {},
     "output_type": "execute_result"
    }
   ],
   "source": [
    "tree.export_text(model_4)"
   ]
  },
  {
   "cell_type": "code",
   "execution_count": 37,
   "metadata": {},
   "outputs": [
    {
     "data": {
      "text/plain": [
       "Text(0, 0.5, 'Feature Importance Score')"
      ]
     },
     "execution_count": 37,
     "metadata": {},
     "output_type": "execute_result"
    },
    {
     "data": {
      "image/png": "[encoded data removed]",
      "text/plain": [
       "<Figure size 864x360 with 1 Axes>"
      ]
     },
     "metadata": {
      "needs_background": "light"
     },
     "output_type": "display_data"
    }
   ],
   "source": [
    "plt.figure(figsize = (12, 5))\n",
    "feat_imp = pd.Series(model_4.feature_importances_, x_tree.columns).sort_values(ascending=False)\n",
    "feat_imp.plot(kind='bar', title = 'Feature Importances')\n",
    "plt.ylabel('Feature Importance Score')"
   ]
  },
  {
   "cell_type": "code",
   "execution_count": null,
   "metadata": {},
   "outputs": [],
   "source": []
  },
  {
   "cell_type": "markdown",
   "metadata": {},
   "source": [
    "#### Gradient Boosting"
   ]
  },
  {
   "cell_type": "code",
   "execution_count": 38,
   "metadata": {},
   "outputs": [
    {
     "name": "stdout",
     "output_type": "stream",
     "text": [
      "Best: 0.663921 using {'learning_rate': 0.1, 'max_depth': 7, 'n_estimators': 100, 'subsample': 1.0}\n",
      "0.000000 (0.000000) with: {'learning_rate': 0.001, 'max_depth': 3, 'n_estimators': 10, 'subsample': 0.5}\n",
      "0.000000 (0.000000) with: {'learning_rate': 0.001, 'max_depth': 3, 'n_estimators': 10, 'subsample': 0.7}\n",
      "0.000000 (0.000000) with: {'learning_rate': 0.001, 'max_depth': 3, 'n_estimators': 10, 'subsample': 1.0}\n",
      "0.000000 (0.000000) with: {'learning_rate': 0.001, 'max_depth': 3, 'n_estimators': 100, 'subsample': 0.5}\n",
      "0.000000 (0.000000) with: {'learning_rate': 0.001, 'max_depth': 3, 'n_estimators': 100, 'subsample': 0.7}\n",
      "0.000000 (0.000000) with: {'learning_rate': 0.001, 'max_depth': 3, 'n_estimators': 100, 'subsample': 1.0}\n",
      "0.000000 (0.000000) with: {'learning_rate': 0.001, 'max_depth': 3, 'n_estimators': 250, 'subsample': 0.5}\n",
      "0.000000 (0.000000) with: {'learning_rate': 0.001, 'max_depth': 3, 'n_estimators': 250, 'subsample': 0.7}\n",
      "0.000000 (0.000000) with: {'learning_rate': 0.001, 'max_depth': 3, 'n_estimators': 250, 'subsample': 1.0}\n",
      "0.000000 (0.000000) with: {'learning_rate': 0.001, 'max_depth': 7, 'n_estimators': 10, 'subsample': 0.5}\n",
      "0.000000 (0.000000) with: {'learning_rate': 0.001, 'max_depth': 7, 'n_estimators': 10, 'subsample': 0.7}\n",
      "0.000000 (0.000000) with: {'learning_rate': 0.001, 'max_depth': 7, 'n_estimators': 10, 'subsample': 1.0}\n",
      "0.000000 (0.000000) with: {'learning_rate': 0.001, 'max_depth': 7, 'n_estimators': 100, 'subsample': 0.5}\n",
      "0.000000 (0.000000) with: {'learning_rate': 0.001, 'max_depth': 7, 'n_estimators': 100, 'subsample': 0.7}\n",
      "0.000000 (0.000000) with: {'learning_rate': 0.001, 'max_depth': 7, 'n_estimators': 100, 'subsample': 1.0}\n",
      "0.000000 (0.000000) with: {'learning_rate': 0.001, 'max_depth': 7, 'n_estimators': 250, 'subsample': 0.5}\n",
      "0.000000 (0.000000) with: {'learning_rate': 0.001, 'max_depth': 7, 'n_estimators': 250, 'subsample': 0.7}\n",
      "0.000000 (0.000000) with: {'learning_rate': 0.001, 'max_depth': 7, 'n_estimators': 250, 'subsample': 1.0}\n",
      "0.000000 (0.000000) with: {'learning_rate': 0.001, 'max_depth': 9, 'n_estimators': 10, 'subsample': 0.5}\n",
      "0.000000 (0.000000) with: {'learning_rate': 0.001, 'max_depth': 9, 'n_estimators': 10, 'subsample': 0.7}\n",
      "0.000000 (0.000000) with: {'learning_rate': 0.001, 'max_depth': 9, 'n_estimators': 10, 'subsample': 1.0}\n",
      "0.000000 (0.000000) with: {'learning_rate': 0.001, 'max_depth': 9, 'n_estimators': 100, 'subsample': 0.5}\n",
      "0.000000 (0.000000) with: {'learning_rate': 0.001, 'max_depth': 9, 'n_estimators': 100, 'subsample': 0.7}\n",
      "0.000000 (0.000000) with: {'learning_rate': 0.001, 'max_depth': 9, 'n_estimators': 100, 'subsample': 1.0}\n",
      "0.000000 (0.000000) with: {'learning_rate': 0.001, 'max_depth': 9, 'n_estimators': 250, 'subsample': 0.5}\n",
      "0.000000 (0.000000) with: {'learning_rate': 0.001, 'max_depth': 9, 'n_estimators': 250, 'subsample': 0.7}\n",
      "0.000000 (0.000000) with: {'learning_rate': 0.001, 'max_depth': 9, 'n_estimators': 250, 'subsample': 1.0}\n",
      "0.000000 (0.000000) with: {'learning_rate': 0.01, 'max_depth': 3, 'n_estimators': 10, 'subsample': 0.5}\n",
      "0.000000 (0.000000) with: {'learning_rate': 0.01, 'max_depth': 3, 'n_estimators': 10, 'subsample': 0.7}\n",
      "0.000000 (0.000000) with: {'learning_rate': 0.01, 'max_depth': 3, 'n_estimators': 10, 'subsample': 1.0}\n",
      "0.492887 (0.008743) with: {'learning_rate': 0.01, 'max_depth': 3, 'n_estimators': 100, 'subsample': 0.5}\n",
      "0.485080 (0.009750) with: {'learning_rate': 0.01, 'max_depth': 3, 'n_estimators': 100, 'subsample': 0.7}\n",
      "0.494932 (0.013062) with: {'learning_rate': 0.01, 'max_depth': 3, 'n_estimators': 100, 'subsample': 1.0}\n",
      "0.605972 (0.009828) with: {'learning_rate': 0.01, 'max_depth': 3, 'n_estimators': 250, 'subsample': 0.5}\n",
      "0.604507 (0.008737) with: {'learning_rate': 0.01, 'max_depth': 3, 'n_estimators': 250, 'subsample': 0.7}\n",
      "0.603626 (0.008594) with: {'learning_rate': 0.01, 'max_depth': 3, 'n_estimators': 250, 'subsample': 1.0}\n",
      "0.000000 (0.000000) with: {'learning_rate': 0.01, 'max_depth': 7, 'n_estimators': 10, 'subsample': 0.5}\n",
      "0.000000 (0.000000) with: {'learning_rate': 0.01, 'max_depth': 7, 'n_estimators': 10, 'subsample': 0.7}\n",
      "0.000000 (0.000000) with: {'learning_rate': 0.01, 'max_depth': 7, 'n_estimators': 10, 'subsample': 1.0}\n",
      "0.535890 (0.015983) with: {'learning_rate': 0.01, 'max_depth': 7, 'n_estimators': 100, 'subsample': 0.5}\n",
      "0.537696 (0.016860) with: {'learning_rate': 0.01, 'max_depth': 7, 'n_estimators': 100, 'subsample': 0.7}\n",
      "0.526316 (0.017376) with: {'learning_rate': 0.01, 'max_depth': 7, 'n_estimators': 100, 'subsample': 1.0}\n",
      "0.649051 (0.014755) with: {'learning_rate': 0.01, 'max_depth': 7, 'n_estimators': 250, 'subsample': 0.5}\n",
      "0.647404 (0.014695) with: {'learning_rate': 0.01, 'max_depth': 7, 'n_estimators': 250, 'subsample': 0.7}\n",
      "0.642418 (0.013117) with: {'learning_rate': 0.01, 'max_depth': 7, 'n_estimators': 250, 'subsample': 1.0}\n",
      "0.000000 (0.000000) with: {'learning_rate': 0.01, 'max_depth': 9, 'n_estimators': 10, 'subsample': 0.5}\n",
      "0.000000 (0.000000) with: {'learning_rate': 0.01, 'max_depth': 9, 'n_estimators': 10, 'subsample': 0.7}\n",
      "0.000000 (0.000000) with: {'learning_rate': 0.01, 'max_depth': 9, 'n_estimators': 10, 'subsample': 1.0}\n",
      "0.530504 (0.013559) with: {'learning_rate': 0.01, 'max_depth': 9, 'n_estimators': 100, 'subsample': 0.5}\n",
      "0.533081 (0.020526) with: {'learning_rate': 0.01, 'max_depth': 9, 'n_estimators': 100, 'subsample': 0.7}\n",
      "0.539139 (0.016568) with: {'learning_rate': 0.01, 'max_depth': 9, 'n_estimators': 100, 'subsample': 1.0}\n",
      "0.650226 (0.012731) with: {'learning_rate': 0.01, 'max_depth': 9, 'n_estimators': 250, 'subsample': 0.5}\n",
      "0.652124 (0.013098) with: {'learning_rate': 0.01, 'max_depth': 9, 'n_estimators': 250, 'subsample': 0.7}\n",
      "0.646204 (0.016194) with: {'learning_rate': 0.01, 'max_depth': 9, 'n_estimators': 250, 'subsample': 1.0}\n",
      "0.521783 (0.037850) with: {'learning_rate': 0.1, 'max_depth': 3, 'n_estimators': 10, 'subsample': 0.5}\n",
      "0.537897 (0.024241) with: {'learning_rate': 0.1, 'max_depth': 3, 'n_estimators': 10, 'subsample': 0.7}\n",
      "0.531111 (0.012385) with: {'learning_rate': 0.1, 'max_depth': 3, 'n_estimators': 10, 'subsample': 1.0}\n",
      "0.653702 (0.011319) with: {'learning_rate': 0.1, 'max_depth': 3, 'n_estimators': 100, 'subsample': 0.5}\n",
      "0.655109 (0.013304) with: {'learning_rate': 0.1, 'max_depth': 3, 'n_estimators': 100, 'subsample': 0.7}\n",
      "0.650382 (0.009919) with: {'learning_rate': 0.1, 'max_depth': 3, 'n_estimators': 100, 'subsample': 1.0}\n",
      "0.658473 (0.011864) with: {'learning_rate': 0.1, 'max_depth': 3, 'n_estimators': 250, 'subsample': 0.5}\n",
      "0.663836 (0.012901) with: {'learning_rate': 0.1, 'max_depth': 3, 'n_estimators': 250, 'subsample': 0.7}\n",
      "0.663215 (0.008002) with: {'learning_rate': 0.1, 'max_depth': 3, 'n_estimators': 250, 'subsample': 1.0}\n",
      "0.559018 (0.011756) with: {'learning_rate': 0.1, 'max_depth': 7, 'n_estimators': 10, 'subsample': 0.5}\n",
      "0.566224 (0.012174) with: {'learning_rate': 0.1, 'max_depth': 7, 'n_estimators': 10, 'subsample': 0.7}\n",
      "0.561964 (0.009153) with: {'learning_rate': 0.1, 'max_depth': 7, 'n_estimators': 10, 'subsample': 1.0}\n",
      "0.655057 (0.009429) with: {'learning_rate': 0.1, 'max_depth': 7, 'n_estimators': 100, 'subsample': 0.5}\n",
      "0.656971 (0.010161) with: {'learning_rate': 0.1, 'max_depth': 7, 'n_estimators': 100, 'subsample': 0.7}\n",
      "0.663921 (0.010852) with: {'learning_rate': 0.1, 'max_depth': 7, 'n_estimators': 100, 'subsample': 1.0}\n",
      "0.649603 (0.016299) with: {'learning_rate': 0.1, 'max_depth': 7, 'n_estimators': 250, 'subsample': 0.5}\n",
      "0.654917 (0.010565) with: {'learning_rate': 0.1, 'max_depth': 7, 'n_estimators': 250, 'subsample': 0.7}\n",
      "0.662547 (0.010255) with: {'learning_rate': 0.1, 'max_depth': 7, 'n_estimators': 250, 'subsample': 1.0}\n",
      "0.557279 (0.012581) with: {'learning_rate': 0.1, 'max_depth': 9, 'n_estimators': 10, 'subsample': 0.5}\n",
      "0.563521 (0.018349) with: {'learning_rate': 0.1, 'max_depth': 9, 'n_estimators': 10, 'subsample': 0.7}\n",
      "0.572502 (0.010466) with: {'learning_rate': 0.1, 'max_depth': 9, 'n_estimators': 10, 'subsample': 1.0}\n",
      "0.647153 (0.012655) with: {'learning_rate': 0.1, 'max_depth': 9, 'n_estimators': 100, 'subsample': 0.5}\n",
      "0.653028 (0.012616) with: {'learning_rate': 0.1, 'max_depth': 9, 'n_estimators': 100, 'subsample': 0.7}\n",
      "0.651430 (0.015853) with: {'learning_rate': 0.1, 'max_depth': 9, 'n_estimators': 100, 'subsample': 1.0}\n",
      "0.643683 (0.015868) with: {'learning_rate': 0.1, 'max_depth': 9, 'n_estimators': 250, 'subsample': 0.5}\n",
      "0.645599 (0.015588) with: {'learning_rate': 0.1, 'max_depth': 9, 'n_estimators': 250, 'subsample': 0.7}\n",
      "0.649709 (0.007618) with: {'learning_rate': 0.1, 'max_depth': 9, 'n_estimators': 250, 'subsample': 1.0}\n"
     ]
    }
   ],
   "source": [
    "# define models and parameters\n",
    "model = GradientBoostingClassifier()\n",
    "n_estimators = [10, 100, 250]\n",
    "learning_rate = [0.001, 0.01, 0.1]\n",
    "subsample = [0.5, 0.7, 1.0]\n",
    "max_depth = [3, 7, 9]\n",
    "\n",
    "# define grid search\n",
    "grid = dict(learning_rate = learning_rate, n_estimators = n_estimators, subsample = subsample, max_depth = max_depth)\n",
    "\n",
    "grid_search = GridSearchCV(estimator = model, param_grid = grid, n_jobs = -1, cv = folds, scoring = 'f1', error_score = 0)\n",
    "grid_result = grid_search.fit(x_tree, y_tree)\n",
    "\n",
    "# summarize results\n",
    "print(\"Best: %f using %s\" % (grid_result.best_score_, grid_result.best_params_))\n",
    "means = grid_result.cv_results_['mean_test_score']\n",
    "stds = grid_result.cv_results_['std_test_score']\n",
    "params = grid_result.cv_results_['params']\n",
    "for mean, stdev, param in zip(means, stds, params):\n",
    "    print(\"%f (%f) with: %r\" % (mean, stdev, param))"
   ]
  },
  {
   "cell_type": "code",
   "execution_count": 39,
   "metadata": {},
   "outputs": [
    {
     "data": {
      "text/plain": [
       "array([0.66221232, 0.64590876, 0.65914221, 0.67112101, 0.6870229 ])"
      ]
     },
     "execution_count": 39,
     "metadata": {},
     "output_type": "execute_result"
    }
   ],
   "source": [
    "model_5 = GradientBoostingClassifier(learning_rate = 0.1, n_estimators = 100, \n",
    "                                     subsample = 1.0, max_depth = 7).fit(x_tree, y_tree)\n",
    "\n",
    "scores_5 = cross_val_score(model_5, x_tree, y_tree, scoring = 'f1', cv = folds)\n",
    "\n",
    "scores_5"
   ]
  },
  {
   "cell_type": "code",
   "execution_count": 40,
   "metadata": {},
   "outputs": [
    {
     "data": {
      "text/plain": [
       "Text(0, 0.5, 'Feature Importance Score')"
      ]
     },
     "execution_count": 40,
     "metadata": {},
     "output_type": "execute_result"
    },
    {
     "data": {
      "image/png": "[encoded data removed]",
      "text/plain": [
       "<Figure size 864x360 with 1 Axes>"
      ]
     },
     "metadata": {
      "needs_background": "light"
     },
     "output_type": "display_data"
    }
   ],
   "source": [
    "plt.figure(figsize = (12, 5))\n",
    "feat_imp = pd.Series(model_5.feature_importances_, x_tree.columns).sort_values(ascending=False)\n",
    "feat_imp.plot(kind='bar', title='Feature Importances')\n",
    "plt.ylabel('Feature Importance Score')"
   ]
  },
  {
   "cell_type": "code",
   "execution_count": null,
   "metadata": {},
   "outputs": [],
   "source": []
  },
  {
   "cell_type": "markdown",
   "metadata": {},
   "source": [
    "#### Logistic Regression on More Balanced Data"
   ]
  },
  {
   "cell_type": "code",
   "execution_count": 438,
   "metadata": {},
   "outputs": [],
   "source": [
    "# Merge back to find the balanced data in the training dataset\n",
    "balanced_data = pd.merge(loan_defaults[['UID', 'RECORDNUMBER']], data.loc[x_train.index, :], on = ['UID', 'RECORDNUMBER'], how = 'inner')"
   ]
  },
  {
   "cell_type": "code",
   "execution_count": 439,
   "metadata": {},
   "outputs": [
    {
     "data": {
      "text/plain": [
       "0.3538728993625652"
      ]
     },
     "execution_count": 439,
     "metadata": {},
     "output_type": "execute_result"
    }
   ],
   "source": [
    "balanced_data.dflag.mean()"
   ]
  },
  {
   "cell_type": "code",
   "execution_count": 440,
   "metadata": {},
   "outputs": [],
   "source": [
    "x_bd = balanced_data[['SCORE', 'month_span', 'OPENBALANCE', 'num_accounts', 'REPAYPERIOD', 'CLASS']].copy()\n",
    "\n",
    "y_bd = balanced_data['dflag']\n",
    "\n",
    "x_bd[encoder.get_feature_names(['CLASS'])] = encoder.transform(x_bd[['CLASS']]).toarray()"
   ]
  },
  {
   "cell_type": "code",
   "execution_count": 441,
   "metadata": {},
   "outputs": [],
   "source": [
    "normalizer_bd = StandardScaler()\n",
    "\n",
    "x_bd_train = x_bd.copy()\n",
    "x_bd_test = x_ori_test.copy()\n",
    "\n",
    "x_bd_train[num_features] = normalizer_bd.fit_transform(x_bd_train[num_features])\n",
    "x_bd_test[num_features] = normalizer_bd.transform(x_bd_test[num_features])"
   ]
  },
  {
   "cell_type": "code",
   "execution_count": 442,
   "metadata": {},
   "outputs": [
    {
     "name": "stdout",
     "output_type": "stream",
     "text": [
      "Optimization terminated successfully.\n",
      "         Current function value: 0.248150\n",
      "         Iterations 8\n"
     ]
    }
   ],
   "source": [
    "model_6 = smf.logit(formula = 'dflag ~ SCORE + month_span + OPENBALANCE + num_accounts + REPAYPERIOD + CLASS', data = pd.concat([x_bd_train, y_bd], axis = 1)).fit()"
   ]
  },
  {
   "cell_type": "code",
   "execution_count": 443,
   "metadata": {},
   "outputs": [
    {
     "name": "stdout",
     "output_type": "stream",
     "text": [
      "                           Logit Regression Results                           \n",
      "==============================================================================\n",
      "Dep. Variable:                  dflag   No. Observations:                10354\n",
      "Model:                          Logit   Df Residuals:                    10347\n",
      "Method:                           MLE   Df Model:                            6\n",
      "Date:                Fri, 30 Jul 2021   Pseudo R-squ.:                  0.6181\n",
      "Time:                        22:17:33   Log-Likelihood:                -2569.3\n",
      "converged:                       True   LL-Null:                       -6728.1\n",
      "Covariance Type:            nonrobust   LLR p-value:                     0.000\n",
      "=====================================================================================\n",
      "                        coef    std err          z      P>|z|      [0.025      0.975]\n",
      "-------------------------------------------------------------------------------------\n",
      "Intercept            -1.6507      0.072    -22.992      0.000      -1.791      -1.510\n",
      "CLASS[T.STANDARD]    -0.2139      0.075     -2.869      0.004      -0.360      -0.068\n",
      "SCORE                -3.1496      0.072    -43.620      0.000      -3.291      -3.008\n",
      "month_span           -2.2105      0.066    -33.473      0.000      -2.340      -2.081\n",
      "OPENBALANCE           0.4795      0.052      9.235      0.000       0.378       0.581\n",
      "num_accounts         -0.2306      0.036     -6.453      0.000      -0.301      -0.161\n",
      "REPAYPERIOD           1.3163      0.058     22.674      0.000       1.203       1.430\n",
      "=====================================================================================\n"
     ]
    }
   ],
   "source": [
    "print(model_6.summary())"
   ]
  },
  {
   "cell_type": "code",
   "execution_count": 445,
   "metadata": {},
   "outputs": [
    {
     "data": {
      "text/plain": [
       "array([0.84133333, 0.85080645, 0.84413793, 0.84168337, 0.8533704 ])"
      ]
     },
     "execution_count": 445,
     "metadata": {},
     "output_type": "execute_result"
    }
   ],
   "source": [
    "x_cv = x_bd_train.drop(['CLASS'], axis = 1)\n",
    "y_cv = y_bd\n",
    "\n",
    "model_6_cv = LogisticRegression(C = 1e9, fit_intercept = False, max_iter = 500)\n",
    "\n",
    "scores_6 = cross_val_score(model_6_cv, sm.add_constant(x_cv), y_cv, scoring = 'f1', cv = folds)\n",
    "\n",
    "scores_6"
   ]
  },
  {
   "cell_type": "code",
   "execution_count": null,
   "metadata": {},
   "outputs": [],
   "source": []
  },
  {
   "cell_type": "markdown",
   "metadata": {},
   "source": [
    "#### Gradient Bossting on More Balanced Data"
   ]
  },
  {
   "cell_type": "code",
   "execution_count": 451,
   "metadata": {},
   "outputs": [
    {
     "name": "stdout",
     "output_type": "stream",
     "text": [
      "Best: 0.880740 using {'learning_rate': 0.01, 'max_depth': 7, 'n_estimators': 250, 'subsample': 0.5}\n",
      "0.000000 (0.000000) with: {'learning_rate': 0.001, 'max_depth': 3, 'n_estimators': 10, 'subsample': 0.5}\n",
      "0.000000 (0.000000) with: {'learning_rate': 0.001, 'max_depth': 3, 'n_estimators': 10, 'subsample': 0.7}\n",
      "0.000000 (0.000000) with: {'learning_rate': 0.001, 'max_depth': 3, 'n_estimators': 10, 'subsample': 1.0}\n",
      "0.000000 (0.000000) with: {'learning_rate': 0.001, 'max_depth': 3, 'n_estimators': 100, 'subsample': 0.5}\n",
      "0.000000 (0.000000) with: {'learning_rate': 0.001, 'max_depth': 3, 'n_estimators': 100, 'subsample': 0.7}\n",
      "0.000000 (0.000000) with: {'learning_rate': 0.001, 'max_depth': 3, 'n_estimators': 100, 'subsample': 1.0}\n",
      "0.000000 (0.000000) with: {'learning_rate': 0.001, 'max_depth': 3, 'n_estimators': 250, 'subsample': 0.5}\n",
      "0.000000 (0.000000) with: {'learning_rate': 0.001, 'max_depth': 3, 'n_estimators': 250, 'subsample': 0.7}\n",
      "0.000000 (0.000000) with: {'learning_rate': 0.001, 'max_depth': 3, 'n_estimators': 250, 'subsample': 1.0}\n",
      "0.000000 (0.000000) with: {'learning_rate': 0.001, 'max_depth': 7, 'n_estimators': 10, 'subsample': 0.5}\n",
      "0.000000 (0.000000) with: {'learning_rate': 0.001, 'max_depth': 7, 'n_estimators': 10, 'subsample': 0.7}\n",
      "0.000000 (0.000000) with: {'learning_rate': 0.001, 'max_depth': 7, 'n_estimators': 10, 'subsample': 1.0}\n",
      "0.000000 (0.000000) with: {'learning_rate': 0.001, 'max_depth': 7, 'n_estimators': 100, 'subsample': 0.5}\n",
      "0.000000 (0.000000) with: {'learning_rate': 0.001, 'max_depth': 7, 'n_estimators': 100, 'subsample': 0.7}\n",
      "0.000000 (0.000000) with: {'learning_rate': 0.001, 'max_depth': 7, 'n_estimators': 100, 'subsample': 1.0}\n",
      "0.000000 (0.000000) with: {'learning_rate': 0.001, 'max_depth': 7, 'n_estimators': 250, 'subsample': 0.5}\n",
      "0.000000 (0.000000) with: {'learning_rate': 0.001, 'max_depth': 7, 'n_estimators': 250, 'subsample': 0.7}\n",
      "0.000000 (0.000000) with: {'learning_rate': 0.001, 'max_depth': 7, 'n_estimators': 250, 'subsample': 1.0}\n",
      "0.000000 (0.000000) with: {'learning_rate': 0.001, 'max_depth': 9, 'n_estimators': 10, 'subsample': 0.5}\n",
      "0.000000 (0.000000) with: {'learning_rate': 0.001, 'max_depth': 9, 'n_estimators': 10, 'subsample': 0.7}\n",
      "0.000000 (0.000000) with: {'learning_rate': 0.001, 'max_depth': 9, 'n_estimators': 10, 'subsample': 1.0}\n",
      "0.000000 (0.000000) with: {'learning_rate': 0.001, 'max_depth': 9, 'n_estimators': 100, 'subsample': 0.5}\n",
      "0.000000 (0.000000) with: {'learning_rate': 0.001, 'max_depth': 9, 'n_estimators': 100, 'subsample': 0.7}\n",
      "0.000000 (0.000000) with: {'learning_rate': 0.001, 'max_depth': 9, 'n_estimators': 100, 'subsample': 1.0}\n",
      "0.000000 (0.000000) with: {'learning_rate': 0.001, 'max_depth': 9, 'n_estimators': 250, 'subsample': 0.5}\n",
      "0.000000 (0.000000) with: {'learning_rate': 0.001, 'max_depth': 9, 'n_estimators': 250, 'subsample': 0.7}\n",
      "0.003303 (0.005366) with: {'learning_rate': 0.001, 'max_depth': 9, 'n_estimators': 250, 'subsample': 1.0}\n",
      "0.000000 (0.000000) with: {'learning_rate': 0.01, 'max_depth': 3, 'n_estimators': 10, 'subsample': 0.5}\n",
      "0.000000 (0.000000) with: {'learning_rate': 0.01, 'max_depth': 3, 'n_estimators': 10, 'subsample': 0.7}\n",
      "0.000000 (0.000000) with: {'learning_rate': 0.01, 'max_depth': 3, 'n_estimators': 10, 'subsample': 1.0}\n",
      "0.782090 (0.015270) with: {'learning_rate': 0.01, 'max_depth': 3, 'n_estimators': 100, 'subsample': 0.5}\n",
      "0.780506 (0.015203) with: {'learning_rate': 0.01, 'max_depth': 3, 'n_estimators': 100, 'subsample': 0.7}\n",
      "0.781208 (0.014376) with: {'learning_rate': 0.01, 'max_depth': 3, 'n_estimators': 100, 'subsample': 1.0}\n",
      "0.853561 (0.009898) with: {'learning_rate': 0.01, 'max_depth': 3, 'n_estimators': 250, 'subsample': 0.5}\n",
      "0.853298 (0.009959) with: {'learning_rate': 0.01, 'max_depth': 3, 'n_estimators': 250, 'subsample': 0.7}\n",
      "0.852457 (0.009131) with: {'learning_rate': 0.01, 'max_depth': 3, 'n_estimators': 250, 'subsample': 1.0}\n",
      "0.000000 (0.000000) with: {'learning_rate': 0.01, 'max_depth': 7, 'n_estimators': 10, 'subsample': 0.5}\n",
      "0.000000 (0.000000) with: {'learning_rate': 0.01, 'max_depth': 7, 'n_estimators': 10, 'subsample': 0.7}\n",
      "0.000000 (0.000000) with: {'learning_rate': 0.01, 'max_depth': 7, 'n_estimators': 10, 'subsample': 1.0}\n",
      "0.863038 (0.012151) with: {'learning_rate': 0.01, 'max_depth': 7, 'n_estimators': 100, 'subsample': 0.5}\n",
      "0.864255 (0.015540) with: {'learning_rate': 0.01, 'max_depth': 7, 'n_estimators': 100, 'subsample': 0.7}\n",
      "0.862987 (0.015116) with: {'learning_rate': 0.01, 'max_depth': 7, 'n_estimators': 100, 'subsample': 1.0}\n",
      "0.880740 (0.010844) with: {'learning_rate': 0.01, 'max_depth': 7, 'n_estimators': 250, 'subsample': 0.5}\n",
      "0.879319 (0.011543) with: {'learning_rate': 0.01, 'max_depth': 7, 'n_estimators': 250, 'subsample': 0.7}\n",
      "0.876579 (0.010918) with: {'learning_rate': 0.01, 'max_depth': 7, 'n_estimators': 250, 'subsample': 1.0}\n",
      "0.000000 (0.000000) with: {'learning_rate': 0.01, 'max_depth': 9, 'n_estimators': 10, 'subsample': 0.5}\n",
      "0.000000 (0.000000) with: {'learning_rate': 0.01, 'max_depth': 9, 'n_estimators': 10, 'subsample': 0.7}\n",
      "0.000000 (0.000000) with: {'learning_rate': 0.01, 'max_depth': 9, 'n_estimators': 10, 'subsample': 1.0}\n",
      "0.871057 (0.011374) with: {'learning_rate': 0.01, 'max_depth': 9, 'n_estimators': 100, 'subsample': 0.5}\n",
      "0.868870 (0.011000) with: {'learning_rate': 0.01, 'max_depth': 9, 'n_estimators': 100, 'subsample': 0.7}\n",
      "0.856617 (0.013243) with: {'learning_rate': 0.01, 'max_depth': 9, 'n_estimators': 100, 'subsample': 1.0}\n",
      "0.879265 (0.008749) with: {'learning_rate': 0.01, 'max_depth': 9, 'n_estimators': 250, 'subsample': 0.5}\n",
      "0.877937 (0.010201) with: {'learning_rate': 0.01, 'max_depth': 9, 'n_estimators': 250, 'subsample': 0.7}\n",
      "0.867395 (0.011517) with: {'learning_rate': 0.01, 'max_depth': 9, 'n_estimators': 250, 'subsample': 1.0}\n",
      "0.795230 (0.018225) with: {'learning_rate': 0.1, 'max_depth': 3, 'n_estimators': 10, 'subsample': 0.5}\n",
      "0.783948 (0.012022) with: {'learning_rate': 0.1, 'max_depth': 3, 'n_estimators': 10, 'subsample': 0.7}\n",
      "0.780471 (0.015906) with: {'learning_rate': 0.1, 'max_depth': 3, 'n_estimators': 10, 'subsample': 1.0}\n",
      "0.875077 (0.008090) with: {'learning_rate': 0.1, 'max_depth': 3, 'n_estimators': 100, 'subsample': 0.5}\n",
      "0.873911 (0.008276) with: {'learning_rate': 0.1, 'max_depth': 3, 'n_estimators': 100, 'subsample': 0.7}\n",
      "0.875386 (0.009371) with: {'learning_rate': 0.1, 'max_depth': 3, 'n_estimators': 100, 'subsample': 1.0}\n",
      "0.876757 (0.004329) with: {'learning_rate': 0.1, 'max_depth': 3, 'n_estimators': 250, 'subsample': 0.5}\n",
      "0.877260 (0.006617) with: {'learning_rate': 0.1, 'max_depth': 3, 'n_estimators': 250, 'subsample': 0.7}\n",
      "0.873638 (0.005973) with: {'learning_rate': 0.1, 'max_depth': 3, 'n_estimators': 250, 'subsample': 1.0}\n",
      "0.860538 (0.013652) with: {'learning_rate': 0.1, 'max_depth': 7, 'n_estimators': 10, 'subsample': 0.5}\n",
      "0.863567 (0.011254) with: {'learning_rate': 0.1, 'max_depth': 7, 'n_estimators': 10, 'subsample': 0.7}\n",
      "0.862313 (0.015325) with: {'learning_rate': 0.1, 'max_depth': 7, 'n_estimators': 10, 'subsample': 1.0}\n",
      "0.879864 (0.008953) with: {'learning_rate': 0.1, 'max_depth': 7, 'n_estimators': 100, 'subsample': 0.5}\n",
      "0.878399 (0.009621) with: {'learning_rate': 0.1, 'max_depth': 7, 'n_estimators': 100, 'subsample': 0.7}\n",
      "0.876243 (0.008633) with: {'learning_rate': 0.1, 'max_depth': 7, 'n_estimators': 100, 'subsample': 1.0}\n",
      "0.875787 (0.010061) with: {'learning_rate': 0.1, 'max_depth': 7, 'n_estimators': 250, 'subsample': 0.5}\n",
      "0.874241 (0.009088) with: {'learning_rate': 0.1, 'max_depth': 7, 'n_estimators': 250, 'subsample': 0.7}\n",
      "0.872462 (0.007165) with: {'learning_rate': 0.1, 'max_depth': 7, 'n_estimators': 250, 'subsample': 1.0}\n",
      "0.857289 (0.008797) with: {'learning_rate': 0.1, 'max_depth': 9, 'n_estimators': 10, 'subsample': 0.5}\n",
      "0.861795 (0.012407) with: {'learning_rate': 0.1, 'max_depth': 9, 'n_estimators': 10, 'subsample': 0.7}\n",
      "0.855759 (0.013173) with: {'learning_rate': 0.1, 'max_depth': 9, 'n_estimators': 10, 'subsample': 1.0}\n",
      "0.875011 (0.010111) with: {'learning_rate': 0.1, 'max_depth': 9, 'n_estimators': 100, 'subsample': 0.5}\n",
      "0.875345 (0.012145) with: {'learning_rate': 0.1, 'max_depth': 9, 'n_estimators': 100, 'subsample': 0.7}\n",
      "0.871303 (0.008024) with: {'learning_rate': 0.1, 'max_depth': 9, 'n_estimators': 100, 'subsample': 1.0}\n",
      "0.872412 (0.010450) with: {'learning_rate': 0.1, 'max_depth': 9, 'n_estimators': 250, 'subsample': 0.5}\n",
      "0.874901 (0.007743) with: {'learning_rate': 0.1, 'max_depth': 9, 'n_estimators': 250, 'subsample': 0.7}\n",
      "0.871428 (0.010090) with: {'learning_rate': 0.1, 'max_depth': 9, 'n_estimators': 250, 'subsample': 1.0}\n"
     ]
    }
   ],
   "source": [
    "x_tree_bd = x_bd.drop(['CLASS'], axis = 1)\n",
    "\n",
    "# define models and parameters\n",
    "model = GradientBoostingClassifier()\n",
    "n_estimators = [10, 100, 250]\n",
    "learning_rate = [0.001, 0.01, 0.1]\n",
    "subsample = [0.5, 0.7, 1.0]\n",
    "max_depth = [3, 7, 9]\n",
    "\n",
    "# define grid search\n",
    "grid = dict(learning_rate = learning_rate, n_estimators = n_estimators, subsample = subsample, max_depth = max_depth)\n",
    "\n",
    "grid_search = GridSearchCV(estimator = model, param_grid = grid, n_jobs = -1, cv = folds, scoring = 'f1', error_score = 0)\n",
    "grid_result = grid_search.fit(x_tree_bd, y_bd)\n",
    "\n",
    "# summarize results\n",
    "print(\"Best: %f using %s\" % (grid_result.best_score_, grid_result.best_params_))\n",
    "means = grid_result.cv_results_['mean_test_score']\n",
    "stds = grid_result.cv_results_['std_test_score']\n",
    "params = grid_result.cv_results_['params']\n",
    "for mean, stdev, param in zip(means, stds, params):\n",
    "    print(\"%f (%f) with: %r\" % (mean, stdev, param))"
   ]
  },
  {
   "cell_type": "code",
   "execution_count": 452,
   "metadata": {},
   "outputs": [
    {
     "data": {
      "text/plain": [
       "array([0.86693548, 0.87407407, 0.88231246, 0.87417219, 0.89437586])"
      ]
     },
     "execution_count": 452,
     "metadata": {},
     "output_type": "execute_result"
    }
   ],
   "source": [
    "model_7 = GradientBoostingClassifier(learning_rate = 0.01, n_estimators = 250, \n",
    "                                     subsample = 0.5, max_depth = 7).fit(x_tree_bd, y_bd)\n",
    "\n",
    "scores_7 = cross_val_score(model_7, x_tree_bd, y_bd, scoring = 'f1', cv = folds)\n",
    "\n",
    "scores_7"
   ]
  },
  {
   "cell_type": "code",
   "execution_count": 453,
   "metadata": {},
   "outputs": [
    {
     "data": {
      "text/plain": [
       "Text(0, 0.5, 'Feature Importance Score')"
      ]
     },
     "execution_count": 453,
     "metadata": {},
     "output_type": "execute_result"
    },
    {
     "data": {
      "image/png": "[encoded data removed]",
      "text/plain": [
       "<Figure size 864x360 with 1 Axes>"
      ]
     },
     "metadata": {
      "needs_background": "light"
     },
     "output_type": "display_data"
    }
   ],
   "source": [
    "plt.figure(figsize = (12, 5))\n",
    "feat_imp = pd.Series(model_7.feature_importances_, x_tree_bd.columns).sort_values(ascending=False)\n",
    "feat_imp.plot(kind='bar', title='Feature Importances')\n",
    "plt.ylabel('Feature Importance Score')"
   ]
  },
  {
   "cell_type": "code",
   "execution_count": null,
   "metadata": {},
   "outputs": [],
   "source": []
  },
  {
   "cell_type": "markdown",
   "metadata": {},
   "source": [
    "#### Metrics on Training and Validation Data"
   ]
  },
  {
   "cell_type": "code",
   "execution_count": 454,
   "metadata": {},
   "outputs": [
    {
     "data": {
      "text/plain": [
       "array([0.08360958, 0.04952387, 0.02741986, ..., 0.00096935, 0.32469619,\n",
       "       0.02143927])"
      ]
     },
     "execution_count": 454,
     "metadata": {},
     "output_type": "execute_result"
    }
   ],
   "source": [
    "model_1.predict()"
   ]
  },
  {
   "cell_type": "code",
   "execution_count": 455,
   "metadata": {},
   "outputs": [
    {
     "data": {
      "text/plain": [
       "array([0.08360958, 0.04952387, 0.02741986, ..., 0.00096935, 0.32469619,\n",
       "       0.02143927])"
      ]
     },
     "execution_count": 455,
     "metadata": {},
     "output_type": "execute_result"
    }
   ],
   "source": [
    "model_2.predict()"
   ]
  },
  {
   "cell_type": "code",
   "execution_count": 456,
   "metadata": {},
   "outputs": [
    {
     "data": {
      "text/plain": [
       "array([[9.16212092e-01, 8.37879084e-02],\n",
       "       [9.50319773e-01, 4.96802271e-02],\n",
       "       [9.72511542e-01, 2.74884581e-02],\n",
       "       ...,\n",
       "       [9.99021191e-01, 9.78808578e-04],\n",
       "       [6.75457191e-01, 3.24542809e-01],\n",
       "       [9.78500289e-01, 2.14997108e-02]])"
      ]
     },
     "execution_count": 456,
     "metadata": {},
     "output_type": "execute_result"
    }
   ],
   "source": [
    "model_3.predict_proba(x_ht)"
   ]
  },
  {
   "cell_type": "code",
   "execution_count": 458,
   "metadata": {},
   "outputs": [
    {
     "data": {
      "image/png": "[encoded data removed]",
      "text/plain": [
       "<Figure size 432x288 with 1 Axes>"
      ]
     },
     "metadata": {
      "needs_background": "light"
     },
     "output_type": "display_data"
    }
   ],
   "source": [
    "y_pred_proba_1 = model_1.predict()\n",
    "fpr_1, tpr_1, _ = metrics.roc_curve(y_train, y_pred_proba_1)\n",
    "auc_1 = round(metrics.roc_auc_score(y_train, y_pred_proba_1), 2)\n",
    "\n",
    "y_pred_proba_2 = model_2.predict()\n",
    "fpr_2, tpr_2, _ = metrics.roc_curve(y_train, y_pred_proba_2)\n",
    "auc_2 = round(metrics.roc_auc_score(y_train, y_pred_proba_2), 2)\n",
    "\n",
    "y_pred_proba_3 = model_3.predict_proba(x_ht)[::, 1]\n",
    "fpr_3, tpr_3, _ = metrics.roc_curve(y_train, y_pred_proba_3)\n",
    "auc_3 = round(metrics.roc_auc_score(y_train, y_pred_proba_3), 2)\n",
    "\n",
    "y_pred_proba_4 = model_4.predict_proba(x_tree)[::, 1]\n",
    "fpr_4, tpr_4, _ = metrics.roc_curve(y_tree, y_pred_proba_4)\n",
    "auc_4 = round(metrics.roc_auc_score(y_tree, y_pred_proba_4), 2)\n",
    "\n",
    "y_pred_proba_5 = model_5.predict_proba(x_tree)[::, 1]\n",
    "fpr_5, tpr_5, _ = metrics.roc_curve(y_tree, y_pred_proba_5)\n",
    "auc_5 = round(metrics.roc_auc_score(y_tree, y_pred_proba_5), 2)\n",
    "\n",
    "y_pred_proba_6 = model_6.predict()\n",
    "fpr_6, tpr_6, _ = metrics.roc_curve(y_bd, y_pred_proba_6)\n",
    "auc_6 = round(metrics.roc_auc_score(y_bd, y_pred_proba_6), 2)\n",
    "\n",
    "y_pred_proba_7 = model_7.predict_proba(x_tree_bd)[::, 1]\n",
    "fpr_7, tpr_7, _ = metrics.roc_curve(y_bd, y_pred_proba_7)\n",
    "auc_7 = round(metrics.roc_auc_score(y_bd, y_pred_proba_7), 2)\n",
    "\n",
    "plt.plot(fpr_1, tpr_1, label = \"Model_1, auc=\"+str(auc_1))\n",
    "plt.plot(fpr_2, tpr_2, label = \"Model_2, auc=\"+str(auc_2))\n",
    "plt.plot(fpr_3, tpr_3, label = \"Model_3, auc=\"+str(auc_3))\n",
    "plt.plot(fpr_4, tpr_4, label = \"Model_4, auc=\"+str(auc_4))\n",
    "plt.plot(fpr_5, tpr_5, label = \"Model_5, auc=\"+str(auc_5))\n",
    "plt.plot(fpr_6, tpr_6, label = \"Model_6, auc=\"+str(auc_6))\n",
    "plt.plot(fpr_7, tpr_7, label = \"Model_7, auc=\"+str(auc_7))\n",
    "\n",
    "plt.title('Receiver Operating Characteristic')\n",
    "plt.ylabel('True Positive Rate')\n",
    "plt.xlabel('False Positive Rate')\n",
    "plt.legend(loc = 4)\n",
    "plt.show()"
   ]
  },
  {
   "cell_type": "code",
   "execution_count": 461,
   "metadata": {},
   "outputs": [
    {
     "data": {
      "text/html": [
       "<div>\n",
       "<style scoped>\n",
       "    .dataframe tbody tr th:only-of-type {\n",
       "        vertical-align: middle;\n",
       "    }\n",
       "\n",
       "    .dataframe tbody tr th {\n",
       "        vertical-align: top;\n",
       "    }\n",
       "\n",
       "    .dataframe thead th {\n",
       "        text-align: right;\n",
       "    }\n",
       "</style>\n",
       "<table border=\"1\" class=\"dataframe\">\n",
       "  <thead>\n",
       "    <tr style=\"text-align: right;\">\n",
       "      <th></th>\n",
       "      <th>models</th>\n",
       "      <th>cross validation f1 score</th>\n",
       "      <th>accuracy</th>\n",
       "      <th>auc</th>\n",
       "    </tr>\n",
       "  </thead>\n",
       "  <tbody>\n",
       "    <tr>\n",
       "      <th>0</th>\n",
       "      <td>model_1</td>\n",
       "      <td>0.54</td>\n",
       "      <td>0.91</td>\n",
       "      <td>0.93</td>\n",
       "    </tr>\n",
       "    <tr>\n",
       "      <th>1</th>\n",
       "      <td>model_2</td>\n",
       "      <td>0.47</td>\n",
       "      <td>0.91</td>\n",
       "      <td>0.93</td>\n",
       "    </tr>\n",
       "    <tr>\n",
       "      <th>2</th>\n",
       "      <td>model_3</td>\n",
       "      <td>0.54</td>\n",
       "      <td>0.91</td>\n",
       "      <td>0.93</td>\n",
       "    </tr>\n",
       "    <tr>\n",
       "      <th>3</th>\n",
       "      <td>model_4</td>\n",
       "      <td>0.64</td>\n",
       "      <td>0.93</td>\n",
       "      <td>0.95</td>\n",
       "    </tr>\n",
       "    <tr>\n",
       "      <th>4</th>\n",
       "      <td>model_5</td>\n",
       "      <td>0.67</td>\n",
       "      <td>0.96</td>\n",
       "      <td>0.98</td>\n",
       "    </tr>\n",
       "    <tr>\n",
       "      <th>5</th>\n",
       "      <td>model_6</td>\n",
       "      <td>0.85</td>\n",
       "      <td>0.89</td>\n",
       "      <td>0.96</td>\n",
       "    </tr>\n",
       "    <tr>\n",
       "      <th>6</th>\n",
       "      <td>model_7</td>\n",
       "      <td>0.88</td>\n",
       "      <td>0.93</td>\n",
       "      <td>0.99</td>\n",
       "    </tr>\n",
       "  </tbody>\n",
       "</table>\n",
       "</div>"
      ],
      "text/plain": [
       "    models  cross validation f1 score  accuracy   auc\n",
       "0  model_1                       0.54      0.91  0.93\n",
       "1  model_2                       0.47      0.91  0.93\n",
       "2  model_3                       0.54      0.91  0.93\n",
       "3  model_4                       0.64      0.93  0.95\n",
       "4  model_5                       0.67      0.96  0.98\n",
       "5  model_6                       0.85      0.89  0.96\n",
       "6  model_7                       0.88      0.93  0.99"
      ]
     },
     "execution_count": 461,
     "metadata": {},
     "output_type": "execute_result"
    }
   ],
   "source": [
    "models = ['model_1', 'model_2', 'model_3', 'model_4', 'model_5', 'model_6', 'model_7']\n",
    "\n",
    "cvf1 = [round(scores_1.mean(), 2), round(scores_2.mean(), 2), \n",
    "        round(scores_3.mean(), 2), round(scores_4.mean(), 2), \n",
    "        round(scores_5.mean(), 2), round(scores_6.mean(), 2),\n",
    "        round(scores_7.mean(), 2)]\n",
    "\n",
    "accuracy = [round(metrics.accuracy_score(y_train, list(map(round, model_1.predict()))), 2), \n",
    "            round(metrics.accuracy_score(y_train, list(map(round, model_2.predict()))), 2), \n",
    "            round(model_3.score(x_ht, y_train), 2), \n",
    "            round(model_4.score(x_tree, y_tree), 2), \n",
    "            round(model_5.score(x_tree, y_tree), 2), \n",
    "            round(metrics.accuracy_score(y_bd, list(map(round, model_6.predict()))), 2),\n",
    "            round(model_7.score(x_tree_bd, y_bd), 2),]\n",
    "\n",
    "auc = [auc_1, auc_2, auc_3, auc_4, auc_5, auc_6, auc_7]\n",
    "\n",
    "dict_metrics = {'models' : models, 'cross validation f1 score' : cvf1, \n",
    "                'accuracy' : accuracy, 'auc' : auc}\n",
    "\n",
    "pd.DataFrame(dict_metrics)"
   ]
  },
  {
   "cell_type": "code",
   "execution_count": null,
   "metadata": {},
   "outputs": [],
   "source": []
  },
  {
   "cell_type": "markdown",
   "metadata": {},
   "source": [
    "#### Metrics on Test Data"
   ]
  },
  {
   "cell_type": "code",
   "execution_count": 466,
   "metadata": {},
   "outputs": [
    {
     "data": {
      "image/png": "[encoded data removed]",
      "text/plain": [
       "<Figure size 432x288 with 1 Axes>"
      ]
     },
     "metadata": {
      "needs_background": "light"
     },
     "output_type": "display_data"
    }
   ],
   "source": [
    "y_pred_proba_1 = model_1.predict(x_test)\n",
    "fpr_1, tpr_1, _ = metrics.roc_curve(y_test, y_pred_proba_1)\n",
    "auc_1 = round(metrics.roc_auc_score(y_test, y_pred_proba_1), 2)\n",
    "\n",
    "y_pred_proba_2 = model_2.predict(x_ori_test)\n",
    "fpr_2, tpr_2, _ = metrics.roc_curve(y_test, y_pred_proba_2)\n",
    "auc_2 = round(metrics.roc_auc_score(y_test, y_pred_proba_2), 2)\n",
    "\n",
    "y_pred_proba_3 = model_3.predict_proba(x_test.drop(['CLASS'], axis = 1))[::, 1]\n",
    "fpr_3, tpr_3, _ = metrics.roc_curve(y_test, y_pred_proba_3)\n",
    "auc_3 = round(metrics.roc_auc_score(y_test, y_pred_proba_3), 2)\n",
    "\n",
    "y_pred_proba_4 = model_4.predict_proba(x_ori_test.drop(['CLASS'], axis = 1))[::, 1]\n",
    "fpr_4, tpr_4, _ = metrics.roc_curve(y_test, y_pred_proba_4)\n",
    "auc_4 = round(metrics.roc_auc_score(y_test, y_pred_proba_4), 2)\n",
    "\n",
    "y_pred_proba_5 = model_5.predict_proba(x_ori_test.drop(['CLASS'], axis = 1))[::, 1]\n",
    "fpr_5, tpr_5, _ = metrics.roc_curve(y_test, y_pred_proba_5)\n",
    "auc_5 = round(metrics.roc_auc_score(y_test, y_pred_proba_5), 2)\n",
    "\n",
    "y_pred_proba_6 = model_6.predict(x_bd_test)\n",
    "fpr_6, tpr_6, _ = metrics.roc_curve(y_test, y_pred_proba_6)\n",
    "auc_6 = round(metrics.roc_auc_score(y_test, y_pred_proba_6), 2)\n",
    "\n",
    "y_pred_proba_7 = model_7.predict_proba(x_ori_test.drop(['CLASS'], axis = 1))[::, 1]\n",
    "fpr_7, tpr_7, _ = metrics.roc_curve(y_test, y_pred_proba_7)\n",
    "auc_7 = round(metrics.roc_auc_score(y_test, y_pred_proba_7), 2)\n",
    "\n",
    "plt.plot(fpr_1, tpr_1, label = \"Model_1, auc=\"+str(auc_1))\n",
    "plt.plot(fpr_2, tpr_2, label = \"Model_2, auc=\"+str(auc_2))\n",
    "plt.plot(fpr_3, tpr_3, label = \"Model_3, auc=\"+str(auc_3))\n",
    "plt.plot(fpr_4, tpr_4, label = \"Model_4, auc=\"+str(auc_4))\n",
    "plt.plot(fpr_5, tpr_5, label = \"Model_5, auc=\"+str(auc_5))\n",
    "plt.plot(fpr_6, tpr_6, label = \"Model_6, auc=\"+str(auc_6))\n",
    "plt.plot(fpr_7, tpr_7, label = \"Model_7, auc=\"+str(auc_7))\n",
    "\n",
    "plt.title('Receiver Operating Characteristic')\n",
    "plt.ylabel('True Positive Rate')\n",
    "plt.xlabel('False Positive Rate')\n",
    "plt.legend(loc = 4)\n",
    "plt.show()"
   ]
  },
  {
   "cell_type": "code",
   "execution_count": 468,
   "metadata": {},
   "outputs": [
    {
     "data": {
      "text/html": [
       "<div>\n",
       "<style scoped>\n",
       "    .dataframe tbody tr th:only-of-type {\n",
       "        vertical-align: middle;\n",
       "    }\n",
       "\n",
       "    .dataframe tbody tr th {\n",
       "        vertical-align: top;\n",
       "    }\n",
       "\n",
       "    .dataframe thead th {\n",
       "        text-align: right;\n",
       "    }\n",
       "</style>\n",
       "<table border=\"1\" class=\"dataframe\">\n",
       "  <thead>\n",
       "    <tr style=\"text-align: right;\">\n",
       "      <th></th>\n",
       "      <th>models</th>\n",
       "      <th>f1 score</th>\n",
       "      <th>accuracy</th>\n",
       "      <th>auc</th>\n",
       "    </tr>\n",
       "  </thead>\n",
       "  <tbody>\n",
       "    <tr>\n",
       "      <th>0</th>\n",
       "      <td>model_1</td>\n",
       "      <td>0.53</td>\n",
       "      <td>0.91</td>\n",
       "      <td>0.94</td>\n",
       "    </tr>\n",
       "    <tr>\n",
       "      <th>1</th>\n",
       "      <td>model_2</td>\n",
       "      <td>0.53</td>\n",
       "      <td>0.91</td>\n",
       "      <td>0.94</td>\n",
       "    </tr>\n",
       "    <tr>\n",
       "      <th>2</th>\n",
       "      <td>model_3</td>\n",
       "      <td>0.53</td>\n",
       "      <td>0.91</td>\n",
       "      <td>0.94</td>\n",
       "    </tr>\n",
       "    <tr>\n",
       "      <th>3</th>\n",
       "      <td>model_4</td>\n",
       "      <td>0.65</td>\n",
       "      <td>0.93</td>\n",
       "      <td>0.94</td>\n",
       "    </tr>\n",
       "    <tr>\n",
       "      <th>4</th>\n",
       "      <td>model_5</td>\n",
       "      <td>0.66</td>\n",
       "      <td>0.93</td>\n",
       "      <td>0.96</td>\n",
       "    </tr>\n",
       "    <tr>\n",
       "      <th>5</th>\n",
       "      <td>model_6</td>\n",
       "      <td>0.58</td>\n",
       "      <td>0.85</td>\n",
       "      <td>0.93</td>\n",
       "    </tr>\n",
       "    <tr>\n",
       "      <th>6</th>\n",
       "      <td>model_7</td>\n",
       "      <td>0.62</td>\n",
       "      <td>0.87</td>\n",
       "      <td>0.95</td>\n",
       "    </tr>\n",
       "  </tbody>\n",
       "</table>\n",
       "</div>"
      ],
      "text/plain": [
       "    models  f1 score  accuracy   auc\n",
       "0  model_1      0.53      0.91  0.94\n",
       "1  model_2      0.53      0.91  0.94\n",
       "2  model_3      0.53      0.91  0.94\n",
       "3  model_4      0.65      0.93  0.94\n",
       "4  model_5      0.66      0.93  0.96\n",
       "5  model_6      0.58      0.85  0.93\n",
       "6  model_7      0.62      0.87  0.95"
      ]
     },
     "execution_count": 468,
     "metadata": {},
     "output_type": "execute_result"
    }
   ],
   "source": [
    "models = ['model_1', 'model_2', 'model_3', 'model_4', 'model_5', 'model_6', 'model_7']\n",
    "\n",
    "f1 = [round(f1_score(y_test, list(map(round, model_1.predict(x_test)))), 2), \n",
    "      round(f1_score(y_test, list(map(round, model_2.predict(x_ori_test)))), 2), \n",
    "      round(f1_score(y_test, model_3.predict(x_test.drop(['CLASS'], axis = 1))), 2), \n",
    "      round(f1_score(y_test, model_4.predict(x_ori_test.drop(['CLASS'], axis = 1))), 2), \n",
    "      round(f1_score(y_test, model_5.predict(x_ori_test.drop(['CLASS'], axis = 1))), 2), \n",
    "      round(f1_score(y_test, list(map(round, model_6.predict(x_bd_test)))), 2),\n",
    "      round(f1_score(y_test, model_7.predict(x_ori_test.drop(['CLASS'], axis = 1))), 2)]\n",
    "\n",
    "accuracy = [round(metrics.accuracy_score(y_test, list(map(round, model_1.predict(x_test)))), 2), \n",
    "            round(metrics.accuracy_score(y_test, list(map(round, model_2.predict(x_ori_test)))), 2), \n",
    "            round(model_3.score(x_test.drop(['CLASS'], axis = 1), y_test), 2), \n",
    "            round(model_4.score(x_ori_test.drop(['CLASS'], axis = 1), y_test), 2), \n",
    "            round(model_5.score(x_ori_test.drop(['CLASS'], axis = 1), y_test), 2), \n",
    "            round(metrics.accuracy_score(y_test, list(map(round, model_6.predict(x_bd_test)))), 2),\n",
    "            round(model_7.score(x_ori_test.drop(['CLASS'], axis = 1), y_test), 2),]\n",
    "\n",
    "auc = [auc_1, auc_2, auc_3, auc_4, auc_5, auc_6, auc_7]\n",
    "\n",
    "dict_metrics = {'models' : models, 'f1 score' : f1, \n",
    "                'accuracy' : accuracy, 'auc' : auc}\n",
    "\n",
    "pd.DataFrame(dict_metrics)"
   ]
  },
  {
   "cell_type": "code",
   "execution_count": null,
   "metadata": {},
   "outputs": [],
   "source": []
  },
  {
   "cell_type": "code",
   "execution_count": null,
   "metadata": {},
   "outputs": [],
   "source": []
  }
 ],
 "metadata": {
  "kernelspec": {
   "display_name": "Python 3",
   "language": "python",
   "name": "python3"
  },
  "language_info": {
   "codemirror_mode": {
    "name": "ipython",
    "version": 3
   },
   "file_extension": ".py",
   "mimetype": "text/x-python",
   "name": "python",
   "nbconvert_exporter": "python",
   "pygments_lexer": "ipython3",
   "version": "3.7.7"
  }
 },
 "nbformat": 4,
 "nbformat_minor": 4
}
