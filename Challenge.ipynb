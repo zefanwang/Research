{
 "cells": [
  {
   "cell_type": "markdown",
   "metadata": {},
   "source": [
    "# Challenge"
   ]
  },
  {
   "cell_type": "code",
   "execution_count": 1,
   "metadata": {
    "collapsed": true
   },
   "outputs": [],
   "source": [
    "import numpy as np\n",
    "import pandas as pd\n",
    "from statsmodels.stats.proportion import proportions_chisquare\n",
    "from statsmodels.stats.proportion import proportions_ztest\n",
    "from scipy.stats import chi2_contingency\n",
    "from scipy import interpolate\n",
    "from scipy import stats\n",
    "from sklearn.linear_model import LinearRegression\n",
    "import math\n",
    "from copy import deepcopy"
   ]
  },
  {
   "cell_type": "markdown",
   "metadata": {},
   "source": [
    "## Challenge 1 Combination Problem Version 1"
   ]
  },
  {
   "cell_type": "markdown",
   "metadata": {},
   "source": [
    "### Use recursion / dynamic programming to find all path"
   ]
  },
  {
   "cell_type": "code",
   "execution_count": 2,
   "metadata": {
    "collapsed": true
   },
   "outputs": [],
   "source": [
    "x = 2\n",
    "y = 1"
   ]
  },
  {
   "cell_type": "markdown",
   "metadata": {},
   "source": [
    "### Tried memoization, but only return the first path, need all the path"
   ]
  },
  {
   "cell_type": "code",
   "execution_count": 3,
   "metadata": {
    "collapsed": true
   },
   "outputs": [],
   "source": [
    "import collections\n",
    "import functools\n",
    "class memoized(object):\n",
    "    def __init__(self, func):\n",
    "        self.func = func\n",
    "        self.cache = {}\n",
    "    def __call__(self, *args):\n",
    "        if not isinstance(args, collections.Hashable):\n",
    "            return self.func(*args)\n",
    "        if args in self.cache:\n",
    "            return self.cache[args]\n",
    "        else:\n",
    "            value = self.func(*args)\n",
    "            self.cache[args] = value\n",
    "            return value\n",
    "    def __repr__(self):\n",
    "        return self.func.__doc__\n",
    "    def __get__(self, obj, objtype):\n",
    "        return functools.partial(self.__call__, obj)"
   ]
  },
  {
   "cell_type": "code",
   "execution_count": 4,
   "metadata": {
    "collapsed": true
   },
   "outputs": [],
   "source": [
    "allx = []\n",
    "mx = []\n",
    "def recursion(x, y):\n",
    "    global mx\n",
    "    global allx\n",
    "    mx.extend([[x, y]])\n",
    "    if x == 0 and y == 0:\n",
    "        allx.extend([mx])\n",
    "        mx = []\n",
    "        return 0\n",
    "    elif x != 0 and y == 0:\n",
    "        return recursion(x - 1, y)\n",
    "    elif x == 0 and y != 0:\n",
    "        return recursion(x, y - 1)\n",
    "    else:\n",
    "        return recursion(x - 1, y) + recursion(x, y - 1)"
   ]
  },
  {
   "cell_type": "code",
   "execution_count": 5,
   "metadata": {},
   "outputs": [
    {
     "data": {
      "text/plain": [
       "0"
      ]
     },
     "execution_count": 5,
     "metadata": {},
     "output_type": "execute_result"
    }
   ],
   "source": [
    "recursion(x, y)"
   ]
  },
  {
   "cell_type": "markdown",
   "metadata": {},
   "source": [
    "### Construct the list for all path points"
   ]
  },
  {
   "cell_type": "code",
   "execution_count": 6,
   "metadata": {},
   "outputs": [
    {
     "data": {
      "text/plain": [
       "[[[2, 1], [1, 1], [0, 1], [0, 0]], [[1, 0], [0, 0]], [[2, 0], [1, 0], [0, 0]]]"
      ]
     },
     "execution_count": 6,
     "metadata": {},
     "output_type": "execute_result"
    }
   ],
   "source": [
    "allx"
   ]
  },
  {
   "cell_type": "code",
   "execution_count": 7,
   "metadata": {
    "collapsed": true
   },
   "outputs": [],
   "source": [
    "alyx = deepcopy(allx)"
   ]
  },
  {
   "cell_type": "code",
   "execution_count": 8,
   "metadata": {
    "collapsed": true
   },
   "outputs": [],
   "source": [
    "for i in range(1, len(allx)):\n",
    "    while len(alyx[i]) != len(allx[0]):\n",
    "        j = i\n",
    "        while len(alyx[i]) >= len(allx[j-1]):\n",
    "            j = j - 1\n",
    "        alyx[i].extend(allx[j-1][0:(len(allx[j-1]) - len(alyx[i]))])"
   ]
  },
  {
   "cell_type": "code",
   "execution_count": 9,
   "metadata": {},
   "outputs": [
    {
     "data": {
      "text/plain": [
       "[[[2, 1], [1, 1], [0, 1], [0, 0]], [[1, 0], [0, 0]], [[2, 0], [1, 0], [0, 0]]]"
      ]
     },
     "execution_count": 9,
     "metadata": {},
     "output_type": "execute_result"
    }
   ],
   "source": [
    "allx"
   ]
  },
  {
   "cell_type": "code",
   "execution_count": 10,
   "metadata": {},
   "outputs": [
    {
     "data": {
      "text/plain": [
       "[[[2, 1], [1, 1], [0, 1], [0, 0]],\n",
       " [[1, 0], [0, 0], [2, 1], [1, 1]],\n",
       " [[2, 0], [1, 0], [0, 0], [2, 1]]]"
      ]
     },
     "execution_count": 10,
     "metadata": {},
     "output_type": "execute_result"
    }
   ],
   "source": [
    "alyx"
   ]
  },
  {
   "cell_type": "markdown",
   "metadata": {},
   "source": [
    "### Finding probability for each path"
   ]
  },
  {
   "cell_type": "code",
   "execution_count": 11,
   "metadata": {
    "collapsed": true
   },
   "outputs": [],
   "source": [
    "def probability(x, y, alyx):\n",
    "    p = []\n",
    "    for i in alyx:\n",
    "        count = 0\n",
    "        for j in i:\n",
    "            if j[0] < x and j[1] < y:\n",
    "                count += 1\n",
    "        prob = (1/2)**count\n",
    "        p.append(prob)\n",
    "    return p"
   ]
  },
  {
   "cell_type": "code",
   "execution_count": 12,
   "metadata": {},
   "outputs": [
    {
     "data": {
      "text/plain": [
       "[0.5, 0.25, 0.25]"
      ]
     },
     "execution_count": 12,
     "metadata": {},
     "output_type": "execute_result"
    }
   ],
   "source": [
    "probability(x, y, alyx)"
   ]
  },
  {
   "cell_type": "markdown",
   "metadata": {
    "collapsed": true
   },
   "source": [
    "### Finding deviation for each path"
   ]
  },
  {
   "cell_type": "markdown",
   "metadata": {
    "collapsed": true
   },
   "source": [
    "My first assumption, which assumes that deviation is the sum of all the point, the next assumption which assumes that deviation is the max is what I used ine the end.  So disregard this function.\n",
    "def deviation(x, y, alyx):\n",
    "    d = []\n",
    "    for i in alyx:\n",
    "        dev = 0\n",
    "        for j in i:\n",
    "            dev += abs(j[0]/x - j[1]/y)\n",
    "        d.append(dev)\n",
    "    return d"
   ]
  },
  {
   "cell_type": "code",
   "execution_count": 13,
   "metadata": {
    "collapsed": true
   },
   "outputs": [],
   "source": [
    "def deviation2(x, y, alyx):\n",
    "    d = []\n",
    "    for i in alyx:\n",
    "        dev = 0\n",
    "        for j in i:\n",
    "            if abs(j[0]/x - j[1]/y) > dev:\n",
    "                dev = abs(j[0]/x - j[1]/y)\n",
    "        d.append(dev)\n",
    "    return d"
   ]
  },
  {
   "cell_type": "code",
   "execution_count": 14,
   "metadata": {},
   "outputs": [
    {
     "data": {
      "text/plain": [
       "[1.0, 0.5, 1.0]"
      ]
     },
     "execution_count": 14,
     "metadata": {},
     "output_type": "execute_result"
    }
   ],
   "source": [
    "deviation2(x, y, alyx)"
   ]
  },
  {
   "cell_type": "markdown",
   "metadata": {},
   "source": [
    "### Finding Expected Mean"
   ]
  },
  {
   "cell_type": "code",
   "execution_count": 15,
   "metadata": {
    "collapsed": true
   },
   "outputs": [],
   "source": [
    "def dmean(x, y, alyx):\n",
    "    return (np.array(deviation2(x, y, alyx))*np.array(probability(x, y, alyx))).sum()"
   ]
  },
  {
   "cell_type": "code",
   "execution_count": 16,
   "metadata": {},
   "outputs": [
    {
     "data": {
      "text/plain": [
       "0.875"
      ]
     },
     "execution_count": 16,
     "metadata": {},
     "output_type": "execute_result"
    }
   ],
   "source": [
    "dmean(x, y, alyx)"
   ]
  },
  {
   "cell_type": "markdown",
   "metadata": {},
   "source": [
    "### Finding STD for probability"
   ]
  },
  {
   "cell_type": "code",
   "execution_count": 17,
   "metadata": {
    "collapsed": true
   },
   "outputs": [],
   "source": [
    "def stdp(x, y, alyx):\n",
    "    return np.sqrt((np.square(np.array(deviation2(x, y, alyx)))*np.array(probability(x, y, alyx))).sum() - np.square(dmean(x, y, alyx)))"
   ]
  },
  {
   "cell_type": "code",
   "execution_count": 18,
   "metadata": {},
   "outputs": [
    {
     "data": {
      "text/plain": [
       "0.21650635094610965"
      ]
     },
     "execution_count": 18,
     "metadata": {},
     "output_type": "execute_result"
    }
   ],
   "source": [
    "stdp(x, y, alyx)"
   ]
  },
  {
   "cell_type": "markdown",
   "metadata": {
    "collapsed": true
   },
   "source": [
    "### Conditional Probability"
   ]
  },
  {
   "cell_type": "code",
   "execution_count": 19,
   "metadata": {
    "collapsed": true
   },
   "outputs": [],
   "source": [
    "def cp(x, y, alyx):\n",
    "    return (np.array(deviation2(x, y, alyx)) > 0.6).sum()/(np.array(deviation2(x, y, alyx)) > 0.2).sum()"
   ]
  },
  {
   "cell_type": "code",
   "execution_count": 20,
   "metadata": {},
   "outputs": [
    {
     "data": {
      "text/plain": [
       "0.66666666666666663"
      ]
     },
     "execution_count": 20,
     "metadata": {},
     "output_type": "execute_result"
    }
   ],
   "source": [
    "cp(x, y, alyx)"
   ]
  },
  {
   "cell_type": "code",
   "execution_count": null,
   "metadata": {
    "collapsed": true
   },
   "outputs": [],
   "source": []
  },
  {
   "cell_type": "code",
   "execution_count": null,
   "metadata": {
    "collapsed": true
   },
   "outputs": [],
   "source": []
  },
  {
   "cell_type": "code",
   "execution_count": null,
   "metadata": {
    "collapsed": true
   },
   "outputs": [],
   "source": []
  },
  {
   "cell_type": "code",
   "execution_count": null,
   "metadata": {
    "collapsed": true
   },
   "outputs": [],
   "source": []
  },
  {
   "cell_type": "code",
   "execution_count": null,
   "metadata": {
    "collapsed": true
   },
   "outputs": [],
   "source": []
  },
  {
   "cell_type": "code",
   "execution_count": null,
   "metadata": {
    "collapsed": true
   },
   "outputs": [],
   "source": []
  },
  {
   "cell_type": "code",
   "execution_count": null,
   "metadata": {
    "collapsed": true
   },
   "outputs": [],
   "source": []
  },
  {
   "cell_type": "markdown",
   "metadata": {},
   "source": [
    "## Challenge 1 Another Assumption"
   ]
  },
  {
   "cell_type": "code",
   "execution_count": 107,
   "metadata": {
    "collapsed": true
   },
   "outputs": [],
   "source": [
    "x = 2\n",
    "y = 1\n",
    "def allpoint(x, y):\n",
    "    point = []\n",
    "    for i in range(x+1):\n",
    "        for j in range(y+1):\n",
    "            point.append([i,j])\n",
    "    return point"
   ]
  },
  {
   "cell_type": "code",
   "execution_count": 108,
   "metadata": {
    "collapsed": true
   },
   "outputs": [],
   "source": [
    "point = allpoint(2, 1)"
   ]
  },
  {
   "cell_type": "code",
   "execution_count": 109,
   "metadata": {
    "collapsed": true
   },
   "outputs": [],
   "source": [
    "path = []\n",
    "for i in point:\n",
    "    for j in point:\n",
    "        if j[0] == i[0] - 1 and j[1] == i[1]:\n",
    "            path.append([j, i])\n",
    "        if j[0] == i[0] and j[1] == i[1] - 1:\n",
    "            path.append([j, i])"
   ]
  },
  {
   "cell_type": "code",
   "execution_count": 110,
   "metadata": {},
   "outputs": [
    {
     "data": {
      "text/plain": [
       "[[0, 0], [0, 1], [1, 0], [1, 1], [2, 0], [2, 1]]"
      ]
     },
     "execution_count": 110,
     "metadata": {},
     "output_type": "execute_result"
    }
   ],
   "source": [
    "point"
   ]
  },
  {
   "cell_type": "code",
   "execution_count": 111,
   "metadata": {},
   "outputs": [
    {
     "data": {
      "text/plain": [
       "[[[0, 0], [0, 1]],\n",
       " [[0, 0], [1, 0]],\n",
       " [[0, 1], [1, 1]],\n",
       " [[1, 0], [1, 1]],\n",
       " [[1, 0], [2, 0]],\n",
       " [[1, 1], [2, 1]],\n",
       " [[2, 0], [2, 1]]]"
      ]
     },
     "execution_count": 111,
     "metadata": {},
     "output_type": "execute_result"
    }
   ],
   "source": [
    "path"
   ]
  },
  {
   "cell_type": "code",
   "execution_count": 112,
   "metadata": {
    "collapsed": true
   },
   "outputs": [],
   "source": [
    "deviation_p = []\n",
    "for i in path:\n",
    "    d = 0\n",
    "    for j in i:\n",
    "        if abs(j[0]/x - j[1]/y) > d:\n",
    "            d = abs(j[0]/x - j[1]/y)\n",
    "    deviation_p.append(d)"
   ]
  },
  {
   "cell_type": "code",
   "execution_count": 113,
   "metadata": {},
   "outputs": [
    {
     "data": {
      "text/plain": [
       "[1.0, 0.5, 1.0, 0.5, 1.0, 0.5, 1.0]"
      ]
     },
     "execution_count": 113,
     "metadata": {},
     "output_type": "execute_result"
    }
   ],
   "source": [
    "deviation_p"
   ]
  },
  {
   "cell_type": "markdown",
   "metadata": {},
   "source": [
    "### wrong assumption"
   ]
  },
  {
   "cell_type": "code",
   "execution_count": 117,
   "metadata": {
    "collapsed": true
   },
   "outputs": [],
   "source": [
    "prob_p = []\n",
    "for i in path:\n",
    "    if i[1][0] < x and i[1][1] < y:\n",
    "        c = i[1][0] + i[1][1]\n",
    "    elif i[1][0] < x and i[1][1] == y:\n",
    "        \n",
    "    p = 1/2**c\n",
    "    prob_p.append(p)"
   ]
  },
  {
   "cell_type": "code",
   "execution_count": 118,
   "metadata": {},
   "outputs": [
    {
     "data": {
      "text/plain": [
       "[0.5, 0.5, 0.25, 0.25, 0.25, 0.125, 0.125]"
      ]
     },
     "execution_count": 118,
     "metadata": {},
     "output_type": "execute_result"
    }
   ],
   "source": [
    "prob_p"
   ]
  },
  {
   "cell_type": "code",
   "execution_count": null,
   "metadata": {
    "collapsed": true
   },
   "outputs": [],
   "source": []
  },
  {
   "cell_type": "markdown",
   "metadata": {
    "collapsed": true
   },
   "source": [
    "## Challenge 2"
   ]
  },
  {
   "cell_type": "code",
   "execution_count": 2,
   "metadata": {},
   "outputs": [
    {
     "name": "stderr",
     "output_type": "stream",
     "text": [
      "C:\\Users\\zefan\\Anaconda3\\lib\\site-packages\\IPython\\core\\interactiveshell.py:2717: DtypeWarning: Columns (25,27) have mixed types. Specify dtype option on import or set low_memory=False.\n",
      "  interactivity=interactivity, compiler=compiler, result=result)\n",
      "C:\\Users\\zefan\\Anaconda3\\lib\\site-packages\\IPython\\core\\interactiveshell.py:2717: DtypeWarning: Columns (19) have mixed types. Specify dtype option on import or set low_memory=False.\n",
      "  interactivity=interactivity, compiler=compiler, result=result)\n"
     ]
    }
   ],
   "source": [
    "MT = pd.read_csv(r'C:\\Users\\zefan\\Desktop\\CapStone_Project\\data\\MT_cleaned.csv')\n",
    "VT = pd.read_csv(r'C:\\Users\\zefan\\Desktop\\CapStone_Project\\data\\VT_cleaned.csv')"
   ]
  },
  {
   "cell_type": "code",
   "execution_count": 3,
   "metadata": {},
   "outputs": [
    {
     "data": {
      "text/plain": [
       "id                        object\n",
       "state                     object\n",
       "stop_date                 object\n",
       "stop_time                 object\n",
       "location_raw              object\n",
       "county_name               object\n",
       "county_fips              float64\n",
       "fine_grained_location     object\n",
       "police_department        float64\n",
       "driver_gender             object\n",
       "driver_age_raw           float64\n",
       "driver_age               float64\n",
       "driver_race_raw           object\n",
       "driver_race               object\n",
       "violation_raw             object\n",
       "violation                 object\n",
       "search_conducted            bool\n",
       "search_type_raw           object\n",
       "search_type               object\n",
       "contraband_found          object\n",
       "stop_outcome              object\n",
       "is_arrested                 bool\n",
       "lat                      float64\n",
       "lon                      float64\n",
       "ethnicity                 object\n",
       "city                      object\n",
       "out_of_state              object\n",
       "vehicle_year              object\n",
       "vehicle_make              object\n",
       "vehicle_model             object\n",
       "vehicle_style             object\n",
       "search_reason             object\n",
       "stop_outcome_raw          object\n",
       "dtype: object"
      ]
     },
     "execution_count": 3,
     "metadata": {},
     "output_type": "execute_result"
    }
   ],
   "source": [
    "MT.dtypes"
   ]
  },
  {
   "cell_type": "code",
   "execution_count": 4,
   "metadata": {},
   "outputs": [
    {
     "data": {
      "text/plain": [
       "id                        object\n",
       "state                     object\n",
       "stop_date                 object\n",
       "stop_time                 object\n",
       "location_raw              object\n",
       "county_name               object\n",
       "county_fips              float64\n",
       "fine_grained_location     object\n",
       "police_department         object\n",
       "driver_gender             object\n",
       "driver_age_raw           float64\n",
       "driver_age               float64\n",
       "driver_race_raw           object\n",
       "driver_race               object\n",
       "violation_raw             object\n",
       "violation                 object\n",
       "search_conducted            bool\n",
       "search_type_raw           object\n",
       "search_type               object\n",
       "contraband_found          object\n",
       "stop_outcome              object\n",
       "is_arrested                 bool\n",
       "officer_id               float64\n",
       "dtype: object"
      ]
     },
     "execution_count": 4,
     "metadata": {},
     "output_type": "execute_result"
    }
   ],
   "source": [
    "VT.dtypes"
   ]
  },
  {
   "cell_type": "code",
   "execution_count": 5,
   "metadata": {},
   "outputs": [
    {
     "data": {
      "text/html": [
       "<div>\n",
       "<style>\n",
       "    .dataframe thead tr:only-child th {\n",
       "        text-align: right;\n",
       "    }\n",
       "\n",
       "    .dataframe thead th {\n",
       "        text-align: left;\n",
       "    }\n",
       "\n",
       "    .dataframe tbody tr th {\n",
       "        vertical-align: top;\n",
       "    }\n",
       "</style>\n",
       "<table border=\"1\" class=\"dataframe\">\n",
       "  <thead>\n",
       "    <tr style=\"text-align: right;\">\n",
       "      <th></th>\n",
       "      <th>id</th>\n",
       "      <th>state</th>\n",
       "      <th>stop_date</th>\n",
       "      <th>stop_time</th>\n",
       "      <th>location_raw</th>\n",
       "      <th>county_name</th>\n",
       "      <th>county_fips</th>\n",
       "      <th>fine_grained_location</th>\n",
       "      <th>police_department</th>\n",
       "      <th>driver_gender</th>\n",
       "      <th>...</th>\n",
       "      <th>lon</th>\n",
       "      <th>ethnicity</th>\n",
       "      <th>city</th>\n",
       "      <th>out_of_state</th>\n",
       "      <th>vehicle_year</th>\n",
       "      <th>vehicle_make</th>\n",
       "      <th>vehicle_model</th>\n",
       "      <th>vehicle_style</th>\n",
       "      <th>search_reason</th>\n",
       "      <th>stop_outcome_raw</th>\n",
       "    </tr>\n",
       "  </thead>\n",
       "  <tbody>\n",
       "    <tr>\n",
       "      <th>0</th>\n",
       "      <td>MT-2009-00001</td>\n",
       "      <td>MT</td>\n",
       "      <td>2009-01-01</td>\n",
       "      <td>02:10</td>\n",
       "      <td>CASCADE</td>\n",
       "      <td>Cascade County</td>\n",
       "      <td>30013.0</td>\n",
       "      <td>US 89 N MM10 (SB)</td>\n",
       "      <td>NaN</td>\n",
       "      <td>F</td>\n",
       "      <td>...</td>\n",
       "      <td>-111.802932</td>\n",
       "      <td>N</td>\n",
       "      <td>NaN</td>\n",
       "      <td>False</td>\n",
       "      <td>1994</td>\n",
       "      <td>FORD</td>\n",
       "      <td>EXPLORER</td>\n",
       "      <td>SPORT UTILITY</td>\n",
       "      <td>NaN</td>\n",
       "      <td>TRAFFIC CITATION,WARNING</td>\n",
       "    </tr>\n",
       "    <tr>\n",
       "      <th>1</th>\n",
       "      <td>MT-2009-00002</td>\n",
       "      <td>MT</td>\n",
       "      <td>2009-01-02</td>\n",
       "      <td>11:34</td>\n",
       "      <td>MISSOULA</td>\n",
       "      <td>Missoula County</td>\n",
       "      <td>30063.0</td>\n",
       "      <td>HWY 93 SO AND ANNS LANE S/B</td>\n",
       "      <td>NaN</td>\n",
       "      <td>M</td>\n",
       "      <td>...</td>\n",
       "      <td>-114.081142</td>\n",
       "      <td>N</td>\n",
       "      <td>NaN</td>\n",
       "      <td>False</td>\n",
       "      <td>1996</td>\n",
       "      <td>GMC</td>\n",
       "      <td>TK</td>\n",
       "      <td>TRUCK</td>\n",
       "      <td>NaN</td>\n",
       "      <td>INFFRACTION ARREST,WARNING</td>\n",
       "    </tr>\n",
       "    <tr>\n",
       "      <th>2</th>\n",
       "      <td>MT-2009-00003</td>\n",
       "      <td>MT</td>\n",
       "      <td>2009-01-03</td>\n",
       "      <td>11:36</td>\n",
       "      <td>MISSOULA</td>\n",
       "      <td>Missoula County</td>\n",
       "      <td>30063.0</td>\n",
       "      <td>P007 HWY 93 MM 77 N/B</td>\n",
       "      <td>NaN</td>\n",
       "      <td>M</td>\n",
       "      <td>...</td>\n",
       "      <td>-114.073505</td>\n",
       "      <td>N</td>\n",
       "      <td>NaN</td>\n",
       "      <td>False</td>\n",
       "      <td>1999</td>\n",
       "      <td>GMC</td>\n",
       "      <td>YUKON</td>\n",
       "      <td>SPORT UTILITY</td>\n",
       "      <td>NaN</td>\n",
       "      <td>INFFRACTION ARREST</td>\n",
       "    </tr>\n",
       "    <tr>\n",
       "      <th>3</th>\n",
       "      <td>MT-2009-00004</td>\n",
       "      <td>MT</td>\n",
       "      <td>2009-01-04</td>\n",
       "      <td>10:33</td>\n",
       "      <td>MISSOULA</td>\n",
       "      <td>Missoula County</td>\n",
       "      <td>30063.0</td>\n",
       "      <td>P007 HWY 93 MM 81 S/B</td>\n",
       "      <td>NaN</td>\n",
       "      <td>F</td>\n",
       "      <td>...</td>\n",
       "      <td>-114.079027</td>\n",
       "      <td>NaN</td>\n",
       "      <td>NaN</td>\n",
       "      <td>False</td>\n",
       "      <td>2002</td>\n",
       "      <td>HOND</td>\n",
       "      <td>CR-V</td>\n",
       "      <td>SPORT UTILITY</td>\n",
       "      <td>NaN</td>\n",
       "      <td>INFFRACTION ARREST</td>\n",
       "    </tr>\n",
       "    <tr>\n",
       "      <th>4</th>\n",
       "      <td>MT-2009-00005</td>\n",
       "      <td>MT</td>\n",
       "      <td>2009-01-04</td>\n",
       "      <td>10:46</td>\n",
       "      <td>MISSOULA</td>\n",
       "      <td>Missoula County</td>\n",
       "      <td>30063.0</td>\n",
       "      <td>P007 HWY 93 MM 81 N/B</td>\n",
       "      <td>NaN</td>\n",
       "      <td>M</td>\n",
       "      <td>...</td>\n",
       "      <td>-114.079150</td>\n",
       "      <td>NaN</td>\n",
       "      <td>NaN</td>\n",
       "      <td>False</td>\n",
       "      <td>1992</td>\n",
       "      <td>TOYT</td>\n",
       "      <td>TERCEL</td>\n",
       "      <td>SEDAN</td>\n",
       "      <td>NaN</td>\n",
       "      <td>INFFRACTION ARREST</td>\n",
       "    </tr>\n",
       "  </tbody>\n",
       "</table>\n",
       "<p>5 rows × 33 columns</p>\n",
       "</div>"
      ],
      "text/plain": [
       "              id state   stop_date stop_time location_raw      county_name  \\\n",
       "0  MT-2009-00001    MT  2009-01-01     02:10      CASCADE   Cascade County   \n",
       "1  MT-2009-00002    MT  2009-01-02     11:34     MISSOULA  Missoula County   \n",
       "2  MT-2009-00003    MT  2009-01-03     11:36     MISSOULA  Missoula County   \n",
       "3  MT-2009-00004    MT  2009-01-04     10:33     MISSOULA  Missoula County   \n",
       "4  MT-2009-00005    MT  2009-01-04     10:46     MISSOULA  Missoula County   \n",
       "\n",
       "   county_fips        fine_grained_location  police_department driver_gender  \\\n",
       "0      30013.0            US 89 N MM10 (SB)                NaN             F   \n",
       "1      30063.0  HWY 93 SO AND ANNS LANE S/B                NaN             M   \n",
       "2      30063.0        P007 HWY 93 MM 77 N/B                NaN             M   \n",
       "3      30063.0        P007 HWY 93 MM 81 S/B                NaN             F   \n",
       "4      30063.0        P007 HWY 93 MM 81 N/B                NaN             M   \n",
       "\n",
       "              ...                     lon  ethnicity city out_of_state  \\\n",
       "0             ...             -111.802932          N  NaN        False   \n",
       "1             ...             -114.081142          N  NaN        False   \n",
       "2             ...             -114.073505          N  NaN        False   \n",
       "3             ...             -114.079027        NaN  NaN        False   \n",
       "4             ...             -114.079150        NaN  NaN        False   \n",
       "\n",
       "  vehicle_year vehicle_make  vehicle_model  vehicle_style search_reason  \\\n",
       "0         1994         FORD       EXPLORER  SPORT UTILITY           NaN   \n",
       "1         1996          GMC             TK          TRUCK           NaN   \n",
       "2         1999          GMC          YUKON  SPORT UTILITY           NaN   \n",
       "3         2002         HOND           CR-V  SPORT UTILITY           NaN   \n",
       "4         1992         TOYT         TERCEL          SEDAN           NaN   \n",
       "\n",
       "             stop_outcome_raw  \n",
       "0    TRAFFIC CITATION,WARNING  \n",
       "1  INFFRACTION ARREST,WARNING  \n",
       "2          INFFRACTION ARREST  \n",
       "3          INFFRACTION ARREST  \n",
       "4          INFFRACTION ARREST  \n",
       "\n",
       "[5 rows x 33 columns]"
      ]
     },
     "execution_count": 5,
     "metadata": {},
     "output_type": "execute_result"
    }
   ],
   "source": [
    "MT.head(5)"
   ]
  },
  {
   "cell_type": "code",
   "execution_count": 6,
   "metadata": {},
   "outputs": [
    {
     "data": {
      "text/plain": [
       "(825118, 33)"
      ]
     },
     "execution_count": 6,
     "metadata": {},
     "output_type": "execute_result"
    }
   ],
   "source": [
    "MT.shape"
   ]
  },
  {
   "cell_type": "markdown",
   "metadata": {},
   "source": [
    "### Q1 contains missing values, use the total number of stops as denominator"
   ]
  },
  {
   "cell_type": "code",
   "execution_count": 7,
   "metadata": {},
   "outputs": [
    {
     "data": {
      "text/plain": [
       "M    556934\n",
       "F    268065\n",
       "Name: driver_gender, dtype: int64"
      ]
     },
     "execution_count": 7,
     "metadata": {},
     "output_type": "execute_result"
    }
   ],
   "source": [
    "MT['driver_gender'].value_counts()"
   ]
  },
  {
   "cell_type": "code",
   "execution_count": 8,
   "metadata": {},
   "outputs": [
    {
     "data": {
      "text/plain": [
       "(119, 33)"
      ]
     },
     "execution_count": 8,
     "metadata": {},
     "output_type": "execute_result"
    }
   ],
   "source": [
    "MT[MT['driver_gender'].isnull() == True].shape"
   ]
  },
  {
   "cell_type": "code",
   "execution_count": 9,
   "metadata": {},
   "outputs": [
    {
     "data": {
      "text/plain": [
       "0.67497497327654954"
      ]
     },
     "execution_count": 9,
     "metadata": {},
     "output_type": "execute_result"
    }
   ],
   "source": [
    "MT[MT['driver_gender'] == \"M\"]['id'].count()/MT['id'].count()"
   ]
  },
  {
   "cell_type": "markdown",
   "metadata": {},
   "source": [
    "### Q2 contains mising values, arrest more likely compare to in-state arrest, so use in state arrest as denominator"
   ]
  },
  {
   "cell_type": "code",
   "execution_count": 10,
   "metadata": {},
   "outputs": [
    {
     "data": {
      "text/plain": [
       "False    616778\n",
       "True     203641\n",
       "Name: out_of_state, dtype: int64"
      ]
     },
     "execution_count": 10,
     "metadata": {},
     "output_type": "execute_result"
    }
   ],
   "source": [
    "MT['out_of_state'].value_counts()"
   ]
  },
  {
   "cell_type": "code",
   "execution_count": 11,
   "metadata": {},
   "outputs": [
    {
     "data": {
      "text/plain": [
       "(4699, 33)"
      ]
     },
     "execution_count": 11,
     "metadata": {},
     "output_type": "execute_result"
    }
   ],
   "source": [
    "MT[MT['out_of_state'].isnull() == True].shape"
   ]
  },
  {
   "cell_type": "code",
   "execution_count": 12,
   "metadata": {},
   "outputs": [
    {
     "data": {
      "text/plain": [
       "Warning                    422671\n",
       "Citation                   383686\n",
       "Arrest                      17195\n",
       "Faulty Equipment Notice      1316\n",
       "No Action                     197\n",
       "Name: stop_outcome, dtype: int64"
      ]
     },
     "execution_count": 12,
     "metadata": {},
     "output_type": "execute_result"
    }
   ],
   "source": [
    "MT['stop_outcome'].value_counts()"
   ]
  },
  {
   "cell_type": "code",
   "execution_count": 13,
   "metadata": {},
   "outputs": [
    {
     "data": {
      "text/plain": [
       "(53, 33)"
      ]
     },
     "execution_count": 13,
     "metadata": {},
     "output_type": "execute_result"
    }
   ],
   "source": [
    "MT[MT['stop_outcome'].isnull() == True].shape"
   ]
  },
  {
   "cell_type": "code",
   "execution_count": 14,
   "metadata": {},
   "outputs": [
    {
     "data": {
      "text/plain": [
       "0.39934372436423299"
      ]
     },
     "execution_count": 14,
     "metadata": {},
     "output_type": "execute_result"
    }
   ],
   "source": [
    "MT[(MT['out_of_state'] == True) & (MT['stop_outcome'] == 'Arrest')]['id'].count()/MT[(MT['out_of_state'] == False) & (MT['stop_outcome'] == 'Arrest')]['id'].count()"
   ]
  },
  {
   "cell_type": "code",
   "execution_count": 15,
   "metadata": {
    "collapsed": true
   },
   "outputs": [],
   "source": [
    "osa = MT[(MT['out_of_state'] == True) & (MT['stop_outcome'] == 'Arrest')]['id'].count()\n",
    "os = MT[MT['out_of_state'] == True]['id'].count()\n",
    "isa = MT[(MT['out_of_state'] == False) & (MT['stop_outcome'] == 'Arrest')]['id'].count()\n",
    "ins = MT[MT['out_of_state'] == False]['id'].count()"
   ]
  },
  {
   "cell_type": "code",
   "execution_count": 16,
   "metadata": {},
   "outputs": [
    {
     "data": {
      "text/plain": [
       "1.2095129351452942"
      ]
     },
     "execution_count": 16,
     "metadata": {},
     "output_type": "execute_result"
    }
   ],
   "source": [
    "(osa/os)/(isa/ins)"
   ]
  },
  {
   "cell_type": "markdown",
   "metadata": {},
   "source": [
    "### Q3 out-of-state arrest, out-of-state total, in-state arret, in-state total"
   ]
  },
  {
   "cell_type": "code",
   "execution_count": 17,
   "metadata": {
    "collapsed": true
   },
   "outputs": [],
   "source": [
    "osa = MT[(MT['out_of_state'] == True) & (MT['stop_outcome'] == 'Arrest')]['id'].count()"
   ]
  },
  {
   "cell_type": "code",
   "execution_count": 18,
   "metadata": {
    "collapsed": true
   },
   "outputs": [],
   "source": [
    "os = MT[MT['out_of_state'] == True]['id'].count()"
   ]
  },
  {
   "cell_type": "code",
   "execution_count": 19,
   "metadata": {
    "collapsed": true
   },
   "outputs": [],
   "source": [
    "isa = MT[(MT['out_of_state'] == False) & (MT['stop_outcome'] == 'Arrest')]['id'].count()"
   ]
  },
  {
   "cell_type": "code",
   "execution_count": 20,
   "metadata": {
    "collapsed": true
   },
   "outputs": [],
   "source": [
    "ins = MT[MT['out_of_state'] == False]['id'].count()"
   ]
  },
  {
   "cell_type": "markdown",
   "metadata": {},
   "source": [
    "#### Test for proportion equality"
   ]
  },
  {
   "cell_type": "code",
   "execution_count": 21,
   "metadata": {
    "collapsed": true
   },
   "outputs": [],
   "source": [
    "count = np.array([osa, isa])"
   ]
  },
  {
   "cell_type": "code",
   "execution_count": 22,
   "metadata": {
    "collapsed": true
   },
   "outputs": [],
   "source": [
    "nobs = np.array([os, ins])"
   ]
  },
  {
   "cell_type": "code",
   "execution_count": 23,
   "metadata": {},
   "outputs": [
    {
     "data": {
      "text/plain": [
       "(272349552.64835417, 0.0, (array([[  4868, 198773],\n",
       "         [ 12190, 604588]]), array([[-1001.0240109 ,   473.51432987],\n",
       "         [ 2353.75403544,  1918.71692148]])))"
      ]
     },
     "execution_count": 23,
     "metadata": {},
     "output_type": "execute_result"
    }
   ],
   "source": [
    "proportions_chisquare(count, nobs)"
   ]
  },
  {
   "cell_type": "code",
   "execution_count": 24,
   "metadata": {},
   "outputs": [
    {
     "data": {
      "text/plain": [
       "(11.354843359336838, 7.0165534326186535e-30)"
      ]
     },
     "execution_count": 24,
     "metadata": {},
     "output_type": "execute_result"
    }
   ],
   "source": [
    "proportions_ztest(count, nobs)"
   ]
  },
  {
   "cell_type": "markdown",
   "metadata": {},
   "source": [
    "#### Test for independency"
   ]
  },
  {
   "cell_type": "code",
   "execution_count": 25,
   "metadata": {
    "collapsed": true
   },
   "outputs": [],
   "source": [
    "obs = np.array([[osa, isa], [os, ins]])"
   ]
  },
  {
   "cell_type": "code",
   "execution_count": 26,
   "metadata": {
    "collapsed": true
   },
   "outputs": [],
   "source": [
    "chi2, p, dof, expected = chi2_contingency(obs)"
   ]
  },
  {
   "cell_type": "code",
   "execution_count": 27,
   "metadata": {},
   "outputs": [
    {
     "data": {
      "text/plain": [
       "123.22977188345993"
      ]
     },
     "execution_count": 27,
     "metadata": {},
     "output_type": "execute_result"
    }
   ],
   "source": [
    "chi2"
   ]
  },
  {
   "cell_type": "markdown",
   "metadata": {},
   "source": [
    "### Q4"
   ]
  },
  {
   "cell_type": "code",
   "execution_count": 28,
   "metadata": {},
   "outputs": [
    {
     "data": {
      "text/plain": [
       "Index(['id', 'state', 'stop_date', 'stop_time', 'location_raw', 'county_name',\n",
       "       'county_fips', 'fine_grained_location', 'police_department',\n",
       "       'driver_gender', 'driver_age_raw', 'driver_age', 'driver_race_raw',\n",
       "       'driver_race', 'violation_raw', 'violation', 'search_conducted',\n",
       "       'search_type_raw', 'search_type', 'contraband_found', 'stop_outcome',\n",
       "       'is_arrested', 'lat', 'lon', 'ethnicity', 'city', 'out_of_state',\n",
       "       'vehicle_year', 'vehicle_make', 'vehicle_model', 'vehicle_style',\n",
       "       'search_reason', 'stop_outcome_raw'],\n",
       "      dtype='object')"
      ]
     },
     "execution_count": 28,
     "metadata": {},
     "output_type": "execute_result"
    }
   ],
   "source": [
    "MT.columns"
   ]
  },
  {
   "cell_type": "code",
   "execution_count": 29,
   "metadata": {},
   "outputs": [
    {
     "data": {
      "text/plain": [
       "0.65809981117852234"
      ]
     },
     "execution_count": 29,
     "metadata": {},
     "output_type": "execute_result"
    }
   ],
   "source": [
    "MT[MT['violation'].str.contains('Speed', na = False)]['id'].count()/MT['id'].count()"
   ]
  },
  {
   "cell_type": "markdown",
   "metadata": {},
   "source": [
    "### Q5"
   ]
  },
  {
   "cell_type": "code",
   "execution_count": 30,
   "metadata": {
    "collapsed": true
   },
   "outputs": [],
   "source": [
    "MT_DUI = MT[MT['violation'].str.contains('DUI', na = False)]['id'].count()/MT['id'].count()"
   ]
  },
  {
   "cell_type": "code",
   "execution_count": 31,
   "metadata": {
    "collapsed": true
   },
   "outputs": [],
   "source": [
    "VT_DUI = VT[VT['violation'].str.contains('DUI', na = False)]['id'].count()/VT['id'].count()"
   ]
  },
  {
   "cell_type": "code",
   "execution_count": 32,
   "metadata": {},
   "outputs": [
    {
     "data": {
      "text/plain": [
       "4.0859996944208561"
      ]
     },
     "execution_count": 32,
     "metadata": {},
     "output_type": "execute_result"
    }
   ],
   "source": [
    "MT_DUI/VT_DUI"
   ]
  },
  {
   "cell_type": "markdown",
   "metadata": {},
   "source": [
    "### Q6"
   ]
  },
  {
   "cell_type": "code",
   "execution_count": 33,
   "metadata": {
    "collapsed": true
   },
   "outputs": [],
   "source": [
    "MT2 = MT.copy()"
   ]
  },
  {
   "cell_type": "code",
   "execution_count": 34,
   "metadata": {
    "collapsed": true
   },
   "outputs": [],
   "source": [
    "MT2['stop_date'] = pd.to_datetime(MT2['stop_date'])\n",
    "MT2['vehicle_year'] = pd.to_numeric(MT2['vehicle_year'], errors = 'coerce')"
   ]
  },
  {
   "cell_type": "code",
   "execution_count": 35,
   "metadata": {
    "collapsed": true
   },
   "outputs": [],
   "source": [
    "MT2['t_year'] = MT2['stop_date'].dt.year"
   ]
  },
  {
   "cell_type": "code",
   "execution_count": 36,
   "metadata": {
    "collapsed": true
   },
   "outputs": [],
   "source": [
    "extra = MT2.groupby('t_year')['vehicle_year'].mean()"
   ]
  },
  {
   "cell_type": "code",
   "execution_count": 37,
   "metadata": {
    "collapsed": true
   },
   "outputs": [],
   "source": [
    "f = interpolate.interp1d(extra.index, extra.values, kind = 'linear', fill_value = 'extrapolate')"
   ]
  },
  {
   "cell_type": "code",
   "execution_count": 38,
   "metadata": {},
   "outputs": [
    {
     "data": {
      "text/plain": [
       "array(2008.1775748284529)"
      ]
     },
     "execution_count": 38,
     "metadata": {},
     "output_type": "execute_result"
    }
   ],
   "source": [
    "f(2020)"
   ]
  },
  {
   "cell_type": "code",
   "execution_count": 39,
   "metadata": {},
   "outputs": [
    {
     "data": {
      "text/plain": [
       "t_year\n",
       "2009.0    2000.980215\n",
       "2010.0    2001.521377\n",
       "2011.0    2002.280938\n",
       "2012.0    2003.362207\n",
       "2013.0    2003.905175\n",
       "2014.0    2004.482506\n",
       "2015.0    2005.295767\n",
       "2016.0    2005.872128\n",
       "Name: vehicle_year, dtype: float64"
      ]
     },
     "execution_count": 39,
     "metadata": {},
     "output_type": "execute_result"
    }
   ],
   "source": [
    "extra"
   ]
  },
  {
   "cell_type": "markdown",
   "metadata": {},
   "source": [
    "### Q7"
   ]
  },
  {
   "cell_type": "code",
   "execution_count": 40,
   "metadata": {},
   "outputs": [
    {
     "data": {
      "text/plain": [
       "Ttest_indResult(statistic=8.4710347229354035, pvalue=6.9923939171609433e-07)"
      ]
     },
     "execution_count": 40,
     "metadata": {},
     "output_type": "execute_result"
    }
   ],
   "source": [
    "stats.ttest_ind(extra.index, extra.values)"
   ]
  },
  {
   "cell_type": "code",
   "execution_count": 41,
   "metadata": {},
   "outputs": [
    {
     "data": {
      "text/plain": [
       "Ttest_indResult(statistic=8.4710347229354035, pvalue=1.3902067899844079e-06)"
      ]
     },
     "execution_count": 41,
     "metadata": {},
     "output_type": "execute_result"
    }
   ],
   "source": [
    "stats.ttest_ind(extra.index, extra.values, equal_var = False)"
   ]
  },
  {
   "cell_type": "code",
   "execution_count": 42,
   "metadata": {
    "collapsed": true
   },
   "outputs": [],
   "source": [
    "l = stats.linregress(extra.index, extra.values)"
   ]
  },
  {
   "cell_type": "code",
   "execution_count": 43,
   "metadata": {},
   "outputs": [
    {
     "data": {
      "text/plain": [
       "5.6091482537034642e-08"
      ]
     },
     "execution_count": 43,
     "metadata": {},
     "output_type": "execute_result"
    }
   ],
   "source": [
    "l.pvalue"
   ]
  },
  {
   "cell_type": "code",
   "execution_count": 44,
   "metadata": {},
   "outputs": [
    {
     "data": {
      "text/plain": [
       "LinregressResult(slope=0.71741689995540237, intercept=559.66102804942648, rvalue=0.99717755450017109, pvalue=5.6091482537034642e-08, stderr=0.022051828385618037)"
      ]
     },
     "execution_count": 44,
     "metadata": {},
     "output_type": "execute_result"
    }
   ],
   "source": [
    "l"
   ]
  },
  {
   "cell_type": "code",
   "execution_count": 45,
   "metadata": {},
   "outputs": [
    {
     "data": {
      "text/plain": [
       "2008.8431659593393"
      ]
     },
     "execution_count": 45,
     "metadata": {},
     "output_type": "execute_result"
    }
   ],
   "source": [
    "2020*l.slope + l.intercept"
   ]
  },
  {
   "cell_type": "code",
   "execution_count": 46,
   "metadata": {
    "collapsed": true
   },
   "outputs": [],
   "source": [
    "x = np.array(extra.index.tolist()).reshape(-1, 1)"
   ]
  },
  {
   "cell_type": "code",
   "execution_count": 47,
   "metadata": {
    "collapsed": true
   },
   "outputs": [],
   "source": [
    "y = extra.values"
   ]
  },
  {
   "cell_type": "code",
   "execution_count": 48,
   "metadata": {
    "collapsed": true
   },
   "outputs": [],
   "source": [
    "lm = LinearRegression().fit(x, y)"
   ]
  },
  {
   "cell_type": "code",
   "execution_count": 49,
   "metadata": {},
   "outputs": [
    {
     "data": {
      "text/plain": [
       "array([ 2008.84316596])"
      ]
     },
     "execution_count": 49,
     "metadata": {},
     "output_type": "execute_result"
    }
   ],
   "source": [
    "lm.predict(2020)"
   ]
  },
  {
   "cell_type": "markdown",
   "metadata": {},
   "source": [
    "### Q8"
   ]
  },
  {
   "cell_type": "code",
   "execution_count": 98,
   "metadata": {
    "collapsed": true
   },
   "outputs": [],
   "source": [
    "VMT = pd.concat([MT, VT], ignore_index = True)"
   ]
  },
  {
   "cell_type": "code",
   "execution_count": 99,
   "metadata": {
    "collapsed": true
   },
   "outputs": [],
   "source": [
    "VMT['stop_time'] = pd.to_datetime(VMT['stop_time'], format = '%H:%M').dt.hour"
   ]
  },
  {
   "cell_type": "code",
   "execution_count": 102,
   "metadata": {},
   "outputs": [
    {
     "data": {
      "text/plain": [
       "15.0    95891\n",
       "16.0    86886\n",
       "18.0    82430\n",
       "14.0    82129\n",
       "17.0    81437\n",
       "8.0     62488\n",
       "9.0     62233\n",
       "10.0    61946\n",
       "13.0    59281\n",
       "19.0    57980\n",
       "11.0    51008\n",
       "20.0    47244\n",
       "21.0    45891\n",
       "22.0    44387\n",
       "12.0    44024\n",
       "7.0     41550\n",
       "23.0    38599\n",
       "0.0     25490\n",
       "1.0     16856\n",
       "6.0      8561\n",
       "2.0      8399\n",
       "5.0      1710\n",
       "3.0      1425\n",
       "4.0       547\n",
       "Name: stop_time, dtype: int64"
      ]
     },
     "execution_count": 102,
     "metadata": {},
     "output_type": "execute_result"
    }
   ],
   "source": [
    "VMT['stop_time'].value_counts()"
   ]
  },
  {
   "cell_type": "code",
   "execution_count": 113,
   "metadata": {},
   "outputs": [
    {
     "data": {
      "text/plain": [
       "stop_time\n",
       "4.0       547\n",
       "3.0      1425\n",
       "5.0      1710\n",
       "2.0      8399\n",
       "6.0      8561\n",
       "1.0     16856\n",
       "0.0     25490\n",
       "23.0    38599\n",
       "7.0     41550\n",
       "12.0    44024\n",
       "22.0    44387\n",
       "21.0    45891\n",
       "20.0    47244\n",
       "11.0    51008\n",
       "19.0    57980\n",
       "13.0    59281\n",
       "10.0    61946\n",
       "9.0     62233\n",
       "8.0     62488\n",
       "17.0    81437\n",
       "14.0    82129\n",
       "18.0    82430\n",
       "16.0    86886\n",
       "15.0    95891\n",
       "Name: id, dtype: int64"
      ]
     },
     "execution_count": 113,
     "metadata": {},
     "output_type": "execute_result"
    }
   ],
   "source": [
    "VMT.groupby('stop_time')['id'].count().sort_values()"
   ]
  },
  {
   "cell_type": "code",
   "execution_count": 114,
   "metadata": {},
   "outputs": [
    {
     "data": {
      "text/plain": [
       "95344"
      ]
     },
     "execution_count": 114,
     "metadata": {},
     "output_type": "execute_result"
    }
   ],
   "source": [
    "95891 - 547"
   ]
  },
  {
   "cell_type": "markdown",
   "metadata": {},
   "source": [
    "### Q9"
   ]
  },
  {
   "cell_type": "code",
   "execution_count": 171,
   "metadata": {
    "collapsed": true
   },
   "outputs": [],
   "source": [
    "area = MT.groupby('county_name')['lon', 'lat'].agg('std')"
   ]
  },
  {
   "cell_type": "code",
   "execution_count": 172,
   "metadata": {},
   "outputs": [
    {
     "data": {
      "text/html": [
       "<div>\n",
       "<style>\n",
       "    .dataframe thead tr:only-child th {\n",
       "        text-align: right;\n",
       "    }\n",
       "\n",
       "    .dataframe thead th {\n",
       "        text-align: left;\n",
       "    }\n",
       "\n",
       "    .dataframe tbody tr th {\n",
       "        vertical-align: top;\n",
       "    }\n",
       "</style>\n",
       "<table border=\"1\" class=\"dataframe\">\n",
       "  <thead>\n",
       "    <tr style=\"text-align: right;\">\n",
       "      <th></th>\n",
       "      <th>lon</th>\n",
       "      <th>lat</th>\n",
       "    </tr>\n",
       "    <tr>\n",
       "      <th>county_name</th>\n",
       "      <th></th>\n",
       "      <th></th>\n",
       "    </tr>\n",
       "  </thead>\n",
       "  <tbody>\n",
       "    <tr>\n",
       "      <th>Beaverhead County</th>\n",
       "      <td>0.185625</td>\n",
       "      <td>0.268133</td>\n",
       "    </tr>\n",
       "    <tr>\n",
       "      <th>Big Horn County</th>\n",
       "      <td>1.937072</td>\n",
       "      <td>0.112396</td>\n",
       "    </tr>\n",
       "    <tr>\n",
       "      <th>Blaine County</th>\n",
       "      <td>0.258872</td>\n",
       "      <td>0.042086</td>\n",
       "    </tr>\n",
       "    <tr>\n",
       "      <th>Broadwater County</th>\n",
       "      <td>7.825885</td>\n",
       "      <td>3.248041</td>\n",
       "    </tr>\n",
       "    <tr>\n",
       "      <th>Carbon County</th>\n",
       "      <td>0.164160</td>\n",
       "      <td>0.150638</td>\n",
       "    </tr>\n",
       "    <tr>\n",
       "      <th>Carter County</th>\n",
       "      <td>0.218745</td>\n",
       "      <td>0.111636</td>\n",
       "    </tr>\n",
       "    <tr>\n",
       "      <th>Cascade County</th>\n",
       "      <td>3.512326</td>\n",
       "      <td>0.258816</td>\n",
       "    </tr>\n",
       "    <tr>\n",
       "      <th>Chouteau County</th>\n",
       "      <td>0.337009</td>\n",
       "      <td>0.179221</td>\n",
       "    </tr>\n",
       "    <tr>\n",
       "      <th>Custer County</th>\n",
       "      <td>0.187430</td>\n",
       "      <td>0.105790</td>\n",
       "    </tr>\n",
       "    <tr>\n",
       "      <th>Daniels County</th>\n",
       "      <td>5.149092</td>\n",
       "      <td>0.094767</td>\n",
       "    </tr>\n",
       "    <tr>\n",
       "      <th>Dawson County</th>\n",
       "      <td>0.168856</td>\n",
       "      <td>0.108706</td>\n",
       "    </tr>\n",
       "    <tr>\n",
       "      <th>Deer Lodge County</th>\n",
       "      <td>1.618996</td>\n",
       "      <td>0.664602</td>\n",
       "    </tr>\n",
       "    <tr>\n",
       "      <th>Fallon County</th>\n",
       "      <td>0.183776</td>\n",
       "      <td>0.074315</td>\n",
       "    </tr>\n",
       "    <tr>\n",
       "      <th>Fergus County</th>\n",
       "      <td>0.383300</td>\n",
       "      <td>0.150955</td>\n",
       "    </tr>\n",
       "    <tr>\n",
       "      <th>Flathead County</th>\n",
       "      <td>1.342734</td>\n",
       "      <td>0.271636</td>\n",
       "    </tr>\n",
       "    <tr>\n",
       "      <th>Gallatin County</th>\n",
       "      <td>1.218121</td>\n",
       "      <td>0.410046</td>\n",
       "    </tr>\n",
       "    <tr>\n",
       "      <th>Garfield County</th>\n",
       "      <td>0.256337</td>\n",
       "      <td>0.113151</td>\n",
       "    </tr>\n",
       "    <tr>\n",
       "      <th>Glacier County</th>\n",
       "      <td>1.308153</td>\n",
       "      <td>0.551092</td>\n",
       "    </tr>\n",
       "    <tr>\n",
       "      <th>Golden Valley County</th>\n",
       "      <td>0.162618</td>\n",
       "      <td>0.044875</td>\n",
       "    </tr>\n",
       "    <tr>\n",
       "      <th>Granite County</th>\n",
       "      <td>0.132964</td>\n",
       "      <td>0.084487</td>\n",
       "    </tr>\n",
       "    <tr>\n",
       "      <th>Hill County</th>\n",
       "      <td>0.213804</td>\n",
       "      <td>0.069994</td>\n",
       "    </tr>\n",
       "    <tr>\n",
       "      <th>Jefferson County</th>\n",
       "      <td>0.310404</td>\n",
       "      <td>0.263568</td>\n",
       "    </tr>\n",
       "    <tr>\n",
       "      <th>Judith Basin County</th>\n",
       "      <td>0.334253</td>\n",
       "      <td>0.121596</td>\n",
       "    </tr>\n",
       "    <tr>\n",
       "      <th>Lake County</th>\n",
       "      <td>0.092615</td>\n",
       "      <td>0.219839</td>\n",
       "    </tr>\n",
       "    <tr>\n",
       "      <th>Lewis And Clark County</th>\n",
       "      <td>2.570722</td>\n",
       "      <td>1.082447</td>\n",
       "    </tr>\n",
       "    <tr>\n",
       "      <th>Liberty County</th>\n",
       "      <td>0.127621</td>\n",
       "      <td>0.072360</td>\n",
       "    </tr>\n",
       "    <tr>\n",
       "      <th>Lincoln County</th>\n",
       "      <td>0.326472</td>\n",
       "      <td>0.261500</td>\n",
       "    </tr>\n",
       "    <tr>\n",
       "      <th>Madison County</th>\n",
       "      <td>0.286791</td>\n",
       "      <td>0.229164</td>\n",
       "    </tr>\n",
       "    <tr>\n",
       "      <th>Mccone County</th>\n",
       "      <td>0.167693</td>\n",
       "      <td>0.255803</td>\n",
       "    </tr>\n",
       "    <tr>\n",
       "      <th>Meagher County</th>\n",
       "      <td>0.139337</td>\n",
       "      <td>0.121514</td>\n",
       "    </tr>\n",
       "    <tr>\n",
       "      <th>Mineral County</th>\n",
       "      <td>0.926483</td>\n",
       "      <td>0.511730</td>\n",
       "    </tr>\n",
       "    <tr>\n",
       "      <th>Missoula County</th>\n",
       "      <td>1.880800</td>\n",
       "      <td>0.355869</td>\n",
       "    </tr>\n",
       "    <tr>\n",
       "      <th>Musselshell County</th>\n",
       "      <td>0.079711</td>\n",
       "      <td>0.155593</td>\n",
       "    </tr>\n",
       "    <tr>\n",
       "      <th>Park County</th>\n",
       "      <td>5.471990</td>\n",
       "      <td>2.262625</td>\n",
       "    </tr>\n",
       "    <tr>\n",
       "      <th>Petroleum County</th>\n",
       "      <td>0.147011</td>\n",
       "      <td>0.108454</td>\n",
       "    </tr>\n",
       "    <tr>\n",
       "      <th>Phillips County</th>\n",
       "      <td>0.335856</td>\n",
       "      <td>0.183386</td>\n",
       "    </tr>\n",
       "    <tr>\n",
       "      <th>Pondera County</th>\n",
       "      <td>0.177387</td>\n",
       "      <td>0.100512</td>\n",
       "    </tr>\n",
       "    <tr>\n",
       "      <th>Powder River County</th>\n",
       "      <td>0.273065</td>\n",
       "      <td>0.113568</td>\n",
       "    </tr>\n",
       "    <tr>\n",
       "      <th>Powell County</th>\n",
       "      <td>2.085561</td>\n",
       "      <td>0.875882</td>\n",
       "    </tr>\n",
       "    <tr>\n",
       "      <th>Prairie County</th>\n",
       "      <td>0.157117</td>\n",
       "      <td>0.071605</td>\n",
       "    </tr>\n",
       "    <tr>\n",
       "      <th>Ravalli County</th>\n",
       "      <td>1.987021</td>\n",
       "      <td>0.173786</td>\n",
       "    </tr>\n",
       "    <tr>\n",
       "      <th>Richland County</th>\n",
       "      <td>1.224547</td>\n",
       "      <td>0.717238</td>\n",
       "    </tr>\n",
       "    <tr>\n",
       "      <th>Roosevelt County</th>\n",
       "      <td>0.539356</td>\n",
       "      <td>0.063369</td>\n",
       "    </tr>\n",
       "    <tr>\n",
       "      <th>Rosebud County</th>\n",
       "      <td>0.216720</td>\n",
       "      <td>0.168450</td>\n",
       "    </tr>\n",
       "    <tr>\n",
       "      <th>Sanders County</th>\n",
       "      <td>0.358954</td>\n",
       "      <td>0.161362</td>\n",
       "    </tr>\n",
       "    <tr>\n",
       "      <th>Sheridan County</th>\n",
       "      <td>0.132568</td>\n",
       "      <td>0.127508</td>\n",
       "    </tr>\n",
       "    <tr>\n",
       "      <th>Silver Bow County</th>\n",
       "      <td>0.800048</td>\n",
       "      <td>0.333273</td>\n",
       "    </tr>\n",
       "    <tr>\n",
       "      <th>Stillwater County</th>\n",
       "      <td>1.816270</td>\n",
       "      <td>0.742224</td>\n",
       "    </tr>\n",
       "    <tr>\n",
       "      <th>Sweet Grass County</th>\n",
       "      <td>6.273852</td>\n",
       "      <td>0.058126</td>\n",
       "    </tr>\n",
       "    <tr>\n",
       "      <th>Teton County</th>\n",
       "      <td>2.059927</td>\n",
       "      <td>0.882818</td>\n",
       "    </tr>\n",
       "    <tr>\n",
       "      <th>Toole County</th>\n",
       "      <td>0.194419</td>\n",
       "      <td>0.125408</td>\n",
       "    </tr>\n",
       "    <tr>\n",
       "      <th>Treasure County</th>\n",
       "      <td>0.138295</td>\n",
       "      <td>0.045461</td>\n",
       "    </tr>\n",
       "    <tr>\n",
       "      <th>Valley County</th>\n",
       "      <td>0.345317</td>\n",
       "      <td>0.131271</td>\n",
       "    </tr>\n",
       "    <tr>\n",
       "      <th>Wheatland County</th>\n",
       "      <td>0.131184</td>\n",
       "      <td>0.104154</td>\n",
       "    </tr>\n",
       "    <tr>\n",
       "      <th>Wibaux County</th>\n",
       "      <td>0.081696</td>\n",
       "      <td>0.069986</td>\n",
       "    </tr>\n",
       "    <tr>\n",
       "      <th>Yellowstone County</th>\n",
       "      <td>2.876372</td>\n",
       "      <td>0.767400</td>\n",
       "    </tr>\n",
       "  </tbody>\n",
       "</table>\n",
       "</div>"
      ],
      "text/plain": [
       "                             lon       lat\n",
       "county_name                               \n",
       "Beaverhead County       0.185625  0.268133\n",
       "Big Horn County         1.937072  0.112396\n",
       "Blaine County           0.258872  0.042086\n",
       "Broadwater County       7.825885  3.248041\n",
       "Carbon County           0.164160  0.150638\n",
       "Carter County           0.218745  0.111636\n",
       "Cascade County          3.512326  0.258816\n",
       "Chouteau County         0.337009  0.179221\n",
       "Custer County           0.187430  0.105790\n",
       "Daniels County          5.149092  0.094767\n",
       "Dawson County           0.168856  0.108706\n",
       "Deer Lodge County       1.618996  0.664602\n",
       "Fallon County           0.183776  0.074315\n",
       "Fergus County           0.383300  0.150955\n",
       "Flathead County         1.342734  0.271636\n",
       "Gallatin County         1.218121  0.410046\n",
       "Garfield County         0.256337  0.113151\n",
       "Glacier County          1.308153  0.551092\n",
       "Golden Valley County    0.162618  0.044875\n",
       "Granite County          0.132964  0.084487\n",
       "Hill County             0.213804  0.069994\n",
       "Jefferson County        0.310404  0.263568\n",
       "Judith Basin County     0.334253  0.121596\n",
       "Lake County             0.092615  0.219839\n",
       "Lewis And Clark County  2.570722  1.082447\n",
       "Liberty County          0.127621  0.072360\n",
       "Lincoln County          0.326472  0.261500\n",
       "Madison County          0.286791  0.229164\n",
       "Mccone County           0.167693  0.255803\n",
       "Meagher County          0.139337  0.121514\n",
       "Mineral County          0.926483  0.511730\n",
       "Missoula County         1.880800  0.355869\n",
       "Musselshell County      0.079711  0.155593\n",
       "Park County             5.471990  2.262625\n",
       "Petroleum County        0.147011  0.108454\n",
       "Phillips County         0.335856  0.183386\n",
       "Pondera County          0.177387  0.100512\n",
       "Powder River County     0.273065  0.113568\n",
       "Powell County           2.085561  0.875882\n",
       "Prairie County          0.157117  0.071605\n",
       "Ravalli County          1.987021  0.173786\n",
       "Richland County         1.224547  0.717238\n",
       "Roosevelt County        0.539356  0.063369\n",
       "Rosebud County          0.216720  0.168450\n",
       "Sanders County          0.358954  0.161362\n",
       "Sheridan County         0.132568  0.127508\n",
       "Silver Bow County       0.800048  0.333273\n",
       "Stillwater County       1.816270  0.742224\n",
       "Sweet Grass County      6.273852  0.058126\n",
       "Teton County            2.059927  0.882818\n",
       "Toole County            0.194419  0.125408\n",
       "Treasure County         0.138295  0.045461\n",
       "Valley County           0.345317  0.131271\n",
       "Wheatland County        0.131184  0.104154\n",
       "Wibaux County           0.081696  0.069986\n",
       "Yellowstone County      2.876372  0.767400"
      ]
     },
     "execution_count": 172,
     "metadata": {},
     "output_type": "execute_result"
    }
   ],
   "source": [
    "area"
   ]
  },
  {
   "cell_type": "code",
   "execution_count": 173,
   "metadata": {
    "collapsed": true
   },
   "outputs": [],
   "source": [
    "area['ellipse'] = area['lon']*area['lat']*(math.pi)"
   ]
  },
  {
   "cell_type": "code",
   "execution_count": 174,
   "metadata": {
    "collapsed": true
   },
   "outputs": [],
   "source": [
    "area['lat_km'] = area['lat']*110.574"
   ]
  },
  {
   "cell_type": "code",
   "execution_count": 196,
   "metadata": {
    "collapsed": true
   },
   "outputs": [],
   "source": [
    "area['lon_km'] = (area['lat'].apply(math.cos))*111.320"
   ]
  },
  {
   "cell_type": "code",
   "execution_count": 201,
   "metadata": {
    "collapsed": true
   },
   "outputs": [],
   "source": [
    "area['area_km'] = abs(area['lat_km']*area['lon_km']*math.pi)"
   ]
  },
  {
   "cell_type": "code",
   "execution_count": 205,
   "metadata": {},
   "outputs": [
    {
     "data": {
      "text/html": [
       "<div>\n",
       "<style>\n",
       "    .dataframe thead tr:only-child th {\n",
       "        text-align: right;\n",
       "    }\n",
       "\n",
       "    .dataframe thead th {\n",
       "        text-align: left;\n",
       "    }\n",
       "\n",
       "    .dataframe tbody tr th {\n",
       "        vertical-align: top;\n",
       "    }\n",
       "</style>\n",
       "<table border=\"1\" class=\"dataframe\">\n",
       "  <thead>\n",
       "    <tr style=\"text-align: right;\">\n",
       "      <th></th>\n",
       "      <th>lon</th>\n",
       "      <th>lat</th>\n",
       "      <th>ellipse</th>\n",
       "      <th>lat_km</th>\n",
       "      <th>lon_km</th>\n",
       "      <th>area_km</th>\n",
       "    </tr>\n",
       "    <tr>\n",
       "      <th>county_name</th>\n",
       "      <th></th>\n",
       "      <th></th>\n",
       "      <th></th>\n",
       "      <th></th>\n",
       "      <th></th>\n",
       "      <th></th>\n",
       "    </tr>\n",
       "  </thead>\n",
       "  <tbody>\n",
       "    <tr>\n",
       "      <th>Blaine County</th>\n",
       "      <td>0.258872</td>\n",
       "      <td>0.042086</td>\n",
       "      <td>0.034227</td>\n",
       "      <td>4.653571</td>\n",
       "      <td>111.221430</td>\n",
       "      <td>1626.015602</td>\n",
       "    </tr>\n",
       "    <tr>\n",
       "      <th>Golden Valley County</th>\n",
       "      <td>0.162618</td>\n",
       "      <td>0.044875</td>\n",
       "      <td>0.022925</td>\n",
       "      <td>4.961956</td>\n",
       "      <td>111.207935</td>\n",
       "      <td>1733.558661</td>\n",
       "    </tr>\n",
       "    <tr>\n",
       "      <th>Treasure County</th>\n",
       "      <td>0.138295</td>\n",
       "      <td>0.045461</td>\n",
       "      <td>0.019751</td>\n",
       "      <td>5.026839</td>\n",
       "      <td>111.204986</td>\n",
       "      <td>1756.180464</td>\n",
       "    </tr>\n",
       "    <tr>\n",
       "      <th>Sweet Grass County</th>\n",
       "      <td>6.273852</td>\n",
       "      <td>0.058126</td>\n",
       "      <td>1.145661</td>\n",
       "      <td>6.427246</td>\n",
       "      <td>111.131997</td>\n",
       "      <td>2243.953787</td>\n",
       "    </tr>\n",
       "    <tr>\n",
       "      <th>Roosevelt County</th>\n",
       "      <td>0.539356</td>\n",
       "      <td>0.063369</td>\n",
       "      <td>0.107375</td>\n",
       "      <td>7.006959</td>\n",
       "      <td>111.096565</td>\n",
       "      <td>2445.569799</td>\n",
       "    </tr>\n",
       "    <tr>\n",
       "      <th>Wibaux County</th>\n",
       "      <td>0.081696</td>\n",
       "      <td>0.069986</td>\n",
       "      <td>0.017963</td>\n",
       "      <td>7.738686</td>\n",
       "      <td>111.047483</td>\n",
       "      <td>2699.764095</td>\n",
       "    </tr>\n",
       "    <tr>\n",
       "      <th>Hill County</th>\n",
       "      <td>0.213804</td>\n",
       "      <td>0.069994</td>\n",
       "      <td>0.047014</td>\n",
       "      <td>7.739475</td>\n",
       "      <td>111.047427</td>\n",
       "      <td>2700.037994</td>\n",
       "    </tr>\n",
       "    <tr>\n",
       "      <th>Prairie County</th>\n",
       "      <td>0.157117</td>\n",
       "      <td>0.071605</td>\n",
       "      <td>0.035344</td>\n",
       "      <td>7.917660</td>\n",
       "      <td>111.034737</td>\n",
       "      <td>2761.885144</td>\n",
       "    </tr>\n",
       "    <tr>\n",
       "      <th>Liberty County</th>\n",
       "      <td>0.127621</td>\n",
       "      <td>0.072360</td>\n",
       "      <td>0.029012</td>\n",
       "      <td>8.001151</td>\n",
       "      <td>111.028692</td>\n",
       "      <td>2790.856734</td>\n",
       "    </tr>\n",
       "    <tr>\n",
       "      <th>Fallon County</th>\n",
       "      <td>0.183776</td>\n",
       "      <td>0.074315</td>\n",
       "      <td>0.042906</td>\n",
       "      <td>8.217283</td>\n",
       "      <td>111.012749</td>\n",
       "      <td>2865.833623</td>\n",
       "    </tr>\n",
       "    <tr>\n",
       "      <th>Granite County</th>\n",
       "      <td>0.132964</td>\n",
       "      <td>0.084487</td>\n",
       "      <td>0.035292</td>\n",
       "      <td>9.342056</td>\n",
       "      <td>110.922933</td>\n",
       "      <td>3255.469735</td>\n",
       "    </tr>\n",
       "    <tr>\n",
       "      <th>Daniels County</th>\n",
       "      <td>5.149092</td>\n",
       "      <td>0.094767</td>\n",
       "      <td>1.532976</td>\n",
       "      <td>10.478714</td>\n",
       "      <td>110.820509</td>\n",
       "      <td>3648.194505</td>\n",
       "    </tr>\n",
       "    <tr>\n",
       "      <th>Pondera County</th>\n",
       "      <td>0.177387</td>\n",
       "      <td>0.100512</td>\n",
       "      <td>0.056013</td>\n",
       "      <td>11.114027</td>\n",
       "      <td>110.758158</td>\n",
       "      <td>3867.203512</td>\n",
       "    </tr>\n",
       "    <tr>\n",
       "      <th>Wheatland County</th>\n",
       "      <td>0.131184</td>\n",
       "      <td>0.104154</td>\n",
       "      <td>0.042925</td>\n",
       "      <td>11.516695</td>\n",
       "      <td>110.716746</td>\n",
       "      <td>4005.816332</td>\n",
       "    </tr>\n",
       "    <tr>\n",
       "      <th>Custer County</th>\n",
       "      <td>0.187430</td>\n",
       "      <td>0.105790</td>\n",
       "      <td>0.062292</td>\n",
       "      <td>11.697635</td>\n",
       "      <td>110.697659</td>\n",
       "      <td>4068.050870</td>\n",
       "    </tr>\n",
       "    <tr>\n",
       "      <th>Petroleum County</th>\n",
       "      <td>0.147011</td>\n",
       "      <td>0.108454</td>\n",
       "      <td>0.050089</td>\n",
       "      <td>11.992186</td>\n",
       "      <td>110.665954</td>\n",
       "      <td>4169.291636</td>\n",
       "    </tr>\n",
       "    <tr>\n",
       "      <th>Dawson County</th>\n",
       "      <td>0.168856</td>\n",
       "      <td>0.108706</td>\n",
       "      <td>0.057666</td>\n",
       "      <td>12.020057</td>\n",
       "      <td>110.662914</td>\n",
       "      <td>4178.866542</td>\n",
       "    </tr>\n",
       "    <tr>\n",
       "      <th>Carter County</th>\n",
       "      <td>0.218745</td>\n",
       "      <td>0.111636</td>\n",
       "      <td>0.076717</td>\n",
       "      <td>12.344002</td>\n",
       "      <td>110.627056</td>\n",
       "      <td>4290.098155</td>\n",
       "    </tr>\n",
       "    <tr>\n",
       "      <th>Big Horn County</th>\n",
       "      <td>1.937072</td>\n",
       "      <td>0.112396</td>\n",
       "      <td>0.683986</td>\n",
       "      <td>12.428093</td>\n",
       "      <td>110.617593</td>\n",
       "      <td>4318.953840</td>\n",
       "    </tr>\n",
       "    <tr>\n",
       "      <th>Garfield County</th>\n",
       "      <td>0.256337</td>\n",
       "      <td>0.113151</td>\n",
       "      <td>0.091121</td>\n",
       "      <td>12.511587</td>\n",
       "      <td>110.608133</td>\n",
       "      <td>4347.597707</td>\n",
       "    </tr>\n",
       "    <tr>\n",
       "      <th>Powder River County</th>\n",
       "      <td>0.273065</td>\n",
       "      <td>0.113568</td>\n",
       "      <td>0.097425</td>\n",
       "      <td>12.557616</td>\n",
       "      <td>110.602892</td>\n",
       "      <td>4363.385185</td>\n",
       "    </tr>\n",
       "    <tr>\n",
       "      <th>Meagher County</th>\n",
       "      <td>0.139337</td>\n",
       "      <td>0.121514</td>\n",
       "      <td>0.053192</td>\n",
       "      <td>13.436253</td>\n",
       "      <td>110.499159</td>\n",
       "      <td>4664.305741</td>\n",
       "    </tr>\n",
       "    <tr>\n",
       "      <th>Judith Basin County</th>\n",
       "      <td>0.334253</td>\n",
       "      <td>0.121596</td>\n",
       "      <td>0.127686</td>\n",
       "      <td>13.445373</td>\n",
       "      <td>110.498046</td>\n",
       "      <td>4667.424631</td>\n",
       "    </tr>\n",
       "    <tr>\n",
       "      <th>Toole County</th>\n",
       "      <td>0.194419</td>\n",
       "      <td>0.125408</td>\n",
       "      <td>0.076597</td>\n",
       "      <td>13.866866</td>\n",
       "      <td>110.445772</td>\n",
       "      <td>4811.464674</td>\n",
       "    </tr>\n",
       "    <tr>\n",
       "      <th>Sheridan County</th>\n",
       "      <td>0.132568</td>\n",
       "      <td>0.127508</td>\n",
       "      <td>0.053104</td>\n",
       "      <td>14.099034</td>\n",
       "      <td>110.416294</td>\n",
       "      <td>4890.715390</td>\n",
       "    </tr>\n",
       "    <tr>\n",
       "      <th>Valley County</th>\n",
       "      <td>0.345317</td>\n",
       "      <td>0.131271</td>\n",
       "      <td>0.142409</td>\n",
       "      <td>14.515139</td>\n",
       "      <td>110.362242</td>\n",
       "      <td>5032.590311</td>\n",
       "    </tr>\n",
       "    <tr>\n",
       "      <th>Carbon County</th>\n",
       "      <td>0.164160</td>\n",
       "      <td>0.150638</td>\n",
       "      <td>0.077688</td>\n",
       "      <td>16.656686</td>\n",
       "      <td>110.059354</td>\n",
       "      <td>5759.243550</td>\n",
       "    </tr>\n",
       "    <tr>\n",
       "      <th>Fergus County</th>\n",
       "      <td>0.383300</td>\n",
       "      <td>0.150955</td>\n",
       "      <td>0.181775</td>\n",
       "      <td>16.691643</td>\n",
       "      <td>110.054068</td>\n",
       "      <td>5771.053051</td>\n",
       "    </tr>\n",
       "    <tr>\n",
       "      <th>Musselshell County</th>\n",
       "      <td>0.079711</td>\n",
       "      <td>0.155593</td>\n",
       "      <td>0.038963</td>\n",
       "      <td>17.204581</td>\n",
       "      <td>109.975227</td>\n",
       "      <td>5944.137549</td>\n",
       "    </tr>\n",
       "    <tr>\n",
       "      <th>Sanders County</th>\n",
       "      <td>0.358954</td>\n",
       "      <td>0.161362</td>\n",
       "      <td>0.181966</td>\n",
       "      <td>17.842456</td>\n",
       "      <td>109.873881</td>\n",
       "      <td>6158.840804</td>\n",
       "    </tr>\n",
       "    <tr>\n",
       "      <th>Rosebud County</th>\n",
       "      <td>0.216720</td>\n",
       "      <td>0.168450</td>\n",
       "      <td>0.114689</td>\n",
       "      <td>18.626189</td>\n",
       "      <td>109.744356</td>\n",
       "      <td>6421.789560</td>\n",
       "    </tr>\n",
       "    <tr>\n",
       "      <th>Ravalli County</th>\n",
       "      <td>1.987021</td>\n",
       "      <td>0.173786</td>\n",
       "      <td>1.084841</td>\n",
       "      <td>19.216171</td>\n",
       "      <td>109.643214</td>\n",
       "      <td>6619.093051</td>\n",
       "    </tr>\n",
       "    <tr>\n",
       "      <th>Chouteau County</th>\n",
       "      <td>0.337009</td>\n",
       "      <td>0.179221</td>\n",
       "      <td>0.189749</td>\n",
       "      <td>19.817158</td>\n",
       "      <td>109.536976</td>\n",
       "      <td>6819.491664</td>\n",
       "    </tr>\n",
       "    <tr>\n",
       "      <th>Phillips County</th>\n",
       "      <td>0.335856</td>\n",
       "      <td>0.183386</td>\n",
       "      <td>0.193495</td>\n",
       "      <td>20.277738</td>\n",
       "      <td>109.453368</td>\n",
       "      <td>6972.660280</td>\n",
       "    </tr>\n",
       "    <tr>\n",
       "      <th>Lake County</th>\n",
       "      <td>0.092615</td>\n",
       "      <td>0.219839</td>\n",
       "      <td>0.063964</td>\n",
       "      <td>24.308424</td>\n",
       "      <td>108.640826</td>\n",
       "      <td>8296.592029</td>\n",
       "    </tr>\n",
       "    <tr>\n",
       "      <th>Madison County</th>\n",
       "      <td>0.286791</td>\n",
       "      <td>0.229164</td>\n",
       "      <td>0.206472</td>\n",
       "      <td>25.339526</td>\n",
       "      <td>108.409734</td>\n",
       "      <td>8630.116104</td>\n",
       "    </tr>\n",
       "    <tr>\n",
       "      <th>Mccone County</th>\n",
       "      <td>0.167693</td>\n",
       "      <td>0.255803</td>\n",
       "      <td>0.134763</td>\n",
       "      <td>28.285157</td>\n",
       "      <td>107.697696</td>\n",
       "      <td>9570.064977</td>\n",
       "    </tr>\n",
       "    <tr>\n",
       "      <th>Cascade County</th>\n",
       "      <td>3.512326</td>\n",
       "      <td>0.258816</td>\n",
       "      <td>2.855851</td>\n",
       "      <td>28.618296</td>\n",
       "      <td>107.612347</td>\n",
       "      <td>9675.106385</td>\n",
       "    </tr>\n",
       "    <tr>\n",
       "      <th>Lincoln County</th>\n",
       "      <td>0.326472</td>\n",
       "      <td>0.261500</td>\n",
       "      <td>0.268205</td>\n",
       "      <td>28.915070</td>\n",
       "      <td>107.535492</td>\n",
       "      <td>9768.456568</td>\n",
       "    </tr>\n",
       "    <tr>\n",
       "      <th>Jefferson County</th>\n",
       "      <td>0.310404</td>\n",
       "      <td>0.263568</td>\n",
       "      <td>0.257022</td>\n",
       "      <td>29.143813</td>\n",
       "      <td>107.475726</td>\n",
       "      <td>9840.261247</td>\n",
       "    </tr>\n",
       "    <tr>\n",
       "      <th>Beaverhead County</th>\n",
       "      <td>0.185625</td>\n",
       "      <td>0.268133</td>\n",
       "      <td>0.156364</td>\n",
       "      <td>29.648588</td>\n",
       "      <td>107.342212</td>\n",
       "      <td>9998.260113</td>\n",
       "    </tr>\n",
       "    <tr>\n",
       "      <th>Flathead County</th>\n",
       "      <td>1.342734</td>\n",
       "      <td>0.271636</td>\n",
       "      <td>1.145851</td>\n",
       "      <td>30.035932</td>\n",
       "      <td>107.238241</td>\n",
       "      <td>10119.071720</td>\n",
       "    </tr>\n",
       "    <tr>\n",
       "      <th>Silver Bow County</th>\n",
       "      <td>0.800048</td>\n",
       "      <td>0.333273</td>\n",
       "      <td>0.837657</td>\n",
       "      <td>36.851335</td>\n",
       "      <td>105.194802</td>\n",
       "      <td>12178.600502</td>\n",
       "    </tr>\n",
       "    <tr>\n",
       "      <th>Missoula County</th>\n",
       "      <td>1.880800</td>\n",
       "      <td>0.355869</td>\n",
       "      <td>2.102724</td>\n",
       "      <td>39.349831</td>\n",
       "      <td>104.345153</td>\n",
       "      <td>12899.266632</td>\n",
       "    </tr>\n",
       "    <tr>\n",
       "      <th>Gallatin County</th>\n",
       "      <td>1.218121</td>\n",
       "      <td>0.410046</td>\n",
       "      <td>1.569181</td>\n",
       "      <td>45.340426</td>\n",
       "      <td>102.091849</td>\n",
       "      <td>14542.080363</td>\n",
       "    </tr>\n",
       "    <tr>\n",
       "      <th>Mineral County</th>\n",
       "      <td>0.926483</td>\n",
       "      <td>0.511730</td>\n",
       "      <td>1.489459</td>\n",
       "      <td>56.584060</td>\n",
       "      <td>97.059745</td>\n",
       "      <td>17253.735085</td>\n",
       "    </tr>\n",
       "    <tr>\n",
       "      <th>Glacier County</th>\n",
       "      <td>1.308153</td>\n",
       "      <td>0.551092</td>\n",
       "      <td>2.264812</td>\n",
       "      <td>60.936401</td>\n",
       "      <td>94.839459</td>\n",
       "      <td>18155.814714</td>\n",
       "    </tr>\n",
       "    <tr>\n",
       "      <th>Lewis And Clark County</th>\n",
       "      <td>2.570722</td>\n",
       "      <td>1.082447</td>\n",
       "      <td>8.742012</td>\n",
       "      <td>119.690443</td>\n",
       "      <td>52.227917</td>\n",
       "      <td>19638.669075</td>\n",
       "    </tr>\n",
       "    <tr>\n",
       "      <th>Deer Lodge County</th>\n",
       "      <td>1.618996</td>\n",
       "      <td>0.664602</td>\n",
       "      <td>3.380315</td>\n",
       "      <td>73.487669</td>\n",
       "      <td>87.626929</td>\n",
       "      <td>20230.281924</td>\n",
       "    </tr>\n",
       "    <tr>\n",
       "      <th>Richland County</th>\n",
       "      <td>1.224547</td>\n",
       "      <td>0.717238</td>\n",
       "      <td>2.759237</td>\n",
       "      <td>79.307917</td>\n",
       "      <td>83.893404</td>\n",
       "      <td>20902.307642</td>\n",
       "    </tr>\n",
       "    <tr>\n",
       "      <th>Stillwater County</th>\n",
       "      <td>1.816270</td>\n",
       "      <td>0.742224</td>\n",
       "      <td>4.235113</td>\n",
       "      <td>82.070631</td>\n",
       "      <td>82.039211</td>\n",
       "      <td>21152.374032</td>\n",
       "    </tr>\n",
       "    <tr>\n",
       "      <th>Yellowstone County</th>\n",
       "      <td>2.876372</td>\n",
       "      <td>0.767400</td>\n",
       "      <td>6.934529</td>\n",
       "      <td>84.854537</td>\n",
       "      <td>80.118995</td>\n",
       "      <td>21357.992587</td>\n",
       "    </tr>\n",
       "    <tr>\n",
       "      <th>Teton County</th>\n",
       "      <td>2.059927</td>\n",
       "      <td>0.882818</td>\n",
       "      <td>5.713111</td>\n",
       "      <td>97.616681</td>\n",
       "      <td>70.685632</td>\n",
       "      <td>21677.293346</td>\n",
       "    </tr>\n",
       "    <tr>\n",
       "      <th>Powell County</th>\n",
       "      <td>2.085561</td>\n",
       "      <td>0.875882</td>\n",
       "      <td>5.738761</td>\n",
       "      <td>96.849742</td>\n",
       "      <td>71.280408</td>\n",
       "      <td>21687.950817</td>\n",
       "    </tr>\n",
       "    <tr>\n",
       "      <th>Park County</th>\n",
       "      <td>5.471990</td>\n",
       "      <td>2.262625</td>\n",
       "      <td>38.896247</td>\n",
       "      <td>250.187468</td>\n",
       "      <td>-71.016179</td>\n",
       "      <td>55817.801781</td>\n",
       "    </tr>\n",
       "    <tr>\n",
       "      <th>Broadwater County</th>\n",
       "      <td>7.825885</td>\n",
       "      <td>3.248041</td>\n",
       "      <td>79.855504</td>\n",
       "      <td>359.148891</td>\n",
       "      <td>-110.689897</td>\n",
       "      <td>124891.357693</td>\n",
       "    </tr>\n",
       "  </tbody>\n",
       "</table>\n",
       "</div>"
      ],
      "text/plain": [
       "                             lon       lat    ellipse      lat_km      lon_km  \\\n",
       "county_name                                                                     \n",
       "Blaine County           0.258872  0.042086   0.034227    4.653571  111.221430   \n",
       "Golden Valley County    0.162618  0.044875   0.022925    4.961956  111.207935   \n",
       "Treasure County         0.138295  0.045461   0.019751    5.026839  111.204986   \n",
       "Sweet Grass County      6.273852  0.058126   1.145661    6.427246  111.131997   \n",
       "Roosevelt County        0.539356  0.063369   0.107375    7.006959  111.096565   \n",
       "Wibaux County           0.081696  0.069986   0.017963    7.738686  111.047483   \n",
       "Hill County             0.213804  0.069994   0.047014    7.739475  111.047427   \n",
       "Prairie County          0.157117  0.071605   0.035344    7.917660  111.034737   \n",
       "Liberty County          0.127621  0.072360   0.029012    8.001151  111.028692   \n",
       "Fallon County           0.183776  0.074315   0.042906    8.217283  111.012749   \n",
       "Granite County          0.132964  0.084487   0.035292    9.342056  110.922933   \n",
       "Daniels County          5.149092  0.094767   1.532976   10.478714  110.820509   \n",
       "Pondera County          0.177387  0.100512   0.056013   11.114027  110.758158   \n",
       "Wheatland County        0.131184  0.104154   0.042925   11.516695  110.716746   \n",
       "Custer County           0.187430  0.105790   0.062292   11.697635  110.697659   \n",
       "Petroleum County        0.147011  0.108454   0.050089   11.992186  110.665954   \n",
       "Dawson County           0.168856  0.108706   0.057666   12.020057  110.662914   \n",
       "Carter County           0.218745  0.111636   0.076717   12.344002  110.627056   \n",
       "Big Horn County         1.937072  0.112396   0.683986   12.428093  110.617593   \n",
       "Garfield County         0.256337  0.113151   0.091121   12.511587  110.608133   \n",
       "Powder River County     0.273065  0.113568   0.097425   12.557616  110.602892   \n",
       "Meagher County          0.139337  0.121514   0.053192   13.436253  110.499159   \n",
       "Judith Basin County     0.334253  0.121596   0.127686   13.445373  110.498046   \n",
       "Toole County            0.194419  0.125408   0.076597   13.866866  110.445772   \n",
       "Sheridan County         0.132568  0.127508   0.053104   14.099034  110.416294   \n",
       "Valley County           0.345317  0.131271   0.142409   14.515139  110.362242   \n",
       "Carbon County           0.164160  0.150638   0.077688   16.656686  110.059354   \n",
       "Fergus County           0.383300  0.150955   0.181775   16.691643  110.054068   \n",
       "Musselshell County      0.079711  0.155593   0.038963   17.204581  109.975227   \n",
       "Sanders County          0.358954  0.161362   0.181966   17.842456  109.873881   \n",
       "Rosebud County          0.216720  0.168450   0.114689   18.626189  109.744356   \n",
       "Ravalli County          1.987021  0.173786   1.084841   19.216171  109.643214   \n",
       "Chouteau County         0.337009  0.179221   0.189749   19.817158  109.536976   \n",
       "Phillips County         0.335856  0.183386   0.193495   20.277738  109.453368   \n",
       "Lake County             0.092615  0.219839   0.063964   24.308424  108.640826   \n",
       "Madison County          0.286791  0.229164   0.206472   25.339526  108.409734   \n",
       "Mccone County           0.167693  0.255803   0.134763   28.285157  107.697696   \n",
       "Cascade County          3.512326  0.258816   2.855851   28.618296  107.612347   \n",
       "Lincoln County          0.326472  0.261500   0.268205   28.915070  107.535492   \n",
       "Jefferson County        0.310404  0.263568   0.257022   29.143813  107.475726   \n",
       "Beaverhead County       0.185625  0.268133   0.156364   29.648588  107.342212   \n",
       "Flathead County         1.342734  0.271636   1.145851   30.035932  107.238241   \n",
       "Silver Bow County       0.800048  0.333273   0.837657   36.851335  105.194802   \n",
       "Missoula County         1.880800  0.355869   2.102724   39.349831  104.345153   \n",
       "Gallatin County         1.218121  0.410046   1.569181   45.340426  102.091849   \n",
       "Mineral County          0.926483  0.511730   1.489459   56.584060   97.059745   \n",
       "Glacier County          1.308153  0.551092   2.264812   60.936401   94.839459   \n",
       "Lewis And Clark County  2.570722  1.082447   8.742012  119.690443   52.227917   \n",
       "Deer Lodge County       1.618996  0.664602   3.380315   73.487669   87.626929   \n",
       "Richland County         1.224547  0.717238   2.759237   79.307917   83.893404   \n",
       "Stillwater County       1.816270  0.742224   4.235113   82.070631   82.039211   \n",
       "Yellowstone County      2.876372  0.767400   6.934529   84.854537   80.118995   \n",
       "Teton County            2.059927  0.882818   5.713111   97.616681   70.685632   \n",
       "Powell County           2.085561  0.875882   5.738761   96.849742   71.280408   \n",
       "Park County             5.471990  2.262625  38.896247  250.187468  -71.016179   \n",
       "Broadwater County       7.825885  3.248041  79.855504  359.148891 -110.689897   \n",
       "\n",
       "                              area_km  \n",
       "county_name                            \n",
       "Blaine County             1626.015602  \n",
       "Golden Valley County      1733.558661  \n",
       "Treasure County           1756.180464  \n",
       "Sweet Grass County        2243.953787  \n",
       "Roosevelt County          2445.569799  \n",
       "Wibaux County             2699.764095  \n",
       "Hill County               2700.037994  \n",
       "Prairie County            2761.885144  \n",
       "Liberty County            2790.856734  \n",
       "Fallon County             2865.833623  \n",
       "Granite County            3255.469735  \n",
       "Daniels County            3648.194505  \n",
       "Pondera County            3867.203512  \n",
       "Wheatland County          4005.816332  \n",
       "Custer County             4068.050870  \n",
       "Petroleum County          4169.291636  \n",
       "Dawson County             4178.866542  \n",
       "Carter County             4290.098155  \n",
       "Big Horn County           4318.953840  \n",
       "Garfield County           4347.597707  \n",
       "Powder River County       4363.385185  \n",
       "Meagher County            4664.305741  \n",
       "Judith Basin County       4667.424631  \n",
       "Toole County              4811.464674  \n",
       "Sheridan County           4890.715390  \n",
       "Valley County             5032.590311  \n",
       "Carbon County             5759.243550  \n",
       "Fergus County             5771.053051  \n",
       "Musselshell County        5944.137549  \n",
       "Sanders County            6158.840804  \n",
       "Rosebud County            6421.789560  \n",
       "Ravalli County            6619.093051  \n",
       "Chouteau County           6819.491664  \n",
       "Phillips County           6972.660280  \n",
       "Lake County               8296.592029  \n",
       "Madison County            8630.116104  \n",
       "Mccone County             9570.064977  \n",
       "Cascade County            9675.106385  \n",
       "Lincoln County            9768.456568  \n",
       "Jefferson County          9840.261247  \n",
       "Beaverhead County         9998.260113  \n",
       "Flathead County          10119.071720  \n",
       "Silver Bow County        12178.600502  \n",
       "Missoula County          12899.266632  \n",
       "Gallatin County          14542.080363  \n",
       "Mineral County           17253.735085  \n",
       "Glacier County           18155.814714  \n",
       "Lewis And Clark County   19638.669075  \n",
       "Deer Lodge County        20230.281924  \n",
       "Richland County          20902.307642  \n",
       "Stillwater County        21152.374032  \n",
       "Yellowstone County       21357.992587  \n",
       "Teton County             21677.293346  \n",
       "Powell County            21687.950817  \n",
       "Park County              55817.801781  \n",
       "Broadwater County       124891.357693  "
      ]
     },
     "execution_count": 205,
     "metadata": {},
     "output_type": "execute_result"
    }
   ],
   "source": [
    "area.sort_values(by = 'area_km')"
   ]
  },
  {
   "cell_type": "code",
   "execution_count": 206,
   "metadata": {
    "collapsed": true
   },
   "outputs": [],
   "source": [
    "area['area_km_2'] = area['lat']*111*area['lon']*111.321*math.pi"
   ]
  },
  {
   "cell_type": "code",
   "execution_count": 208,
   "metadata": {},
   "outputs": [
    {
     "data": {
      "text/html": [
       "<div>\n",
       "<style>\n",
       "    .dataframe thead tr:only-child th {\n",
       "        text-align: right;\n",
       "    }\n",
       "\n",
       "    .dataframe thead th {\n",
       "        text-align: left;\n",
       "    }\n",
       "\n",
       "    .dataframe tbody tr th {\n",
       "        vertical-align: top;\n",
       "    }\n",
       "</style>\n",
       "<table border=\"1\" class=\"dataframe\">\n",
       "  <thead>\n",
       "    <tr style=\"text-align: right;\">\n",
       "      <th></th>\n",
       "      <th>lon</th>\n",
       "      <th>lat</th>\n",
       "      <th>ellipse</th>\n",
       "      <th>lat_km</th>\n",
       "      <th>lon_km</th>\n",
       "      <th>area_km</th>\n",
       "      <th>area_km_2</th>\n",
       "    </tr>\n",
       "    <tr>\n",
       "      <th>county_name</th>\n",
       "      <th></th>\n",
       "      <th></th>\n",
       "      <th></th>\n",
       "      <th></th>\n",
       "      <th></th>\n",
       "      <th></th>\n",
       "      <th></th>\n",
       "    </tr>\n",
       "  </thead>\n",
       "  <tbody>\n",
       "    <tr>\n",
       "      <th>Wibaux County</th>\n",
       "      <td>0.081696</td>\n",
       "      <td>0.069986</td>\n",
       "      <td>0.017963</td>\n",
       "      <td>7.738686</td>\n",
       "      <td>111.047483</td>\n",
       "      <td>2699.764095</td>\n",
       "      <td>221.955992</td>\n",
       "    </tr>\n",
       "    <tr>\n",
       "      <th>Treasure County</th>\n",
       "      <td>0.138295</td>\n",
       "      <td>0.045461</td>\n",
       "      <td>0.019751</td>\n",
       "      <td>5.026839</td>\n",
       "      <td>111.204986</td>\n",
       "      <td>1756.180464</td>\n",
       "      <td>244.061316</td>\n",
       "    </tr>\n",
       "    <tr>\n",
       "      <th>Golden Valley County</th>\n",
       "      <td>0.162618</td>\n",
       "      <td>0.044875</td>\n",
       "      <td>0.022925</td>\n",
       "      <td>4.961956</td>\n",
       "      <td>111.207935</td>\n",
       "      <td>1733.558661</td>\n",
       "      <td>283.280908</td>\n",
       "    </tr>\n",
       "    <tr>\n",
       "      <th>Liberty County</th>\n",
       "      <td>0.127621</td>\n",
       "      <td>0.072360</td>\n",
       "      <td>0.029012</td>\n",
       "      <td>8.001151</td>\n",
       "      <td>111.028692</td>\n",
       "      <td>2790.856734</td>\n",
       "      <td>358.485884</td>\n",
       "    </tr>\n",
       "    <tr>\n",
       "      <th>Blaine County</th>\n",
       "      <td>0.258872</td>\n",
       "      <td>0.042086</td>\n",
       "      <td>0.034227</td>\n",
       "      <td>4.653571</td>\n",
       "      <td>111.221430</td>\n",
       "      <td>1626.015602</td>\n",
       "      <td>422.930547</td>\n",
       "    </tr>\n",
       "    <tr>\n",
       "      <th>Granite County</th>\n",
       "      <td>0.132964</td>\n",
       "      <td>0.084487</td>\n",
       "      <td>0.035292</td>\n",
       "      <td>9.342056</td>\n",
       "      <td>110.922933</td>\n",
       "      <td>3255.469735</td>\n",
       "      <td>436.087249</td>\n",
       "    </tr>\n",
       "    <tr>\n",
       "      <th>Prairie County</th>\n",
       "      <td>0.157117</td>\n",
       "      <td>0.071605</td>\n",
       "      <td>0.035344</td>\n",
       "      <td>7.917660</td>\n",
       "      <td>111.034737</td>\n",
       "      <td>2761.885144</td>\n",
       "      <td>436.733901</td>\n",
       "    </tr>\n",
       "    <tr>\n",
       "      <th>Musselshell County</th>\n",
       "      <td>0.079711</td>\n",
       "      <td>0.155593</td>\n",
       "      <td>0.038963</td>\n",
       "      <td>17.204581</td>\n",
       "      <td>109.975227</td>\n",
       "      <td>5944.137549</td>\n",
       "      <td>481.457014</td>\n",
       "    </tr>\n",
       "    <tr>\n",
       "      <th>Fallon County</th>\n",
       "      <td>0.183776</td>\n",
       "      <td>0.074315</td>\n",
       "      <td>0.042906</td>\n",
       "      <td>8.217283</td>\n",
       "      <td>111.012749</td>\n",
       "      <td>2865.833623</td>\n",
       "      <td>530.167520</td>\n",
       "    </tr>\n",
       "    <tr>\n",
       "      <th>Wheatland County</th>\n",
       "      <td>0.131184</td>\n",
       "      <td>0.104154</td>\n",
       "      <td>0.042925</td>\n",
       "      <td>11.516695</td>\n",
       "      <td>110.716746</td>\n",
       "      <td>4005.816332</td>\n",
       "      <td>530.402964</td>\n",
       "    </tr>\n",
       "    <tr>\n",
       "      <th>Hill County</th>\n",
       "      <td>0.213804</td>\n",
       "      <td>0.069994</td>\n",
       "      <td>0.047014</td>\n",
       "      <td>7.739475</td>\n",
       "      <td>111.047427</td>\n",
       "      <td>2700.037994</td>\n",
       "      <td>580.930132</td>\n",
       "    </tr>\n",
       "    <tr>\n",
       "      <th>Petroleum County</th>\n",
       "      <td>0.147011</td>\n",
       "      <td>0.108454</td>\n",
       "      <td>0.050089</td>\n",
       "      <td>11.992186</td>\n",
       "      <td>110.665954</td>\n",
       "      <td>4169.291636</td>\n",
       "      <td>618.936322</td>\n",
       "    </tr>\n",
       "    <tr>\n",
       "      <th>Sheridan County</th>\n",
       "      <td>0.132568</td>\n",
       "      <td>0.127508</td>\n",
       "      <td>0.053104</td>\n",
       "      <td>14.099034</td>\n",
       "      <td>110.416294</td>\n",
       "      <td>4890.715390</td>\n",
       "      <td>656.185076</td>\n",
       "    </tr>\n",
       "    <tr>\n",
       "      <th>Meagher County</th>\n",
       "      <td>0.139337</td>\n",
       "      <td>0.121514</td>\n",
       "      <td>0.053192</td>\n",
       "      <td>13.436253</td>\n",
       "      <td>110.499159</td>\n",
       "      <td>4664.305741</td>\n",
       "      <td>657.268004</td>\n",
       "    </tr>\n",
       "    <tr>\n",
       "      <th>Pondera County</th>\n",
       "      <td>0.177387</td>\n",
       "      <td>0.100512</td>\n",
       "      <td>0.056013</td>\n",
       "      <td>11.114027</td>\n",
       "      <td>110.758158</td>\n",
       "      <td>3867.203512</td>\n",
       "      <td>692.133370</td>\n",
       "    </tr>\n",
       "    <tr>\n",
       "      <th>Dawson County</th>\n",
       "      <td>0.168856</td>\n",
       "      <td>0.108706</td>\n",
       "      <td>0.057666</td>\n",
       "      <td>12.020057</td>\n",
       "      <td>110.662914</td>\n",
       "      <td>4178.866542</td>\n",
       "      <td>712.556618</td>\n",
       "    </tr>\n",
       "    <tr>\n",
       "      <th>Custer County</th>\n",
       "      <td>0.187430</td>\n",
       "      <td>0.105790</td>\n",
       "      <td>0.062292</td>\n",
       "      <td>11.697635</td>\n",
       "      <td>110.697659</td>\n",
       "      <td>4068.050870</td>\n",
       "      <td>769.722802</td>\n",
       "    </tr>\n",
       "    <tr>\n",
       "      <th>Lake County</th>\n",
       "      <td>0.092615</td>\n",
       "      <td>0.219839</td>\n",
       "      <td>0.063964</td>\n",
       "      <td>24.308424</td>\n",
       "      <td>108.640826</td>\n",
       "      <td>8296.592029</td>\n",
       "      <td>790.380661</td>\n",
       "    </tr>\n",
       "    <tr>\n",
       "      <th>Toole County</th>\n",
       "      <td>0.194419</td>\n",
       "      <td>0.125408</td>\n",
       "      <td>0.076597</td>\n",
       "      <td>13.866866</td>\n",
       "      <td>110.445772</td>\n",
       "      <td>4811.464674</td>\n",
       "      <td>946.483362</td>\n",
       "    </tr>\n",
       "    <tr>\n",
       "      <th>Carter County</th>\n",
       "      <td>0.218745</td>\n",
       "      <td>0.111636</td>\n",
       "      <td>0.076717</td>\n",
       "      <td>12.344002</td>\n",
       "      <td>110.627056</td>\n",
       "      <td>4290.098155</td>\n",
       "      <td>947.964034</td>\n",
       "    </tr>\n",
       "    <tr>\n",
       "      <th>Carbon County</th>\n",
       "      <td>0.164160</td>\n",
       "      <td>0.150638</td>\n",
       "      <td>0.077688</td>\n",
       "      <td>16.656686</td>\n",
       "      <td>110.059354</td>\n",
       "      <td>5759.243550</td>\n",
       "      <td>959.958200</td>\n",
       "    </tr>\n",
       "    <tr>\n",
       "      <th>Garfield County</th>\n",
       "      <td>0.256337</td>\n",
       "      <td>0.113151</td>\n",
       "      <td>0.091121</td>\n",
       "      <td>12.511587</td>\n",
       "      <td>110.608133</td>\n",
       "      <td>4347.597707</td>\n",
       "      <td>1125.953297</td>\n",
       "    </tr>\n",
       "    <tr>\n",
       "      <th>Powder River County</th>\n",
       "      <td>0.273065</td>\n",
       "      <td>0.113568</td>\n",
       "      <td>0.097425</td>\n",
       "      <td>12.557616</td>\n",
       "      <td>110.602892</td>\n",
       "      <td>4363.385185</td>\n",
       "      <td>1203.844682</td>\n",
       "    </tr>\n",
       "    <tr>\n",
       "      <th>Roosevelt County</th>\n",
       "      <td>0.539356</td>\n",
       "      <td>0.063369</td>\n",
       "      <td>0.107375</td>\n",
       "      <td>7.006959</td>\n",
       "      <td>111.096565</td>\n",
       "      <td>2445.569799</td>\n",
       "      <td>1326.790412</td>\n",
       "    </tr>\n",
       "    <tr>\n",
       "      <th>Rosebud County</th>\n",
       "      <td>0.216720</td>\n",
       "      <td>0.168450</td>\n",
       "      <td>0.114689</td>\n",
       "      <td>18.626189</td>\n",
       "      <td>109.744356</td>\n",
       "      <td>6421.789560</td>\n",
       "      <td>1417.165402</td>\n",
       "    </tr>\n",
       "    <tr>\n",
       "      <th>Judith Basin County</th>\n",
       "      <td>0.334253</td>\n",
       "      <td>0.121596</td>\n",
       "      <td>0.127686</td>\n",
       "      <td>13.445373</td>\n",
       "      <td>110.498046</td>\n",
       "      <td>4667.424631</td>\n",
       "      <td>1577.774297</td>\n",
       "    </tr>\n",
       "    <tr>\n",
       "      <th>Mccone County</th>\n",
       "      <td>0.167693</td>\n",
       "      <td>0.255803</td>\n",
       "      <td>0.134763</td>\n",
       "      <td>28.285157</td>\n",
       "      <td>107.697696</td>\n",
       "      <td>9570.064977</td>\n",
       "      <td>1665.218926</td>\n",
       "    </tr>\n",
       "    <tr>\n",
       "      <th>Valley County</th>\n",
       "      <td>0.345317</td>\n",
       "      <td>0.131271</td>\n",
       "      <td>0.142409</td>\n",
       "      <td>14.515139</td>\n",
       "      <td>110.362242</td>\n",
       "      <td>5032.590311</td>\n",
       "      <td>1759.691127</td>\n",
       "    </tr>\n",
       "    <tr>\n",
       "      <th>Beaverhead County</th>\n",
       "      <td>0.185625</td>\n",
       "      <td>0.268133</td>\n",
       "      <td>0.156364</td>\n",
       "      <td>29.648588</td>\n",
       "      <td>107.342212</td>\n",
       "      <td>9998.260113</td>\n",
       "      <td>1932.135940</td>\n",
       "    </tr>\n",
       "    <tr>\n",
       "      <th>Fergus County</th>\n",
       "      <td>0.383300</td>\n",
       "      <td>0.150955</td>\n",
       "      <td>0.181775</td>\n",
       "      <td>16.691643</td>\n",
       "      <td>110.054068</td>\n",
       "      <td>5771.053051</td>\n",
       "      <td>2246.127397</td>\n",
       "    </tr>\n",
       "    <tr>\n",
       "      <th>Sanders County</th>\n",
       "      <td>0.358954</td>\n",
       "      <td>0.161362</td>\n",
       "      <td>0.181966</td>\n",
       "      <td>17.842456</td>\n",
       "      <td>109.873881</td>\n",
       "      <td>6158.840804</td>\n",
       "      <td>2248.489340</td>\n",
       "    </tr>\n",
       "    <tr>\n",
       "      <th>Chouteau County</th>\n",
       "      <td>0.337009</td>\n",
       "      <td>0.179221</td>\n",
       "      <td>0.189749</td>\n",
       "      <td>19.817158</td>\n",
       "      <td>109.536976</td>\n",
       "      <td>6819.491664</td>\n",
       "      <td>2344.659138</td>\n",
       "    </tr>\n",
       "    <tr>\n",
       "      <th>Phillips County</th>\n",
       "      <td>0.335856</td>\n",
       "      <td>0.183386</td>\n",
       "      <td>0.193495</td>\n",
       "      <td>20.277738</td>\n",
       "      <td>109.453368</td>\n",
       "      <td>6972.660280</td>\n",
       "      <td>2390.942530</td>\n",
       "    </tr>\n",
       "    <tr>\n",
       "      <th>Madison County</th>\n",
       "      <td>0.286791</td>\n",
       "      <td>0.229164</td>\n",
       "      <td>0.206472</td>\n",
       "      <td>25.339526</td>\n",
       "      <td>108.409734</td>\n",
       "      <td>8630.116104</td>\n",
       "      <td>2551.294277</td>\n",
       "    </tr>\n",
       "    <tr>\n",
       "      <th>Jefferson County</th>\n",
       "      <td>0.310404</td>\n",
       "      <td>0.263568</td>\n",
       "      <td>0.257022</td>\n",
       "      <td>29.143813</td>\n",
       "      <td>107.475726</td>\n",
       "      <td>9840.261247</td>\n",
       "      <td>3175.924440</td>\n",
       "    </tr>\n",
       "    <tr>\n",
       "      <th>Lincoln County</th>\n",
       "      <td>0.326472</td>\n",
       "      <td>0.261500</td>\n",
       "      <td>0.268205</td>\n",
       "      <td>28.915070</td>\n",
       "      <td>107.535492</td>\n",
       "      <td>9768.456568</td>\n",
       "      <td>3314.110422</td>\n",
       "    </tr>\n",
       "    <tr>\n",
       "      <th>Big Horn County</th>\n",
       "      <td>1.937072</td>\n",
       "      <td>0.112396</td>\n",
       "      <td>0.683986</td>\n",
       "      <td>12.428093</td>\n",
       "      <td>110.617593</td>\n",
       "      <td>4318.953840</td>\n",
       "      <td>8451.760230</td>\n",
       "    </tr>\n",
       "    <tr>\n",
       "      <th>Silver Bow County</th>\n",
       "      <td>0.800048</td>\n",
       "      <td>0.333273</td>\n",
       "      <td>0.837657</td>\n",
       "      <td>36.851335</td>\n",
       "      <td>105.194802</td>\n",
       "      <td>12178.600502</td>\n",
       "      <td>10350.613737</td>\n",
       "    </tr>\n",
       "    <tr>\n",
       "      <th>Ravalli County</th>\n",
       "      <td>1.987021</td>\n",
       "      <td>0.173786</td>\n",
       "      <td>1.084841</td>\n",
       "      <td>19.216171</td>\n",
       "      <td>109.643214</td>\n",
       "      <td>6619.093051</td>\n",
       "      <td>13404.978984</td>\n",
       "    </tr>\n",
       "    <tr>\n",
       "      <th>Sweet Grass County</th>\n",
       "      <td>6.273852</td>\n",
       "      <td>0.058126</td>\n",
       "      <td>1.145661</td>\n",
       "      <td>6.427246</td>\n",
       "      <td>111.131997</td>\n",
       "      <td>2243.953787</td>\n",
       "      <td>14156.507581</td>\n",
       "    </tr>\n",
       "    <tr>\n",
       "      <th>Flathead County</th>\n",
       "      <td>1.342734</td>\n",
       "      <td>0.271636</td>\n",
       "      <td>1.145851</td>\n",
       "      <td>30.035932</td>\n",
       "      <td>107.238241</td>\n",
       "      <td>10119.071720</td>\n",
       "      <td>14158.855295</td>\n",
       "    </tr>\n",
       "    <tr>\n",
       "      <th>Mineral County</th>\n",
       "      <td>0.926483</td>\n",
       "      <td>0.511730</td>\n",
       "      <td>1.489459</td>\n",
       "      <td>56.584060</td>\n",
       "      <td>97.059745</td>\n",
       "      <td>17253.735085</td>\n",
       "      <td>18404.691679</td>\n",
       "    </tr>\n",
       "    <tr>\n",
       "      <th>Daniels County</th>\n",
       "      <td>5.149092</td>\n",
       "      <td>0.094767</td>\n",
       "      <td>1.532976</td>\n",
       "      <td>10.478714</td>\n",
       "      <td>110.820509</td>\n",
       "      <td>3648.194505</td>\n",
       "      <td>18942.422696</td>\n",
       "    </tr>\n",
       "    <tr>\n",
       "      <th>Gallatin County</th>\n",
       "      <td>1.218121</td>\n",
       "      <td>0.410046</td>\n",
       "      <td>1.569181</td>\n",
       "      <td>45.340426</td>\n",
       "      <td>102.091849</td>\n",
       "      <td>14542.080363</td>\n",
       "      <td>19389.786243</td>\n",
       "    </tr>\n",
       "    <tr>\n",
       "      <th>Missoula County</th>\n",
       "      <td>1.880800</td>\n",
       "      <td>0.355869</td>\n",
       "      <td>2.102724</td>\n",
       "      <td>39.349831</td>\n",
       "      <td>104.345153</td>\n",
       "      <td>12899.266632</td>\n",
       "      <td>25982.589708</td>\n",
       "    </tr>\n",
       "    <tr>\n",
       "      <th>Glacier County</th>\n",
       "      <td>1.308153</td>\n",
       "      <td>0.551092</td>\n",
       "      <td>2.264812</td>\n",
       "      <td>60.936401</td>\n",
       "      <td>94.839459</td>\n",
       "      <td>18155.814714</td>\n",
       "      <td>27985.447415</td>\n",
       "    </tr>\n",
       "    <tr>\n",
       "      <th>Richland County</th>\n",
       "      <td>1.224547</td>\n",
       "      <td>0.717238</td>\n",
       "      <td>2.759237</td>\n",
       "      <td>79.307917</td>\n",
       "      <td>83.893404</td>\n",
       "      <td>20902.307642</td>\n",
       "      <td>34094.872000</td>\n",
       "    </tr>\n",
       "    <tr>\n",
       "      <th>Cascade County</th>\n",
       "      <td>3.512326</td>\n",
       "      <td>0.258816</td>\n",
       "      <td>2.855851</td>\n",
       "      <td>28.618296</td>\n",
       "      <td>107.612347</td>\n",
       "      <td>9675.106385</td>\n",
       "      <td>35288.692456</td>\n",
       "    </tr>\n",
       "    <tr>\n",
       "      <th>Deer Lodge County</th>\n",
       "      <td>1.618996</td>\n",
       "      <td>0.664602</td>\n",
       "      <td>3.380315</td>\n",
       "      <td>73.487669</td>\n",
       "      <td>87.626929</td>\n",
       "      <td>20230.281924</td>\n",
       "      <td>41769.300504</td>\n",
       "    </tr>\n",
       "    <tr>\n",
       "      <th>Stillwater County</th>\n",
       "      <td>1.816270</td>\n",
       "      <td>0.742224</td>\n",
       "      <td>4.235113</td>\n",
       "      <td>82.070631</td>\n",
       "      <td>82.039211</td>\n",
       "      <td>21152.374032</td>\n",
       "      <td>52331.723351</td>\n",
       "    </tr>\n",
       "    <tr>\n",
       "      <th>Teton County</th>\n",
       "      <td>2.059927</td>\n",
       "      <td>0.882818</td>\n",
       "      <td>5.713111</td>\n",
       "      <td>97.616681</td>\n",
       "      <td>70.685632</td>\n",
       "      <td>21677.293346</td>\n",
       "      <td>70594.801982</td>\n",
       "    </tr>\n",
       "    <tr>\n",
       "      <th>Powell County</th>\n",
       "      <td>2.085561</td>\n",
       "      <td>0.875882</td>\n",
       "      <td>5.738761</td>\n",
       "      <td>96.849742</td>\n",
       "      <td>71.280408</td>\n",
       "      <td>21687.950817</td>\n",
       "      <td>70911.753503</td>\n",
       "    </tr>\n",
       "    <tr>\n",
       "      <th>Yellowstone County</th>\n",
       "      <td>2.876372</td>\n",
       "      <td>0.767400</td>\n",
       "      <td>6.934529</td>\n",
       "      <td>84.854537</td>\n",
       "      <td>80.118995</td>\n",
       "      <td>21357.992587</td>\n",
       "      <td>85687.415195</td>\n",
       "    </tr>\n",
       "    <tr>\n",
       "      <th>Lewis And Clark County</th>\n",
       "      <td>2.570722</td>\n",
       "      <td>1.082447</td>\n",
       "      <td>8.742012</td>\n",
       "      <td>119.690443</td>\n",
       "      <td>52.227917</td>\n",
       "      <td>19638.669075</td>\n",
       "      <td>108021.811691</td>\n",
       "    </tr>\n",
       "    <tr>\n",
       "      <th>Park County</th>\n",
       "      <td>5.471990</td>\n",
       "      <td>2.262625</td>\n",
       "      <td>38.896247</td>\n",
       "      <td>250.187468</td>\n",
       "      <td>-71.016179</td>\n",
       "      <td>55817.801781</td>\n",
       "      <td>480626.574153</td>\n",
       "    </tr>\n",
       "    <tr>\n",
       "      <th>Broadwater County</th>\n",
       "      <td>7.825885</td>\n",
       "      <td>3.248041</td>\n",
       "      <td>79.855504</td>\n",
       "      <td>359.148891</td>\n",
       "      <td>-110.689897</td>\n",
       "      <td>124891.357693</td>\n",
       "      <td>986744.993645</td>\n",
       "    </tr>\n",
       "  </tbody>\n",
       "</table>\n",
       "</div>"
      ],
      "text/plain": [
       "                             lon       lat    ellipse      lat_km      lon_km  \\\n",
       "county_name                                                                     \n",
       "Wibaux County           0.081696  0.069986   0.017963    7.738686  111.047483   \n",
       "Treasure County         0.138295  0.045461   0.019751    5.026839  111.204986   \n",
       "Golden Valley County    0.162618  0.044875   0.022925    4.961956  111.207935   \n",
       "Liberty County          0.127621  0.072360   0.029012    8.001151  111.028692   \n",
       "Blaine County           0.258872  0.042086   0.034227    4.653571  111.221430   \n",
       "Granite County          0.132964  0.084487   0.035292    9.342056  110.922933   \n",
       "Prairie County          0.157117  0.071605   0.035344    7.917660  111.034737   \n",
       "Musselshell County      0.079711  0.155593   0.038963   17.204581  109.975227   \n",
       "Fallon County           0.183776  0.074315   0.042906    8.217283  111.012749   \n",
       "Wheatland County        0.131184  0.104154   0.042925   11.516695  110.716746   \n",
       "Hill County             0.213804  0.069994   0.047014    7.739475  111.047427   \n",
       "Petroleum County        0.147011  0.108454   0.050089   11.992186  110.665954   \n",
       "Sheridan County         0.132568  0.127508   0.053104   14.099034  110.416294   \n",
       "Meagher County          0.139337  0.121514   0.053192   13.436253  110.499159   \n",
       "Pondera County          0.177387  0.100512   0.056013   11.114027  110.758158   \n",
       "Dawson County           0.168856  0.108706   0.057666   12.020057  110.662914   \n",
       "Custer County           0.187430  0.105790   0.062292   11.697635  110.697659   \n",
       "Lake County             0.092615  0.219839   0.063964   24.308424  108.640826   \n",
       "Toole County            0.194419  0.125408   0.076597   13.866866  110.445772   \n",
       "Carter County           0.218745  0.111636   0.076717   12.344002  110.627056   \n",
       "Carbon County           0.164160  0.150638   0.077688   16.656686  110.059354   \n",
       "Garfield County         0.256337  0.113151   0.091121   12.511587  110.608133   \n",
       "Powder River County     0.273065  0.113568   0.097425   12.557616  110.602892   \n",
       "Roosevelt County        0.539356  0.063369   0.107375    7.006959  111.096565   \n",
       "Rosebud County          0.216720  0.168450   0.114689   18.626189  109.744356   \n",
       "Judith Basin County     0.334253  0.121596   0.127686   13.445373  110.498046   \n",
       "Mccone County           0.167693  0.255803   0.134763   28.285157  107.697696   \n",
       "Valley County           0.345317  0.131271   0.142409   14.515139  110.362242   \n",
       "Beaverhead County       0.185625  0.268133   0.156364   29.648588  107.342212   \n",
       "Fergus County           0.383300  0.150955   0.181775   16.691643  110.054068   \n",
       "Sanders County          0.358954  0.161362   0.181966   17.842456  109.873881   \n",
       "Chouteau County         0.337009  0.179221   0.189749   19.817158  109.536976   \n",
       "Phillips County         0.335856  0.183386   0.193495   20.277738  109.453368   \n",
       "Madison County          0.286791  0.229164   0.206472   25.339526  108.409734   \n",
       "Jefferson County        0.310404  0.263568   0.257022   29.143813  107.475726   \n",
       "Lincoln County          0.326472  0.261500   0.268205   28.915070  107.535492   \n",
       "Big Horn County         1.937072  0.112396   0.683986   12.428093  110.617593   \n",
       "Silver Bow County       0.800048  0.333273   0.837657   36.851335  105.194802   \n",
       "Ravalli County          1.987021  0.173786   1.084841   19.216171  109.643214   \n",
       "Sweet Grass County      6.273852  0.058126   1.145661    6.427246  111.131997   \n",
       "Flathead County         1.342734  0.271636   1.145851   30.035932  107.238241   \n",
       "Mineral County          0.926483  0.511730   1.489459   56.584060   97.059745   \n",
       "Daniels County          5.149092  0.094767   1.532976   10.478714  110.820509   \n",
       "Gallatin County         1.218121  0.410046   1.569181   45.340426  102.091849   \n",
       "Missoula County         1.880800  0.355869   2.102724   39.349831  104.345153   \n",
       "Glacier County          1.308153  0.551092   2.264812   60.936401   94.839459   \n",
       "Richland County         1.224547  0.717238   2.759237   79.307917   83.893404   \n",
       "Cascade County          3.512326  0.258816   2.855851   28.618296  107.612347   \n",
       "Deer Lodge County       1.618996  0.664602   3.380315   73.487669   87.626929   \n",
       "Stillwater County       1.816270  0.742224   4.235113   82.070631   82.039211   \n",
       "Teton County            2.059927  0.882818   5.713111   97.616681   70.685632   \n",
       "Powell County           2.085561  0.875882   5.738761   96.849742   71.280408   \n",
       "Yellowstone County      2.876372  0.767400   6.934529   84.854537   80.118995   \n",
       "Lewis And Clark County  2.570722  1.082447   8.742012  119.690443   52.227917   \n",
       "Park County             5.471990  2.262625  38.896247  250.187468  -71.016179   \n",
       "Broadwater County       7.825885  3.248041  79.855504  359.148891 -110.689897   \n",
       "\n",
       "                              area_km      area_km_2  \n",
       "county_name                                           \n",
       "Wibaux County             2699.764095     221.955992  \n",
       "Treasure County           1756.180464     244.061316  \n",
       "Golden Valley County      1733.558661     283.280908  \n",
       "Liberty County            2790.856734     358.485884  \n",
       "Blaine County             1626.015602     422.930547  \n",
       "Granite County            3255.469735     436.087249  \n",
       "Prairie County            2761.885144     436.733901  \n",
       "Musselshell County        5944.137549     481.457014  \n",
       "Fallon County             2865.833623     530.167520  \n",
       "Wheatland County          4005.816332     530.402964  \n",
       "Hill County               2700.037994     580.930132  \n",
       "Petroleum County          4169.291636     618.936322  \n",
       "Sheridan County           4890.715390     656.185076  \n",
       "Meagher County            4664.305741     657.268004  \n",
       "Pondera County            3867.203512     692.133370  \n",
       "Dawson County             4178.866542     712.556618  \n",
       "Custer County             4068.050870     769.722802  \n",
       "Lake County               8296.592029     790.380661  \n",
       "Toole County              4811.464674     946.483362  \n",
       "Carter County             4290.098155     947.964034  \n",
       "Carbon County             5759.243550     959.958200  \n",
       "Garfield County           4347.597707    1125.953297  \n",
       "Powder River County       4363.385185    1203.844682  \n",
       "Roosevelt County          2445.569799    1326.790412  \n",
       "Rosebud County            6421.789560    1417.165402  \n",
       "Judith Basin County       4667.424631    1577.774297  \n",
       "Mccone County             9570.064977    1665.218926  \n",
       "Valley County             5032.590311    1759.691127  \n",
       "Beaverhead County         9998.260113    1932.135940  \n",
       "Fergus County             5771.053051    2246.127397  \n",
       "Sanders County            6158.840804    2248.489340  \n",
       "Chouteau County           6819.491664    2344.659138  \n",
       "Phillips County           6972.660280    2390.942530  \n",
       "Madison County            8630.116104    2551.294277  \n",
       "Jefferson County          9840.261247    3175.924440  \n",
       "Lincoln County            9768.456568    3314.110422  \n",
       "Big Horn County           4318.953840    8451.760230  \n",
       "Silver Bow County        12178.600502   10350.613737  \n",
       "Ravalli County            6619.093051   13404.978984  \n",
       "Sweet Grass County        2243.953787   14156.507581  \n",
       "Flathead County          10119.071720   14158.855295  \n",
       "Mineral County           17253.735085   18404.691679  \n",
       "Daniels County            3648.194505   18942.422696  \n",
       "Gallatin County          14542.080363   19389.786243  \n",
       "Missoula County          12899.266632   25982.589708  \n",
       "Glacier County           18155.814714   27985.447415  \n",
       "Richland County          20902.307642   34094.872000  \n",
       "Cascade County            9675.106385   35288.692456  \n",
       "Deer Lodge County        20230.281924   41769.300504  \n",
       "Stillwater County        21152.374032   52331.723351  \n",
       "Teton County             21677.293346   70594.801982  \n",
       "Powell County            21687.950817   70911.753503  \n",
       "Yellowstone County       21357.992587   85687.415195  \n",
       "Lewis And Clark County   19638.669075  108021.811691  \n",
       "Park County              55817.801781  480626.574153  \n",
       "Broadwater County       124891.357693  986744.993645  "
      ]
     },
     "execution_count": 208,
     "metadata": {},
     "output_type": "execute_result"
    }
   ],
   "source": [
    "area.sort_values(by = 'area_km_2')"
   ]
  },
  {
   "cell_type": "code",
   "execution_count": null,
   "metadata": {
    "collapsed": true
   },
   "outputs": [],
   "source": []
  }
 ],
 "metadata": {
  "kernelspec": {
   "display_name": "Python 3",
   "language": "python",
   "name": "python3"
  },
  "language_info": {
   "codemirror_mode": {
    "name": "ipython",
    "version": 3
   },
   "file_extension": ".py",
   "mimetype": "text/x-python",
   "name": "python",
   "nbconvert_exporter": "python",
   "pygments_lexer": "ipython3",
   "version": "3.6.1"
  }
 },
 "nbformat": 4,
 "nbformat_minor": 2
}
